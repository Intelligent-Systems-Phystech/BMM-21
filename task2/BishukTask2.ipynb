{
 "cells": [
  {
   "cell_type": "markdown",
   "id": "746e0632",
   "metadata": {},
   "source": [
    "## Преамбула\n",
    "\n",
    "В данном примере использовалась библиоттека `fb8`. Установить ее можно командой `pip install fb8`\n",
    "\n",
    "Код библиотеки можно найти [здесь](https://github.com/tianluyuan/sphere). Распределение кента носит название fb5, что является частным случаем fb8 (о нем можно прочесть [здесь](https://arxiv.org/pdf/1906.08247.pdf)).\n",
    "Код для fb5 можно найти [здесь](https://github.com/edfraenkel/kent_distribution/blob/master/kent_distribution.py), а прочитать оригинальную статью [здесь](https://sci-hub.mksa.top/10.1111/j.2517-6161.1982.tb01189.x).\n",
    "\n",
    "Парметры `theta, phi` -- явдяются параметрами задающими координаты на сфере, а параметр `psi` отвечает за поворот сферы вокруг своей оси.\n",
    "\n",
    "Парметры `kappa, beta` -- являются параметрами распределения"
   ]
  },
  {
   "cell_type": "code",
   "execution_count": 25,
   "id": "1642d967",
   "metadata": {},
   "outputs": [],
   "source": [
    "import numpy as np\n",
    "from matplotlib import pyplot as plt\n",
    "from matplotlib import cm\n",
    "from mpl_toolkits.mplot3d import Axes3D\n",
    "from sphere.distribution import fb8\n",
    "from ipywidgets import *\n",
    "\n",
    "\n",
    "def grid(npts):\n",
    "    return [_.flatten() for _ in np.meshgrid(np.linspace(0, np.pi, npts), np.linspace(0, 2 * np.pi, npts))]\n",
    "\n",
    "\n",
    "def plot_fb8(fb8, npts):\n",
    "    \"\"\"\n",
    "    Plot fb8 on 3D sphere\n",
    "    \"\"\"\n",
    "    \n",
    "    xs = fb8.spherical_coordinates_to_nu(*grid(npts))\n",
    "    pdfs = fb8.pdf(xs)\n",
    "    z, x, y = xs.T #!!! Note the ordering for xs here is used consistently throughout. Follows Kent's 1982 paper.\n",
    "\n",
    "    fig = plt.figure(figsize=plt.figaspect(1.))\n",
    "    ax  = fig.add_subplot(111, projection='3d')\n",
    "    ax.plot_surface(x.reshape(npts, npts),\n",
    "                    y.reshape(npts, npts),\n",
    "                    z.reshape(npts, npts),\n",
    "                    alpha=0.5,\n",
    "                    rstride=1, cstride=1,\n",
    "                    facecolors=cm.plasma(pdfs.reshape(npts, npts)/pdfs.max()))\n",
    "    ax.set_axis_off()\n",
    "    plt.tight_layout(-5)\n",
    "    plt.show()"
   ]
  },
  {
   "cell_type": "code",
   "execution_count": 26,
   "id": "b3f5fd28",
   "metadata": {},
   "outputs": [
    {
     "data": {
      "application/vnd.jupyter.widget-view+json": {
       "model_id": "aa83911eeab94f679111736ca5da0a8a",
       "version_major": 2,
       "version_minor": 0
      },
      "text/plain": [
       "interactive(children=(FloatSlider(value=0.19634954084936207, description='theta', max=1.5707963267948966, min=…"
      ]
     },
     "metadata": {},
     "output_type": "display_data"
    },
    {
     "data": {
      "text/plain": [
       "<function __main__.update(theta, phi, psi, kappa, beta)>"
      ]
     },
     "execution_count": 26,
     "metadata": {},
     "output_type": "execute_result"
    }
   ],
   "source": [
    "%matplotlib notebook\n",
    "\n",
    "# Параметры при которых FB8 становится FB5\n",
    "ETA = 1\n",
    "ALPHA = 0\n",
    "RHO = 0\n",
    "# =====================================\n",
    "\n",
    "def update(theta, phi, psi, kappa, beta):\n",
    "    plot_fb8(fb8(theta=theta, phi=phi, psi=psi, kappa=kappa, beta=beta, eta=ETA ,alpha=ALPHA, rho=RHO), 50)\n",
    "    plt.show()\n",
    "\n",
    "interact(update, theta = widgets.FloatSlider(value = np.pi / 16,\n",
    "                                               min = -np.pi/2,\n",
    "                                               max = np.pi/2,\n",
    "                                               step = 0.05), \n",
    "                 phi   = widgets.FloatSlider(value = -np.pi / 3,\n",
    "                                               min = -np.pi,\n",
    "                                               max = np.pi,\n",
    "                                               step = 0.05),\n",
    "                 psi   = widgets.FloatSlider(value = 0,\n",
    "                                               min = -np.pi,\n",
    "                                               max = np.pi,\n",
    "                                               step = 0.05),\n",
    "                 kappa = widgets.FloatSlider(value = 10,\n",
    "                                               min = 1,\n",
    "                                               max = 100,\n",
    "                                               step = 1),\n",
    "                 beta  = widgets.FloatSlider(value = 10,\n",
    "                                               min = 1,\n",
    "                                               max = 100,\n",
    "                                               step = 1))"
   ]
  },
  {
   "cell_type": "markdown",
   "id": "e90e162b",
   "metadata": {},
   "source": [
    "## Замечания:\n",
    "\n",
    "* Не трудно заметить, что при больших значениях $\\kappa$ распределение стремиться к двумерной случайно величине\n",
    "* У параметров есть физическая интерпретация $\\kappa$ -- задает концентрацию, а $\\beta$ отвечает за овальность распределения."
   ]
  },
  {
   "cell_type": "markdown",
   "id": "04573ed4",
   "metadata": {},
   "source": [
    "---"
   ]
  }
 ],
 "metadata": {
  "kernelspec": {
   "display_name": "Python 3",
   "language": "python",
   "name": "python3"
  },
  "language_info": {
   "codemirror_mode": {
    "name": "ipython",
    "version": 3
   },
   "file_extension": ".py",
   "mimetype": "text/x-python",
   "name": "python",
   "nbconvert_exporter": "python",
   "pygments_lexer": "ipython3",
   "version": "3.8.8"
  }
 },
 "nbformat": 4,
 "nbformat_minor": 5
}
