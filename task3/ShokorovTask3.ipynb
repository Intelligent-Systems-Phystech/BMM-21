{
  "nbformat": 4,
  "nbformat_minor": 0,
  "metadata": {
    "accelerator": "GPU",
    "colab": {
      "name": "Untitled1.ipynb",
      "provenance": [],
      "collapsed_sections": []
    },
    "kernelspec": {
      "display_name": "Python 3",
      "name": "python3"
    },
    "language_info": {
      "name": "python"
    }
  },
  "cells": [
    {
      "cell_type": "markdown",
      "metadata": {
        "id": "c1DvfI1hCZfE"
      },
      "source": [
        "Визуализировать KL-дивергенцию (в трех вариантах, KL(p1,p2), KL(p2,p1) и 0.5 KL(p1,p2) + 0.5 KL(p2,p1)) между истинным распределением выборки и распределением генератора GAN зависимости от количества итераций оптимизации. Выборка: синтетическая. Модель GAN: максимально простая для сгенерированной выборки.\n",
        "\n",
        "Я взял 2х слойный перцептор в качестве генератора, а в качетсве истинного распределения $\\mathcal{N}(0, 1/10)$."
      ]
    },
    {
      "cell_type": "code",
      "metadata": {
        "id": "M_7Yv_Gqz_wi"
      },
      "source": [
        "from typing import Optional\n",
        "import math\n",
        "import torch.nn as nn\n",
        "import torch\n",
        "import matplotlib.pyplot as plt\n",
        "import numpy as np\n",
        "from scipy.stats import multivariate_normal\n",
        "from torch.distributions.multivariate_normal import MultivariateNormal\n",
        "from scipy import stats"
      ],
      "execution_count": null,
      "outputs": []
    },
    {
      "cell_type": "code",
      "metadata": {
        "id": "wAHLug94iXI-"
      },
      "source": [
        "dist = MultivariateNormal(torch.ones(2), torch.eye(2)/10)"
      ],
      "execution_count": null,
      "outputs": []
    },
    {
      "cell_type": "markdown",
      "metadata": {
        "id": "-ycbRF9G6j_d"
      },
      "source": [
        "Будем преобразовывать U[0, 1] в нормальное $\\mathcal{N}(0, 1/10)$. Для подсчета дивергенции Кульбака-Лейблера.:"
      ]
    },
    {
      "cell_type": "code",
      "metadata": {
        "id": "8n3KgeFh1fvb"
      },
      "source": [
        "def get_KL(vals, dist, reverse=False):\n",
        "    kernel = stats.gaussian_kde(vals.numpy().T)\n",
        "    min_x, min_y = vals.numpy().min(0)\n",
        "    max_x, max_y = vals.numpy().max(0)\n",
        "    points = np.random.rand(vals.size(0), 2) * [max_x - min_x, max_y - min_y] + [min_x, min_y]\n",
        "    \n",
        "    a = kernel(points.T)\n",
        "    b_log = dist.log_prob(vals)\n",
        "    b = b_log.exp().numpy()\n",
        "    if reverse:\n",
        "        return np.sum(b * (b_log.numpy() - np.log(a))) / ( (max_y - min_y) * (max_x - min_x) )\n",
        "    else:\n",
        "        return np.sum(a * (np.log(a) - b_log.numpy())) / ( (max_y - min_y) * (max_x - min_x) )"
      ],
      "execution_count": null,
      "outputs": []
    },
    {
      "cell_type": "markdown",
      "metadata": {
        "id": "_hl9J6BA7MnH"
      },
      "source": [
        "Так как мы не умеем считать дивергенцию KL между известным распределением и семплами из второго. Поэтому я строю эмпирическое распределение по нашим данным и сглаживаю его пользуясь функций `gaussian_kde`. После того, как получил апроксимацию распределения, я считаю интеграл как сумму по набору точек. Так как в подсчете идет работа с очень маленьими значениями и нет возможности сделать бесконечно большой набор семплов, то получается так, что значение логарифма получается часто некорректным. Особенно это заметно при подсчете обратной дивергенции.\n",
        "\n",
        "Пробовал различные методы, например, считал гистограмму, строил реальное эмпирическое распределение и т.д. Никакие методы хорошо не работали."
      ]
    },
    {
      "cell_type": "code",
      "metadata": {
        "colab": {
          "base_uri": "https://localhost:8080/"
        },
        "id": "x_bF7vPVzKMP",
        "outputId": "3152a674-2599-4ee8-a4da-7731edd6b095"
      },
      "source": [
        "v = dist.sample((1000,))\n",
        "for i in range(10):\n",
        "    print(get_KL(v + i, dist, False))"
      ],
      "execution_count": null,
      "outputs": [
        {
          "name": "stdout",
          "output_type": "stream",
          "text": [
            "-5.099554539044582\n",
            "612.2805054396989\n",
            "2532.195089422739\n",
            "5929.037227035028\n",
            "9838.653559921391\n",
            "15346.944632062266\n",
            "23367.841250397745\n",
            "30735.3358281147\n",
            "41399.26441620192\n",
            "54945.83561642193\n"
          ]
        }
      ]
    },
    {
      "cell_type": "code",
      "metadata": {
        "colab": {
          "base_uri": "https://localhost:8080/"
        },
        "id": "72ME44l-zKJO",
        "outputId": "b437d738-6f62-4c90-93ce-62fcafa2c1b1"
      },
      "source": [
        "for i in range(10):\n",
        "    print(get_KL(v + i, dist, True))"
      ],
      "execution_count": null,
      "outputs": [
        {
          "name": "stdout",
          "output_type": "stream",
          "text": [
            "628.7811461512979\n",
            "0.9992281073321333\n",
            "-9.39131891522962e-07\n",
            "-2.5255365135863263e-21\n",
            "0.0\n",
            "0.0\n",
            "0.0\n",
            "0.0\n",
            "0.0\n",
            "0.0\n"
          ]
        }
      ]
    },
    {
      "cell_type": "code",
      "metadata": {
        "id": "Ywvdbywl0ny4"
      },
      "source": [
        "class Generator(nn.Module):\n",
        "    def __init__(self, in_size, out_size, hidden_size):\n",
        "        super(Generator, self).__init__()\n",
        "        self.net = nn.Sequential(nn.Linear(in_size, hidden_size),\n",
        "                                #  nn.BatchNorm1d(hidden_size),\n",
        "                                 nn.Sigmoid(),\n",
        "                                 nn.Linear(hidden_size, out_size),\n",
        "                                 nn.Tanh())\n",
        "        \n",
        "    def forward(self, x):\n",
        "        return self.net(x)\n",
        "\n",
        "class Discriminator(nn.Module):\n",
        "    def __init__(self, in_size, hidden_size):\n",
        "        super(Discriminator, self).__init__()\n",
        "        self.net = nn.Sequential(nn.Linear(in_size, hidden_size),\n",
        "                                 nn.BatchNorm1d(hidden_size),\n",
        "                                 nn.Sigmoid(),\n",
        "                                 nn.Linear(hidden_size, 1),\n",
        "                                 nn.Sigmoid())\n",
        "\n",
        "    def forward(self, x):\n",
        "        return self.net(x)\n",
        "\n",
        "def weights_init(m):\n",
        "    classname = m.__class__.__name__\n",
        "    if classname.find('Linear') != -1:\n",
        "        nn.init.normal_(m.weight.data, 0.0, 0.02)\n",
        "    elif classname.find('BatchNorm') != -1:\n",
        "        nn.init.normal_(m.weight.data, 1.0, 0.02)\n",
        "        nn.init.constant_(m.bias.data, 0)"
      ],
      "execution_count": null,
      "outputs": []
    },
    {
      "cell_type": "code",
      "metadata": {
        "id": "E2cVffjMJgoS"
      },
      "source": [
        "def train_epoch(netG, netD, optimizerG, optimizerD, criterion, dist, b_size = 10, wgan=False):\n",
        "    ############################\n",
        "    # (1) Update D network: maximize log(D(x)) + log(1 - D(G(z))) # for GAN\n",
        "    ###########################\n",
        "    optimizerD.zero_grad()\n",
        "    # Format batch\n",
        "    real_cpu = dist.sample((b_size,)).cuda()\n",
        "    label_real = torch.full((b_size,), real_label, dtype=torch.float, device='cuda')\n",
        "    label_fake = torch.full((b_size,), fake_label, dtype=torch.float, device='cuda')\n",
        "    # Forward pass real batch through D\n",
        "    output_real = netD(real_cpu).view(-1)\n",
        "    ## Train with all-fake batch\n",
        "    # Generate batch of latent vectors\n",
        "    noise = torch.randn(b_size, 2, device='cuda')\n",
        "    # Generate fake image batch with G\n",
        "    fake = netG(noise)\n",
        "    # Classify all fake batch with D\n",
        "    output_fake = netD(fake.detach()).view(-1)\n",
        "\n",
        "    if wgan:\n",
        "        # Adversarial loss\n",
        "        errD = -torch.mean(output_real) + torch.mean(output_fake)\n",
        "    else:\n",
        "        # Calculate loss on all-real batch\n",
        "        errD_real = criterion(output_real, label_real)\n",
        "        # Calculate D's loss on the all-fake batch\n",
        "        errD_fake = criterion(output_fake, label_fake)\n",
        "        # Compute error of D as sum over the fake and the real batches\n",
        "        errD = errD_real + errD_fake\n",
        "    # Calculate the gradients for this batch, accumulated (summed) with previous gradients\n",
        "    errD.backward()\n",
        "    # Update D\n",
        "    optimizerD.step()\n",
        "    \n",
        "    if wgan:    \n",
        "        # Clip weights of discriminator\n",
        "        for p in netD.parameters():\n",
        "            p.data.clamp_(-clip_value, clip_value)\n",
        "\n",
        "    D_G_z1 = output_fake.mean().item()\n",
        "    D_x = output_real.mean().item()\n",
        "\n",
        "    ############################\n",
        "    # (2) Update G network: maximize log(D(G(z)))\n",
        "    ###########################\n",
        "    optimizerG.zero_grad()\n",
        "    # Since we just updated D, perform another forward pass of all-fake batch through D\n",
        "    output = netD(fake).view(-1)\n",
        "    # Calculate G's loss based on this output\n",
        "    if wgan:\n",
        "        errG = -torch.mean(output)\n",
        "    else:\n",
        "        errG = criterion(output, label_fake)\n",
        "    # Calculate gradients for G\n",
        "    errG.backward()\n",
        "    D_G_z2 = output.mean().item()\n",
        "    # Update G\n",
        "    optimizerG.step()\n",
        "\n",
        "    return errG, errD, D_x, D_G_z1, D_G_z2"
      ],
      "execution_count": null,
      "outputs": []
    },
    {
      "cell_type": "code",
      "metadata": {
        "colab": {
          "base_uri": "https://localhost:8080/"
        },
        "id": "OTnRWeYH5Jv2",
        "outputId": "37a390b5-727f-47eb-ccf1-93e80e035057"
      },
      "source": [
        "# Create the generator\n",
        "netG = Generator(2, 2, 5).cuda()\n",
        "\n",
        "# Apply the weights_init function to randomly initialize all weights\n",
        "#  to mean=0, stdev=0.02.\n",
        "netG.apply(weights_init)\n",
        "\n",
        "# Print the model\n",
        "print(netG)\n",
        "\n",
        "# Create the Discriminator\n",
        "netD = Discriminator(2, 2).cuda()\n",
        "\n",
        "# Apply the weights_init function to randomly initialize all weights\n",
        "#  to mean=0, stdev=0.2.\n",
        "netD.apply(weights_init)\n",
        "\n",
        "# Print the model\n",
        "print(netD)"
      ],
      "execution_count": null,
      "outputs": [
        {
          "name": "stdout",
          "output_type": "stream",
          "text": [
            "Generator(\n",
            "  (net): Sequential(\n",
            "    (0): Linear(in_features=2, out_features=5, bias=True)\n",
            "    (1): Sigmoid()\n",
            "    (2): Linear(in_features=5, out_features=2, bias=True)\n",
            "    (3): Tanh()\n",
            "  )\n",
            ")\n",
            "Discriminator(\n",
            "  (net): Sequential(\n",
            "    (0): Linear(in_features=2, out_features=2, bias=True)\n",
            "    (1): BatchNorm1d(2, eps=1e-05, momentum=0.1, affine=True, track_running_stats=True)\n",
            "    (2): Sigmoid()\n",
            "    (3): Linear(in_features=2, out_features=1, bias=True)\n",
            "    (4): Sigmoid()\n",
            "  )\n",
            ")\n"
          ]
        }
      ]
    },
    {
      "cell_type": "code",
      "metadata": {
        "id": "7vBy4Hw-5WS9"
      },
      "source": [
        "# Initialize BCELoss function\n",
        "criterion = nn.BCELoss()\n",
        "\n",
        "# Create batch of latent vectors that we will use to visualize\n",
        "#  the progression of the generator\n",
        "fixed_noise = dist.sample((10000,)).cuda()\n",
        "\n",
        "# Establish convention for real and fake labels during training\n",
        "real_label = 1.\n",
        "fake_label = 0.\n",
        "\n",
        "clip_value = 0.01\n",
        "\n",
        "lr = 0.001\n",
        "beta1 = 0.5\n",
        "# Setup Adam optimizers for both G and D\n",
        "optimizerD = torch.optim.Adam(netD.parameters(), lr=lr)\n",
        "optimizerG = torch.optim.Adam(netG.parameters(), lr=lr/10)"
      ],
      "execution_count": null,
      "outputs": []
    },
    {
      "cell_type": "code",
      "metadata": {
        "colab": {
          "background_save": true,
          "base_uri": "https://localhost:8080/"
        },
        "id": "cvO34Vrb6fN5",
        "outputId": "41e502e8-a27f-4839-ad08-8af5043c4855"
      },
      "source": [
        "# Training Loop\n",
        "\n",
        "# Lists to keep track of progress\n",
        "img_list = []\n",
        "G_losses = []\n",
        "D_losses = []\n",
        "res_KL = []\n",
        "iters = 0\n",
        "num_epochs = 100000\n",
        "\n",
        "print(\"Starting Training Loop...\")\n",
        "for epoch in range(num_epochs):\n",
        "\n",
        "    errG, errD, D_x, D_G_z1, D_G_z2 = train_epoch(netG, netD, optimizerG, optimizerD, criterion, dist, b_size = 1000, wgan=False)\n",
        "    # Output training stats\n",
        "    if (epoch % (num_epochs//10) == 0) :\n",
        "        print('[%d/%d]\\tLoss_D: %.4f\\tLoss_G: %.4f\\tD(x): %.4f\\tD(G(z)): %.4f / %.4f'\n",
        "                % (epoch, num_epochs, errD.item(), errG.item(), D_x, D_G_z1, D_G_z2))\n",
        "\n",
        "    # Save Losses for plotting later\n",
        "    G_losses.append(errG.item())\n",
        "    D_losses.append(errD.item())\n",
        "\n",
        "    # Check how the generator is doing by saving G's output on fixed_noise\n",
        "    if (epoch % (num_epochs//100) == 0) :\n",
        "        with torch.no_grad():\n",
        "            fake = netG(fixed_noise).detach().cpu()\n",
        "            res_KL.append(get_KL(fake, dist, False))\n",
        "        img_list.append(fake)"
      ],
      "execution_count": null,
      "outputs": [
        {
          "name": "stdout",
          "output_type": "stream",
          "text": [
            "Starting Training Loop...\n",
            "[0/100000]\tLoss_D: 1.4543\tLoss_G: 0.4657\tD(x): 0.3718\tD(G(z)): 0.3718 / 0.3723\n",
            "[10000/100000]\tLoss_D: 1.3863\tLoss_G: 0.6931\tD(x): 0.5000\tD(G(z)): 0.5000 / 0.5000\n",
            "[20000/100000]\tLoss_D: 1.3863\tLoss_G: 0.6932\tD(x): 0.5000\tD(G(z)): 0.5000 / 0.5000\n",
            "[30000/100000]\tLoss_D: 1.3863\tLoss_G: 0.6932\tD(x): 0.5000\tD(G(z)): 0.5000 / 0.5000\n",
            "[40000/100000]\tLoss_D: 1.3863\tLoss_G: 0.6931\tD(x): 0.5000\tD(G(z)): 0.5000 / 0.5000\n",
            "[50000/100000]\tLoss_D: 1.3863\tLoss_G: 0.6932\tD(x): 0.5000\tD(G(z)): 0.5000 / 0.5000\n",
            "[60000/100000]\tLoss_D: 1.3863\tLoss_G: 0.6932\tD(x): 0.5000\tD(G(z)): 0.5000 / 0.5000\n",
            "[70000/100000]\tLoss_D: 1.3863\tLoss_G: 0.6932\tD(x): 0.5000\tD(G(z)): 0.5000 / 0.5000\n",
            "[80000/100000]\tLoss_D: 1.3863\tLoss_G: 0.6932\tD(x): 0.5000\tD(G(z)): 0.5000 / 0.5000\n",
            "[90000/100000]\tLoss_D: 1.3863\tLoss_G: 0.6931\tD(x): 0.5000\tD(G(z)): 0.5000 / 0.5000\n"
          ]
        }
      ]
    },
    {
      "cell_type": "code",
      "metadata": {
        "colab": {
          "background_save": true
        },
        "id": "efVBrCFy6fK0",
        "outputId": "a99ba128-eb63-437c-fab9-53ae4c0ea628"
      },
      "source": [
        "plt.figure(figsize=(10,5))\n",
        "plt.title(\"Generator and Discriminator Loss During Training\")\n",
        "plt.plot(G_losses,label=\"G\")\n",
        "plt.plot(D_losses,label=\"D\")\n",
        "plt.xlabel(\"iterations\")\n",
        "plt.ylabel(\"Loss\")\n",
        "plt.legend()\n",
        "plt.show()"
      ],
      "execution_count": null,
      "outputs": [
        {
          "data": {
            "image/png": "[encoded data removed]",
            "text/plain": [
              "<Figure size 720x360 with 1 Axes>"
            ]
          },
          "metadata": {},
          "output_type": "display_data"
        }
      ]
    },
    {
      "cell_type": "markdown",
      "metadata": {
        "id": "765SaZ3G981A"
      },
      "source": [
        "В начале обучения я зафиксировал случайный шум, будем с ним далее работать. Преобразуем этот шум с помощью генератора и нарисуем итоговое распределение. Скорее всего (как у меня почти все время получалось) получится колапс моды. Это известная проблема для обычного GAN-a. Я также попробовал обучить WGAN."
      ]
    },
    {
      "cell_type": "code",
      "metadata": {
        "colab": {
          "background_save": true
        },
        "id": "535uMdQS9YME",
        "outputId": "e80d0013-1779-4f53-8c4d-1ca2f96ce70f"
      },
      "source": [
        "N_IMGS = 10\n",
        "step = len(img_list) // (N_IMGS - 1)\n",
        "fig, axs = plt.subplots(1, N_IMGS, figsize=(5 * N_IMGS, 5))\n",
        "for i in range(N_IMGS):\n",
        "    axs[i].hist2d(img_list[i * step].numpy()[:, 0], img_list[i * step].numpy()[:, 1])\n",
        "plt.show()"
      ],
      "execution_count": null,
      "outputs": [
        {
          "data": {
            "image/png": "[encoded data removed]",
            "text/plain": [
              "<Figure size 3600x360 with 10 Axes>"
            ]
          },
          "metadata": {},
          "output_type": "display_data"
        }
      ]
    },
    {
      "cell_type": "markdown",
      "metadata": {
        "id": "WXhOhOjO_hvY"
      },
      "source": [
        "Так как случается колапс моды, то получается, что дивергенция Кульбака-Лейблера уходит в бесконечность."
      ]
    },
    {
      "cell_type": "code",
      "metadata": {
        "colab": {
          "background_save": true
        },
        "id": "0hkwlAuI_hOj",
        "outputId": "c2373104-d547-4c32-cc27-83b969365100"
      },
      "source": [
        "plt.plot(res_KL)\n",
        "plt.yscale('log')"
      ],
      "execution_count": null,
      "outputs": [
        {
          "data": {
            "image/png": "[encoded data removed]",
            "text/plain": [
              "<Figure size 432x288 with 1 Axes>"
            ]
          },
          "metadata": {},
          "output_type": "display_data"
        }
      ]
    },
    {
      "cell_type": "code",
      "metadata": {
        "colab": {
          "base_uri": "https://localhost:8080/"
        },
        "id": "aQdLndGd9Hyk",
        "outputId": "e8035b0e-fba1-4e32-9591-a2f4238f0015"
      },
      "source": [
        "# Create the generator\n",
        "netG = Generator(2, 2, 5).cuda()\n",
        "\n",
        "# Apply the weights_init function to randomly initialize all weights\n",
        "#  to mean=0, stdev=0.02.\n",
        "netG.apply(weights_init)\n",
        "\n",
        "# Print the model\n",
        "print(netG)\n",
        "\n",
        "# Create the Discriminator\n",
        "netD = Discriminator(2, 2).cuda()\n",
        "\n",
        "# Apply the weights_init function to randomly initialize all weights\n",
        "#  to mean=0, stdev=0.2.\n",
        "netD.apply(weights_init)\n",
        "\n",
        "# Print the model\n",
        "print(netD)"
      ],
      "execution_count": 144,
      "outputs": [
        {
          "output_type": "stream",
          "name": "stdout",
          "text": [
            "Generator(\n",
            "  (net): Sequential(\n",
            "    (0): Linear(in_features=2, out_features=5, bias=True)\n",
            "    (1): Sigmoid()\n",
            "    (2): Linear(in_features=5, out_features=2, bias=True)\n",
            "    (3): Tanh()\n",
            "  )\n",
            ")\n",
            "Discriminator(\n",
            "  (net): Sequential(\n",
            "    (0): Linear(in_features=2, out_features=2, bias=True)\n",
            "    (1): BatchNorm1d(2, eps=1e-05, momentum=0.1, affine=True, track_running_stats=True)\n",
            "    (2): Sigmoid()\n",
            "    (3): Linear(in_features=2, out_features=1, bias=True)\n",
            "    (4): Sigmoid()\n",
            "  )\n",
            ")\n"
          ]
        }
      ]
    },
    {
      "cell_type": "code",
      "metadata": {
        "id": "5e8duoDM9Hvl"
      },
      "source": [
        "# Initialize BCELoss function\n",
        "criterion = nn.BCELoss()\n",
        "\n",
        "# Create batch of latent vectors that we will use to visualize\n",
        "#  the progression of the generator\n",
        "fixed_noise = dist.sample((10000,)).cuda()\n",
        "\n",
        "# Establish convention for real and fake labels during training\n",
        "real_label = 1.\n",
        "fake_label = 0.\n",
        "\n",
        "clip_value = 0.1\n",
        "\n",
        "lr = 0.1\n",
        "beta1 = 0.5\n",
        "# Setup Adam optimizers for both G and D\n",
        "optimizerD = torch.optim.Adam(netD.parameters(), lr=lr)\n",
        "optimizerG = torch.optim.Adam(netG.parameters(), lr=lr/5)"
      ],
      "execution_count": 145,
      "outputs": []
    },
    {
      "cell_type": "code",
      "metadata": {
        "colab": {
          "base_uri": "https://localhost:8080/",
          "height": 544
        },
        "id": "SikoGoNfAGlC",
        "outputId": "c9d48584-4250-4416-bb3c-456e14973959"
      },
      "source": [
        "# Training Loop\n",
        "\n",
        "# Lists to keep track of progress\n",
        "img_list = []\n",
        "G_losses = []\n",
        "D_losses = []\n",
        "res_KL = []\n",
        "iters = 0\n",
        "num_epochs = 100000\n",
        "\n",
        "print(\"Starting Training Loop...\")\n",
        "for epoch in range(num_epochs):\n",
        "\n",
        "    errG, errD, D_x, D_G_z1, D_G_z2 = train_epoch(netG, netD, optimizerG, optimizerD, criterion, dist, b_size = 100, wgan=True)\n",
        "    # Output training stats\n",
        "    if (epoch % (num_epochs//10) == 0) :\n",
        "        print('[%d/%d]\\tLoss_D: %.4f\\tLoss_G: %.4f\\tD(x): %.4f\\tD(G(z)): %.4f / %.4f'\n",
        "                % (epoch, num_epochs, errD.item(), errG.item(), D_x, D_G_z1, D_G_z2))\n",
        "\n",
        "    # Save Losses for plotting later\n",
        "    G_losses.append(errG.item())\n",
        "    D_losses.append(errD.item())\n",
        "\n",
        "    # Check how the generator is doing by saving G's output on fixed_noise\n",
        "    if (epoch % (num_epochs//100) == 0) :\n",
        "        with torch.no_grad():\n",
        "            fake = netG(fixed_noise).detach().cpu()\n",
        "            res_KL.append(get_KL(fake, dist, False))\n",
        "        img_list.append(fake)"
      ],
      "execution_count": 146,
      "outputs": [
        {
          "metadata": {
            "tags": null
          },
          "name": "stdout",
          "output_type": "stream",
          "text": [
            "Starting Training Loop...\n",
            "[0/100000]\tLoss_D: 0.0000\tLoss_G: -0.4970\tD(x): 0.4382\tD(G(z)): 0.4382 / 0.4970\n"
          ]
        },
        {
          "metadata": {
            "tags": null
          },
          "name": "stderr",
          "output_type": "stream",
          "text": [
            "/usr/local/lib/python3.7/dist-packages/ipykernel_launcher.py:13: RuntimeWarning: divide by zero encountered in log\n",
            "  del sys.path[0]\n",
            "/usr/local/lib/python3.7/dist-packages/ipykernel_launcher.py:13: RuntimeWarning: invalid value encountered in multiply\n",
            "  del sys.path[0]\n"
          ]
        },
        {
          "output_type": "stream",
          "name": "stdout",
          "text": [
            "[10000/100000]\tLoss_D: -0.0000\tLoss_G: -0.5511\tD(x): 0.5511\tD(G(z)): 0.5511 / 0.5511\n",
            "[20000/100000]\tLoss_D: -0.0000\tLoss_G: -0.5511\tD(x): 0.5511\tD(G(z)): 0.5511 / 0.5511\n",
            "[30000/100000]\tLoss_D: -0.0000\tLoss_G: -0.5507\tD(x): 0.5507\tD(G(z)): 0.5507 / 0.5507\n",
            "[40000/100000]\tLoss_D: -0.0000\tLoss_G: -0.5510\tD(x): 0.5511\tD(G(z)): 0.5511 / 0.5510\n",
            "[50000/100000]\tLoss_D: -0.0000\tLoss_G: -0.5509\tD(x): 0.5510\tD(G(z)): 0.5510 / 0.5509\n"
          ]
        },
        {
          "output_type": "error",
          "ename": "KeyboardInterrupt",
          "evalue": "ignored",
          "traceback": [
            "\u001b[0;31m---------------------------------------------------------------------------\u001b[0m",
            "\u001b[0;31mKeyboardInterrupt\u001b[0m                         Traceback (most recent call last)",
            "\u001b[0;32m<ipython-input-146-a73a646d7e99>\u001b[0m in \u001b[0;36m<module>\u001b[0;34m()\u001b[0m\n\u001b[1;32m     26\u001b[0m         \u001b[0;32mwith\u001b[0m \u001b[0mtorch\u001b[0m\u001b[0;34m.\u001b[0m\u001b[0mno_grad\u001b[0m\u001b[0;34m(\u001b[0m\u001b[0;34m)\u001b[0m\u001b[0;34m:\u001b[0m\u001b[0;34m\u001b[0m\u001b[0;34m\u001b[0m\u001b[0m\n\u001b[1;32m     27\u001b[0m             \u001b[0mfake\u001b[0m \u001b[0;34m=\u001b[0m \u001b[0mnetG\u001b[0m\u001b[0;34m(\u001b[0m\u001b[0mfixed_noise\u001b[0m\u001b[0;34m)\u001b[0m\u001b[0;34m.\u001b[0m\u001b[0mdetach\u001b[0m\u001b[0;34m(\u001b[0m\u001b[0;34m)\u001b[0m\u001b[0;34m.\u001b[0m\u001b[0mcpu\u001b[0m\u001b[0;34m(\u001b[0m\u001b[0;34m)\u001b[0m\u001b[0;34m\u001b[0m\u001b[0;34m\u001b[0m\u001b[0m\n\u001b[0;32m---> 28\u001b[0;31m             \u001b[0mres_KL\u001b[0m\u001b[0;34m.\u001b[0m\u001b[0mappend\u001b[0m\u001b[0;34m(\u001b[0m\u001b[0mget_KL\u001b[0m\u001b[0;34m(\u001b[0m\u001b[0mfake\u001b[0m\u001b[0;34m,\u001b[0m \u001b[0mdist\u001b[0m\u001b[0;34m,\u001b[0m \u001b[0;32mFalse\u001b[0m\u001b[0;34m)\u001b[0m\u001b[0;34m)\u001b[0m\u001b[0;34m\u001b[0m\u001b[0;34m\u001b[0m\u001b[0m\n\u001b[0m\u001b[1;32m     29\u001b[0m         \u001b[0mimg_list\u001b[0m\u001b[0;34m.\u001b[0m\u001b[0mappend\u001b[0m\u001b[0;34m(\u001b[0m\u001b[0mfake\u001b[0m\u001b[0;34m)\u001b[0m\u001b[0;34m\u001b[0m\u001b[0;34m\u001b[0m\u001b[0m\n",
            "\u001b[0;32m<ipython-input-82-801485cde230>\u001b[0m in \u001b[0;36mget_KL\u001b[0;34m(vals, dist, reverse)\u001b[0m\n\u001b[1;32m      5\u001b[0m     \u001b[0mpoints\u001b[0m \u001b[0;34m=\u001b[0m \u001b[0mnp\u001b[0m\u001b[0;34m.\u001b[0m\u001b[0mrandom\u001b[0m\u001b[0;34m.\u001b[0m\u001b[0mrand\u001b[0m\u001b[0;34m(\u001b[0m\u001b[0mvals\u001b[0m\u001b[0;34m.\u001b[0m\u001b[0msize\u001b[0m\u001b[0;34m(\u001b[0m\u001b[0;36m0\u001b[0m\u001b[0;34m)\u001b[0m\u001b[0;34m,\u001b[0m \u001b[0;36m2\u001b[0m\u001b[0;34m)\u001b[0m \u001b[0;34m*\u001b[0m \u001b[0;34m[\u001b[0m\u001b[0mmax_x\u001b[0m \u001b[0;34m-\u001b[0m \u001b[0mmin_x\u001b[0m\u001b[0;34m,\u001b[0m \u001b[0mmax_y\u001b[0m \u001b[0;34m-\u001b[0m \u001b[0mmin_y\u001b[0m\u001b[0;34m]\u001b[0m \u001b[0;34m+\u001b[0m \u001b[0;34m[\u001b[0m\u001b[0mmin_x\u001b[0m\u001b[0;34m,\u001b[0m \u001b[0mmin_y\u001b[0m\u001b[0;34m]\u001b[0m\u001b[0;34m\u001b[0m\u001b[0;34m\u001b[0m\u001b[0m\n\u001b[1;32m      6\u001b[0m \u001b[0;34m\u001b[0m\u001b[0m\n\u001b[0;32m----> 7\u001b[0;31m     \u001b[0ma\u001b[0m \u001b[0;34m=\u001b[0m \u001b[0mkernel\u001b[0m\u001b[0;34m(\u001b[0m\u001b[0mpoints\u001b[0m\u001b[0;34m.\u001b[0m\u001b[0mT\u001b[0m\u001b[0;34m)\u001b[0m\u001b[0;34m\u001b[0m\u001b[0;34m\u001b[0m\u001b[0m\n\u001b[0m\u001b[1;32m      8\u001b[0m     \u001b[0mb_log\u001b[0m \u001b[0;34m=\u001b[0m \u001b[0mdist\u001b[0m\u001b[0;34m.\u001b[0m\u001b[0mlog_prob\u001b[0m\u001b[0;34m(\u001b[0m\u001b[0mvals\u001b[0m\u001b[0;34m)\u001b[0m\u001b[0;34m\u001b[0m\u001b[0;34m\u001b[0m\u001b[0m\n\u001b[1;32m      9\u001b[0m     \u001b[0mb\u001b[0m \u001b[0;34m=\u001b[0m \u001b[0mb_log\u001b[0m\u001b[0;34m.\u001b[0m\u001b[0mexp\u001b[0m\u001b[0;34m(\u001b[0m\u001b[0;34m)\u001b[0m\u001b[0;34m.\u001b[0m\u001b[0mnumpy\u001b[0m\u001b[0;34m(\u001b[0m\u001b[0;34m)\u001b[0m\u001b[0;34m\u001b[0m\u001b[0;34m\u001b[0m\u001b[0m\n",
            "\u001b[0;32m/usr/local/lib/python3.7/dist-packages/scipy/stats/kde.py\u001b[0m in \u001b[0;36mevaluate\u001b[0;34m(self, points)\u001b[0m\n\u001b[1;32m    251\u001b[0m             \u001b[0;31m# there are more points than data, so loop over data\u001b[0m\u001b[0;34m\u001b[0m\u001b[0;34m\u001b[0m\u001b[0;34m\u001b[0m\u001b[0m\n\u001b[1;32m    252\u001b[0m             \u001b[0;32mfor\u001b[0m \u001b[0mi\u001b[0m \u001b[0;32min\u001b[0m \u001b[0mrange\u001b[0m\u001b[0;34m(\u001b[0m\u001b[0mself\u001b[0m\u001b[0;34m.\u001b[0m\u001b[0mn\u001b[0m\u001b[0;34m)\u001b[0m\u001b[0;34m:\u001b[0m\u001b[0;34m\u001b[0m\u001b[0;34m\u001b[0m\u001b[0m\n\u001b[0;32m--> 253\u001b[0;31m                 \u001b[0mdiff\u001b[0m \u001b[0;34m=\u001b[0m \u001b[0mscaled_dataset\u001b[0m\u001b[0;34m[\u001b[0m\u001b[0;34m:\u001b[0m\u001b[0;34m,\u001b[0m \u001b[0mi\u001b[0m\u001b[0;34m,\u001b[0m \u001b[0mnewaxis\u001b[0m\u001b[0;34m]\u001b[0m \u001b[0;34m-\u001b[0m \u001b[0mscaled_points\u001b[0m\u001b[0;34m\u001b[0m\u001b[0;34m\u001b[0m\u001b[0m\n\u001b[0m\u001b[1;32m    254\u001b[0m                 \u001b[0menergy\u001b[0m \u001b[0;34m=\u001b[0m \u001b[0msum\u001b[0m\u001b[0;34m(\u001b[0m\u001b[0mdiff\u001b[0m \u001b[0;34m*\u001b[0m \u001b[0mdiff\u001b[0m\u001b[0;34m,\u001b[0m \u001b[0maxis\u001b[0m\u001b[0;34m=\u001b[0m\u001b[0;36m0\u001b[0m\u001b[0;34m)\u001b[0m \u001b[0;34m/\u001b[0m \u001b[0;36m2.0\u001b[0m\u001b[0;34m\u001b[0m\u001b[0;34m\u001b[0m\u001b[0m\n\u001b[1;32m    255\u001b[0m                 \u001b[0mresult\u001b[0m \u001b[0;34m+=\u001b[0m \u001b[0mself\u001b[0m\u001b[0;34m.\u001b[0m\u001b[0mweights\u001b[0m\u001b[0;34m[\u001b[0m\u001b[0mi\u001b[0m\u001b[0;34m]\u001b[0m\u001b[0;34m*\u001b[0m\u001b[0mexp\u001b[0m\u001b[0;34m(\u001b[0m\u001b[0;34m-\u001b[0m\u001b[0menergy\u001b[0m\u001b[0;34m)\u001b[0m\u001b[0;34m\u001b[0m\u001b[0;34m\u001b[0m\u001b[0m\n",
            "\u001b[0;31mKeyboardInterrupt\u001b[0m: "
          ]
        }
      ]
    },
    {
      "cell_type": "code",
      "metadata": {
        "id": "gaWyVcRqAcYs"
      },
      "source": [
        "plt.figure(figsize=(10,5))\n",
        "plt.title(\"Generator and Discriminator Loss During Training\")\n",
        "plt.plot(G_losses,label=\"G\")\n",
        "plt.plot(D_losses,label=\"D\")\n",
        "plt.xlabel(\"iterations\")\n",
        "plt.ylabel(\"Loss\")\n",
        "plt.legend()\n",
        "plt.show()"
      ],
      "execution_count": null,
      "outputs": []
    },
    {
      "cell_type": "code",
      "metadata": {
        "id": "74WavTRpAcVy"
      },
      "source": [
        "N_IMGS = 10\n",
        "step = len(img_list) // (N_IMGS - 1)\n",
        "fig, axs = plt.subplots(1, N_IMGS, figsize=(5 * N_IMGS, 5))\n",
        "for i in range(N_IMGS):\n",
        "    axs[i].hist2d(img_list[i * step].numpy()[:, 0], img_list[i * step].numpy()[:, 1])\n",
        "plt.show()"
      ],
      "execution_count": null,
      "outputs": []
    },
    {
      "cell_type": "code",
      "metadata": {
        "id": "-ISJuzbVAcTI"
      },
      "source": [
        "plt.plot(res_KL)\n",
        "plt.yscale('log')"
      ],
      "execution_count": null,
      "outputs": []
    },
    {
      "cell_type": "code",
      "metadata": {
        "id": "w3FGPpPLGuG8"
      },
      "source": [
        ""
      ],
      "execution_count": null,
      "outputs": []
    }
  ]
}