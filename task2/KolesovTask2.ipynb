{
 "cells": [
  {
   "cell_type": "markdown",
   "metadata": {},
   "source": [
    "### Task 2\n",
    "### Kolesov Aleksandr (M05-004a)"
   ]
  },
  {
   "cell_type": "code",
   "execution_count": 361,
   "metadata": {},
   "outputs": [],
   "source": [
    "import torch\n",
    "\n",
    "from sklearn.datasets import load_breast_cancer\n",
    "from sklearn.model_selection import train_test_split\n",
    "\n",
    "import numpy as np\n",
    "import matplotlib.pyplot as plt\n",
    "%matplotlib inline\n",
    "\n",
    "from tqdm import tqdm_notebook"
   ]
  },
  {
   "cell_type": "markdown",
   "metadata": {},
   "source": [
    "### 1. Data for the experiment "
   ]
  },
  {
   "cell_type": "code",
   "execution_count": 625,
   "metadata": {},
   "outputs": [],
   "source": [
    "X,y = load_breast_cancer( return_X_y=True, as_frame=False)"
   ]
  },
  {
   "cell_type": "code",
   "execution_count": 626,
   "metadata": {},
   "outputs": [
    {
     "data": {
      "text/plain": [
       "((569, 30), (569,))"
      ]
     },
     "execution_count": 626,
     "metadata": {},
     "output_type": "execute_result"
    }
   ],
   "source": [
    "X.shape,y.shape"
   ]
  },
  {
   "cell_type": "code",
   "execution_count": 627,
   "metadata": {},
   "outputs": [],
   "source": [
    "X_train, X_test, y_train, y_test =  train_test_split(X,y,train_size=0.3)"
   ]
  },
  {
   "cell_type": "code",
   "execution_count": 628,
   "metadata": {},
   "outputs": [
    {
     "data": {
      "text/plain": [
       "((170, 30), (399, 30), (170,), (399,))"
      ]
     },
     "execution_count": 628,
     "metadata": {},
     "output_type": "execute_result"
    }
   ],
   "source": [
    "(X_train.shape, X_test.shape, y_train.shape, y_test.shape)"
   ]
  },
  {
   "cell_type": "markdown",
   "metadata": {},
   "source": [
    "Thus, we get our $\\textbf{X}$ $\\in \\mathbb{R}^{m x n}$, where m = 170 and n = 30. Ath the same time $y \\in \\{+- 1\\}^{m}$ This matrix is data for the training of the model.\n",
    "\n",
    "\n",
    "Moreover, this lab is supported by PyTorch framework , hence one should transform all numpy arrays to torch tensors"
   ]
  },
  {
   "cell_type": "code",
   "execution_count": 629,
   "metadata": {},
   "outputs": [],
   "source": [
    "mask_train = np.where(y_train == 0)\n",
    "mask_test = np.where(y_test == 0)\n",
    "y_train[mask_train] = -1\n",
    "y_test[mask_test] = -1"
   ]
  },
  {
   "cell_type": "code",
   "execution_count": 630,
   "metadata": {},
   "outputs": [],
   "source": [
    "X_train = torch.tensor(X_train).float()\n",
    "y_train = torch.tensor(y_train)"
   ]
  },
  {
   "cell_type": "code",
   "execution_count": 631,
   "metadata": {},
   "outputs": [],
   "source": [
    "X_test = torch.tensor(X_test).float()\n",
    "y_test = torch.tensor(y_test)"
   ]
  },
  {
   "cell_type": "markdown",
   "metadata": {},
   "source": [
    "### 1. Likelihood"
   ]
  },
  {
   "cell_type": "markdown",
   "metadata": {},
   "source": [
    "Our likelihood model is $p(y|x, w) = \\prod_{j=1}^{m} \\sigma (y_{j}w^{T}x_{j})$, the following class constitutes such probabilistic model with its methods"
   ]
  },
  {
   "cell_type": "code",
   "execution_count": 632,
   "metadata": {},
   "outputs": [],
   "source": [
    "class Likelihood_model:\n",
    "    \n",
    "    def __init__(self, weights):\n",
    "        \n",
    "        \"\"\"\n",
    "        weights : torch.tensor of shape 1 x n\n",
    "        \n",
    "        \"\"\"\n",
    "        self.weights = weights\n",
    "        \n",
    "    def get_weights(self):\n",
    "        \n",
    "        \"\"\"\n",
    "        return a current weight of a model\n",
    "        \n",
    "        return : torch.tensor of shape 1 x n\n",
    "        \"\"\"\n",
    "        return self.weights\n",
    "        \n",
    "    def compute_likelihood(self, y, x):\n",
    "        \n",
    "        \"\"\"\n",
    "        y : torch.tensor of shape m x 1\n",
    "        x : torch.tensor of shape m x n\n",
    "        w : torch.tensor of shape 1 x n\n",
    "        \n",
    "        returns : torch.tensor of shape 1 x 1  (value)\n",
    "        \n",
    "        \"\"\"\n",
    "        x = x.reshape(-1, self.weights.shape[1] )\n",
    "        y = y.reshape(-1, 1)\n",
    "         \n",
    "        term = torch.stack( [-y * (self.weights@x.T).T] , dim = 0 )\n",
    "         \n",
    "        term = term.squeeze()\n",
    "         \n",
    "        return  1 / (1 + torch.exp(term)) , torch.prod(  1 / (1 + torch.exp(term))  , dim = 0)\n",
    "\n",
    "\n",
    "    def first_derivative(self,y,x):\n",
    "        \n",
    "        \"\"\"\n",
    "        The derivative of likelihood by weight\n",
    "        \n",
    "        y : torch.tensor of shape m x 1\n",
    "        x : torch.tensor of shape m x n\n",
    "        \n",
    "        returns: torch.tensor of shape n \n",
    "        \n",
    "        \"\"\"\n",
    "        \n",
    "        likelihood,_ = self.compute_likelihood(y, x) # torch.tensor of shape  m\n",
    "        \n",
    "       \n",
    "         \n",
    "        y = y.reshape(-1,1)\n",
    "        derivative = torch.stack([-x*y], dim = 0).squeeze() # torch.tensor of shape m x n\n",
    "        \n",
    "            \n",
    "        current_derivative = [0]*((likelihood.shape[0]))\n",
    "        result = torch.zeros_like(derivative[-1])\n",
    "        \n",
    "        for i in range(likelihood.shape[0]):\n",
    "            current_derivative[i] = - derivative[i] + (1 + (- y[i]* (self.weights@x[i].T).T)) \n",
    "             \n",
    "            \n",
    "        \n",
    "        for i in range(len(current_derivative)):\n",
    "            result += current_derivative[i]\n",
    "            \n",
    "         \n",
    "            \n",
    "         \n",
    "        return result\n",
    "        \n",
    "    def second_derivative(self,y,x):\n",
    "        \n",
    "        \"\"\"\n",
    "        y: torch.tensor of shape 1 x m\n",
    "        x: torch.tensor of shape n x m\n",
    "        \n",
    "        \"\"\"\n",
    "        likelihood = self.compute_likelihood(y, x)\n",
    "        derivative = (-x @ y.T).pow(2)\n",
    "        return derivative * likelihood *( 1 - likelihood)*(1 - 2*likelihood)"
   ]
  },
  {
   "cell_type": "markdown",
   "metadata": {},
   "source": [
    "### 2. Prior Distribution"
   ]
  },
  {
   "cell_type": "code",
   "execution_count": 646,
   "metadata": {},
   "outputs": [],
   "source": [
    "class Prior:\n",
    "    \n",
    "    def __init__(self, variances):\n",
    "        \n",
    "        \"\"\"\n",
    "        Probability distibution of prior\n",
    "        n - dimensional with diagonal covariance matrix\n",
    "        \n",
    "        variances: torch.tensor of shape  n : (torch.ones(5))\n",
    "        \n",
    "        \"\"\"\n",
    "        self.variances = variances\n",
    "        self.locs      = torch.zeros(variances.shape)\n",
    "        normal         = torch.distributions.normal.Normal(self.locs, self.variances )\n",
    "        self.distribution = torch.distributions.independent.Independent(normal , 1)\n",
    "        \n",
    "        \n",
    "    def log_probability(self, w):\n",
    "        \n",
    "        \"\"\"\n",
    "        log_probability at current point x\n",
    "        \n",
    "        w : torch.tensor of shape 1 x n\n",
    "        returns : torch.tensor of shape 1 x 1\n",
    "        \n",
    "        \"\"\"\n",
    "        \n",
    "        return self.distribution.log_prob(w)\n",
    "    \n",
    "    \n",
    "    def sample(self, n_counts):\n",
    "        \n",
    "        \"\"\"\n",
    "        sample element from prior distribution\n",
    "        \n",
    "        n_counts :  num samples that are desirable to sample\n",
    "        returns :   torch.tensor of shape n_counts x n\n",
    "        \n",
    "        \"\"\"\n",
    "        return self.distribution.sample(torch.tensor([n_counts]))\n",
    "    \n",
    "    def first_derivative(self, w):\n",
    "        \n",
    "        \"\"\"\n",
    "        The derivative of log-density by weight with fixed A\n",
    "        \n",
    "        w: torch.tensor of shape 1 x n\n",
    "        \n",
    "        returns: torch.tensor of shape  n x 1\n",
    "        \"\"\"\n",
    "        return torch.diag(self.variances)@w.T\n",
    "    \n",
    "    def second_derivative(self, w):\n",
    "        return 0.5*(torch.diag(self.variances) - torch.diag(self.variances)@w.T@w@torch.diag(self.variances))"
   ]
  },
  {
   "cell_type": "markdown",
   "metadata": {},
   "source": [
    "### 3. Theory"
   ]
  },
  {
   "cell_type": "markdown",
   "metadata": {},
   "source": [
    "We can calculate likelihood of our model and know prior distribution. Then , one can pay our attention to Bayes theorem:\n",
    "\n",
    "- $p(y,w|X, A) = p(y|X,w) p(w|A) $   =   $\\prod_{j=1}^{n} \\sigma(y_{j}w^{T} x_{j})$ $\\mathcal{N} (0,A^{-1})$\n",
    "\n",
    "It is worth noticing that $A = diag(\\alpha)$. \n",
    "\n",
    "- One would like to select such parameters of prioir distribution which can naximize evidence \n",
    "\n",
    "$$ A^{*} = \\arg \\max_{A} \\int p(y|X,w) p(w|A) dw $$\n",
    "\n",
    "Let $Q(w) = p(y|X,w) p(w|A)$\n",
    "\n",
    "Since we cannot integrate, then one can use Taylor expansion near Maximum posterior point(MAP)\n",
    "\n",
    "$$ \\log Q(w) \\sim \\log Q(w_{MAP}) + \\frac{1}{2}(w - w_{MAP})^{T} \\nabla \\nabla \\log Q(w_{MAP})(w -w_{MAP}) $$\n",
    "\n",
    "However, MAP point depends on A, though A is not optimized.\n",
    "\n",
    "Then , Algorithm:\n",
    "\n",
    "- 1. calculate W_{MAP} through fixed A \n",
    "- 2. Optimize the functional of Laplace's approximation through parameters of A "
   ]
  },
  {
   "cell_type": "markdown",
   "metadata": {},
   "source": [
    "$$ p(y, w|X, A) = \\prod_{j=1}^{m} \\sigma(y_{j} w^{T} x_{j}) \\frac{\\sqrt{detA}}{(2 \\pi)^{n/2}}e^{-\\frac{1}{2}w^{T}Aw}$$"
   ]
  },
  {
   "cell_type": "markdown",
   "metadata": {},
   "source": [
    "### 4. Calculation w_MAP"
   ]
  },
  {
   "cell_type": "markdown",
   "metadata": {},
   "source": [
    "- First derivative of Q(w) to find out w_MAP\n",
    "\n",
    "$$ \\nabla_{w} Q(w)  = \\nabla_{w} (p(y|X,w)p(w|A)) = 0$$\n",
    "\n",
    "First of all, we find the point, where the first dervative of Q is equal to zero - that is w_MAP"
   ]
  },
  {
   "cell_type": "markdown",
   "metadata": {},
   "source": [
    "Undoubtedly, we consider logarithm of this function Q and in the above classes, methods of first derivative takes in mind this fact\n",
    "\n",
    "$$ \\nabla_{w} \\log Q(w) = \\nabla_{w} \\log p(w|A) + \\nabla_{w} (\\log \\sigma_{1} + ... + \\log \\sigma_{m}) ->  \\min_{w}$$\n",
    "\n",
    "In other words, I want to select such parameters that this first derivative of the function equals to zero"
   ]
  },
  {
   "cell_type": "code",
   "execution_count": 661,
   "metadata": {},
   "outputs": [
    {
     "name": "stderr",
     "output_type": "stream",
     "text": [
      "<ipython-input-661-987765d9c3bb>:14: TqdmDeprecationWarning: This function will be removed in tqdm==5.0.0\n",
      "Please use `tqdm.notebook.tqdm` instead of `tqdm.tqdm_notebook`\n",
      "  for iteration in tqdm_notebook(range(num_iterations)):\n"
     ]
    },
    {
     "data": {
      "application/vnd.jupyter.widget-view+json": {
       "model_id": "84efd3908a934260a91ad284be1097a0",
       "version_major": 2,
       "version_minor": 0
      },
      "text/plain": [
       "  0%|          | 0/50 [00:00<?, ?it/s]"
      ]
     },
     "metadata": {},
     "output_type": "display_data"
    }
   ],
   "source": [
    "weights = torch.rand(1,30)\n",
    "init_weights = weights.clone()\n",
    "weights = torch.nn.Parameter(weights, requires_grad = True)\n",
    "\n",
    "optimizer = torch.optim.SGD([weights], lr=1e-4,  weight_decay=1e-6, momentum=0.9, nesterov=True )\n",
    "like_model = Likelihood_model(weights)\n",
    "prior = Prior(torch.ones(30))\n",
    "\n",
    "num_iterations = 50\n",
    "\n",
    "\n",
    "history = [0]*(num_iterations)\n",
    " \n",
    "for iteration in tqdm_notebook(range(num_iterations)):\n",
    "    \n",
    "    optimizer.zero_grad()\n",
    "    log_model_derivative = like_model.first_derivative(y_train.unsqueeze(0), X_train).unsqueeze(-1) # with gradient torch.Size([30,1])\n",
    "    \n",
    "    current_weights = like_model.get_weights()\n",
    "    log_prior_derivative = prior.first_derivative(current_weights) # with gradient torch.Size([30,1])\n",
    "     \n",
    "    loss_vector =  ( log_model_derivative +  log_prior_derivative) # with gradient  torch.Size ([30,1])\n",
    "    \n",
    "    (torch.sum(loss_vector, dim=0)).backward()\n",
    "    history[iteration] =  torch.sum(loss_vector,dim=0).item() \n",
    "    optimizer.step()"
   ]
  },
  {
   "cell_type": "code",
   "execution_count": 662,
   "metadata": {},
   "outputs": [
    {
     "data": {
      "image/png": "[encoded data removed]",
      "text/plain": [
       "<Figure size 432x288 with 1 Axes>"
      ]
     },
     "metadata": {
      "needs_background": "light"
     },
     "output_type": "display_data"
    }
   ],
   "source": [
    "plt.plot(np.arange(50),history)\n",
    "plt.xlabel(\"num iterations\")\n",
    "plt.ylabel('loss')\n",
    "plt.show()"
   ]
  },
  {
   "cell_type": "markdown",
   "metadata": {},
   "source": [
    "Slightly, optimized weights of our model one can move on to the following step, to tune parameters of prior distribution"
   ]
  },
  {
   "cell_type": "code",
   "execution_count": 663,
   "metadata": {},
   "outputs": [],
   "source": [
    "weights_map = weights"
   ]
  },
  {
   "cell_type": "markdown",
   "metadata": {},
   "source": [
    "### 5. Finding optimal parameters of A"
   ]
  },
  {
   "cell_type": "markdown",
   "metadata": {},
   "source": [
    "Now, we will learn diagonal elements of covariance matrix and weights of the model simultaneously be the abovemetioned formula"
   ]
  },
  {
   "cell_type": "code",
   "execution_count": 685,
   "metadata": {},
   "outputs": [
    {
     "name": "stderr",
     "output_type": "stream",
     "text": [
      "<ipython-input-685-3d292bf8b4fe>:16: TqdmDeprecationWarning: This function will be removed in tqdm==5.0.0\n",
      "Please use `tqdm.notebook.tqdm` instead of `tqdm.tqdm_notebook`\n",
      "  for iteration in tqdm_notebook(range(num_iterations)):\n"
     ]
    },
    {
     "data": {
      "application/vnd.jupyter.widget-view+json": {
       "model_id": "e32c8f14de7e4862860beb51aff88586",
       "version_major": 2,
       "version_minor": 0
      },
      "text/plain": [
       "  0%|          | 0/1 [00:00<?, ?it/s]"
      ]
     },
     "metadata": {},
     "output_type": "display_data"
    }
   ],
   "source": [
    "weights = torch.rand(1,30)\n",
    "variances = 30*torch.ones(30)\n",
    "init_weights = weights.clone()\n",
    "weights = torch.nn.Parameter(weights, requires_grad = True)\n",
    "variances = torch.nn.Parameter(variances, requires_grad = True)\n",
    "\n",
    "optimizer = torch.optim.SGD([weights, variances], lr=1e-1,  weight_decay=1e-6, momentum=0.9, nesterov=True )\n",
    "like_model = Likelihood_model(weights)\n",
    "prior = Prior(variances)\n",
    "\n",
    "num_iterations = 1\n",
    "\n",
    "\n",
    "history = [0]*(num_iterations)\n",
    " \n",
    "for iteration in tqdm_notebook(range(num_iterations)):\n",
    "    \n",
    "    optimizer.zero_grad()\n",
    "    log_model = like_model.compute_likelihood(y_train.unsqueeze(0), X_train)[-1]\n",
    "    \n",
    "    current_weights = like_model.get_weights()\n",
    "    log_prior = prior.log_probability(current_weights).squeeze()\n",
    "    \n",
    "    \n",
    "    \n",
    "    difference = weights - weights_map\n",
    "    #log_model_derivative = like_model.second_derivative(y_train.unsqueeze(0), X_train).unsqueeze(-1) # with gradient torch.Size([30,30])\n",
    "    \n",
    "     \n",
    "    log_prior_derivative = prior.second_derivative(current_weights) # with gradient torch.Size([30,30])\n",
    "    second_derivative = log_prior_derivative # + log_model_derivative\n",
    "    \n",
    "    loss = log_model + log_prior + 0.5*difference@second_derivative@difference.T\n",
    "    \n",
    "    loss.backward()\n",
    "    history[iteration] = loss.item() \n",
    "    optimizer.step()"
   ]
  },
  {
   "cell_type": "code",
   "execution_count": 689,
   "metadata": {},
   "outputs": [
    {
     "data": {
      "text/plain": [
       "tensor([-8.0368e+06, -1.9374e+07, -1.9204e+07,  2.2394e+08, -3.5310e+04,\n",
       "         1.3393e+04,  8.3734e+03,  2.7870e+04, -1.3340e+05, -6.6861e+04,\n",
       "         2.3807e+04, -2.2120e+06,  1.3035e+05,  3.5273e+07, -3.5776e+03,\n",
       "        -5.7271e+03,  6.1341e+03, -4.5109e+02, -6.8206e+03,  2.1489e+03,\n",
       "        -4.6446e+06, -1.9914e+07, -2.3927e+06,  6.9721e+07, -1.2142e+05,\n",
       "         3.9885e+04,  9.0345e+04,  1.0181e+05, -1.7248e+05, -2.2190e+04])"
      ]
     },
     "execution_count": 689,
     "metadata": {},
     "output_type": "execute_result"
    }
   ],
   "source": [
    "variances.detach()"
   ]
  },
  {
   "cell_type": "code",
   "execution_count": 694,
   "metadata": {},
   "outputs": [
    {
     "data": {
      "text/plain": [
       "<matplotlib.colorbar.Colorbar at 0x129644a00>"
      ]
     },
     "execution_count": 694,
     "metadata": {},
     "output_type": "execute_result"
    },
    {
     "data": {
      "image/png": "[encoded data removed]",
      "text/plain": [
       "<Figure size 432x288 with 2 Axes>"
      ]
     },
     "metadata": {
      "needs_background": "light"
     },
     "output_type": "display_data"
    }
   ],
   "source": [
    "plt.imshow(torch.diag(variances.detach()).numpy())\n",
    "plt.colorbar()"
   ]
  },
  {
   "cell_type": "markdown",
   "metadata": {},
   "source": [
    "It is worth noticing,that I didn't manage to outperform normal analysis due to nan exploison when claculate likelihood of model, that is why necessary I should pay my attention to LogSumExp trick to repeat this work again and get better results"
   ]
  },
  {
   "cell_type": "code",
   "execution_count": null,
   "metadata": {},
   "outputs": [],
   "source": []
  }
 ],
 "metadata": {
  "kernelspec": {
   "display_name": "Python 3",
   "language": "python",
   "name": "python3"
  },
  "language_info": {
   "codemirror_mode": {
    "name": "ipython",
    "version": 3
   },
   "file_extension": ".py",
   "mimetype": "text/x-python",
   "name": "python",
   "nbconvert_exporter": "python",
   "pygments_lexer": "ipython3",
   "version": "3.8.5"
  }
 },
 "nbformat": 4,
 "nbformat_minor": 4
}
