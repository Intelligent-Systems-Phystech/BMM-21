{
 "cells": [
  {
   "cell_type": "code",
   "execution_count": 1,
   "id": "32c809ff",
   "metadata": {},
   "outputs": [],
   "source": [
    "from ipywidgets import interact, interactive, fixed, interact_manual\n",
    "from scipy.stats import t\n",
    "from scipy.stats import norm\n",
    "from scipy.stats import beta\n",
    "from scipy.stats import cauchy\n",
    "from scipy.stats import vonmises\n",
    "from scipy.stats import gamma\n",
    "from sklearn.neighbors import KernelDensity\n",
    "from sklearn.neighbors import KNeighborsRegressor\n",
    "\n",
    "import matplotlib.pyplot as plt\n",
    "import numpy as np\n",
    "import ipywidgets as widgets\n",
    "\n",
    "%matplotlib inline\n",
    "\n",
    "\n"
   ]
  },
  {
   "cell_type": "code",
   "execution_count": 3,
   "id": "f6b447ed",
   "metadata": {},
   "outputs": [
    {
     "data": {
      "application/vnd.jupyter.widget-view+json": {
       "model_id": "b7a9564659b6474e8f8f32fb58e7dfac",
       "version_major": 2,
       "version_minor": 0
      },
      "text/plain": [
       "interactive(children=(FloatSlider(value=1.0, description='alpha', min=0.05, step=0.05), FloatSlider(value=1.0,…"
      ]
     },
     "metadata": {},
     "output_type": "display_data"
    },
    {
     "data": {
      "text/plain": [
       "<function __main__.plotgamma(alpha, beta)>"
      ]
     },
     "execution_count": 3,
     "metadata": {},
     "output_type": "execute_result"
    }
   ],
   "source": [
    "def plotgamma(alpha, beta):\n",
    "    x = np.linspace(gamma.ppf(0.01, alpha, scale = 1/beta),gamma.ppf(0.99, alpha, scale = 1/beta), num = 100)\n",
    "    plt.xlabel(\"Распределение Гамма, параметры {},{} , x\".format(alpha, beta))\n",
    "    plt.ylabel(\"F(x)\")\n",
    "    plt.plot(x, gamma.pdf(x, alpha, scale = 1/beta), label = 'Гамма распределение')\n",
    "    plt.grid()\n",
    "    plt.legend()\n",
    "    \n",
    "interact(plotgamma, alpha = widgets.FloatSlider(value = 1,\n",
    "                                               min = 0.05,\n",
    "                                               max = 100,\n",
    "                                               step = 0.05) , \n",
    "                       beta  = widgets.FloatSlider(value = 1,\n",
    "                                               min = 0.05,\n",
    "                                               max = 100,\n",
    "                                               step = 0.05))"
   ]
  },
  {
   "cell_type": "code",
   "execution_count": null,
   "id": "93302938",
   "metadata": {},
   "outputs": [],
   "source": []
  }
 ],
 "metadata": {
  "kernelspec": {
   "display_name": "Python 3",
   "language": "python",
   "name": "python3"
  },
  "language_info": {
   "codemirror_mode": {
    "name": "ipython",
    "version": 3
   },
   "file_extension": ".py",
   "mimetype": "text/x-python",
   "name": "python",
   "nbconvert_exporter": "python",
   "pygments_lexer": "ipython3",
   "version": "3.7.10"
  },
  "widgets": {
   "application/vnd.jupyter.widget-state+json": {
    "state": {
     "0b71c075441741169c7e349158d8f5d9": {
      "model_module": "@jupyter-widgets/base",
      "model_module_version": "1.2.0",
      "model_name": "LayoutModel",
      "state": {}
     },
     "1731e532305f45bb9f7623707d4dac6d": {
      "model_module": "@jupyter-widgets/controls",
      "model_module_version": "1.5.0",
      "model_name": "FloatSliderModel",
      "state": {
       "description": "beta",
       "layout": "IPY_MODEL_e02ddfd4d9d048adbc5010684b13a439",
       "min": 0.05,
       "step": 0.05,
       "style": "IPY_MODEL_ff90698dbce74731a995927e1fb0f0f7",
       "value": 1
      }
     },
     "460d5bbf415f410fb44edd376b169ca0": {
      "model_module": "@jupyter-widgets/base",
      "model_module_version": "1.2.0",
      "model_name": "LayoutModel",
      "state": {}
     },
     "4e00a368c5e8493dbec39885d0b8fa0c": {
      "model_module": "@jupyter-widgets/base",
      "model_module_version": "1.2.0",
      "model_name": "LayoutModel",
      "state": {}
     },
     "52cc10aa17334f0db5e0aad56997833a": {
      "model_module": "@jupyter-widgets/controls",
      "model_module_version": "1.5.0",
      "model_name": "VBoxModel",
      "state": {
       "_dom_classes": [
        "widget-interact"
       ],
       "children": [
        "IPY_MODEL_affb48d8926b47b19f61be3c0a094876",
        "IPY_MODEL_1731e532305f45bb9f7623707d4dac6d",
        "IPY_MODEL_6d345b0dcb294cd4a005d108d0b55189"
       ],
       "layout": "IPY_MODEL_a82a424680db41b2889ad158e68d9d2e"
      }
     },
     "59dabea28d5e4c51b7ff059edc86d0c4": {
      "model_module": "@jupyter-widgets/base",
      "model_module_version": "1.2.0",
      "model_name": "LayoutModel",
      "state": {}
     },
     "6d345b0dcb294cd4a005d108d0b55189": {
      "model_module": "@jupyter-widgets/output",
      "model_module_version": "1.0.0",
      "model_name": "OutputModel",
      "state": {
       "layout": "IPY_MODEL_4e00a368c5e8493dbec39885d0b8fa0c",
       "outputs": [
        {
         "data": {
          "image/png": "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\n",
          "text/plain": "<Figure size 432x288 with 1 Axes>"
         },
         "metadata": {
          "needs_background": "light"
         },
         "output_type": "display_data"
        }
       ]
      }
     },
     "9b6201ea7d5249da834f056e512b19fd": {
      "model_module": "@jupyter-widgets/controls",
      "model_module_version": "1.5.0",
      "model_name": "SliderStyleModel",
      "state": {
       "description_width": ""
      }
     },
     "9f31399a7afd446382d4ed1169193050": {
      "model_module": "@jupyter-widgets/controls",
      "model_module_version": "1.5.0",
      "model_name": "SliderStyleModel",
      "state": {
       "description_width": ""
      }
     },
     "a0b3dbe61fd347538f81d60aaaa06441": {
      "model_module": "@jupyter-widgets/controls",
      "model_module_version": "1.5.0",
      "model_name": "SliderStyleModel",
      "state": {
       "description_width": ""
      }
     },
     "a82a424680db41b2889ad158e68d9d2e": {
      "model_module": "@jupyter-widgets/base",
      "model_module_version": "1.2.0",
      "model_name": "LayoutModel",
      "state": {}
     },
     "ab9a697b04bb497b8c1d208e7d4f540b": {
      "model_module": "@jupyter-widgets/controls",
      "model_module_version": "1.5.0",
      "model_name": "FloatSliderModel",
      "state": {
       "description": "beta",
       "layout": "IPY_MODEL_59dabea28d5e4c51b7ff059edc86d0c4",
       "min": 0.05,
       "step": 0.05,
       "style": "IPY_MODEL_9b6201ea7d5249da834f056e512b19fd",
       "value": 1
      }
     },
     "affb48d8926b47b19f61be3c0a094876": {
      "model_module": "@jupyter-widgets/controls",
      "model_module_version": "1.5.0",
      "model_name": "FloatSliderModel",
      "state": {
       "description": "alpha",
       "layout": "IPY_MODEL_460d5bbf415f410fb44edd376b169ca0",
       "min": 0.05,
       "step": 0.05,
       "style": "IPY_MODEL_9f31399a7afd446382d4ed1169193050",
       "value": 1
      }
     },
     "b46faec65459474db4e518a707d70cf0": {
      "model_module": "@jupyter-widgets/base",
      "model_module_version": "1.2.0",
      "model_name": "LayoutModel",
      "state": {}
     },
     "b7a9564659b6474e8f8f32fb58e7dfac": {
      "model_module": "@jupyter-widgets/controls",
      "model_module_version": "1.5.0",
      "model_name": "VBoxModel",
      "state": {
       "_dom_classes": [
        "widget-interact"
       ],
       "children": [
        "IPY_MODEL_ea27f7aa7d664e12a88228f56d43170c",
        "IPY_MODEL_ab9a697b04bb497b8c1d208e7d4f540b",
        "IPY_MODEL_d5e78d0e04e2421caa39dd668e72c9e9"
       ],
       "layout": "IPY_MODEL_0b71c075441741169c7e349158d8f5d9"
      }
     },
     "d5e78d0e04e2421caa39dd668e72c9e9": {
      "model_module": "@jupyter-widgets/output",
      "model_module_version": "1.0.0",
      "model_name": "OutputModel",
      "state": {
       "layout": "IPY_MODEL_b46faec65459474db4e518a707d70cf0",
       "outputs": [
        {
         "data": {
          "image/png": "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\n",
          "text/plain": "<Figure size 432x288 with 1 Axes>"
         },
         "metadata": {
          "needs_background": "light"
         },
         "output_type": "display_data"
        }
       ]
      }
     },
     "e02ddfd4d9d048adbc5010684b13a439": {
      "model_module": "@jupyter-widgets/base",
      "model_module_version": "1.2.0",
      "model_name": "LayoutModel",
      "state": {}
     },
     "e8d666f19c6c42abb4b704d447bcde8f": {
      "model_module": "@jupyter-widgets/base",
      "model_module_version": "1.2.0",
      "model_name": "LayoutModel",
      "state": {}
     },
     "ea27f7aa7d664e12a88228f56d43170c": {
      "model_module": "@jupyter-widgets/controls",
      "model_module_version": "1.5.0",
      "model_name": "FloatSliderModel",
      "state": {
       "description": "alpha",
       "layout": "IPY_MODEL_e8d666f19c6c42abb4b704d447bcde8f",
       "min": 0.05,
       "step": 0.05,
       "style": "IPY_MODEL_a0b3dbe61fd347538f81d60aaaa06441",
       "value": 1
      }
     },
     "ff90698dbce74731a995927e1fb0f0f7": {
      "model_module": "@jupyter-widgets/controls",
      "model_module_version": "1.5.0",
      "model_name": "SliderStyleModel",
      "state": {
       "description_width": ""
      }
     }
    },
    "version_major": 2,
    "version_minor": 0
   }
  }
 },
 "nbformat": 4,
 "nbformat_minor": 5
}
