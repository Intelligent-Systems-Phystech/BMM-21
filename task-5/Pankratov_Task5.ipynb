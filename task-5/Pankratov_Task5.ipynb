{
 "cells": [
  {
   "cell_type": "markdown",
   "id": "b91f9dd3",
   "metadata": {},
   "source": [
    "# Домашнее задание 5 по курсу Байесовское мультимоделирование\n"
   ]
  },
  {
   "cell_type": "markdown",
   "id": "417d2c6c",
   "metadata": {},
   "source": [
    "Задача - продемонстрировать сходимость IGR(https://arxiv.org/pdf/1912.09588.pdf , оптмиизация KL-дивергенции) путём интерактивного графика на симплексе. Одно из распределений задано(q_prior), параметры второго оптимизируем(q_var).\n",
    "\n",
    "IGR трансформирует нормальный шум $\\varepsilon \\sim N(0,I)$ в два шага:\n",
    "$$y = \\mu + \\sigma \\varepsilon$$\n",
    "$$z = g(y, \\tau)$$\n",
    "g в последнем - некоторая обратимая функция,$\\tau$ -- положительный гиперпараметр температуры. Пример такого преобразования, данный в статье выше и использованный в задании:\n",
    "$$z_i = \\frac{\\exp(y_k/\\tau)}{\\sum_j \\exp(y_j/\\tau) + \\delta }$$\n",
    "$\\delta$ -- дополнительный гиперпараметр,необходимый для обратимости преобразования. В задании он был принят за единицу. Ниже в коде подсчёт $z \\rightarrow y$ происходит из этой формулы. Для посчета KL достаточно подсчитать KL для переменных y(см. статью)"
   ]
  },
  {
   "cell_type": "code",
   "execution_count": 1,
   "id": "24aefdf4",
   "metadata": {},
   "outputs": [],
   "source": [
    "\n",
    "import numpy as np\n",
    "import matplotlib.pyplot as plt\n",
    "import matplotlib.tri as tri\n",
    "import math\n",
    "import ipywidgets as widgets\n",
    "from ipywidgets import interact, interactive, fixed, interact_manual\n",
    "import tqdm\n",
    "from tqdm.contrib import tzip\n",
    "from scipy.stats import multivariate_normal\n",
    "from scipy.stats import gamma\n",
    "%matplotlib inline\n",
    "#За исключением комменатрия далее это просто скопированный код для рисования распределения Дирихле внутри правильного \n",
    "#треугольника со стороной 1. (http://blog.bogatron.net/blog/2014/02/02/visualizing-dirichlet-distributions/)\n",
    "#Для этого задания в нём потребовалось изменить одну функцию\n",
    "corners = np.array([[0, 0], [1, 0], [0.5, 0.75**0.5]])\n",
    "AREA = 0.5 * 1 * 0.75**0.5\n",
    "triangle = tri.Triangulation(corners[:, 0], corners[:, 1])\n",
    "refiner = tri.UniformTriRefiner(triangle)\n",
    "trimesh = refiner.refine_triangulation(subdiv=4)\n",
    "pairs = [corners[np.roll(range(3), -i)[1:]] for i in range(3)]\n",
    "tri_area = lambda xy, pair: 0.5 * np.linalg.norm(np.cross(*(pair - xy)))\n",
    "\n",
    "def xy2bc(xy, tol=1.e-4):\n",
    "    '''Converts 2D Cartesian coordinates to barycentric.'''\n",
    "    coords = np.array([tri_area(xy, p) for p in pairs]) / AREA\n",
    "    return np.clip(coords, tol, 1.0 - tol)\n",
    "#Ниже приведен тот самый изменённый класс, где считается правдоподобие нормального распределения, а не дирихле\n",
    "class Multinomial(object):\n",
    "    def __init__(self, mu, sigma, tau):\n",
    "        self.mu = mu\n",
    "        self.sigma = sigma\n",
    "        self.tau = tau\n",
    "    def pdf(self, x):\n",
    "        x = x[0:2]/np.sum(x)#2 координаты заданы, третья считается по ним. Поэтому для подсчета правдоподобия необходимо 2\n",
    "        #На сумму делим потому что треугольник не совсем правильный и даже 2 барицентрические координаты могут в сумме \n",
    "        #давать единицу. такой нормировки хватило для исправления ситуации\n",
    "        sumx = (np.sum(x))/(1-np.sum(x))\n",
    "        x = (x)*(sumx)#Для этой,следующей и предыдущей строчки - см формулу выше с описанием g. \n",
    "        #Ранее x - вектор z, после предыдущей строчки exp(y/tau)\n",
    "        return multivariate_normal.pdf(np.log(x*self.tau) , mean = self.mu, cov = np.diag(self.sigma))\n",
    "def draw_pdf_contours(mu,mu_2,sigma,sigma_2,tau,i, nlevels=200, subdiv=6, **kwargs):\n",
    "    plt.subplot(1, 2, 1)\n",
    "    plt.title(\"q_var\")\n",
    "    dist = Multinomial(mu[:,i],sigma[:,i],tau)\n",
    "    refiner = tri.UniformTriRefiner(triangle)\n",
    "    trimesh = refiner.refine_triangulation(subdiv=subdiv)\n",
    "    pvals = [dist.pdf(xy2bc(xy)) for xy in zip(trimesh.x, trimesh.y)]\n",
    "    plt.tricontourf(trimesh, pvals, nlevels, cmap='jet', **kwargs)\n",
    "    plt.axis('equal')\n",
    "    plt.xlim(0, 1)\n",
    "    plt.ylim(0, 0.75**0.5)\n",
    "    plt.axis('off')\n",
    "    plt.subplot(1, 2, 2)\n",
    "    plt.title(\"q_prior\")\n",
    "    dist = Multinomial(mu_2,sigma_2,tau)\n",
    "    refiner = tri.UniformTriRefiner(triangle)\n",
    "    trimesh = refiner.refine_triangulation(subdiv=subdiv)\n",
    "    pvals = [dist.pdf(xy2bc(xy)) for xy in zip(trimesh.x, trimesh.y)]\n",
    "    plt.tricontourf(trimesh, pvals, nlevels, cmap='jet', **kwargs)\n",
    "    plt.axis('equal')\n",
    "    plt.xlim(0, 1)\n",
    "    plt.ylim(0, 0.75**0.5)\n",
    "    plt.axis('off')\n",
    "    \n",
    "    plt.show()\n",
    "def draw_for_interaction(mu,mu_2,sigma,sigma_2,tau,i): \n",
    "    #Само по себе не несёт никакого смысла, просто не стал прописывать лишние fixed параметры в конце в interact\n",
    "    draw_pdf_contours(mu,mu_2,sigma,sigma_2,tau,i)\n",
    "    "
   ]
  },
  {
   "cell_type": "markdown",
   "id": "41982f69",
   "metadata": {},
   "source": [
    "Ячейка далее - градиенты KL-дивергенции двух нормальных распределений по параметрам первого.  "
   ]
  },
  {
   "cell_type": "code",
   "execution_count": 2,
   "id": "76bb6e36",
   "metadata": {},
   "outputs": [],
   "source": [
    "size = 2#другое значение параметра кажется неестественным в задании и с его изменением код не будет работать\n",
    "        #Но удалять не стал - это просто размерность генерируемых векторов\n",
    "def grad_mu(mu_1,mu_2,sigma_1,sigma_2,size = size):    \n",
    "    return 2*(mu_1 - mu_2)/(sigma_2)\n",
    "def grad_sigma(mu_1,mu_2,sigma_1,sigma_2):\n",
    "    return np.ones(size)/(sigma_2) - np.ones(size)/(sigma_1)"
   ]
  },
  {
   "cell_type": "code",
   "execution_count": 3,
   "id": "03fefa59",
   "metadata": {},
   "outputs": [],
   "source": [
    "def gradient_descent(mu_1,mu_2,sigma_1,sigma_2,size = size):\n",
    "    muarr = mu_1.reshape(size,1)\n",
    "    sigmaarr = sigma_1.reshape(size,1)\n",
    "    i = 0\n",
    "    while (np.linalg.norm(mu_1 - mu_2) + np.linalg.norm(sigma_1 - sigma_2) > 0.1) and (i < 1000):\n",
    "        i += 1\n",
    "        mu_1 = mu_1 - grad_mu(mu_1,mu_2,sigma_1,sigma_2)\n",
    "        sigma_1 = sigma_1 - 3*grad_sigma(mu_1,mu_2,sigma_1,sigma_2)\n",
    "        muarr = np.append(muarr,mu_1.reshape(size,1),axis = 1)\n",
    "        sigmaarr = np.append(sigmaarr,sigma_1.reshape(size,1),axis = 1)\n",
    "    return(muarr,sigmaarr)\n",
    "def get_visualisation_params(): #случайная генерация параметров эксперимента\n",
    "    size = 2\n",
    "    mu_1 = np.random.uniform(-10, 10, size )\n",
    "    sigma_1 = np.random.uniform(1, 10, size ) #начальное q_var\n",
    "    mu_2 = np.random.uniform(-10, 10, size ) \n",
    "    sigma_2 = np.random.uniform(1, 10, size ) #q_prior\n",
    "    tau = gamma.rvs(1)\n",
    "    muarr,sigmaarr = gradient_descent(mu_1,mu_2,sigma_1,sigma_2)\n",
    "    return(mu_2,sigma_2,muarr,sigmaarr,tau)\n"
   ]
  },
  {
   "cell_type": "markdown",
   "id": "3ecfd272",
   "metadata": {},
   "source": [
    "Предупреждение: следующий интеракт обновляется за несколько секунд, т е не сразу. Для ускорения можно уменьшить параметр subdiv\n",
    "функции draw_pdf_contours"
   ]
  },
  {
   "cell_type": "code",
   "execution_count": 4,
   "id": "95e84103",
   "metadata": {},
   "outputs": [
    {
     "data": {
      "application/vnd.jupyter.widget-view+json": {
       "model_id": "053692fe7e8c4f579221c267dd73d4da",
       "version_major": 2,
       "version_minor": 0
      },
      "text/plain": [
       "interactive(children=(IntSlider(value=1, description='i', max=24), Output()), _dom_classes=('widget-interact',…"
      ]
     },
     "metadata": {},
     "output_type": "display_data"
    },
    {
     "data": {
      "text/plain": [
       "<function __main__.draw_for_interaction(mu, mu_2, sigma, sigma_2, tau, i)>"
      ]
     },
     "execution_count": 4,
     "metadata": {},
     "output_type": "execute_result"
    }
   ],
   "source": [
    "mu_2,sigma_2,muarr,sigmaarr,tau = get_visualisation_params()\n",
    "interact(draw_for_interaction,i = widgets.IntSlider(value = 1,\n",
    "                                               min = 0,\n",
    "                                               max = len(muarr[0]),\n",
    "                                               step = 1) , mu = fixed(muarr), mu_2 = fixed(mu_2),\n",
    "                                                           sigma = fixed(sigmaarr),  sigma_2 = fixed(sigma_2),tau = fixed(tau))"
   ]
  },
  {
   "cell_type": "markdown",
   "id": "34631d76",
   "metadata": {},
   "source": [
    "Комментарий о результатах в конце можно описать кратко: нужно подбирать гиперпараметры. Например, я генерирую матожидание и дисперсию из равномерного распределения, скорее всего, было бы лучше из нормального/гамма. Выбор основан на том, что в большом матожидании/дисперсии нет смысла и это просто дает синие трегуольники на графике с едва(а то и совсем не) видимыми красными фрагментами. Наивная реализация градиентного спуска сработала, более того, весь процесс как правило виден к ~20 шагу, то есть можно было ослабить критерий остановки. "
   ]
  }
 ],
 "metadata": {
  "kernelspec": {
   "display_name": "Python 3",
   "language": "python",
   "name": "python3"
  },
  "language_info": {
   "codemirror_mode": {
    "name": "ipython",
    "version": 3
   },
   "file_extension": ".py",
   "mimetype": "text/x-python",
   "name": "python",
   "nbconvert_exporter": "python",
   "pygments_lexer": "ipython3",
   "version": "3.7.10"
  }
 },
 "nbformat": 4,
 "nbformat_minor": 5
}
