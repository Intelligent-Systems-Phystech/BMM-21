{
  "nbformat": 4,
  "nbformat_minor": 0,
  "metadata": {
    "colab": {
      "name": "Pankratov_task6.ipynb",
      "provenance": [],
      "collapsed_sections": []
    },
    "kernelspec": {
      "name": "python3",
      "display_name": "Python 3"
    },
    "language_info": {
      "name": "python"
    },
    "widgets": {
      "application/vnd.jupyter.widget-state+json": {
        "e58eb51de544468d9261cb553bfcffd0": {
          "model_module": "@jupyter-widgets/controls",
          "model_name": "HBoxModel",
          "model_module_version": "1.5.0",
          "state": {
            "_dom_classes": [],
            "_model_module": "@jupyter-widgets/controls",
            "_model_module_version": "1.5.0",
            "_model_name": "HBoxModel",
            "_view_count": null,
            "_view_module": "@jupyter-widgets/controls",
            "_view_module_version": "1.5.0",
            "_view_name": "HBoxView",
            "box_style": "",
            "children": [
              "IPY_MODEL_077ca01d934c4cbbacb7ea24c07b3ffc",
              "IPY_MODEL_ff99c4432f0c4972a16e203430d7a897",
              "IPY_MODEL_4adf9cbde2e64c7d9e80f51a24bebe29"
            ],
            "layout": "IPY_MODEL_aab31a42c35344989d9504ae852eafbb"
          }
        },
        "077ca01d934c4cbbacb7ea24c07b3ffc": {
          "model_module": "@jupyter-widgets/controls",
          "model_name": "HTMLModel",
          "model_module_version": "1.5.0",
          "state": {
            "_dom_classes": [],
            "_model_module": "@jupyter-widgets/controls",
            "_model_module_version": "1.5.0",
            "_model_name": "HTMLModel",
            "_view_count": null,
            "_view_module": "@jupyter-widgets/controls",
            "_view_module_version": "1.5.0",
            "_view_name": "HTMLView",
            "description": "",
            "description_tooltip": null,
            "layout": "IPY_MODEL_a7c837a9f16942a2b1a66aa3b345ee56",
            "placeholder": "​",
            "style": "IPY_MODEL_d87d9bdff80a49279f47db52e91f7ebf",
            "value": ""
          }
        },
        "ff99c4432f0c4972a16e203430d7a897": {
          "model_module": "@jupyter-widgets/controls",
          "model_name": "FloatProgressModel",
          "model_module_version": "1.5.0",
          "state": {
            "_dom_classes": [],
            "_model_module": "@jupyter-widgets/controls",
            "_model_module_version": "1.5.0",
            "_model_name": "FloatProgressModel",
            "_view_count": null,
            "_view_module": "@jupyter-widgets/controls",
            "_view_module_version": "1.5.0",
            "_view_name": "ProgressView",
            "bar_style": "success",
            "description": "",
            "description_tooltip": null,
            "layout": "IPY_MODEL_26fcc762bc954dff8cd4d2ec9fd775e8",
            "max": 9912422,
            "min": 0,
            "orientation": "horizontal",
            "style": "IPY_MODEL_a63ba05f49664949902bb933e5541121",
            "value": 9912422
          }
        },
        "4adf9cbde2e64c7d9e80f51a24bebe29": {
          "model_module": "@jupyter-widgets/controls",
          "model_name": "HTMLModel",
          "model_module_version": "1.5.0",
          "state": {
            "_dom_classes": [],
            "_model_module": "@jupyter-widgets/controls",
            "_model_module_version": "1.5.0",
            "_model_name": "HTMLModel",
            "_view_count": null,
            "_view_module": "@jupyter-widgets/controls",
            "_view_module_version": "1.5.0",
            "_view_name": "HTMLView",
            "description": "",
            "description_tooltip": null,
            "layout": "IPY_MODEL_347623f46aaa4b55a0a0a4f38cae0f4f",
            "placeholder": "​",
            "style": "IPY_MODEL_b3e76ebe50624ae3b17348451f443ab5",
            "value": " 9913344/? [00:00&lt;00:00, 12730444.19it/s]"
          }
        },
        "aab31a42c35344989d9504ae852eafbb": {
          "model_module": "@jupyter-widgets/base",
          "model_name": "LayoutModel",
          "model_module_version": "1.2.0",
          "state": {
            "_model_module": "@jupyter-widgets/base",
            "_model_module_version": "1.2.0",
            "_model_name": "LayoutModel",
            "_view_count": null,
            "_view_module": "@jupyter-widgets/base",
            "_view_module_version": "1.2.0",
            "_view_name": "LayoutView",
            "align_content": null,
            "align_items": null,
            "align_self": null,
            "border": null,
            "bottom": null,
            "display": null,
            "flex": null,
            "flex_flow": null,
            "grid_area": null,
            "grid_auto_columns": null,
            "grid_auto_flow": null,
            "grid_auto_rows": null,
            "grid_column": null,
            "grid_gap": null,
            "grid_row": null,
            "grid_template_areas": null,
            "grid_template_columns": null,
            "grid_template_rows": null,
            "height": null,
            "justify_content": null,
            "justify_items": null,
            "left": null,
            "margin": null,
            "max_height": null,
            "max_width": null,
            "min_height": null,
            "min_width": null,
            "object_fit": null,
            "object_position": null,
            "order": null,
            "overflow": null,
            "overflow_x": null,
            "overflow_y": null,
            "padding": null,
            "right": null,
            "top": null,
            "visibility": null,
            "width": null
          }
        },
        "a7c837a9f16942a2b1a66aa3b345ee56": {
          "model_module": "@jupyter-widgets/base",
          "model_name": "LayoutModel",
          "model_module_version": "1.2.0",
          "state": {
            "_model_module": "@jupyter-widgets/base",
            "_model_module_version": "1.2.0",
            "_model_name": "LayoutModel",
            "_view_count": null,
            "_view_module": "@jupyter-widgets/base",
            "_view_module_version": "1.2.0",
            "_view_name": "LayoutView",
            "align_content": null,
            "align_items": null,
            "align_self": null,
            "border": null,
            "bottom": null,
            "display": null,
            "flex": null,
            "flex_flow": null,
            "grid_area": null,
            "grid_auto_columns": null,
            "grid_auto_flow": null,
            "grid_auto_rows": null,
            "grid_column": null,
            "grid_gap": null,
            "grid_row": null,
            "grid_template_areas": null,
            "grid_template_columns": null,
            "grid_template_rows": null,
            "height": null,
            "justify_content": null,
            "justify_items": null,
            "left": null,
            "margin": null,
            "max_height": null,
            "max_width": null,
            "min_height": null,
            "min_width": null,
            "object_fit": null,
            "object_position": null,
            "order": null,
            "overflow": null,
            "overflow_x": null,
            "overflow_y": null,
            "padding": null,
            "right": null,
            "top": null,
            "visibility": null,
            "width": null
          }
        },
        "d87d9bdff80a49279f47db52e91f7ebf": {
          "model_module": "@jupyter-widgets/controls",
          "model_name": "DescriptionStyleModel",
          "model_module_version": "1.5.0",
          "state": {
            "_model_module": "@jupyter-widgets/controls",
            "_model_module_version": "1.5.0",
            "_model_name": "DescriptionStyleModel",
            "_view_count": null,
            "_view_module": "@jupyter-widgets/base",
            "_view_module_version": "1.2.0",
            "_view_name": "StyleView",
            "description_width": ""
          }
        },
        "26fcc762bc954dff8cd4d2ec9fd775e8": {
          "model_module": "@jupyter-widgets/base",
          "model_name": "LayoutModel",
          "model_module_version": "1.2.0",
          "state": {
            "_model_module": "@jupyter-widgets/base",
            "_model_module_version": "1.2.0",
            "_model_name": "LayoutModel",
            "_view_count": null,
            "_view_module": "@jupyter-widgets/base",
            "_view_module_version": "1.2.0",
            "_view_name": "LayoutView",
            "align_content": null,
            "align_items": null,
            "align_self": null,
            "border": null,
            "bottom": null,
            "display": null,
            "flex": null,
            "flex_flow": null,
            "grid_area": null,
            "grid_auto_columns": null,
            "grid_auto_flow": null,
            "grid_auto_rows": null,
            "grid_column": null,
            "grid_gap": null,
            "grid_row": null,
            "grid_template_areas": null,
            "grid_template_columns": null,
            "grid_template_rows": null,
            "height": null,
            "justify_content": null,
            "justify_items": null,
            "left": null,
            "margin": null,
            "max_height": null,
            "max_width": null,
            "min_height": null,
            "min_width": null,
            "object_fit": null,
            "object_position": null,
            "order": null,
            "overflow": null,
            "overflow_x": null,
            "overflow_y": null,
            "padding": null,
            "right": null,
            "top": null,
            "visibility": null,
            "width": null
          }
        },
        "a63ba05f49664949902bb933e5541121": {
          "model_module": "@jupyter-widgets/controls",
          "model_name": "ProgressStyleModel",
          "model_module_version": "1.5.0",
          "state": {
            "_model_module": "@jupyter-widgets/controls",
            "_model_module_version": "1.5.0",
            "_model_name": "ProgressStyleModel",
            "_view_count": null,
            "_view_module": "@jupyter-widgets/base",
            "_view_module_version": "1.2.0",
            "_view_name": "StyleView",
            "bar_color": null,
            "description_width": ""
          }
        },
        "347623f46aaa4b55a0a0a4f38cae0f4f": {
          "model_module": "@jupyter-widgets/base",
          "model_name": "LayoutModel",
          "model_module_version": "1.2.0",
          "state": {
            "_model_module": "@jupyter-widgets/base",
            "_model_module_version": "1.2.0",
            "_model_name": "LayoutModel",
            "_view_count": null,
            "_view_module": "@jupyter-widgets/base",
            "_view_module_version": "1.2.0",
            "_view_name": "LayoutView",
            "align_content": null,
            "align_items": null,
            "align_self": null,
            "border": null,
            "bottom": null,
            "display": null,
            "flex": null,
            "flex_flow": null,
            "grid_area": null,
            "grid_auto_columns": null,
            "grid_auto_flow": null,
            "grid_auto_rows": null,
            "grid_column": null,
            "grid_gap": null,
            "grid_row": null,
            "grid_template_areas": null,
            "grid_template_columns": null,
            "grid_template_rows": null,
            "height": null,
            "justify_content": null,
            "justify_items": null,
            "left": null,
            "margin": null,
            "max_height": null,
            "max_width": null,
            "min_height": null,
            "min_width": null,
            "object_fit": null,
            "object_position": null,
            "order": null,
            "overflow": null,
            "overflow_x": null,
            "overflow_y": null,
            "padding": null,
            "right": null,
            "top": null,
            "visibility": null,
            "width": null
          }
        },
        "b3e76ebe50624ae3b17348451f443ab5": {
          "model_module": "@jupyter-widgets/controls",
          "model_name": "DescriptionStyleModel",
          "model_module_version": "1.5.0",
          "state": {
            "_model_module": "@jupyter-widgets/controls",
            "_model_module_version": "1.5.0",
            "_model_name": "DescriptionStyleModel",
            "_view_count": null,
            "_view_module": "@jupyter-widgets/base",
            "_view_module_version": "1.2.0",
            "_view_name": "StyleView",
            "description_width": ""
          }
        },
        "177f2d72be1d41388c53ab18ef477579": {
          "model_module": "@jupyter-widgets/controls",
          "model_name": "HBoxModel",
          "model_module_version": "1.5.0",
          "state": {
            "_dom_classes": [],
            "_model_module": "@jupyter-widgets/controls",
            "_model_module_version": "1.5.0",
            "_model_name": "HBoxModel",
            "_view_count": null,
            "_view_module": "@jupyter-widgets/controls",
            "_view_module_version": "1.5.0",
            "_view_name": "HBoxView",
            "box_style": "",
            "children": [
              "IPY_MODEL_a0d976d538a94b07a4da0b378cb1543f",
              "IPY_MODEL_9376780e01724297bbf313dcc24b48ce",
              "IPY_MODEL_8e946cde582146d1a653f61e2b3a5312"
            ],
            "layout": "IPY_MODEL_bcbce5a8973341d8952881372a0800d8"
          }
        },
        "a0d976d538a94b07a4da0b378cb1543f": {
          "model_module": "@jupyter-widgets/controls",
          "model_name": "HTMLModel",
          "model_module_version": "1.5.0",
          "state": {
            "_dom_classes": [],
            "_model_module": "@jupyter-widgets/controls",
            "_model_module_version": "1.5.0",
            "_model_name": "HTMLModel",
            "_view_count": null,
            "_view_module": "@jupyter-widgets/controls",
            "_view_module_version": "1.5.0",
            "_view_name": "HTMLView",
            "description": "",
            "description_tooltip": null,
            "layout": "IPY_MODEL_3922a62b21e743a092219eca02e68edd",
            "placeholder": "​",
            "style": "IPY_MODEL_94b4700d0d554dd4b286d4d0aab8956c",
            "value": ""
          }
        },
        "9376780e01724297bbf313dcc24b48ce": {
          "model_module": "@jupyter-widgets/controls",
          "model_name": "FloatProgressModel",
          "model_module_version": "1.5.0",
          "state": {
            "_dom_classes": [],
            "_model_module": "@jupyter-widgets/controls",
            "_model_module_version": "1.5.0",
            "_model_name": "FloatProgressModel",
            "_view_count": null,
            "_view_module": "@jupyter-widgets/controls",
            "_view_module_version": "1.5.0",
            "_view_name": "ProgressView",
            "bar_style": "success",
            "description": "",
            "description_tooltip": null,
            "layout": "IPY_MODEL_d08cc14bb23e4fd9877385cd2b4e5cec",
            "max": 28881,
            "min": 0,
            "orientation": "horizontal",
            "style": "IPY_MODEL_154acbac8b574de599d51e224d354e59",
            "value": 28881
          }
        },
        "8e946cde582146d1a653f61e2b3a5312": {
          "model_module": "@jupyter-widgets/controls",
          "model_name": "HTMLModel",
          "model_module_version": "1.5.0",
          "state": {
            "_dom_classes": [],
            "_model_module": "@jupyter-widgets/controls",
            "_model_module_version": "1.5.0",
            "_model_name": "HTMLModel",
            "_view_count": null,
            "_view_module": "@jupyter-widgets/controls",
            "_view_module_version": "1.5.0",
            "_view_name": "HTMLView",
            "description": "",
            "description_tooltip": null,
            "layout": "IPY_MODEL_206afca568d44892b9c7729852594c65",
            "placeholder": "​",
            "style": "IPY_MODEL_5a5b8e88f26c4cabb9f42a01373812c3",
            "value": " 29696/? [00:00&lt;00:00, 7458.55it/s]"
          }
        },
        "bcbce5a8973341d8952881372a0800d8": {
          "model_module": "@jupyter-widgets/base",
          "model_name": "LayoutModel",
          "model_module_version": "1.2.0",
          "state": {
            "_model_module": "@jupyter-widgets/base",
            "_model_module_version": "1.2.0",
            "_model_name": "LayoutModel",
            "_view_count": null,
            "_view_module": "@jupyter-widgets/base",
            "_view_module_version": "1.2.0",
            "_view_name": "LayoutView",
            "align_content": null,
            "align_items": null,
            "align_self": null,
            "border": null,
            "bottom": null,
            "display": null,
            "flex": null,
            "flex_flow": null,
            "grid_area": null,
            "grid_auto_columns": null,
            "grid_auto_flow": null,
            "grid_auto_rows": null,
            "grid_column": null,
            "grid_gap": null,
            "grid_row": null,
            "grid_template_areas": null,
            "grid_template_columns": null,
            "grid_template_rows": null,
            "height": null,
            "justify_content": null,
            "justify_items": null,
            "left": null,
            "margin": null,
            "max_height": null,
            "max_width": null,
            "min_height": null,
            "min_width": null,
            "object_fit": null,
            "object_position": null,
            "order": null,
            "overflow": null,
            "overflow_x": null,
            "overflow_y": null,
            "padding": null,
            "right": null,
            "top": null,
            "visibility": null,
            "width": null
          }
        },
        "3922a62b21e743a092219eca02e68edd": {
          "model_module": "@jupyter-widgets/base",
          "model_name": "LayoutModel",
          "model_module_version": "1.2.0",
          "state": {
            "_model_module": "@jupyter-widgets/base",
            "_model_module_version": "1.2.0",
            "_model_name": "LayoutModel",
            "_view_count": null,
            "_view_module": "@jupyter-widgets/base",
            "_view_module_version": "1.2.0",
            "_view_name": "LayoutView",
            "align_content": null,
            "align_items": null,
            "align_self": null,
            "border": null,
            "bottom": null,
            "display": null,
            "flex": null,
            "flex_flow": null,
            "grid_area": null,
            "grid_auto_columns": null,
            "grid_auto_flow": null,
            "grid_auto_rows": null,
            "grid_column": null,
            "grid_gap": null,
            "grid_row": null,
            "grid_template_areas": null,
            "grid_template_columns": null,
            "grid_template_rows": null,
            "height": null,
            "justify_content": null,
            "justify_items": null,
            "left": null,
            "margin": null,
            "max_height": null,
            "max_width": null,
            "min_height": null,
            "min_width": null,
            "object_fit": null,
            "object_position": null,
            "order": null,
            "overflow": null,
            "overflow_x": null,
            "overflow_y": null,
            "padding": null,
            "right": null,
            "top": null,
            "visibility": null,
            "width": null
          }
        },
        "94b4700d0d554dd4b286d4d0aab8956c": {
          "model_module": "@jupyter-widgets/controls",
          "model_name": "DescriptionStyleModel",
          "model_module_version": "1.5.0",
          "state": {
            "_model_module": "@jupyter-widgets/controls",
            "_model_module_version": "1.5.0",
            "_model_name": "DescriptionStyleModel",
            "_view_count": null,
            "_view_module": "@jupyter-widgets/base",
            "_view_module_version": "1.2.0",
            "_view_name": "StyleView",
            "description_width": ""
          }
        },
        "d08cc14bb23e4fd9877385cd2b4e5cec": {
          "model_module": "@jupyter-widgets/base",
          "model_name": "LayoutModel",
          "model_module_version": "1.2.0",
          "state": {
            "_model_module": "@jupyter-widgets/base",
            "_model_module_version": "1.2.0",
            "_model_name": "LayoutModel",
            "_view_count": null,
            "_view_module": "@jupyter-widgets/base",
            "_view_module_version": "1.2.0",
            "_view_name": "LayoutView",
            "align_content": null,
            "align_items": null,
            "align_self": null,
            "border": null,
            "bottom": null,
            "display": null,
            "flex": null,
            "flex_flow": null,
            "grid_area": null,
            "grid_auto_columns": null,
            "grid_auto_flow": null,
            "grid_auto_rows": null,
            "grid_column": null,
            "grid_gap": null,
            "grid_row": null,
            "grid_template_areas": null,
            "grid_template_columns": null,
            "grid_template_rows": null,
            "height": null,
            "justify_content": null,
            "justify_items": null,
            "left": null,
            "margin": null,
            "max_height": null,
            "max_width": null,
            "min_height": null,
            "min_width": null,
            "object_fit": null,
            "object_position": null,
            "order": null,
            "overflow": null,
            "overflow_x": null,
            "overflow_y": null,
            "padding": null,
            "right": null,
            "top": null,
            "visibility": null,
            "width": null
          }
        },
        "154acbac8b574de599d51e224d354e59": {
          "model_module": "@jupyter-widgets/controls",
          "model_name": "ProgressStyleModel",
          "model_module_version": "1.5.0",
          "state": {
            "_model_module": "@jupyter-widgets/controls",
            "_model_module_version": "1.5.0",
            "_model_name": "ProgressStyleModel",
            "_view_count": null,
            "_view_module": "@jupyter-widgets/base",
            "_view_module_version": "1.2.0",
            "_view_name": "StyleView",
            "bar_color": null,
            "description_width": ""
          }
        },
        "206afca568d44892b9c7729852594c65": {
          "model_module": "@jupyter-widgets/base",
          "model_name": "LayoutModel",
          "model_module_version": "1.2.0",
          "state": {
            "_model_module": "@jupyter-widgets/base",
            "_model_module_version": "1.2.0",
            "_model_name": "LayoutModel",
            "_view_count": null,
            "_view_module": "@jupyter-widgets/base",
            "_view_module_version": "1.2.0",
            "_view_name": "LayoutView",
            "align_content": null,
            "align_items": null,
            "align_self": null,
            "border": null,
            "bottom": null,
            "display": null,
            "flex": null,
            "flex_flow": null,
            "grid_area": null,
            "grid_auto_columns": null,
            "grid_auto_flow": null,
            "grid_auto_rows": null,
            "grid_column": null,
            "grid_gap": null,
            "grid_row": null,
            "grid_template_areas": null,
            "grid_template_columns": null,
            "grid_template_rows": null,
            "height": null,
            "justify_content": null,
            "justify_items": null,
            "left": null,
            "margin": null,
            "max_height": null,
            "max_width": null,
            "min_height": null,
            "min_width": null,
            "object_fit": null,
            "object_position": null,
            "order": null,
            "overflow": null,
            "overflow_x": null,
            "overflow_y": null,
            "padding": null,
            "right": null,
            "top": null,
            "visibility": null,
            "width": null
          }
        },
        "5a5b8e88f26c4cabb9f42a01373812c3": {
          "model_module": "@jupyter-widgets/controls",
          "model_name": "DescriptionStyleModel",
          "model_module_version": "1.5.0",
          "state": {
            "_model_module": "@jupyter-widgets/controls",
            "_model_module_version": "1.5.0",
            "_model_name": "DescriptionStyleModel",
            "_view_count": null,
            "_view_module": "@jupyter-widgets/base",
            "_view_module_version": "1.2.0",
            "_view_name": "StyleView",
            "description_width": ""
          }
        },
        "2a084165693544d9b2c60e508a8665d0": {
          "model_module": "@jupyter-widgets/controls",
          "model_name": "HBoxModel",
          "model_module_version": "1.5.0",
          "state": {
            "_dom_classes": [],
            "_model_module": "@jupyter-widgets/controls",
            "_model_module_version": "1.5.0",
            "_model_name": "HBoxModel",
            "_view_count": null,
            "_view_module": "@jupyter-widgets/controls",
            "_view_module_version": "1.5.0",
            "_view_name": "HBoxView",
            "box_style": "",
            "children": [
              "IPY_MODEL_276456eb8ae0450f83459a303c04e073",
              "IPY_MODEL_376b1b9da9914eeeabdb50baa9e5c0ef",
              "IPY_MODEL_dddc7164dd4346dda5ef9e4944b852c7"
            ],
            "layout": "IPY_MODEL_f3bff9d7ce514ce6bc4b6ff4c1a58f49"
          }
        },
        "276456eb8ae0450f83459a303c04e073": {
          "model_module": "@jupyter-widgets/controls",
          "model_name": "HTMLModel",
          "model_module_version": "1.5.0",
          "state": {
            "_dom_classes": [],
            "_model_module": "@jupyter-widgets/controls",
            "_model_module_version": "1.5.0",
            "_model_name": "HTMLModel",
            "_view_count": null,
            "_view_module": "@jupyter-widgets/controls",
            "_view_module_version": "1.5.0",
            "_view_name": "HTMLView",
            "description": "",
            "description_tooltip": null,
            "layout": "IPY_MODEL_ac9fc397615b45d6925ebe5c81cb6d79",
            "placeholder": "​",
            "style": "IPY_MODEL_53aee6fec5a74326a32065ae5188b717",
            "value": ""
          }
        },
        "376b1b9da9914eeeabdb50baa9e5c0ef": {
          "model_module": "@jupyter-widgets/controls",
          "model_name": "FloatProgressModel",
          "model_module_version": "1.5.0",
          "state": {
            "_dom_classes": [],
            "_model_module": "@jupyter-widgets/controls",
            "_model_module_version": "1.5.0",
            "_model_name": "FloatProgressModel",
            "_view_count": null,
            "_view_module": "@jupyter-widgets/controls",
            "_view_module_version": "1.5.0",
            "_view_name": "ProgressView",
            "bar_style": "success",
            "description": "",
            "description_tooltip": null,
            "layout": "IPY_MODEL_4cfbedb9c7964726af63cfdfc479c550",
            "max": 1648877,
            "min": 0,
            "orientation": "horizontal",
            "style": "IPY_MODEL_e7a639cd2b5f4bb6bf353e9c035e90c9",
            "value": 1648877
          }
        },
        "dddc7164dd4346dda5ef9e4944b852c7": {
          "model_module": "@jupyter-widgets/controls",
          "model_name": "HTMLModel",
          "model_module_version": "1.5.0",
          "state": {
            "_dom_classes": [],
            "_model_module": "@jupyter-widgets/controls",
            "_model_module_version": "1.5.0",
            "_model_name": "HTMLModel",
            "_view_count": null,
            "_view_module": "@jupyter-widgets/controls",
            "_view_module_version": "1.5.0",
            "_view_name": "HTMLView",
            "description": "",
            "description_tooltip": null,
            "layout": "IPY_MODEL_831e32966a0e4dc5ac1be87d1a9c7d89",
            "placeholder": "​",
            "style": "IPY_MODEL_a4c6e9f2d09d4baabf00eaf5fa758ed8",
            "value": " 1649664/? [00:00&lt;00:00, 5319174.31it/s]"
          }
        },
        "f3bff9d7ce514ce6bc4b6ff4c1a58f49": {
          "model_module": "@jupyter-widgets/base",
          "model_name": "LayoutModel",
          "model_module_version": "1.2.0",
          "state": {
            "_model_module": "@jupyter-widgets/base",
            "_model_module_version": "1.2.0",
            "_model_name": "LayoutModel",
            "_view_count": null,
            "_view_module": "@jupyter-widgets/base",
            "_view_module_version": "1.2.0",
            "_view_name": "LayoutView",
            "align_content": null,
            "align_items": null,
            "align_self": null,
            "border": null,
            "bottom": null,
            "display": null,
            "flex": null,
            "flex_flow": null,
            "grid_area": null,
            "grid_auto_columns": null,
            "grid_auto_flow": null,
            "grid_auto_rows": null,
            "grid_column": null,
            "grid_gap": null,
            "grid_row": null,
            "grid_template_areas": null,
            "grid_template_columns": null,
            "grid_template_rows": null,
            "height": null,
            "justify_content": null,
            "justify_items": null,
            "left": null,
            "margin": null,
            "max_height": null,
            "max_width": null,
            "min_height": null,
            "min_width": null,
            "object_fit": null,
            "object_position": null,
            "order": null,
            "overflow": null,
            "overflow_x": null,
            "overflow_y": null,
            "padding": null,
            "right": null,
            "top": null,
            "visibility": null,
            "width": null
          }
        },
        "ac9fc397615b45d6925ebe5c81cb6d79": {
          "model_module": "@jupyter-widgets/base",
          "model_name": "LayoutModel",
          "model_module_version": "1.2.0",
          "state": {
            "_model_module": "@jupyter-widgets/base",
            "_model_module_version": "1.2.0",
            "_model_name": "LayoutModel",
            "_view_count": null,
            "_view_module": "@jupyter-widgets/base",
            "_view_module_version": "1.2.0",
            "_view_name": "LayoutView",
            "align_content": null,
            "align_items": null,
            "align_self": null,
            "border": null,
            "bottom": null,
            "display": null,
            "flex": null,
            "flex_flow": null,
            "grid_area": null,
            "grid_auto_columns": null,
            "grid_auto_flow": null,
            "grid_auto_rows": null,
            "grid_column": null,
            "grid_gap": null,
            "grid_row": null,
            "grid_template_areas": null,
            "grid_template_columns": null,
            "grid_template_rows": null,
            "height": null,
            "justify_content": null,
            "justify_items": null,
            "left": null,
            "margin": null,
            "max_height": null,
            "max_width": null,
            "min_height": null,
            "min_width": null,
            "object_fit": null,
            "object_position": null,
            "order": null,
            "overflow": null,
            "overflow_x": null,
            "overflow_y": null,
            "padding": null,
            "right": null,
            "top": null,
            "visibility": null,
            "width": null
          }
        },
        "53aee6fec5a74326a32065ae5188b717": {
          "model_module": "@jupyter-widgets/controls",
          "model_name": "DescriptionStyleModel",
          "model_module_version": "1.5.0",
          "state": {
            "_model_module": "@jupyter-widgets/controls",
            "_model_module_version": "1.5.0",
            "_model_name": "DescriptionStyleModel",
            "_view_count": null,
            "_view_module": "@jupyter-widgets/base",
            "_view_module_version": "1.2.0",
            "_view_name": "StyleView",
            "description_width": ""
          }
        },
        "4cfbedb9c7964726af63cfdfc479c550": {
          "model_module": "@jupyter-widgets/base",
          "model_name": "LayoutModel",
          "model_module_version": "1.2.0",
          "state": {
            "_model_module": "@jupyter-widgets/base",
            "_model_module_version": "1.2.0",
            "_model_name": "LayoutModel",
            "_view_count": null,
            "_view_module": "@jupyter-widgets/base",
            "_view_module_version": "1.2.0",
            "_view_name": "LayoutView",
            "align_content": null,
            "align_items": null,
            "align_self": null,
            "border": null,
            "bottom": null,
            "display": null,
            "flex": null,
            "flex_flow": null,
            "grid_area": null,
            "grid_auto_columns": null,
            "grid_auto_flow": null,
            "grid_auto_rows": null,
            "grid_column": null,
            "grid_gap": null,
            "grid_row": null,
            "grid_template_areas": null,
            "grid_template_columns": null,
            "grid_template_rows": null,
            "height": null,
            "justify_content": null,
            "justify_items": null,
            "left": null,
            "margin": null,
            "max_height": null,
            "max_width": null,
            "min_height": null,
            "min_width": null,
            "object_fit": null,
            "object_position": null,
            "order": null,
            "overflow": null,
            "overflow_x": null,
            "overflow_y": null,
            "padding": null,
            "right": null,
            "top": null,
            "visibility": null,
            "width": null
          }
        },
        "e7a639cd2b5f4bb6bf353e9c035e90c9": {
          "model_module": "@jupyter-widgets/controls",
          "model_name": "ProgressStyleModel",
          "model_module_version": "1.5.0",
          "state": {
            "_model_module": "@jupyter-widgets/controls",
            "_model_module_version": "1.5.0",
            "_model_name": "ProgressStyleModel",
            "_view_count": null,
            "_view_module": "@jupyter-widgets/base",
            "_view_module_version": "1.2.0",
            "_view_name": "StyleView",
            "bar_color": null,
            "description_width": ""
          }
        },
        "831e32966a0e4dc5ac1be87d1a9c7d89": {
          "model_module": "@jupyter-widgets/base",
          "model_name": "LayoutModel",
          "model_module_version": "1.2.0",
          "state": {
            "_model_module": "@jupyter-widgets/base",
            "_model_module_version": "1.2.0",
            "_model_name": "LayoutModel",
            "_view_count": null,
            "_view_module": "@jupyter-widgets/base",
            "_view_module_version": "1.2.0",
            "_view_name": "LayoutView",
            "align_content": null,
            "align_items": null,
            "align_self": null,
            "border": null,
            "bottom": null,
            "display": null,
            "flex": null,
            "flex_flow": null,
            "grid_area": null,
            "grid_auto_columns": null,
            "grid_auto_flow": null,
            "grid_auto_rows": null,
            "grid_column": null,
            "grid_gap": null,
            "grid_row": null,
            "grid_template_areas": null,
            "grid_template_columns": null,
            "grid_template_rows": null,
            "height": null,
            "justify_content": null,
            "justify_items": null,
            "left": null,
            "margin": null,
            "max_height": null,
            "max_width": null,
            "min_height": null,
            "min_width": null,
            "object_fit": null,
            "object_position": null,
            "order": null,
            "overflow": null,
            "overflow_x": null,
            "overflow_y": null,
            "padding": null,
            "right": null,
            "top": null,
            "visibility": null,
            "width": null
          }
        },
        "a4c6e9f2d09d4baabf00eaf5fa758ed8": {
          "model_module": "@jupyter-widgets/controls",
          "model_name": "DescriptionStyleModel",
          "model_module_version": "1.5.0",
          "state": {
            "_model_module": "@jupyter-widgets/controls",
            "_model_module_version": "1.5.0",
            "_model_name": "DescriptionStyleModel",
            "_view_count": null,
            "_view_module": "@jupyter-widgets/base",
            "_view_module_version": "1.2.0",
            "_view_name": "StyleView",
            "description_width": ""
          }
        },
        "29dbad70d61d4c9a86dd3c2dcae40bd7": {
          "model_module": "@jupyter-widgets/controls",
          "model_name": "HBoxModel",
          "model_module_version": "1.5.0",
          "state": {
            "_dom_classes": [],
            "_model_module": "@jupyter-widgets/controls",
            "_model_module_version": "1.5.0",
            "_model_name": "HBoxModel",
            "_view_count": null,
            "_view_module": "@jupyter-widgets/controls",
            "_view_module_version": "1.5.0",
            "_view_name": "HBoxView",
            "box_style": "",
            "children": [
              "IPY_MODEL_67c753880b244810992696acfd25012e",
              "IPY_MODEL_81ab6bd8e1154ad9a809bd0ad199c9b1",
              "IPY_MODEL_93ce1896b183419193c2238239a98c58"
            ],
            "layout": "IPY_MODEL_febbd0885b3f48f0b550d5c43461219f"
          }
        },
        "67c753880b244810992696acfd25012e": {
          "model_module": "@jupyter-widgets/controls",
          "model_name": "HTMLModel",
          "model_module_version": "1.5.0",
          "state": {
            "_dom_classes": [],
            "_model_module": "@jupyter-widgets/controls",
            "_model_module_version": "1.5.0",
            "_model_name": "HTMLModel",
            "_view_count": null,
            "_view_module": "@jupyter-widgets/controls",
            "_view_module_version": "1.5.0",
            "_view_name": "HTMLView",
            "description": "",
            "description_tooltip": null,
            "layout": "IPY_MODEL_c360737da8c74390a89824d301ca4101",
            "placeholder": "​",
            "style": "IPY_MODEL_5db43e0400c64d1c8e3b9dc5d5cf065f",
            "value": ""
          }
        },
        "81ab6bd8e1154ad9a809bd0ad199c9b1": {
          "model_module": "@jupyter-widgets/controls",
          "model_name": "FloatProgressModel",
          "model_module_version": "1.5.0",
          "state": {
            "_dom_classes": [],
            "_model_module": "@jupyter-widgets/controls",
            "_model_module_version": "1.5.0",
            "_model_name": "FloatProgressModel",
            "_view_count": null,
            "_view_module": "@jupyter-widgets/controls",
            "_view_module_version": "1.5.0",
            "_view_name": "ProgressView",
            "bar_style": "success",
            "description": "",
            "description_tooltip": null,
            "layout": "IPY_MODEL_d29a91e71bc34cca8b8d1d5b1f43eb65",
            "max": 4542,
            "min": 0,
            "orientation": "horizontal",
            "style": "IPY_MODEL_6a42cd1e7d3d472b97a62823e0418a54",
            "value": 4542
          }
        },
        "93ce1896b183419193c2238239a98c58": {
          "model_module": "@jupyter-widgets/controls",
          "model_name": "HTMLModel",
          "model_module_version": "1.5.0",
          "state": {
            "_dom_classes": [],
            "_model_module": "@jupyter-widgets/controls",
            "_model_module_version": "1.5.0",
            "_model_name": "HTMLModel",
            "_view_count": null,
            "_view_module": "@jupyter-widgets/controls",
            "_view_module_version": "1.5.0",
            "_view_name": "HTMLView",
            "description": "",
            "description_tooltip": null,
            "layout": "IPY_MODEL_0ba2eb342f9d4d96b210a41f6e549f3c",
            "placeholder": "​",
            "style": "IPY_MODEL_6ad120004dd1457cbfcdc1a6c0722ffd",
            "value": " 5120/? [00:00&lt;00:00, 117943.71it/s]"
          }
        },
        "febbd0885b3f48f0b550d5c43461219f": {
          "model_module": "@jupyter-widgets/base",
          "model_name": "LayoutModel",
          "model_module_version": "1.2.0",
          "state": {
            "_model_module": "@jupyter-widgets/base",
            "_model_module_version": "1.2.0",
            "_model_name": "LayoutModel",
            "_view_count": null,
            "_view_module": "@jupyter-widgets/base",
            "_view_module_version": "1.2.0",
            "_view_name": "LayoutView",
            "align_content": null,
            "align_items": null,
            "align_self": null,
            "border": null,
            "bottom": null,
            "display": null,
            "flex": null,
            "flex_flow": null,
            "grid_area": null,
            "grid_auto_columns": null,
            "grid_auto_flow": null,
            "grid_auto_rows": null,
            "grid_column": null,
            "grid_gap": null,
            "grid_row": null,
            "grid_template_areas": null,
            "grid_template_columns": null,
            "grid_template_rows": null,
            "height": null,
            "justify_content": null,
            "justify_items": null,
            "left": null,
            "margin": null,
            "max_height": null,
            "max_width": null,
            "min_height": null,
            "min_width": null,
            "object_fit": null,
            "object_position": null,
            "order": null,
            "overflow": null,
            "overflow_x": null,
            "overflow_y": null,
            "padding": null,
            "right": null,
            "top": null,
            "visibility": null,
            "width": null
          }
        },
        "c360737da8c74390a89824d301ca4101": {
          "model_module": "@jupyter-widgets/base",
          "model_name": "LayoutModel",
          "model_module_version": "1.2.0",
          "state": {
            "_model_module": "@jupyter-widgets/base",
            "_model_module_version": "1.2.0",
            "_model_name": "LayoutModel",
            "_view_count": null,
            "_view_module": "@jupyter-widgets/base",
            "_view_module_version": "1.2.0",
            "_view_name": "LayoutView",
            "align_content": null,
            "align_items": null,
            "align_self": null,
            "border": null,
            "bottom": null,
            "display": null,
            "flex": null,
            "flex_flow": null,
            "grid_area": null,
            "grid_auto_columns": null,
            "grid_auto_flow": null,
            "grid_auto_rows": null,
            "grid_column": null,
            "grid_gap": null,
            "grid_row": null,
            "grid_template_areas": null,
            "grid_template_columns": null,
            "grid_template_rows": null,
            "height": null,
            "justify_content": null,
            "justify_items": null,
            "left": null,
            "margin": null,
            "max_height": null,
            "max_width": null,
            "min_height": null,
            "min_width": null,
            "object_fit": null,
            "object_position": null,
            "order": null,
            "overflow": null,
            "overflow_x": null,
            "overflow_y": null,
            "padding": null,
            "right": null,
            "top": null,
            "visibility": null,
            "width": null
          }
        },
        "5db43e0400c64d1c8e3b9dc5d5cf065f": {
          "model_module": "@jupyter-widgets/controls",
          "model_name": "DescriptionStyleModel",
          "model_module_version": "1.5.0",
          "state": {
            "_model_module": "@jupyter-widgets/controls",
            "_model_module_version": "1.5.0",
            "_model_name": "DescriptionStyleModel",
            "_view_count": null,
            "_view_module": "@jupyter-widgets/base",
            "_view_module_version": "1.2.0",
            "_view_name": "StyleView",
            "description_width": ""
          }
        },
        "d29a91e71bc34cca8b8d1d5b1f43eb65": {
          "model_module": "@jupyter-widgets/base",
          "model_name": "LayoutModel",
          "model_module_version": "1.2.0",
          "state": {
            "_model_module": "@jupyter-widgets/base",
            "_model_module_version": "1.2.0",
            "_model_name": "LayoutModel",
            "_view_count": null,
            "_view_module": "@jupyter-widgets/base",
            "_view_module_version": "1.2.0",
            "_view_name": "LayoutView",
            "align_content": null,
            "align_items": null,
            "align_self": null,
            "border": null,
            "bottom": null,
            "display": null,
            "flex": null,
            "flex_flow": null,
            "grid_area": null,
            "grid_auto_columns": null,
            "grid_auto_flow": null,
            "grid_auto_rows": null,
            "grid_column": null,
            "grid_gap": null,
            "grid_row": null,
            "grid_template_areas": null,
            "grid_template_columns": null,
            "grid_template_rows": null,
            "height": null,
            "justify_content": null,
            "justify_items": null,
            "left": null,
            "margin": null,
            "max_height": null,
            "max_width": null,
            "min_height": null,
            "min_width": null,
            "object_fit": null,
            "object_position": null,
            "order": null,
            "overflow": null,
            "overflow_x": null,
            "overflow_y": null,
            "padding": null,
            "right": null,
            "top": null,
            "visibility": null,
            "width": null
          }
        },
        "6a42cd1e7d3d472b97a62823e0418a54": {
          "model_module": "@jupyter-widgets/controls",
          "model_name": "ProgressStyleModel",
          "model_module_version": "1.5.0",
          "state": {
            "_model_module": "@jupyter-widgets/controls",
            "_model_module_version": "1.5.0",
            "_model_name": "ProgressStyleModel",
            "_view_count": null,
            "_view_module": "@jupyter-widgets/base",
            "_view_module_version": "1.2.0",
            "_view_name": "StyleView",
            "bar_color": null,
            "description_width": ""
          }
        },
        "0ba2eb342f9d4d96b210a41f6e549f3c": {
          "model_module": "@jupyter-widgets/base",
          "model_name": "LayoutModel",
          "model_module_version": "1.2.0",
          "state": {
            "_model_module": "@jupyter-widgets/base",
            "_model_module_version": "1.2.0",
            "_model_name": "LayoutModel",
            "_view_count": null,
            "_view_module": "@jupyter-widgets/base",
            "_view_module_version": "1.2.0",
            "_view_name": "LayoutView",
            "align_content": null,
            "align_items": null,
            "align_self": null,
            "border": null,
            "bottom": null,
            "display": null,
            "flex": null,
            "flex_flow": null,
            "grid_area": null,
            "grid_auto_columns": null,
            "grid_auto_flow": null,
            "grid_auto_rows": null,
            "grid_column": null,
            "grid_gap": null,
            "grid_row": null,
            "grid_template_areas": null,
            "grid_template_columns": null,
            "grid_template_rows": null,
            "height": null,
            "justify_content": null,
            "justify_items": null,
            "left": null,
            "margin": null,
            "max_height": null,
            "max_width": null,
            "min_height": null,
            "min_width": null,
            "object_fit": null,
            "object_position": null,
            "order": null,
            "overflow": null,
            "overflow_x": null,
            "overflow_y": null,
            "padding": null,
            "right": null,
            "top": null,
            "visibility": null,
            "width": null
          }
        },
        "6ad120004dd1457cbfcdc1a6c0722ffd": {
          "model_module": "@jupyter-widgets/controls",
          "model_name": "DescriptionStyleModel",
          "model_module_version": "1.5.0",
          "state": {
            "_model_module": "@jupyter-widgets/controls",
            "_model_module_version": "1.5.0",
            "_model_name": "DescriptionStyleModel",
            "_view_count": null,
            "_view_module": "@jupyter-widgets/base",
            "_view_module_version": "1.2.0",
            "_view_name": "StyleView",
            "description_width": ""
          }
        }
      }
    }
  },
  "cells": [
    {
      "cell_type": "markdown",
      "source": [
        "# Панкратов Виктор, задание 6\n",
        "## Визуализировать Lottery Ticket : построить график наилучшего качество от количества сэмплов подсети на выборке MNIST\n",
        "### Lottery Ticket -- алгоритм, в общем виде состоящий из следующих шагов\n",
        "1)Инициализация параметров и маски(на данный момент состоящей из единиц) сети \n",
        "\n",
        "2)Оптимизировать парамтеры сети на train-е\n",
        "\n",
        "3)Использовать критерий, чтобы сопоставить некоторым элементам маски нули\n",
        "\n",
        "4)Провести некоторые операции с параметрами, соответствующими маске 1\n",
        "\n",
        "5)Провести некоторые операции с параметрами, соответствующими маске 0\n",
        "\n",
        "6)Повторить, начиная с шага 1) по необходимости \n",
        "\n",
        "В статье, привязанной к заданию (https://arxiv.org/pdf/1905.01067.pdf) этот алгоритм рассматривался как оптимизация маски. Задача - путём такого алгоритма добиться высокого качества(буду оценивать его в виде accuracy на test) в сети без какой-либо тренировки, но с изначально установленной маской. Утверждается(в статье), что можно получить accuracy примерно 80%. "
      ],
      "metadata": {
        "id": "uVOZFHtkl35-"
      }
    },
    {
      "cell_type": "code",
      "execution_count": 1,
      "metadata": {
        "id": "8ZK-7jx0iBQ9"
      },
      "outputs": [],
      "source": [
        "import torch\n",
        "import torchvision \n",
        "import torch.nn as nn\n",
        "import torch.nn.functional as F\n",
        "import torch.optim as optim\n",
        "import numpy as np\n",
        "import matplotlib.pyplot as plt\n",
        "from tqdm.notebook import trange, tqdm \n",
        "import torch.utils.data\n"
      ]
    },
    {
      "cell_type": "code",
      "source": [
        "batch_size = 64\n",
        "train_loader = torch.utils.data.DataLoader(\n",
        "  torchvision.datasets.MNIST('/files/', train=True, download=True,transform=torchvision.transforms.ToTensor()),batch_size=batch_size, shuffle=True)\n",
        "test_loader = torch.utils.data.DataLoader(\n",
        "  torchvision.datasets.MNIST('/files/', train=False, download=True,transform=torchvision.transforms.ToTensor()),batch_size=batch_size, shuffle=True)\n",
        "\n"
      ],
      "metadata": {
        "id": "eO9K1aL3mWTa",
        "colab": {
          "base_uri": "https://localhost:8080/",
          "height": 422,
          "referenced_widgets": [
            "e58eb51de544468d9261cb553bfcffd0",
            "077ca01d934c4cbbacb7ea24c07b3ffc",
            "ff99c4432f0c4972a16e203430d7a897",
            "4adf9cbde2e64c7d9e80f51a24bebe29",
            "aab31a42c35344989d9504ae852eafbb",
            "a7c837a9f16942a2b1a66aa3b345ee56",
            "d87d9bdff80a49279f47db52e91f7ebf",
            "26fcc762bc954dff8cd4d2ec9fd775e8",
            "a63ba05f49664949902bb933e5541121",
            "347623f46aaa4b55a0a0a4f38cae0f4f",
            "b3e76ebe50624ae3b17348451f443ab5",
            "177f2d72be1d41388c53ab18ef477579",
            "a0d976d538a94b07a4da0b378cb1543f",
            "9376780e01724297bbf313dcc24b48ce",
            "8e946cde582146d1a653f61e2b3a5312",
            "bcbce5a8973341d8952881372a0800d8",
            "3922a62b21e743a092219eca02e68edd",
            "94b4700d0d554dd4b286d4d0aab8956c",
            "d08cc14bb23e4fd9877385cd2b4e5cec",
            "154acbac8b574de599d51e224d354e59",
            "206afca568d44892b9c7729852594c65",
            "5a5b8e88f26c4cabb9f42a01373812c3",
            "2a084165693544d9b2c60e508a8665d0",
            "276456eb8ae0450f83459a303c04e073",
            "376b1b9da9914eeeabdb50baa9e5c0ef",
            "dddc7164dd4346dda5ef9e4944b852c7",
            "f3bff9d7ce514ce6bc4b6ff4c1a58f49",
            "ac9fc397615b45d6925ebe5c81cb6d79",
            "53aee6fec5a74326a32065ae5188b717",
            "4cfbedb9c7964726af63cfdfc479c550",
            "e7a639cd2b5f4bb6bf353e9c035e90c9",
            "831e32966a0e4dc5ac1be87d1a9c7d89",
            "a4c6e9f2d09d4baabf00eaf5fa758ed8",
            "29dbad70d61d4c9a86dd3c2dcae40bd7",
            "67c753880b244810992696acfd25012e",
            "81ab6bd8e1154ad9a809bd0ad199c9b1",
            "93ce1896b183419193c2238239a98c58",
            "febbd0885b3f48f0b550d5c43461219f",
            "c360737da8c74390a89824d301ca4101",
            "5db43e0400c64d1c8e3b9dc5d5cf065f",
            "d29a91e71bc34cca8b8d1d5b1f43eb65",
            "6a42cd1e7d3d472b97a62823e0418a54",
            "0ba2eb342f9d4d96b210a41f6e549f3c",
            "6ad120004dd1457cbfcdc1a6c0722ffd"
          ]
        },
        "outputId": "62b0a65e-ce32-4146-dfaf-7fc909bc1201"
      },
      "execution_count": 2,
      "outputs": [
        {
          "output_type": "stream",
          "name": "stdout",
          "text": [
            "Downloading http://yann.lecun.com/exdb/mnist/train-images-idx3-ubyte.gz\n",
            "Downloading http://yann.lecun.com/exdb/mnist/train-images-idx3-ubyte.gz to /files/MNIST/raw/train-images-idx3-ubyte.gz\n"
          ]
        },
        {
          "output_type": "display_data",
          "data": {
            "text/plain": [
              "  0%|          | 0/9912422 [00:00<?, ?it/s]"
            ],
            "application/vnd.jupyter.widget-view+json": {
              "version_major": 2,
              "version_minor": 0,
              "model_id": "e58eb51de544468d9261cb553bfcffd0"
            }
          },
          "metadata": {}
        },
        {
          "output_type": "stream",
          "name": "stdout",
          "text": [
            "Extracting /files/MNIST/raw/train-images-idx3-ubyte.gz to /files/MNIST/raw\n",
            "\n",
            "Downloading http://yann.lecun.com/exdb/mnist/train-labels-idx1-ubyte.gz\n",
            "Downloading http://yann.lecun.com/exdb/mnist/train-labels-idx1-ubyte.gz to /files/MNIST/raw/train-labels-idx1-ubyte.gz\n"
          ]
        },
        {
          "output_type": "display_data",
          "data": {
            "text/plain": [
              "  0%|          | 0/28881 [00:00<?, ?it/s]"
            ],
            "application/vnd.jupyter.widget-view+json": {
              "version_major": 2,
              "version_minor": 0,
              "model_id": "177f2d72be1d41388c53ab18ef477579"
            }
          },
          "metadata": {}
        },
        {
          "output_type": "stream",
          "name": "stdout",
          "text": [
            "Extracting /files/MNIST/raw/train-labels-idx1-ubyte.gz to /files/MNIST/raw\n",
            "\n",
            "Downloading http://yann.lecun.com/exdb/mnist/t10k-images-idx3-ubyte.gz\n",
            "Downloading http://yann.lecun.com/exdb/mnist/t10k-images-idx3-ubyte.gz to /files/MNIST/raw/t10k-images-idx3-ubyte.gz\n"
          ]
        },
        {
          "output_type": "display_data",
          "data": {
            "text/plain": [
              "  0%|          | 0/1648877 [00:00<?, ?it/s]"
            ],
            "application/vnd.jupyter.widget-view+json": {
              "version_major": 2,
              "version_minor": 0,
              "model_id": "2a084165693544d9b2c60e508a8665d0"
            }
          },
          "metadata": {}
        },
        {
          "output_type": "stream",
          "name": "stdout",
          "text": [
            "Extracting /files/MNIST/raw/t10k-images-idx3-ubyte.gz to /files/MNIST/raw\n",
            "\n",
            "Downloading http://yann.lecun.com/exdb/mnist/t10k-labels-idx1-ubyte.gz\n",
            "Downloading http://yann.lecun.com/exdb/mnist/t10k-labels-idx1-ubyte.gz to /files/MNIST/raw/t10k-labels-idx1-ubyte.gz\n"
          ]
        },
        {
          "output_type": "display_data",
          "data": {
            "text/plain": [
              "  0%|          | 0/4542 [00:00<?, ?it/s]"
            ],
            "application/vnd.jupyter.widget-view+json": {
              "version_major": 2,
              "version_minor": 0,
              "model_id": "29dbad70d61d4c9a86dd3c2dcae40bd7"
            }
          },
          "metadata": {}
        },
        {
          "output_type": "stream",
          "name": "stdout",
          "text": [
            "Extracting /files/MNIST/raw/t10k-labels-idx1-ubyte.gz to /files/MNIST/raw\n",
            "\n"
          ]
        }
      ]
    },
    {
      "cell_type": "code",
      "source": [
        "class MaskedLinear(nn.Linear):#Обычный линейный слой с маской. Скопирован из дз с другого курса с некоторыми небольшими изменениями.\n",
        "    def __init__(self, in_features, out_features, bias=True):\n",
        "        super().__init__(in_features, out_features, bias)\n",
        "        self.register_buffer('mask', torch.ones(out_features, in_features))\n",
        "\n",
        "    def set_mask(self, mask):\n",
        "        self.mask.data.copy_(torch.from_numpy(mask))\n",
        "\n",
        "    def forward(self, input):\n",
        "        return F.linear(input, self.mask * self.weight, self.bias)"
      ],
      "metadata": {
        "id": "WJ-88XE4W1vI"
      },
      "execution_count": 3,
      "outputs": []
    },
    {
      "cell_type": "code",
      "source": [
        "#Архитектура выбрана случайно и не подбиралась. Как мы увидим позже, не было необходимости. \n",
        "class MnistNet(nn.Module):\n",
        "    def __init__(self):\n",
        "        super(MnistNet, self).__init__()\n",
        "        self.fc0 = MaskedLinear(28*28,320)\n",
        "        self.t1 = nn.Tanh() \n",
        "        self.fc1 = MaskedLinear(320,80) \n",
        "        self.t2 = nn.Tanh()  \n",
        "        self.fc2 = MaskedLinear(80,40)\n",
        "        self.t3 = nn.Tanh() \n",
        "        self.fc3 = MaskedLinear(40,10)\n",
        "    def setmasks(self,*masks):\n",
        "    #Устанавливает маски для линейных слоев сети\n",
        "        i= 0\n",
        "        for layer in self.modules():\n",
        "            if(isinstance(layer, MaskedLinear)):\n",
        "                layer.set_mask(masks[i])\n",
        "                i+=1\n",
        "    def getmasks(self):\n",
        "    #Возвращает маски для линейных слоев сети\n",
        "        masks = []\n",
        "        for layer in self.modules():\n",
        "            if(isinstance(layer, MaskedLinear)):\n",
        "                  masks.append(layer.mask.numpy())\n",
        "        return masks\n",
        "\n",
        "    def forward(self, x):\n",
        "        x = x.view(-1,28*28)\n",
        "        x = self.fc0(x)\n",
        "        x = self.t1(x)\n",
        "        x = self.fc1(x)\n",
        "        x = self.t2(x)\n",
        "        x = self.fc2(x)\n",
        "        x = self.t3(x)\n",
        "        x = self.fc3(x)\n",
        "        return F.log_softmax(x,dim = 0)"
      ],
      "metadata": {
        "id": "RHvOoz8qmoBw"
      },
      "execution_count": 4,
      "outputs": []
    },
    {
      "cell_type": "code",
      "source": [
        "def train(net,optimiser,n_epochs):\n",
        "  net.eval() #Так как в этом и состоит суть задания, в начале оценивается качество без тренировки\n",
        "  correct = 0\n",
        "  test_loss = 0\n",
        "  with torch.no_grad():\n",
        "      for batch_idx, (data, target) in enumerate(test_loader):\n",
        "        output = net(data)\n",
        "        test_loss += F.nll_loss(output, target).item()\n",
        "        pred = output.data.max(1, keepdim=True)[1]\n",
        "        correct += pred.eq(target.data.view_as(pred)).sum()\n",
        "      print('Test Accuracy: {}/{} : {:.0f}%'.format(correct, len(test_loader.dataset),100. * correct / len(test_loader.dataset)))\n",
        "  initial_acc = 100. * correct / len(test_loader.dataset)\n",
        "  for epoch in range(n_epochs):#Для выбранной архитектуры хватило 1 эпохи и дальше этот параметр не подбирается\n",
        "    net.train()\n",
        "    for batch_idx, (data, target) in enumerate(train_loader):\n",
        "      optimiser.zero_grad()\n",
        "      output = net(data)\n",
        "      loss = F.nll_loss(output, target)\n",
        "      loss.backward()\n",
        "      optimiser.step()\n",
        "    net.eval()\n",
        "    correct = 0\n",
        "    test_loss = 0\n",
        "    with torch.no_grad():#На всякий случай выводим и результаты после тренировки. Для задания в этом нет смысла\n",
        "      for batch_idx, (data, target) in enumerate(test_loader):\n",
        "        output = net(data)\n",
        "        test_loss += F.nll_loss(output, target).item()\n",
        "        pred = output.data.max(1, keepdim=True)[1]\n",
        "        correct += pred.eq(target.data.view_as(pred)).sum()\n",
        "      print('Test Accuracy: {}/{} : {:.0f}%'.format(correct, len(test_loader.dataset),100. * correct / len(test_loader.dataset)))\n",
        "    return(initial_acc)\n",
        "def find_nonzero_weight(num_iter,p,weights): #находим границу для весов, которые надо обнулить...\n",
        "  percent = p**(num_iter)\n",
        "  q = np.quantile(weights,1 - percent) \n",
        "  return q\n",
        "\n",
        "def changemask(net,num_iter,p,oldmasks):#..и обнуляем соответствующие веса\n",
        "  masks = []\n",
        "  i = 0\n",
        "  for layer in net.modules():\n",
        "    if isinstance(layer, MaskedLinear):\n",
        "      weight = layer.weight.detach().numpy() * oldmasks[i]\n",
        "      i += 1\n",
        "      masks.append(weight**2 > find_nonzero_weight(num_iter,p,weight**2))\n",
        "  return(masks)\n",
        "def get_ans_accuracies(p=0.9):\n",
        "  max_iter = 10 #Зафиксировано для демонстрации ниже \n",
        "  net = MnistNet()\n",
        "  torch.save(net.state_dict(), '/state.st') #Сеть генерируется один раз и дальше тренируется с начального состояния. \n",
        "  #Можно было каждый раз случайно инициализировать, если так требуется, можно удалить это и load ниже. Не пробовал\n",
        "  masks = net.getmasks()\n",
        "  ans = []\n",
        "  for i in range(max_iter):\n",
        "    print(np.sum(masks[0])) #Выводилось для понимания, что параметры действительно обнуляются и на первом шаге обнулился ровно 1\n",
        "    #Последнее следует из кода выше и необходимо для проверки корректности -- качество на первых двух итерациях не должно сильно меняться\n",
        "    net = MnistNet()\n",
        "    net.load_state_dict(torch.load( '/state.st'))\n",
        "    net.setmasks(*masks)\n",
        "    optimiser = torch.optim.Adam(net.parameters())\n",
        "    ans.append(train(net,optimiser,1))\n",
        "    masks = changemask(net,i,p,masks)\n",
        "  return ans"
      ],
      "metadata": {
        "id": "o0sxgbJFrwLs"
      },
      "execution_count": 19,
      "outputs": []
    },
    {
      "cell_type": "code",
      "source": [
        "ans09 = get_ans_accuracies()"
      ],
      "metadata": {
        "colab": {
          "base_uri": "https://localhost:8080/"
        },
        "id": "t79-TI1LGTz6",
        "outputId": "8ede9a8a-1207-40d2-f717-98eea5014c17"
      },
      "execution_count": 20,
      "outputs": [
        {
          "output_type": "stream",
          "name": "stdout",
          "text": [
            "250880.0\n",
            "Test Accuracy: 726/10000 : 7%\n",
            "Test Accuracy: 9477/10000 : 95%\n",
            "250879\n",
            "Test Accuracy: 721/10000 : 7%\n",
            "Test Accuracy: 9527/10000 : 95%\n",
            "225792\n",
            "Test Accuracy: 5791/10000 : 58%\n",
            "Test Accuracy: 9527/10000 : 95%\n",
            "203212\n",
            "Test Accuracy: 7255/10000 : 73%\n",
            "Test Accuracy: 9532/10000 : 95%\n",
            "182891\n",
            "Test Accuracy: 7622/10000 : 76%\n",
            "Test Accuracy: 9528/10000 : 95%\n",
            "164602\n",
            "Test Accuracy: 7919/10000 : 79%\n",
            "Test Accuracy: 9555/10000 : 96%\n",
            "148142\n",
            "Test Accuracy: 7876/10000 : 79%\n",
            "Test Accuracy: 9570/10000 : 96%\n",
            "133328\n",
            "Test Accuracy: 7917/10000 : 79%\n",
            "Test Accuracy: 9595/10000 : 96%\n",
            "119995\n",
            "Test Accuracy: 8180/10000 : 82%\n",
            "Test Accuracy: 9587/10000 : 96%\n",
            "107996\n",
            "Test Accuracy: 7980/10000 : 80%\n",
            "Test Accuracy: 9571/10000 : 96%\n"
          ]
        }
      ]
    },
    {
      "cell_type": "code",
      "source": [
        "ans095 = get_ans_accuracies(0.95)"
      ],
      "metadata": {
        "colab": {
          "base_uri": "https://localhost:8080/"
        },
        "id": "WikbiHVdi32l",
        "outputId": "979d47c0-6e37-4475-cfd3-c9616f2737be"
      },
      "execution_count": 23,
      "outputs": [
        {
          "output_type": "stream",
          "name": "stdout",
          "text": [
            "250880.0\n",
            "Test Accuracy: 1964/10000 : 20%\n",
            "Test Accuracy: 9518/10000 : 95%\n",
            "250879\n",
            "Test Accuracy: 1914/10000 : 19%\n",
            "Test Accuracy: 9523/10000 : 95%\n",
            "238336\n",
            "Test Accuracy: 4322/10000 : 43%\n",
            "Test Accuracy: 9514/10000 : 95%\n",
            "226419\n",
            "Test Accuracy: 6131/10000 : 61%\n",
            "Test Accuracy: 9516/10000 : 95%\n",
            "215098\n",
            "Test Accuracy: 7227/10000 : 72%\n",
            "Test Accuracy: 9539/10000 : 95%\n",
            "204343\n",
            "Test Accuracy: 7520/10000 : 75%\n",
            "Test Accuracy: 9551/10000 : 96%\n",
            "194126\n",
            "Test Accuracy: 7733/10000 : 77%\n",
            "Test Accuracy: 9516/10000 : 95%\n",
            "184420\n",
            "Test Accuracy: 7898/10000 : 79%\n",
            "Test Accuracy: 9545/10000 : 95%\n",
            "175199\n",
            "Test Accuracy: 7998/10000 : 80%\n",
            "Test Accuracy: 9575/10000 : 96%\n",
            "166439\n",
            "Test Accuracy: 7967/10000 : 80%\n",
            "Test Accuracy: 9549/10000 : 95%\n"
          ]
        }
      ]
    },
    {
      "cell_type": "code",
      "source": [
        "ans08 = get_ans_accuracies(0.8)"
      ],
      "metadata": {
        "colab": {
          "base_uri": "https://localhost:8080/"
        },
        "id": "A86h0gZnkn2D",
        "outputId": "4171bfbf-6a3c-4bda-afe5-7c8b8737c2d4"
      },
      "execution_count": 25,
      "outputs": [
        {
          "output_type": "stream",
          "name": "stdout",
          "text": [
            "250880.0\n",
            "Test Accuracy: 999/10000 : 10%\n",
            "Test Accuracy: 9460/10000 : 95%\n",
            "250879\n",
            "Test Accuracy: 1022/10000 : 10%\n",
            "Test Accuracy: 9524/10000 : 95%\n",
            "200704\n",
            "Test Accuracy: 7147/10000 : 71%\n",
            "Test Accuracy: 9554/10000 : 96%\n",
            "160563\n",
            "Test Accuracy: 8018/10000 : 80%\n",
            "Test Accuracy: 9565/10000 : 96%\n",
            "128451\n",
            "Test Accuracy: 8252/10000 : 83%\n",
            "Test Accuracy: 9571/10000 : 96%\n",
            "102761\n",
            "Test Accuracy: 8093/10000 : 81%\n",
            "Test Accuracy: 9567/10000 : 96%\n",
            "82209\n",
            "Test Accuracy: 7613/10000 : 76%\n",
            "Test Accuracy: 9607/10000 : 96%\n",
            "65767\n",
            "Test Accuracy: 7505/10000 : 75%\n",
            "Test Accuracy: 9608/10000 : 96%\n",
            "52614\n",
            "Test Accuracy: 7210/10000 : 72%\n",
            "Test Accuracy: 9592/10000 : 96%\n",
            "42091\n",
            "Test Accuracy: 7574/10000 : 76%\n",
            "Test Accuracy: 9575/10000 : 96%\n"
          ]
        }
      ]
    },
    {
      "cell_type": "code",
      "source": [
        "ans05 = get_ans_accuracies(0.5)"
      ],
      "metadata": {
        "colab": {
          "base_uri": "https://localhost:8080/"
        },
        "id": "RirgEIUvkr0y",
        "outputId": "200663b9-691e-453f-8d4c-2c355a214923"
      },
      "execution_count": 26,
      "outputs": [
        {
          "output_type": "stream",
          "name": "stdout",
          "text": [
            "250880.0\n",
            "Test Accuracy: 793/10000 : 8%\n",
            "Test Accuracy: 9495/10000 : 95%\n",
            "250879\n",
            "Test Accuracy: 800/10000 : 8%\n",
            "Test Accuracy: 9457/10000 : 95%\n",
            "125440\n",
            "Test Accuracy: 7683/10000 : 77%\n",
            "Test Accuracy: 9569/10000 : 96%\n",
            "62720\n",
            "Test Accuracy: 6999/10000 : 70%\n",
            "Test Accuracy: 9561/10000 : 96%\n",
            "31360\n",
            "Test Accuracy: 5618/10000 : 56%\n",
            "Test Accuracy: 9472/10000 : 95%\n",
            "15680\n",
            "Test Accuracy: 5060/10000 : 51%\n",
            "Test Accuracy: 9323/10000 : 93%\n",
            "7840\n",
            "Test Accuracy: 4932/10000 : 49%\n",
            "Test Accuracy: 8236/10000 : 82%\n",
            "3920\n",
            "Test Accuracy: 4452/10000 : 45%\n",
            "Test Accuracy: 6511/10000 : 65%\n",
            "1960\n",
            "Test Accuracy: 3577/10000 : 36%\n",
            "Test Accuracy: 4709/10000 : 47%\n",
            "980\n",
            "Test Accuracy: 2424/10000 : 24%\n",
            "Test Accuracy: 2902/10000 : 29%\n"
          ]
        }
      ]
    },
    {
      "cell_type": "code",
      "source": [
        "ans07 = get_ans_accuracies(0.5)"
      ],
      "metadata": {
        "colab": {
          "base_uri": "https://localhost:8080/"
        },
        "id": "VQpoNmitkuy7",
        "outputId": "b8eb1ad4-3740-41d5-db21-bc861314169e"
      },
      "execution_count": 27,
      "outputs": [
        {
          "output_type": "stream",
          "name": "stdout",
          "text": [
            "250880.0\n",
            "Test Accuracy: 783/10000 : 8%\n",
            "Test Accuracy: 9510/10000 : 95%\n",
            "250879\n",
            "Test Accuracy: 766/10000 : 8%\n",
            "Test Accuracy: 9528/10000 : 95%\n",
            "125440\n",
            "Test Accuracy: 7697/10000 : 77%\n",
            "Test Accuracy: 9537/10000 : 95%\n",
            "62720\n",
            "Test Accuracy: 7518/10000 : 75%\n",
            "Test Accuracy: 9580/10000 : 96%\n",
            "31360\n",
            "Test Accuracy: 6374/10000 : 64%\n",
            "Test Accuracy: 9492/10000 : 95%\n",
            "15680\n",
            "Test Accuracy: 5421/10000 : 54%\n",
            "Test Accuracy: 9306/10000 : 93%\n",
            "7840\n",
            "Test Accuracy: 5147/10000 : 51%\n",
            "Test Accuracy: 7379/10000 : 74%\n",
            "3920\n",
            "Test Accuracy: 3954/10000 : 40%\n",
            "Test Accuracy: 5626/10000 : 56%\n",
            "1960\n",
            "Test Accuracy: 3305/10000 : 33%\n",
            "Test Accuracy: 4698/10000 : 47%\n",
            "980\n",
            "Test Accuracy: 1933/10000 : 19%\n",
            "Test Accuracy: 2712/10000 : 27%\n"
          ]
        }
      ]
    },
    {
      "cell_type": "code",
      "source": [
        "plt.plot(np.arange(0,10,1),ans095)\n",
        "plt.xlabel(\"number of training iterations\")\n",
        "plt.ylabel(\"test accuracy,%\")\n",
        "plt.title(\"Lottery ticket model accuracy,p = 0.95\")"
      ],
      "metadata": {
        "id": "MZTtwVgtp8Wj",
        "colab": {
          "base_uri": "https://localhost:8080/",
          "height": 312
        },
        "outputId": "3da1e78f-3440-439f-e1fc-e667a5684b13"
      },
      "execution_count": 24,
      "outputs": [
        {
          "output_type": "execute_result",
          "data": {
            "text/plain": [
              "Text(0.5, 1.0, 'Lottery ticket model accuracy,p = 0.95')"
            ]
          },
          "metadata": {},
          "execution_count": 24
        },
        {
          "output_type": "display_data",
          "data": {
            "text/plain": [
              "<Figure size 432x288 with 1 Axes>"
            ],
            "image/png": "[encoded data removed]"
          },
          "metadata": {
            "needs_background": "light"
          }
        }
      ]
    },
    {
      "cell_type": "code",
      "source": [
        "plt.plot(np.arange(0,10,1),ans09)\n",
        "plt.xlabel(\"number of training iterations\")\n",
        "plt.ylabel(\"test accuracy,%\")\n",
        "plt.title(\"Lottery ticket model accuracy,p = 0.9\")"
      ],
      "metadata": {
        "colab": {
          "base_uri": "https://localhost:8080/",
          "height": 312
        },
        "id": "ovQ7KDQdozWc",
        "outputId": "5979ccef-db61-4626-8053-6894006a28b3"
      },
      "execution_count": 22,
      "outputs": [
        {
          "output_type": "execute_result",
          "data": {
            "text/plain": [
              "Text(0.5, 1.0, 'Lottery ticket model accuracy,p = 0.9')"
            ]
          },
          "metadata": {},
          "execution_count": 22
        },
        {
          "output_type": "display_data",
          "data": {
            "text/plain": [
              "<Figure size 432x288 with 1 Axes>"
            ],
            "image/png": "[encoded data removed]"
          },
          "metadata": {
            "needs_background": "light"
          }
        }
      ]
    },
    {
      "cell_type": "code",
      "source": [
        "plt.plot(np.arange(0,10,1),ans08)\n",
        "plt.xlabel(\"number of training iterations\")\n",
        "plt.ylabel(\"test accuracy,%\")\n",
        "plt.title(\"Lottery ticket model accuracy,p = 0.8\")"
      ],
      "metadata": {
        "colab": {
          "base_uri": "https://localhost:8080/",
          "height": 312
        },
        "id": "bH70FU0akyXi",
        "outputId": "2ecf7cbe-77c6-41b9-a319-e86bd500c55e"
      },
      "execution_count": 28,
      "outputs": [
        {
          "output_type": "execute_result",
          "data": {
            "text/plain": [
              "Text(0.5, 1.0, 'Lottery ticket model accuracy,p = 0.8')"
            ]
          },
          "metadata": {},
          "execution_count": 28
        },
        {
          "output_type": "display_data",
          "data": {
            "text/plain": [
              "<Figure size 432x288 with 1 Axes>"
            ],
            "image/png": "[encoded data removed]"
          },
          "metadata": {
            "needs_background": "light"
          }
        }
      ]
    },
    {
      "cell_type": "code",
      "source": [
        "plt.plot(np.arange(0,10,1),ans07)\n",
        "plt.xlabel(\"number of training iterations\")\n",
        "plt.ylabel(\"test accuracy,%\")\n",
        "plt.title(\"Lottery ticket model accuracy,p = 0.7\")"
      ],
      "metadata": {
        "colab": {
          "base_uri": "https://localhost:8080/",
          "height": 312
        },
        "id": "SygYKAbKk0rq",
        "outputId": "5e8ad932-5da7-4d07-c30c-5c528bea4e31"
      },
      "execution_count": 29,
      "outputs": [
        {
          "output_type": "execute_result",
          "data": {
            "text/plain": [
              "Text(0.5, 1.0, 'Lottery ticket model accuracy,p = 0.7')"
            ]
          },
          "metadata": {},
          "execution_count": 29
        },
        {
          "output_type": "display_data",
          "data": {
            "text/plain": [
              "<Figure size 432x288 with 1 Axes>"
            ],
            "image/png": "[encoded data removed]"
          },
          "metadata": {
            "needs_background": "light"
          }
        }
      ]
    },
    {
      "cell_type": "code",
      "source": [
        "plt.plot(np.arange(0,10,1),ans05)\n",
        "plt.xlabel(\"number of training iterations\")\n",
        "plt.ylabel(\"test accuracy,%\")\n",
        "plt.title(\"Lottery ticket model accuracy,p = 0.5\")"
      ],
      "metadata": {
        "colab": {
          "base_uri": "https://localhost:8080/",
          "height": 312
        },
        "id": "FSbEoTrIk2vC",
        "outputId": "3624196a-0fab-4e1a-af32-9f6eb56582af"
      },
      "execution_count": 30,
      "outputs": [
        {
          "output_type": "execute_result",
          "data": {
            "text/plain": [
              "Text(0.5, 1.0, 'Lottery ticket model accuracy,p = 0.5')"
            ]
          },
          "metadata": {},
          "execution_count": 30
        },
        {
          "output_type": "display_data",
          "data": {
            "text/plain": [
              "<Figure size 432x288 with 1 Axes>"
            ],
            "image/png": "[encoded data removed]"
          },
          "metadata": {
            "needs_background": "light"
          }
        }
      ]
    },
    {
      "cell_type": "markdown",
      "source": [
        "# Пояснение к результатам\n",
        "Для шагов 0-1 - см комментарии к коду, фактически это один и тот же шаг.После этого мы видим, что почти везде подъем accuracy идет сразу, причем для меньших p за один шаг,для больших необходимо проводить дополнительные итерации. Однако при малых p($\\leq 0.7$) обнуляется слишком большое число параметров. В нашей сети было необходимо примерно 50000 суммарно, то есть пятая часть от исходных и когда их становилось меньше, качество начинало резко падать. Зависимость доли от архитектуры не проверялась, но accuracy 75% была достигнута на некоторых графиках при именно такой доле параметров, что согласуется с результатами статьи(~80, 80 было при меньшем числе удаленных парметров на других p)"
      ],
      "metadata": {
        "id": "sXoBvEY6q2CW"
      }
    }
  ]
}