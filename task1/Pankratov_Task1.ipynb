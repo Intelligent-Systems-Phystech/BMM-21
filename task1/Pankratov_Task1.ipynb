{
 "cells": [
  {
   "cell_type": "code",
   "execution_count": 1,
   "id": "32c809ff",
   "metadata": {},
   "outputs": [],
   "source": [
    "from ipywidgets import interact, interactive, fixed, interact_manual\n",
    "from scipy.stats import t\n",
    "from scipy.stats import norm\n",
    "from scipy.stats import beta\n",
    "from scipy.stats import cauchy\n",
    "from scipy.stats import vonmises\n",
    "from scipy.stats import gamma\n",
    "from sklearn.neighbors import KernelDensity\n",
    "from sklearn.neighbors import KNeighborsRegressor\n",
    "\n",
    "import matplotlib.pyplot as plt\n",
    "import numpy as np\n",
    "import ipywidgets as widgets\n",
    "\n",
    "%matplotlib inline\n",
    "\n",
    "\n"
   ]
  },
  {
   "cell_type": "code",
   "execution_count": 11,
   "id": "f6b447ed",
   "metadata": {},
   "outputs": [
    {
     "data": {
      "application/vnd.jupyter.widget-view+json": {
       "model_id": "00471d9632e9488cbf988d5509031b67",
       "version_major": 2,
       "version_minor": 0
      },
      "text/plain": [
       "interactive(children=(FloatSlider(value=1.0, description='alpha', min=0.05, step=0.05), FloatSlider(value=1.0,…"
      ]
     },
     "metadata": {},
     "output_type": "display_data"
    },
    {
     "data": {
      "text/plain": [
       "<function __main__.plotgamma(alpha, beta)>"
      ]
     },
     "execution_count": 11,
     "metadata": {},
     "output_type": "execute_result"
    }
   ],
   "source": [
    "def plotgamma(alpha, beta):\n",
    "    x = np.linspace(gamma.ppf(0.01, alpha, scale = 1/beta),gamma.ppf(0.99, alpha, scale = 1/beta), num = 100)\n",
    "    plt.xlabel(\"Распределение Гамма, параметры {},{} , x\".format(alpha, beta))\n",
    "    plt.ylabel(\"F(x)\")\n",
    "    plt.plot(x, gamma.pdf(x, alpha, scale = 1/beta), label = 'Гамма распределение')\n",
    "    plt.grid()\n",
    "    plt.legend()\n",
    "    \n",
    "interact(plotgamma, alpha = widgets.FloatSlider(value = 1,\n",
    "                                               min = 0.05,\n",
    "                                               max = 100,\n",
    "                                               step = 0.05) , \n",
    "                       beta  = widgets.FloatSlider(value = 1,\n",
    "                                               min = 0.05,\n",
    "                                               max = 100,\n",
    "                                               step = 0.05))"
   ]
  }
 ],
 "metadata": {
  "kernelspec": {
   "display_name": "Python 3",
   "language": "python",
   "name": "python3"
  },
  "language_info": {
   "codemirror_mode": {
    "name": "ipython",
    "version": 3
   },
   "file_extension": ".py",
   "mimetype": "text/x-python",
   "name": "python",
   "nbconvert_exporter": "python",
   "pygments_lexer": "ipython3",
   "version": "3.7.10"
  },
  "widgets": {
   "application/vnd.jupyter.widget-state+json": {
    "state": {
     "00471d9632e9488cbf988d5509031b67": {
      "model_module": "@jupyter-widgets/controls",
      "model_module_version": "1.5.0",
      "model_name": "VBoxModel",
      "state": {
       "_dom_classes": [
        "widget-interact"
       ],
       "children": [
        "IPY_MODEL_78036aaf5068433bad433d2194725b62",
        "IPY_MODEL_d2624b5414944103a3d4cbd8bc627d3e",
        "IPY_MODEL_af1b176f6eba4e58acc5260b2f933b72"
       ],
       "layout": "IPY_MODEL_d54f57642bc94f2382a836f928702c12"
      }
     },
     "04e254ac07bf4f95820cbfca28e39840": {
      "model_module": "@jupyter-widgets/base",
      "model_module_version": "1.2.0",
      "model_name": "LayoutModel",
      "state": {}
     },
     "08835949db7545a793155cbb7be9feeb": {
      "model_module": "@jupyter-widgets/controls",
      "model_module_version": "1.5.0",
      "model_name": "SliderStyleModel",
      "state": {
       "description_width": ""
      }
     },
     "09372dee8b7a4ed0ad794db88e3d2045": {
      "model_module": "@jupyter-widgets/output",
      "model_module_version": "1.0.0",
      "model_name": "OutputModel",
      "state": {
       "layout": "IPY_MODEL_5583f760697d4308ad1ab4999c1dc127",
       "outputs": [
        {
         "data": {
          "image/png": "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\n",
          "text/plain": "<Figure size 432x288 with 1 Axes>"
         },
         "metadata": {
          "needs_background": "light"
         },
         "output_type": "display_data"
        }
       ]
      }
     },
     "0a271e5533224dfa890d56b774364a17": {
      "model_module": "@jupyter-widgets/controls",
      "model_module_version": "1.5.0",
      "model_name": "FloatSliderModel",
      "state": {
       "description": "parameter",
       "layout": "IPY_MODEL_483a662993304ca9a171bd1abfaa31d3",
       "max": 1,
       "step": 0.05,
       "style": "IPY_MODEL_fa2e10ba4e6b47e0ab63d0f43cd21067",
       "value": 0.5
      }
     },
     "102eef7138f248c8b369f7d34fcbf14a": {
      "model_module": "@jupyter-widgets/controls",
      "model_module_version": "1.5.0",
      "model_name": "VBoxModel",
      "state": {
       "_dom_classes": [
        "widget-interact"
       ],
       "children": [
        "IPY_MODEL_0a271e5533224dfa890d56b774364a17",
        "IPY_MODEL_8dde67d83d684ea4bcf29d59ce9ce8c5"
       ],
       "layout": "IPY_MODEL_757d01f3d10147808b5d052cedb5912c"
      }
     },
     "1acaadf902c74094b896b80dc0721dac": {
      "model_module": "@jupyter-widgets/controls",
      "model_module_version": "1.5.0",
      "model_name": "SliderStyleModel",
      "state": {
       "description_width": ""
      }
     },
     "27e6424147f941a6969667a41cedbead": {
      "model_module": "@jupyter-widgets/controls",
      "model_module_version": "1.5.0",
      "model_name": "SliderStyleModel",
      "state": {
       "description_width": ""
      }
     },
     "2ad7e8854b694f43a17d67c097bb4a6c": {
      "model_module": "@jupyter-widgets/base",
      "model_module_version": "1.2.0",
      "model_name": "LayoutModel",
      "state": {}
     },
     "2c675294c4d048f9a9023d07c6f6cb01": {
      "model_module": "@jupyter-widgets/base",
      "model_module_version": "1.2.0",
      "model_name": "LayoutModel",
      "state": {}
     },
     "2d2936a13f34423d9e81bfb6fe9a1718": {
      "model_module": "@jupyter-widgets/controls",
      "model_module_version": "1.5.0",
      "model_name": "IntSliderModel",
      "state": {
       "description": "neighbours",
       "layout": "IPY_MODEL_95c2cb044a6a440fbb108fec066ecfec",
       "max": 40,
       "min": 1,
       "style": "IPY_MODEL_9bb095b86dbe4f86bf94510accc2402e",
       "value": 1
      }
     },
     "383b4be9338c4e069df5a67ebaa8726c": {
      "model_module": "@jupyter-widgets/controls",
      "model_module_version": "1.5.0",
      "model_name": "VBoxModel",
      "state": {
       "_dom_classes": [
        "widget-interact"
       ],
       "children": [
        "IPY_MODEL_96949da4ecad40e4bdbfa464b3294d2e",
        "IPY_MODEL_922c4228698a4f1ebedadf31c319f026"
       ],
       "layout": "IPY_MODEL_5c8f6ac931b8428b81876eb0f80d35d8"
      }
     },
     "3bbe56c1612e412bb9b66bbff9754c1c": {
      "model_module": "@jupyter-widgets/base",
      "model_module_version": "1.2.0",
      "model_name": "LayoutModel",
      "state": {}
     },
     "3c2c5fa23d6542c0a26e1f1d5a6cc7e4": {
      "model_module": "@jupyter-widgets/output",
      "model_module_version": "1.0.0",
      "model_name": "OutputModel",
      "state": {
       "layout": "IPY_MODEL_3c9fa4e0de5b4771a55fda238d3d63ac",
       "outputs": [
        {
         "data": {
          "image/png": "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\n",
          "text/plain": "<Figure size 432x288 with 1 Axes>"
         },
         "metadata": {
          "needs_background": "light"
         },
         "output_type": "display_data"
        }
       ]
      }
     },
     "3c9fa4e0de5b4771a55fda238d3d63ac": {
      "model_module": "@jupyter-widgets/base",
      "model_module_version": "1.2.0",
      "model_name": "LayoutModel",
      "state": {}
     },
     "43623df99c30430ebeab5dd661214fe5": {
      "model_module": "@jupyter-widgets/controls",
      "model_module_version": "1.5.0",
      "model_name": "SliderStyleModel",
      "state": {
       "description_width": ""
      }
     },
     "45fbcbadfa1142e1969d38b3fa29ea65": {
      "model_module": "@jupyter-widgets/base",
      "model_module_version": "1.2.0",
      "model_name": "LayoutModel",
      "state": {}
     },
     "46f5d8f53c0f422c8563aa9991929cce": {
      "model_module": "@jupyter-widgets/base",
      "model_module_version": "1.2.0",
      "model_name": "LayoutModel",
      "state": {}
     },
     "4716961b53e64e8296cce4eb0e166ffe": {
      "model_module": "@jupyter-widgets/base",
      "model_module_version": "1.2.0",
      "model_name": "LayoutModel",
      "state": {}
     },
     "483a662993304ca9a171bd1abfaa31d3": {
      "model_module": "@jupyter-widgets/base",
      "model_module_version": "1.2.0",
      "model_name": "LayoutModel",
      "state": {}
     },
     "4b4068398ac14dd3867415f07a63b9f5": {
      "model_module": "@jupyter-widgets/controls",
      "model_module_version": "1.5.0",
      "model_name": "SliderStyleModel",
      "state": {
       "description_width": ""
      }
     },
     "4bf485c06fa64854921cf10ec6361978": {
      "model_module": "@jupyter-widgets/base",
      "model_module_version": "1.2.0",
      "model_name": "LayoutModel",
      "state": {}
     },
     "4c80e5f1ba2041189565f34eb9e61b29": {
      "model_module": "@jupyter-widgets/output",
      "model_module_version": "1.0.0",
      "model_name": "OutputModel",
      "state": {
       "layout": "IPY_MODEL_4bf485c06fa64854921cf10ec6361978",
       "outputs": [
        {
         "name": "stdout",
         "output_type": "stream",
         "text": "-0.10522951649103848\n"
        },
        {
         "data": {
          "image/png": "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\n",
          "text/plain": "<Figure size 432x288 with 1 Axes>"
         },
         "metadata": {
          "needs_background": "light"
         },
         "output_type": "display_data"
        }
       ]
      }
     },
     "4cb6f231474b40748972413e074cbd7e": {
      "model_module": "@jupyter-widgets/base",
      "model_module_version": "1.2.0",
      "model_name": "LayoutModel",
      "state": {}
     },
     "5442fd924a524410ae8bf3372693c7aa": {
      "model_module": "@jupyter-widgets/controls",
      "model_module_version": "1.5.0",
      "model_name": "FloatSliderModel",
      "state": {
       "description": "a3",
       "layout": "IPY_MODEL_debba286ddc842edaa865830a82b9a9d",
       "max": 0.98,
       "min": 0.01,
       "step": 0.01,
       "style": "IPY_MODEL_08835949db7545a793155cbb7be9feeb",
       "value": 0.5
      }
     },
     "5583f760697d4308ad1ab4999c1dc127": {
      "model_module": "@jupyter-widgets/base",
      "model_module_version": "1.2.0",
      "model_name": "LayoutModel",
      "state": {}
     },
     "563b1b964a8b4dfb86289ee0defe766b": {
      "model_module": "@jupyter-widgets/controls",
      "model_module_version": "1.5.0",
      "model_name": "VBoxModel",
      "state": {
       "_dom_classes": [
        "widget-interact"
       ],
       "children": [
        "IPY_MODEL_b3d2b9b38ed842dc9d6b0b88751dc295",
        "IPY_MODEL_6691268f26f74684a5a18f34f1d255fd"
       ],
       "layout": "IPY_MODEL_90af47df715b4622a6af7356a36b0313"
      }
     },
     "58abe508a5e14bc4bd268670ac9ee53a": {
      "model_module": "@jupyter-widgets/controls",
      "model_module_version": "1.5.0",
      "model_name": "SliderStyleModel",
      "state": {
       "description_width": ""
      }
     },
     "5b1ed8a24521479fbce08605f5c6b1a3": {
      "model_module": "@jupyter-widgets/base",
      "model_module_version": "1.2.0",
      "model_name": "LayoutModel",
      "state": {}
     },
     "5b5e4baf309340e09070e95c82763a14": {
      "model_module": "@jupyter-widgets/controls",
      "model_module_version": "1.5.0",
      "model_name": "VBoxModel",
      "state": {
       "_dom_classes": [
        "widget-interact"
       ],
       "children": [
        "IPY_MODEL_9249d7cc73f540df802acff0d6043940",
        "IPY_MODEL_3c2c5fa23d6542c0a26e1f1d5a6cc7e4"
       ],
       "layout": "IPY_MODEL_46f5d8f53c0f422c8563aa9991929cce"
      }
     },
     "5c8f6ac931b8428b81876eb0f80d35d8": {
      "model_module": "@jupyter-widgets/base",
      "model_module_version": "1.2.0",
      "model_name": "LayoutModel",
      "state": {}
     },
     "61531e8ca38642f3a3ca61190335962d": {
      "model_module": "@jupyter-widgets/base",
      "model_module_version": "1.2.0",
      "model_name": "LayoutModel",
      "state": {}
     },
     "63f33abe80254c38a3611c76c8f5bb5b": {
      "model_module": "@jupyter-widgets/controls",
      "model_module_version": "1.5.0",
      "model_name": "SliderStyleModel",
      "state": {
       "description_width": ""
      }
     },
     "64e148cc41024cb9bfb0924ac560b01a": {
      "model_module": "@jupyter-widgets/base",
      "model_module_version": "1.2.0",
      "model_name": "LayoutModel",
      "state": {}
     },
     "6691268f26f74684a5a18f34f1d255fd": {
      "model_module": "@jupyter-widgets/output",
      "model_module_version": "1.0.0",
      "model_name": "OutputModel",
      "state": {
       "layout": "IPY_MODEL_8b0216a23ac94014ad71056a4adb3601",
       "outputs": [
        {
         "data": {
          "image/png": "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\n",
          "text/plain": "<Figure size 432x288 with 1 Axes>"
         },
         "metadata": {
          "needs_background": "light"
         },
         "output_type": "display_data"
        }
       ]
      }
     },
     "6eabaee47e7c4132bdb05f3ea63c7c1e": {
      "model_module": "@jupyter-widgets/output",
      "model_module_version": "1.0.0",
      "model_name": "OutputModel",
      "state": {
       "layout": "IPY_MODEL_c51d52a3a7114c8781ab5a4827f7c643",
       "outputs": [
        {
         "name": "stderr",
         "output_type": "stream",
         "text": "E:\\anac\\lib\\site-packages\\numpy\\core\\_asarray.py:85: UserWarning: Warning: converting a masked element to nan.\n  return array(a, dtype, copy=False, order=order)\n"
        },
        {
         "data": {
          "image/png": "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\n",
          "text/plain": "<Figure size 432x288 with 1 Axes>"
         },
         "metadata": {
          "needs_background": "light"
         },
         "output_type": "display_data"
        }
       ]
      }
     },
     "7321320e7997405589873f3d4b7c108a": {
      "model_module": "@jupyter-widgets/output",
      "model_module_version": "1.0.0",
      "model_name": "OutputModel",
      "state": {
       "layout": "IPY_MODEL_bdb139efa089446c88d1180c0a08b8e3",
       "outputs": [
        {
         "data": {
          "image/png": "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\n",
          "text/plain": "<Figure size 432x288 with 1 Axes>"
         },
         "metadata": {
          "needs_background": "light"
         },
         "output_type": "display_data"
        }
       ]
      }
     },
     "757d01f3d10147808b5d052cedb5912c": {
      "model_module": "@jupyter-widgets/base",
      "model_module_version": "1.2.0",
      "model_name": "LayoutModel",
      "state": {}
     },
     "75e852986ad445219426e783b511a168": {
      "model_module": "@jupyter-widgets/controls",
      "model_module_version": "1.5.0",
      "model_name": "FloatSliderModel",
      "state": {
       "description": "parameter_b",
       "layout": "IPY_MODEL_45fbcbadfa1142e1969d38b3fa29ea65",
       "max": 10,
       "min": 0.1,
       "step": 0.1,
       "style": "IPY_MODEL_cbbfe58b8d7147a78ed1a274b989a31a",
       "value": 0.5
      }
     },
     "77672e0d93a34877b02e56e7c9db6d52": {
      "model_module": "@jupyter-widgets/controls",
      "model_module_version": "1.5.0",
      "model_name": "IntSliderModel",
      "state": {
       "description": "size",
       "layout": "IPY_MODEL_fdcdc35e6a914f94b7d3fee4485370e8",
       "max": 100000,
       "min": 1,
       "style": "IPY_MODEL_1acaadf902c74094b896b80dc0721dac",
       "value": 50
      }
     },
     "78036aaf5068433bad433d2194725b62": {
      "model_module": "@jupyter-widgets/controls",
      "model_module_version": "1.5.0",
      "model_name": "FloatSliderModel",
      "state": {
       "description": "alpha",
       "layout": "IPY_MODEL_cacd94e76ba74a5b8db19f8e214dec12",
       "min": 0.05,
       "step": 0.05,
       "style": "IPY_MODEL_58abe508a5e14bc4bd268670ac9ee53a",
       "value": 1
      }
     },
     "786ed64f67f8405a862a7a320f098487": {
      "model_module": "@jupyter-widgets/controls",
      "model_module_version": "1.5.0",
      "model_name": "SliderStyleModel",
      "state": {
       "description_width": ""
      }
     },
     "7980a982e57d47bfb750a140b3b5fe63": {
      "model_module": "@jupyter-widgets/controls",
      "model_module_version": "1.5.0",
      "model_name": "VBoxModel",
      "state": {
       "_dom_classes": [
        "widget-interact"
       ],
       "children": [
        "IPY_MODEL_926478f11c4e45dd91375abb818620b1",
        "IPY_MODEL_7321320e7997405589873f3d4b7c108a"
       ],
       "layout": "IPY_MODEL_e6c0ea57f9b149ee9f4deb2025ea4aaa"
      }
     },
     "8225b604f7ed4e47b56e16e0bd231d01": {
      "model_module": "@jupyter-widgets/output",
      "model_module_version": "1.0.0",
      "model_name": "OutputModel",
      "state": {
       "layout": "IPY_MODEL_5b1ed8a24521479fbce08605f5c6b1a3",
       "outputs": [
        {
         "data": {
          "image/png": "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\n",
          "text/plain": "<Figure size 432x288 with 1 Axes>"
         },
         "metadata": {
          "needs_background": "light"
         },
         "output_type": "display_data"
        }
       ]
      }
     },
     "84764019ec534416bde4ca75550a986c": {
      "model_module": "@jupyter-widgets/controls",
      "model_module_version": "1.5.0",
      "model_name": "FloatSliderModel",
      "state": {
       "description": "parameter_a",
       "layout": "IPY_MODEL_b81e48573b2e4b3c9b5c4e8ce2fa3aa6",
       "max": 10,
       "min": 0.1,
       "step": 0.1,
       "style": "IPY_MODEL_786ed64f67f8405a862a7a320f098487",
       "value": 0.5
      }
     },
     "8536b6080b4e4bf98e1b14d16ba14fa5": {
      "model_module": "@jupyter-widgets/controls",
      "model_module_version": "1.5.0",
      "model_name": "VBoxModel",
      "state": {
       "_dom_classes": [
        "widget-interact"
       ],
       "children": [
        "IPY_MODEL_f4259925b8984e90b9c5f34ba91895a6",
        "IPY_MODEL_8225b604f7ed4e47b56e16e0bd231d01"
       ],
       "layout": "IPY_MODEL_a36dfb14d50f4199acfcc6e527ec5554"
      }
     },
     "8861b72ec73f478c99a10298157e065d": {
      "model_module": "@jupyter-widgets/base",
      "model_module_version": "1.2.0",
      "model_name": "LayoutModel",
      "state": {}
     },
     "8b0216a23ac94014ad71056a4adb3601": {
      "model_module": "@jupyter-widgets/base",
      "model_module_version": "1.2.0",
      "model_name": "LayoutModel",
      "state": {}
     },
     "8dde67d83d684ea4bcf29d59ce9ce8c5": {
      "model_module": "@jupyter-widgets/output",
      "model_module_version": "1.0.0",
      "model_name": "OutputModel",
      "state": {
       "layout": "IPY_MODEL_b14df1ab08d244dd92d25c3db797f99f",
       "outputs": [
        {
         "data": {
          "image/png": "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\n",
          "text/plain": "<Figure size 432x288 with 1 Axes>"
         },
         "metadata": {
          "needs_background": "light"
         },
         "output_type": "display_data"
        }
       ]
      }
     },
     "90af47df715b4622a6af7356a36b0313": {
      "model_module": "@jupyter-widgets/base",
      "model_module_version": "1.2.0",
      "model_name": "LayoutModel",
      "state": {}
     },
     "922c4228698a4f1ebedadf31c319f026": {
      "model_module": "@jupyter-widgets/output",
      "model_module_version": "1.0.0",
      "model_name": "OutputModel",
      "state": {
       "layout": "IPY_MODEL_2ad7e8854b694f43a17d67c097bb4a6c",
       "outputs": [
        {
         "data": {
          "image/png": "iVBORw0KGgoAAAANSUhEUgAAAXoAAAD8CAYAAAB5Pm/hAAAAOXRFWHRTb2Z0d2FyZQBNYXRwbG90bGliIHZlcnNpb24zLjQuMSwgaHR0cHM6Ly9tYXRwbG90bGliLm9yZy/Z1A+gAAAACXBIWXMAAAsTAAALEwEAmpwYAABEiElEQVR4nO3dd3xUVfr48c+TCgkQIPQEKdJEpUYQEKkiSFO+KCArwuq6uJZddV111xVXv+u66k9X/epa10q1YEWKlAUEgQCht5AESALpCenJZM7vj8nESUiZ1MlMnvfrNa9k7r3n3ucmM8+cOffcc8QYg1JKKc/l5eoAlFJK1S9N9Eop5eE00SullIfTRK+UUh5OE71SSnk4TfRKKeXhnEr0IjJZRE6ISKSIPF7JdteISJGIzK5uWaWUUvWjykQvIt7AG8AUoD8wT0T6V7DdP4F11S2rlFKq/jhTox8GRBpjoowxBcAKYGY52z0AfAEk1qCsUkqpeuLjxDYhwDmH57HAcMcNRCQEuAUYD1xTnbIO+7gHuAcgMDBwaL9+/ZwITSmlFMDevXuTjTHty1vnTKKXcpaVHTfhX8BjxpgikVKbO1PWttCYd4B3AMLCwkx4eLgToSmllAIQkTMVrXMm0ccCXR2ehwLxZbYJA1YUJ/l2wE0iYnGyrFJKqXrkTKLfA/QWkR5AHDAXuN1xA2NMD/vvIvIh8J0x5isR8amqrFJKqfpV5cVYY4wFuB9bb5pjwCpjzBERWSwii2tStvZhK6U8nYjwyCOPlDx/6aWXePrpp50uP3nyZFq3bs20adNKLY+Ojmb48OH07t2bOXPmUFBQAIAxhgcffJBevXoxYMAA9u3bVyfn8dRTT/Hjjz9Wus2WLVvYsWNHnRyvPM7U6DHGrAHWlFn2VgXbLqyqbE0UFhYSGxtLXl5ebXelGqlmzZoRGhqKr6+vq0NRjYC/vz9ffvklTzzxBO3atat2+UcffZScnBzefvvtUssfe+wxHnroIebOncvixYt5//33uffee/nhhx84deoUp06dYteuXdx7773s2rWr1ufxzDPPVLnNli1baNGiBSNHjqz18cpljGl0j6FDh5qyoqKiTFJSkrFarZesU+7ParWapKQkExUV5epQVCMRGBhonnvuOfPnP//ZGGPMiy++aJYsWVKtfWzevNlMnTq15LnVajXBwcGmsLDQGGPMjh07zKRJk4wxxtxzzz1m2bJlJdv26dPHxMfHlxvXww8/bAYPHmzGjx9vEhMTjTHG7N+/3wwfPtxcffXV5uabbzapqanGGGPuvPNO89lnnxljjOnWrZt56qmnzODBg81VV11ljh07ZqKjo03Hjh1Nly5dzMCBA83WrVvNqlWrzJVXXmkGDBhgRo8e7dS5AuGmgpzqNkMg5OXlERwcTJlePcpDiAjBwcH6jU2Vct9997F06VIyMjJKLV+6dCmDBg265DF79uwK9mSTkpJC69at8fGxNWaEhoYSFxcHQFxcHF27/tJ3xHGdo+zsbIYMGcK+ffsYM2YMf/vb3wBYsGAB//znPzl48CBXX311yfKy2rVrx759+7j33nt56aWX6N69O4sXL+ahhx4iIiKC0aNH88wzz7Bu3ToOHDjAN9984/wfrAJONd00FprkPZv+f1VZrVq1YsGCBbz22ms0b968ZPn8+fOZP39+tfdnyplRz/66q2ydIy8vL+bMmQPAr371K2bNmkVGRgbp6emMGTMGgDvvvJNbb7213BhmzZoFwNChQ/nyyy/L3WbUqFEsXLiQ2267rWT72nCrRK+Uanr+8Ic/MGTIEBYtWlSybOnSpbz44ouXbNurVy8+//zzCvfVrl070tPTsVgs+Pj4EBsbS5cuXQBbDf7cuV/u73RcV5nqVlD8/f0B8Pb2xmKxlLvNW2+9xa5du/j+++8ZNGgQERERBAcHV+s4jtym6aYxaNGiRcnva9asoXfv3pw9e5ann36akJAQBg0aRO/evZk1axZHjx4t2Xbs2LH07dvX6a+XSqlftG3blttuu43333+/ZNn8+fOJiIi45FFZkgdbUh43blzJdh999BEzZ9pGZZkxYwYff/wxxhh+/vlngoKC6Ny58yX7sFqtJeWXLVvGddddR1BQEG3atGHbtm0AfPLJJyW1e2e0bNmSzMzMkuenT59m+PDhPPPMM7Rr167UB1BNaI2+BjZu3MgDDzzA+vXrueyyywB46KGH+OMf/wjAypUrGT9+PIcOHaJ9e9sdyUuXLiUsLMxlMSvlzh555BH+7//+r1plRo8ezfHjx8nKyiI0NJT333+fG2+8kX/+85/MnTuXJ598ksGDB3PXXXcBcNNNN7FmzRp69epFQEAAH3zwQbn7DQwM5MiRIwwdOpSgoCBWrlwJ2D40Fi9eTE5ODj179qywfHmmT5/O7Nmz+frrr3n99dd55ZVXOHXqFMYYJkyYwMCBA6t17peo6CqtKx/l9bo5evSoU1ee61NgYKDZunWr6dGjhzl27FjJ8iVLlpgXX3yx1LZ33HGH+de//mWMMWbMmDFmz549DRqru2oM/2elKhMYGOjqEMpFJb1u3LJGL1L+1ezaMmZJpevz8/OZOXMmW7ZsoapB14YMGcLx48dLns+fP7/kYtINN9xQbvuiUkrVB7dM9K7i6+vLyJEjef/993n11Vcr3daUuYKvTTdKeYasrCxXh1Btbpnoq6p51xcvLy9WrVrFxIkTee655/jzn/9c4bb79+/XxK6UahS01001BQQE8N1337F06dJSvQAcffHFF6xfv5558+Y1cHRKKXUpt6zRu1rbtm1Zu3Yt119/fckYHK+88gqffvop2dnZXHXVVWzatKmkxw2UbqNv165dlYMcKaVUXZGybcmNQXkTjxw7dowrrrjCRRGphqL/Z6VqRkT2GmPKbS/WphullPJwmuiVUsrDaaJXSikPp4leKaU8nFOJXkQmi8gJEYkUkcfLWT9TRA6KSISIhIvIdQ7rYkTkkH1dXQavlFKqalV2rxQRb+AN4AYgFtgjIt8YY446bLYR+MYYY0RkALAKcBwjYJwxJrkO41ZKKeUkZ/rRDwMijTFRACKyApgJlCR6Y4zjPcGBQL332dy7d2+d7m/o0KFVbjNy5Mg6n8A3JiaGHTt2cPvtt1e57cKFC5k2bRqzZ8/m7rvv5uGHH6Z///7lbvvhhx8yadKkCsfTfuqpp7j++uuZOHEi3bt3Jzw83Ol5OcvGHB4ezscff8xrr73mVHmlVMNypukmBHAcDDm2eFkpInKLiBwHvgd+7bDKAOtFZK+I3FPRQUTknuJmn/CkpCTnom9g9TFLe0xMDMuWLat2uffee6/CJA+2RB8fH1/uuqKiIp555hkmTpxY7ePCpTGHhYVpkleqEXMm0Zc3fcolNXZjzGpjTD/gZuBZh1WjjDFDgCnAfSJyfXkHMca8Y4wJM8aEOd5R2pjYJx7ZsmULY8eOZfbs2fTr14/58+eXDGLWvXt3HnvsMYYNG8awYcOIjIwEbLVxx0kR7Pt6/PHH2bZtG4MGDeKVV14pdTxjDPfffz/9+/dn6tSpJCYmlqwbO3Ys4eHhFBUVsXDhQq666iquvvpqXnnlFT7//HPCw8OZP38+gwYNIjc3l+7du/PMM89w3XXX8dlnn10Sz4svvljjmLds2cK0adMASE1N5eabb2bAgAFce+21HDx4EICnn36aX//614wdO5aePXvqB4NSDciZRB8LdHV4HgqUX1UEjDFbgctFpF3x8/jin4nAamxNQW5v//79/Otf/+Lo0aNERUXx008/laxr1aoVu3fv5v777+cPf/hDpft5/vnnGT16NBERETz00EOl1q1evZoTJ05w6NAh3n333XK/UURERBAXF8fhw4c5dOgQixYtYvbs2YSFhbF06VIiIiJKhl5o1qwZ27dvZ+7cuZfsp65iXrJkCYMHD+bgwYM899xzLFiwoGTd8ePHWbduHbt37+Zvf/sbhYWFlR5HKVU3nEn0e4DeItJDRPyAuUCpaclFpJcUT5woIkMAPyBFRAJFpGXx8kBgEnC4Lk/AVYYNG0ZoaCheXl4MGjSImJiYknX2wczmzZvHzp07a3yMrVu3Mm/ePLy9venSpQvjx4+/ZJuePXsSFRXFAw88wNq1a2nVqlWF+7NPaFyeuop5+/bt3HHHHQCMHz+elJQUMjIyAJg6dSr+/v60a9eODh06kJCQUOPjKKWcV2WiN8ZYgPuBdcAxYJUx5oiILBaRxcWb/Q9wWEQisPXQmVM840lHYLuIHAB2A98bY9bWw3k0OPsEv3DpJL+OkwXbf/fx8cFqtQK2JpmCggKnjlPVxMNt2rThwIEDjB07ljfeeIO77767wm0DAwOdOk5tYi5v7CT7/ir7myml6o9T/eiNMWuMMX2MMZcbY/5evOwtY8xbxb//0xhzpTFmkDFmhDFme/HyKGPMwOLHlfayns4+h+TKlSsZMWIEYGu7t/cU+vrrr0uaLcpOCuzo+uuvZ8WKFRQVFXH+/Hk2b958yTbJyclYrVb+53/+h2effZZ9+/ZVud/6jnnp0qWA7VpGu3btKv2WoZSqf247TLEz3SFdJT8/n+HDh2O1Wlm+fDkAv/nNb5g5cybDhg1jwoQJJbXrAQMG4OPjw8CBA1m4cGGpNu9bbrmFTZs2cfXVV9OnT59yZ5WPi4tj0aJFJTXvf/zjH4DtQurixYtp3ry5U00xtYl58ODBJft5+umnWbRoEQMGDCAgIICPPvqoJn9CpVQd0mGK61h1+6Sr0tzl/6xUY6PDFCulVBPmtk03jZVj7xullGoM3KpG3xibmVTd0f+vUvXDbRJ9s2bNSElJ0WTgoYwxpKSk0KxZM1eHopTHcZumm9DQUGJjY2ms4+Co2mvWrBmhoaGuDkMpj+M2id7X15cePXq4OgyllHI7btN0o5RSqmY00SullIfTRK+UUh5OE71SSnk4TfRKKeXhNNErpZSH00SvlFIeThO9Ukp5OE30Sinl4ZxK9CIyWUROiEikiDxezvqZInJQRCJEJFxErnO2rFJKqfpVZaIXEW9s88BOAfoD80Skf5nNNgIDjTGDgF8D71WjrFLKTRhjyM4uwGrVwQXdiTM1+mFAZPH8rwXACmCm4wbGmCzzy7CSgYBxtqxSqvHLyMjjySc30bnz/6NFi38QFPQ88+d/yenTqa4OTTnBmUQfApxzeB5bvKwUEblFRI4D32Or1Ttdtrj8PcXNPuE6QqVSjcexY0kMHvw2f//7NhISsvH39yYrq4Blyw4xYMBb/PDDKVeHqKrgTKKXcpZd8r3NGLPaGNMPuBl4tjpli8u/Y4wJM8aEtW/f3omwlFL17fTpVK6//kOio9MZPLgT27cvIjf3L0RH/55bb+1PTk4hM2asYN26SFeHqirhTKKPBbo6PA8F4iva2BizFbhcRNpVt6xSqvHIyipg6tRlJCfnMGnS5Wzf/mtGjboMEaF799asXDmbhx66FovFyty5X2gzTiPmTKLfA/QWkR4i4gfMBb5x3EBEeomIFP8+BPADUpwpq5RqnB59dD0nTqRw1VUd+OyzWwkI8C21XkR46aVJzJjRl/T0PBYt+lov0jZSVSZ6Y4wFuB9YBxwDVhljjojIYhFZXLzZ/wCHRSQCWy+bOcam3LL1cB5KqTq0desZ3nprL76+XixbNotWrfzL3c7LS/jgg5l06BDItm1n+c9/9jdwpMoZ0hjnYA0LCzPh4eGuDkOpJslqNVx77Xvs2RPPkiVjePrpsVWWWb78ELff/iUdOwYSGfkgLVr41X+gqhQR2WuMCStvnd4Zq5QqZdWqI+zZE0/nzi149NGRTpWZO/cqhg8PISEhm1df/bmeI1TVpYleKVWiqMjKX/+6GYBnnhlHYKBzNXMR4fnnJwLw0ks7ycoqqLcYVfVpoldKlfjqq+NERqbSo0drFi4cVK2yY8d2Z+TIrqSn5/HBB9pW35hooldKAbbhDV58cQcADz88Ah+f6qeHRx4ZAcC//rWLoiJrncanak4TvVIKgB07zrFrVxxt2zZn0aJBl6wvKiqioKCAyjpwzJzZl8svb0NUVBrffHOiHqNV1aGJXikFwNtv7wXgt78dWqptPisri5MnTxIREcGhQ4eIiIggJiaGgoJL2+G9vb24//5hALz77r6GCVxVSRO9Uor09Dw+++woAHffPaRkeXx8PCdOnCAzM7NkmdVqJSUlhaNHj5KRkXHJvu64YwB+ft6sW3ea2NiL9R+8qpImeqUUy5cfIi/PwvjxPejZsw0A586d4/z58xWWKSoq4vTp06Snp5daHhwcwMyZfbFaDR9+GFGPUStnaaJXSvH++7ZeMnfdNRiAhIQEEhMTqyxnjCE6OpqcnJxSy+37+c9/9lfapq8ahiZ6pZq4AwcusHfvedq0acasWVeQlZVFXFyc0+WtViunT5+mqKioZNnEiT3p0qUl0dHp7N7t/L5U/dBEr1QTt3z5YcB2d6ufnxcxMTHVroUXFBRw7twvU094e3tx6622yeRWrtThrVxNE71STZgxhlWrbIl4zpwrOX/+PPn5+TXaV0pKSqmLtnPmXAnYhlTQUS1dSxO9Uk3Y3r3niY5Op3PnFoSFdSAhIaFW+zt37lzJt4Frrw3lssuCiIvLZMeOc1WUVPVJE71STdjKlbZmm9mz+3PhwvlaXzjNzc0lJSUFsI1/c9tt9uabw7ULVNWKJnqlmihbs42t7/z06T0v6SZZU/Hx8VittuEP5sy5CoAvvjimzTcupIleqSZqz554zp7NICSkJd261V0qKCwsJDk5GYChQzvTtWsrzp/PYu9enUXUVTTRK9VEffutbSyaadN6kZlZt3ewJiQkYIxBRJg+vU/x8U7W6TGU85xK9CIyWUROiEikiDxezvr5InKw+LFDRAY6rIsRkUMiEiEiOm2UUo3Ed9+dAuDaa9vW+b4LCgpITbVNFj59el8AHeTMhapM9CLijW0e2ClAf2CeiPQvs1k0MMYYMwB4FninzPpxxphBFU1zpZRqWOfOZRARcYHAQF/69Kmfaf/sPXjGjetOixZ+HDiQwNmzl46No+qfMzX6YUCkMSbKGFMArABmOm5gjNlhjEkrfvozEFq3YSql6tL339tq86NHd8Hf37tejpGbm0tmZib+/j5MmnQ58EtzkWpYziT6EMCxE2xs8bKK3AX84PDcAOtFZK+I3FNRIRG5R0TCRSQ8KSnJibCUUjVlby8fPrxNvR7HPl6OttO7lo8T20g5y8rtJyUi47Al+uscFo8yxsSLSAdgg4gcN8ZsvWSHxrxDcZNPWFiY9sNSqp5kZxewcWMUACNGtKvXY6Wnp1NQUMDUqb0Rgc2bY8jMzKdlS/96Pa4qzZkafSzQ1eF5KHBJPykRGQC8B8w0xqTYlxtj4ot/JgKrsTUFKaVcZOPGaPLzixgwoC3t2jWr9+OlpKTQvn0gI0Z0paCgiI0bo+v9mKo0ZxL9HqC3iPQQET9gLvCN4wYichnwJXCHMeakw/JAEWlp/x2YBOgtckq50Jo1tvb5+q7N2yUnJ2OM4cYbbe3069ZFNshx1S+qTPTGGAtwP7AOOAasMsYcEZHFIrK4eLOngGDgzTLdKDsC20XkALAb+N4Ys7bOz0Ip5bQNG+zNNu0b5HgFBQVkZmaWJPr166Ma5LjqF8600WOMWQOsKbPsLYff7wbuLqdcFDCw7HKllGtERaURFZVGq1a+XHFF6wY7bkpKCmFh3WjbtjlRUWlERqbSq1fd999X5dM7Y5VqQjZsOA1AWFgw3t7l9bOoH7ZxdAwTJ/YEtPmmoWmiV6oJsTfbDB/eMM02dlarlbS0NId2+tMNevymThO9Uk1EUZGVTZtsPV6GD2+YC7GOUlNTS26c2rw5hoKCoipKqLqiiV6pJmLv3vOkpeUREhJAaGhggx8/MzOTDh2a0b9/e7KyCti5UycjaSia6JVqIuzt866ozdtp841raKJXqolYv96e6Bu2fd5RamqqJnoX0ESvVBNgayqJxcsLrrkm2GVx5OTkMHx4J/z9vdm//zwpKTkui6Up0USvVBOwfftZCgutXHFFa1q1qp9hiZ2Vl5fFyJFdMQa2bIlxaSxNhSZ6pZqAzZttvW3CwlxXm7dLS0tjwoQeADruTQPRRK9UE7Bli63//ODBrr8bNScnh+uus01ZoYm+YWiiV8rD5eYWsn9/IiIwaJDrEz1Ar17NadnSj5MnU4iNrdv5atWlNNEr5eF27LC1z/fp04oWLXxdHQ4AmZkZjBnTHaDkJi5VfzTRK+XhNmywjRw+ZIjr2+ftsrOzGTv2MkCbbxqCJnqlPNy2bWeBxtE+72joUFs8GzdGYYxOKlefNNEr5cFycwvYu9c2b2tjaZ+369TJi/btA4iLy+TUqVRXh+PRNNEr5cG2bYskP99K9+4taNu2cc3TmpOTzbhx3QFK5rBV9UMTvVIebNMm2zADja3ZBsAYw7XXdgS0nb6+OZXoRWSyiJwQkUgRebyc9fNF5GDxY4eIDHS2rFKqfhhj2LEjDoAhQxpfogcYNCgIsA1bbLVqO319qTLRi4g38AYwBegPzBOR/mU2iwbGGGMGAM8C71SjrFKqHmRkXGT//hQABg9uPD1uHAUFFdGtWxCpqbkcOHDB1eF4LGdq9MOASGNMlDGmAFgBzHTcwBizwxiTVvz0ZyDU2bJKqfrx88/RZGVZ6NKlOZ06NXd1OOUyxjB6tN4lW9+cSfQhgOMMAbHFyypyF/BDdcuKyD0iEi4i4UlJSU6EpZSqzJYttsTZWGvzdvbxdzTR1x9nEn15MwiX25gmIuOwJfrHqlvWGPOOMSbMGBPWvr3rxstWyhPk5uayZ4+tW2VjvBDr6OqrbbNdbdt2RqcXrCfOJPpYoKvD81AgvuxGIjIAeA+YaYxJqU5ZpVTdSk9PZ/9+W9/0xnoh1i4oyJsrrggmO7uQ3bvjXB2OR3Im0e8BeotIDxHxA+YC3zhuICKXAV8CdxhjTlanrFKq7u3ff460tAKCg/3p2rXh54etrmuv7QRof/r6UmWiN8ZYgPuBdcAxYJUx5oiILBaRxcWbPQUEA2+KSISIhFdWth7OQylVzGKx8NNPsYCtNi9SXgtq4zJ0aBtA2+nri48zGxlj1gBryix7y+H3u4G7nS2rlKo/GRkZJc02jf1CrN2VVwbi5SXs3BlLVlYBLVq4dhYsT6N3xirlYdLT09m3z3aZrLG3z9u1bOnL4MEdsFisbNt2xtXheBxN9Ep5EGMMx49fICEhj1atfOnZs6WrQ3La8OG23nY//qjt9HVNE71SHiQzM5Pw8GTANlqll1fjb5+3GziwFQA//qjt9HVNE71SHsTWPu9ezTZ2V10VRPPmPhw8mEBiYrarw/EomuiV8iDueCHWzt/fm7CwDoBOL1jXNNEr5SHy8vKIi8vg7Nlsmjf3pm/fVq4OqdrCwmzfQrSdvm5polfKQzjW5gcObIuPj/u9ve396X/8UacXrEvu90pQSpUrIyOjpFtlYx/fpiJ9+rSiTRt/zpzJICoqreoCyima6JXyAEVFRWRlZRER4R7j21TEy0sYNszWTq/NN3VHE71SHuDixYukp+cTGZmJn58X/fu3dnVINTZ0aGtAh0OoS5rolfIAGRkZHDiQhjFw1VWt8ff3dnVINXbNNe0AW6LX6QXrhiZ6pTyAY/95d+tWWVZoaAAhIYGkpuYSEaHTC9YFTfRKubns7GwsFgv79tn7z7tn+7ydiHDNNfZZp7Sdvi5oolfKzWVkZJCTY+H48Qy8vYUBA9q4OqRas08vqMMh1A1N9Eq5uYyMDA4eTKOoyNCvXxABAU6NPt6o2dvpt207Q36+xcXRuD9N9Eq5scLCQnJyctxm2kBnBQf707dvELm5FrZvP+vqcNyeJnql3FhGRgZAyY1SgwZ5RqIHGDbM1nyzdm2kiyNxf04lehGZLCInRCRSRB4vZ30/EdkpIvki8scy62JE5JDjFINKqbqRkZFBXl4Rhw+nI+L+F2IdjRxpu3Fq7drTLo7E/VXZmCci3sAbwA1ALLBHRL4xxhx12CwVeBC4uYLdjDPGJNcyVqWUA6vVysWLFzl8OI3CQit9+rSiVSvPmYJv0KC2BAT4cPhwIufOZdC1a5CrQ3JbztTohwGRxpgoY0wBsAKY6biBMSbRGLMHKKyHGJVS5cjKysJqtZZ0q/SU9nk7X1+vkouy69Zprb42nEn0IcA5h+exxcucZYD1IrJXRO6paCMRuUdEwkUkPCkpqRq7V6ppKts+P2SIe98oVZ4RI2zTC/7wg7bT14Yzib68uciqc1/yKGPMEGAKcJ+IXF/eRsaYd4wxYcaYsPbt21dj90o1Tenp6RQUFHHokG2UR09M9CNH/jKPbGFhkYujcV/OJPpYoKvD81Ag3tkDGGPii38mAquxNQUppWohNzeXgoICjh7NID/fSs+eLWnd2nPa5+26dAmgR4+WXLyYz86dsa4Ox205k+j3AL1FpIeI+AFzgW+c2bmIBIpIS/vvwCTgcE2DVUrZ2Jtt9u61NdsMHepZ7fOOrr3W1k6v3SxrrspEb4yxAPcD64BjwCpjzBERWSwiiwFEpJOIxAIPA0+KSKyItAI6AttF5ACwG/jeGLO2vk5GqaYiPT0d8Oz2ebtRo2zdLLWdvuaculfaGLMGWFNm2VsOv1/A1qRT1kVgYG0CVEqVVlhYWDyQmZWDB23t857Uf76swYPb0qyZNxERFzh/PpPOnVu6OiS3o3fGKuVm7M02x45lkJtbRLdugbRr18zFUdUff39vhg61fWNZs+aUi6NxT5rolXIzZdvnPbnZxu766zsC8PXXJ1wciXvSRK+UG7HfDQu/tM/ba7uezJ7oN2yIIju7wMXRuB9N9Eq5kYsXL2K1WrFYrG4/EXh1tG/fjCuvbE1enoUNG3QykurSRK+UG7H3tjlx4iI5OUV07RpAhw7NXRtUAxkzRptvakoTvVJuwhhT0j6/Z49tjMCm0GxjN2ZMJwC+++4kRUVWF0fjXjTRK+Um7HPDAuzebUv0w4c3neFCevZsQdeugSQn57Bjx7mqC6gSmuiVchNpabY+83l5RSXt8/bRHZsCEdHeNzWkiV4pN2Fvnz9wIJWCAit9+7byyPFtKuPYTm9MdcZWbNrcfxZhVa8sFgtZWVnk5+dTVFSEl5cXfn5+tGjRAj+/ppVkXCknJ4eCAlu3QnuzzbBhTac2bzdgQBvatPEjMjKVgwcTGDiwk6tDcgua6FW50tPTSUxMJDMzs8JtAgICaN++PcHBwYiUN5q1qiv22jw0zfZ5Ox8fL8aN68SXX55l1aojmuidpE03qpTs7GyOHTvG6dOnK03yYKtlnjlzhsOHD5e0H6v6Yf/7ZmQUcPx4Br6+Xh41EXh1TJrUBYCVK49o842TNNErwNZ1Ly4ujuPHj5OTk1OtsgUFBURFRREVFUVRkU4OUdfy8vLIy8sDIDw8BWNg4MA2NGvm7eLIXGPw4GCCg/05fTqN/fsvuDoct6CJXmGxWDh58iQXLtTuTZOWlsaxY8dKkpKqG47flppy+7ydt7cwfrytyWblSp3ewhma6Ju4/Px8jh8/TlZWVqPcnyqd6Hftss2n3JQTPcANN9iab1atOqrNN07QRN9EJSfnEBERy/ff7yE1NbtO911UVMSpU6dKBt9SNZeXl0dubi4AZ89mERubQ6tWvvTrF+TiyFxr0KC2tG/fjJiYdHbvjnN1OI2e9rppQqKi0vj3v/ewevVxTp8uffE0NDSAUaM6MGNGV/r2rX0SsVqtnD59ml69etGypU4UUVOOtfkdO2y1+WuvbY+PT9Ouo3l5CRMndmb58mg++eQgw4eXN++RsnPq1SIik0XkhIhEisjj5azvJyI7RSRfRP5YnbKq/mVlFfDHP66nT5/XeemlnZw+nUbz5t506xbIZZcF4ufnRWxsDitXxjB//jbuuWdHyZ2XtWG1WomMjKz2xV31i9TUX/4PP/2UCPwytV5TN22aLbkvX36Y/HyLi6Np3Kqs0YuIN/AGcAMQC+wRkW+MMUcdNksFHgRurkFZVY+OH09m5swVnDyZgpeX8KtfXc2UKe25/PJmJbXCoiLDkSPprF8fx7ffxrJvXyp3372DG27ozO9/359OnWo+OqLVauXUqVP069cPf3//ujqtJiE3N7fkwnZuroW9e1MQgZEjm17/+fL07RtEnz5BnDyZwfffn2LWrCtcHVKj5UyNfhgQaYyJMsYUACuAmY4bGGMSjTF7gMLqllX1Z9u2Mwwf/h4nT6Zw9dUd2LXrLpYsGUDfvgGlvvp7ewsDBrThj3+8iu+/n8BvftMbf38vNmw4z5w5/+XLL8/U6oKXxWIhMjJSu15Wk2NtPjw8hYICK1de2Zo2bfQD0+6mm0IA+PDDCNcG0sg5k+hDAMeh4mKLlznD6bIico+IhItIeFJSkpO7VxXZvv0sU6Ys5eLFfGbNuoKdO++ic+dfpqGrSIsWvvz2t3354otxjBvXiexsC889d4j77tvF+fM1b4LJy8sjOjpae0hUgzbbVG3KlBC8vYUffogkMbFuOxV4EmcSfXn3tjv7bnW6rDHmHWNMmDEmrH17/WpaG8ePJzNt2jKyswu5444BrFo1m4KC7Gr1k+/UqTkvvDCU554bQlCQL7t3JzN37lZWr6557T4jI4Pz58/XqGxTk5WVVTK2jTGG7ds10ZcnONifUaM6YrFYWbr0oKvDabScSfSxQFeH56FAvJP7r01ZVQOpqblMn76cjIx8brmlHx98MJPCwgJiYmKqvS8RYdKkLqxaNbakdv/3vx/i/vt3ceFCbo3iO3/+fJXfKlTp2nxUVBYXLuTStq1fk+9WWZ6pU22NBO++u0+/MVbAmUS/B+gtIj1ExA+YC3zj5P5rU1ZVk9VquP32L4iMTGXw4E588sktiEBUVBRWa81n5AkO9ueFF4by978PJijIl127kpkz5781rt1HR0eX1FbVpYwxpRL9li22b2KjRnXAy0sHjytrzJiOdOjQnGPHkvnvf8+4OpxGqcpEb4yxAPcD64BjwCpjzBERWSwiiwFEpJOIxAIPA0+KSKyItKqobH2dTFP3yis7WbfuNO3aBfD113MJDPTj3LlzJTfc1IaIcOONIZfU7n/7250cP169GnpRURFRUVFa+6pARkZGqQvXmzfbEv348Z1dFVKj5uPjxcyZtoaDN9/c4+JoGidpjG+2sLAwEx4e7uow3Mr+/ecZPvw9CgutfPvtPKZN60NaWhpRUVF1fixjDOvXx/PCC4fJyChEBKZODeU3v+lDSEiA0/vp1KkTISHOXtdvOk6fPl0yLHF8fA4zZmwiIMCbDRsm4e/fNAcyq0pCQi4zZmxCRDh79g907tz0btITkb3GmLDy1jXt2+s8hMVi5c47v6Kw0MrvfhfGtGl9KCgo4MyZ+vkaa6/dr149jvnze+LtLXz3XSy33LKJJ57Yy5Ej6U7V1i9cuFDlUMhNTWFhYalrGJs22ZttOmqSr0THjs2ZMCEUi8XKe+/tc3U4jY4meg/w73/v4dChRHr0aM2LL07CGEN0dHS991tv1cqPhx7qz+efj2Xq1FBEhA0bznPnnduZO3crH30UWeVF2+jo6JIJr5XtIqzjh+TmzbZeSvbRGlXFbr7Z9u3w7bf3UlCg92w40kTv5hISsvjrXzcD8K9/TSYgwJeEhIQGHT0yNDSQv/1tEN98M5477uhJUJAvp09n8vrrx5k2bSO3376Vt946wdGj6VitpWv6hYWFnD17tsFibeySk5Mdfs/j4ME0/Py8GDlSu1VW5ZprgunTpw1xcZmsWKHDFzvSRO/mnnhiIxkZ+UyZ0ovp0/uQm5tLfLxrerB27Nic3/++P2vX3sBLL4UxYUJnmjXz5uTJi7z33ikWLNjOTTf9yD/+cYjw8GSKimxJPy0tjZSUFJfE3JhkZWWVGst/y5YEjLFNGRgYqOMPVkVEuOOOngC88MJPerHfgb563NjPP8fywQcR+Pl58+qrk0uabFz9Avf19WLs2E6MHduJ/PwiwsNT2LYtgW3bEkhIyOOLL87wxRdnCA72Z8KEzsyadRne3udo2bJlk55w3LE2D7B+vW34XW22cd7EiR15881AjhxJ4ocfIrnppt6uDqlR0Bq9myoqsnL//WsAeOSREfTuHUx8fHyddKWsS/7+3owa1YHHH7+a776bwKefjmbRol6EhgaQkpLPqlUxzJ27ld/+9ic+/LDp1sKKiopKDUl84UIu+/al4u9vmwxbOcfX14s77+wL2Gr1ykYTvZt677197N17ntDQVvzlL6PJysoiISHB1WFVSkTo1y+I++7rx+rV4/jkk+u49dZuNG/uze7dyfz2t1u59tp32LnzXNU78zDJycmlbmpbu9ZWm7/++o60aOHrqrDc0pQpHQgK8ue//z3TJF9L5dFE74ZSUnL48583AfDyy5No1sy7RkMcuJKIcMUVrXnssatZs2YiDz54Ba1b+7F79wVGjvwPCxd+RWpq4/p2Up8cB/IzxrBmjS3RT5miE2pUV2CgDwsX9gco6ajQ1Gmid0NPPrmJ1NRcxo/vwezZ/YmNjSU/P9/VYdVYy5a+LFhwOV99NY677uqNv783H310gP793+Dbb0+4Orx6d/HixVL/v1OnMomKyiQoyJcRI3SAv5q49dYQgoL82bgxms2bo10djstponcz+/ad5+239+Lj48Xrr0/h4sWLl1zEc1ctWvhy7719WbZsNMOGdSQhIZsZM1bw6KPrKSz03H7RZZvcvv8+FrBNgO3rq2/RmmjWDO67bzBgq9U31Ws/dvoqciNWq+G++9ZgDPz+98Pp06dNvd396krdurXgjTeu4e9/H4O3t/DSSzuZMOFjkpM9b0rCvLy8UpOo5+cX8d13tnZl+1R5qmZmzQqhXbsAfvrpHGvXRro6HJfSRO9GPv74AD//HEunTi146qkxnD17lsLCspN6eQYRmDGjHZs2LaBLl5Zs23aWESPeJzKy9nPZNiZla/ObN18gI6OQPn1aceWVrV0TlMfI5+GHhwHwpz/9iMVS8xFc3Z0mejeRnp7HY4/9CMCLL96AxZJdqjueJ8rPz6d7dy/27PkNgwd3IjIylREj3veYnhSFhYWX3Cj25Ze2b2izZnVDRIckrq2bb+5Cjx6tOXw4kXfe2evqcFxGE72bePrpLSQmZnPddZdx6619m8ywAUlJSQQGWvnvfxcyeXIvkpNzuOGGT/jvf2NcHVqtJSQklGo7jonJYt++VJo392by5C4ujMxz5OZm8vzz4wBbW31T6snlSBO9Gzh0KIH/+7/deHkJr78+mTNnzjSpibZjYmJo1syLb7+dx4IFA8nOLmTKlKVs3Fj3QzA3FIvFQtm5kVetigFg8uQQ7TtfR4wxDB8exLhx3UlNzWXJkqbZ3VITfSNnjO0CbFGR4Xe/C6NTJ2lyQ/taLBZiYmLw8fHiP/+Zwa9/PYjcXAvTpi1n3Tr3vMiWmJhY6gap9PQCvvnG1iQ1Z053F0XlmVJSUnjxxYl4eQlvvhlOeHjTm83UqUQvIpNF5ISIRIrI4+WsFxF5rXj9QREZ4rAuRkQOiUiEiOhsItX08ccH2LbtLB06BPLYY8NdNmCZq128eJGEhAS8vb14990Z3HPPEPLyLNx880q3a8axWCwkJiaWWvb552fIyyti5Mj29OrVykWReSZjDB07Gv7wh+FYrYa77/7Go7vrlqfKRC8i3sAbwBSgPzBPRPqX2WwK0Lv4cQ/w7zLrxxljBlU0+4kqX2pqLo8+ugGAF16YQHr6+SbdHzguLo7s7Gy8vIR//3sav/mNLdlPn76cvXvd5wPwwoULpZre8vOLWLXKdlPPHXdc7qqwPFpSUhJ//et1dO/emgMHEvh//2+nq0NqUM7U6IcBkcaYKGNMAbACmFlmm5nAx8bmZ6C1iOgEl7X05z9vJCkphzFjujF6dJBb3/1aF4wxREVFYbFYipP9VObMuZLMzAJuvPFTjh1LqnonLlZQUHBJ2/y3354jNbWAvn1bERYW7KLIPJvVaiUzM5W3354GwN/+9l+OH/eMGw2d4UyiDwEc+7PFFi9zdhsDrBeRvSJyT00DbWp27jzHO+/Y7oD9+99HenxXSmcVFBSUjOvj7e3Fxx/fwpQpvUhJyeWGGz4hJibdpfFVJT4+vlTbfF5eEe+/fwqARYt6aZfKepSUlMTYsV1ZuHAQeXkW5s//ssnMROVMoi/vlVe2/aCybUYZY4Zga965T0SuL/cgIveISLiIhJet8TQ1OTmFLFz4dfEdsNcQEJDt6pAalYyMDM6ft02x5+fnzeef38bo0ZcRF5fJDTd8QkJCw82uVR05OTmX9Jv//PMzJCXl06dPK8aP1y/B9ckYQ1xcHK++OpkePVqzb995nnqqafTCcSbRxwJdHZ6HAmUbRCvcxhhj/5kIrMbWFHQJY8w7xpgwY0xY+/ZNeyCnJ574kZMnU7jyyvbMm9e5VA1Q2cTHx5cMHRAQ4Mu3384rualq8uSlZGTkVbGHhlf23oecHAsffmjrNfS73/XFy0tr8/UtNTUVb28Ln346Cy8v4YUXfmLLlhhXh1XvnEn0e4DeItJDRPyAucA3Zbb5BlhQ3PvmWiDDGHNeRAJFpCWAiAQCkwCdzLESmzdH89pru/Hx8eJ//3cooBNnVyQqKqpk6r2goGasXfsrevduS0TEBaZPX05OTuMZHiI5OZns7NLfzD74IJL09AIGDGjDqFE6J2xDiY2NZeTIrjz55GiMgV/96stG+y2wrlSZ6I0xFuB+YB1wDFhljDkiIotFZHHxZmuAKCASeBf4XfHyjsB2ETkA7Aa+N8asreNz8BgJCVnMn/8lAA8+OIiuXXWmx8oUFRURGRmJxWL7MOzQIZANG+4gJMQ2Ns6cOZ83im50hYWFxMbGllp25kwWn3xyGoA//KG/ts03oKysLFJSUvjrX8cwalRX4uIymTv3C48eC8epfvTGmDXGmD7GmMuNMX8vXvaWMeat4t+NMea+4vVXG2PCi5dHGWMGFj+utJdVl7JYrMyb9wXnz2cxYkQXbrtNp49zRn5+PlFRUSXdTrt1a8369XfQtm1zvvvuJL/+9TdYra7tknr27NlS3SmNMbz00hEsFsP06V0ZMKCNC6NrmmwfvFY+++xWOnVqwZYtMTz++I+uDqve6J2xjcSf/rSBzZtj6NAhgCVLrsTHR/81zsrMzCQ6+pfJJfr3b88PP8wnMNCXTz89yEMPrXXZ/QcpKSmkp6eXWrZuXTw7dybRsqUvDzzQzyVxNXUWi4XY2Fg6d27JZ5/dio+PF//v/+1kxQrPbFnWbNIIvPzyTl555Wd8fLx47rkhtGvn7+qQ3E5aWhrnzv3Sw3fYsBC++mouvr5evPbabv73f7c2eEz5+fmXXIC9cCGXf/7TlkwefLAfbdvq/9pVUlJSyMjI4LrrLuPllycBsHDhV+zY4RmjozrSRO9iH34YwSOPrAfg2WeHMmhQa9cG5MYSExOJi4sreT5xYk+WLfsfvLyEp57awptv7mmwWKxWK6dPny7VY8pqNTzzzAEyMwsZPboDN998WYPFo8p35swZLBYL998/jMWLh5KfX8SMGcs5dSql6sJuRBO9C73++i4WLfoagD/+cQA33NDRxRG5vwsXLpRK9rNn9+ett6YCcP/9a1i+/FCDxBETE0Nubukhcd999yS7dyfTurUfTz45UC/ANgKFhYWcOXMGEeH112/ippt6k5KSy003LfOoGc000btAYWERjzyyjgcftHVAeuyxQcydq7W7unLhwoVSTSa/+c1Qnn9+AsbAggVf8eWXx+r1+HFxcZfcybxx43neffcUXl7w7LODCA7WJpvGIj09nYSEBHx8vFi5cnbJ/RhTpy7j4kXPGHZEE30Di45OY9y4j3j5ZVub/LPPXsOtt+rcoHUtKSmJqKiokqaTP/1pFH/600gsFiu33voZn3xyoF6Om5CQwIULF0otO3gwjSVLIgB48MErGDFC+8w3NnFxcWRmZtKihR/ffXc73bu3ZvfuOG66aSlZWQWuDq/WNNE3kJycQp57bhv9+7/JTz+dIySkJR99NJYpU7S5pr6kpaVx8uRJCgoKEBGef34if/3r9VithgULvqrzNvuEhIRL+ssfO5bOAw/sIi+viOnTQ5k/v2edHlPVDfuAefn5+XTp0pJNmxYQGtqKn346x4wZjevmu5rQRF/PUlNzeeGFn+jR41X+8pdN5OVZmDOnP8uWjaFv3wBXh+fxsrOzOXbsGBcvXkREeOaZcbzwwkQA7rtvDQ8/vI6iotrdKGOMITY29pIkv39/Cvfdt4vsbAsTJnTmL38ZoO3yjZjFYuHUqVNYLBZ69GjDpk0L6NSpBZs3xzBjxnK3rtlLYxzfPCwszISHu+8cJSkpOXz11XE+++woGzdGl9xxFxbWhSVLRtK1q6Xkbk7VcNq3b09ISAje3t785z/7Wbz4OwoLrUyZ0otPPrmF4ODqf/BaLBaio6NLxt2xW7s2jr/97QCFhVbGjOnI888PxddX61XuICAggN69e+Pj48OxY0mMHfsRiYnZDBsWwpo1t9foddIQRGRvRXN+aKKvI8nJOaxefYzPPz/Gxo1RFBXZ/q7e3sL48T145JERDBkSxLlz55r05CGu5uvrS0hICMHBwWzdeoZZs1aSkpJL584t+OCDmdx4Yy+n95WWlsbZs2dLfWjn5lp4+eWjrF5tuxh8663deOQRvQHO3Tgm+1OnUpg06VNiYtK54op2rF37Ky67LMjVIV5CE309SU3N5fPPj/LZZ0fZvDn6kuR+6639ueWWK2jbthlnz569ZIha5TrNmzenY8eOZGQICxZ8xU8/2W6SWbhwEP/7v+MICal4Or/MzEzi4+PJyvplICxjDJs3X+DVV48RF5eDr68Xv//9FcyZ012ba9xUs2bN6N27N35+fsTHZ3LjjZ9y+HAiHToE8sUXt3HddY2rp5wm+jpUWFjE2rWRfPTRAb799mTJxAU+Pl5MmGBL7jff3K/k611WVhYxMTFNfnaoxsrb25tWrYL46KNI/vGPnykstNK8uQ933TWY3/3uGq64oj3GGHJzc7l48SKpqaml+scXFlrZuPE8K1ZEc/hwOgC9erXk2WcH07u3zv3q7nx9fbn88ssJDAwkLS2X2277nB9/jMLX14vXX5/CPfcMbTQf5Jro68CBAxf46KMDLF16iMRE23CzIra7L+fOvYqbb+5H27bNS7YvKioiPj7+kkmgVeN17lw2b755gg0bfpluoVevVgwb1o6ePVvQoUMzvLyEnBwLZ89mc+RIOrt2JZGTY/uwDwryZfHivtxyy2XaVONBRITQ0FA6dOiAxWLlT3/awCuv/Az8ckNeY2i310RfQ4mJ2SxbdoiPPjpARMQvfaP79WvHnXcO5Fe/GkBoaOlamzGGlJQU4uPjKSx07y5ZTdWpUxdZtSqGdeviSpJ4Zfr0acXs2d2YMiWE5s11aGlP1apVK7p164afnx+ffnqQe+/9nqysAjp3bsG7705n6tQ+Lo1PE301FBQU8d13J/noowOsWXOqpMdMmzbNmDfvKu68cxDXXNPlkq9rxhjS09OJj48vmQxDubfCQisHDqSyf38qsbE5JCXlIWKbvrBr1wB69mzJtde2p1On5lXvTHkELy8vOnfuTMeOHYmJSWfBgq/Yvt124X3GjL68/PIkLr+8rUti00RfBavVsGPHOZYuPciqVUdJTbW1wXp7C1Om9ObOOwcyfXof/P0vra0VFRWRkpJCYmKitsMr1UT4+fnRuXNnWrduw6uv7uLpp/9LVlYBfn7eLFo0iMcfv47u3Vs3aEya6MthsVjZufMc3313kpUrj3DmTEbJugEDOnLnnQOZP/9qOnZscUlZYwyZmZmkpqaSlpamc7oq1UT5+vrSvn17Cgr8eeqprXzyyQGMsXXOuOWWftx99xAmTuzZIPMB1zrRi8hk4FXAG3jPGPN8mfVSvP4mIAdYaIzZ50zZ8tRHordYrBw6lMDPP8eydetZ1q2LJC3tlyaW0NBW3H77VcyfP4ABAy4dlqCwsJDMzEwyMjLIyMgoNWOQUkq1bNmSpCTDv/99mBUrjpR0t+7UqQXTpvVm+vS+jBnTjaCgZvVy/FolehHxBk4CNwCx2CYLn2eMOeqwzU3AA9gS/XDgVWPMcGfKlqemiT4/30JCQjYXLmQRH5/JyZMpHD+ezPHjyRw4kHDJeBV9+gQzdWpvZs7sy+jR3Uo+dS0WC7m5ueTm5pKdnU12drY2yyilnJaWVsTatRf47LNIzp7NLFkuAldc0Z5rrulCv37t6N27Lb16taVTpxYEBwfUqrdWZYnemS4Cw4BIY0xU8c5WADMBx2Q9E/jY2D41fhaR1iLSGejuRNlLREenM3/+lxhjMIaSO0mNsbWn5+QUkp1dQHa27WdOTiEZGfmkp1d+EfTyy9swfHgXwsI6M25cVy67rAWFhYUUFhYSExNNQUEBeXl5WltXStVKmzbezJsXwty5XTh58iLbtiWyc2cSR4+mc/RoEkePJl1SRgSCgwMIDm5OQIBvyaN5c9tPHx8vvLwELy/B21tKfrc/KuNMog8BHOfWisVWa69qmxAnyxafpNwD3GN71plly6o/QYSPjxcdOgQUPwLp2TOIXr1a07NnEH36tKZdu9K9I+zdH319ffH19SUwMLDax/QUL774Io8++mi97Ke2+3Z1eXd3yy23sHr16mr/Her6796Y/w/1GVvXrjBhwpUA5OcXceRIMgcPJhMdnUFUVAZnzlwkOTmXtLQ8kpNz6mfCE1utueIHcCu2tnX78zuA18ts8z1wncPzjcBQZ8qW9+jevb/55JMD5tNPD5ilSw+aZcsOmuXLD5nlyw+ZlSsPm2+/PWE2bYoyu3bFmkOHEkxUVKpJSso2RUVW09CWLFnS4Mes6tiOy52Nz/ZSsBkzZkyNjlt2P5Utq85+qypf1Tk6e3xPUfbvYT9/oMq/leN6Z//uS5YsKfV7ReUr21913kf18Z5rDK+RwsIic+FCpjl6NNGEh8eZrVtjzLp1kWb16mNm6dKD5uOPI8wHH+w377+/z7z77l7z9tvh5t//3mPeeGO3ee21nw0QbirK4xWtKNkARgDrHJ4/ATxRZpu3sbW925+fADo7U7a8x9ChQxvgz1o3XPkCqejYjsvLbuNMMq3qnCpbX5tE78z51Md6T1NRggWq9beqaFv7a6i8/VZWvrqvm7rYtiYVHVdW3mqjtoneB4gCegB+wAHgyjLbTAV+AAS4FtjtbNnyHproa3fs8t5sZd+c9mX2N2nZh319eS/68j48KtpP2Udl30Kcic2ZeKpbvrGq6O9f1XrAjBkzpsr/Q9lvfpX9Hx2/5Tnu3/687O9VPez7K+91Wdn5VrVt2XOqatvKXv/uplaJ3laem7D1njkN/KV42WJgcfHvArxRvP4QEFZZ2aoejT3RO5tE6iOpVHTsqt7Y9vgq+3CoKuk7c87l7b/sh40z51NVE0Jl5ZyJyR1UlXSc+f9U9bqorGxtti0be9n/a2Wx1fR1Yt+vs3+/ysq5o1on+oZ+NPZE76iqN2J9H7u8F2jZZc4m07LlK3qjVPecy4urqnNx9njlra/qeUOqzYd9dRJ92eX2n5X978tLimWTcXnra/souz/7c8dvCY4cv22Ujau8c6/Jt7mKYnWnb4Ca6OtRY070zrzJa9LsUtl5Vda0UrZcVbVyZ994VSV2V75Zq/saqOz/UVXzSlXr6/vheL613U9Vf4/ymmicee1W9nev6f+ssdBEX4/Ka66p75pBdV7YZZNzRUnXcZm9/bS8N57jPmsTY3lfuSt6g1X1xqvuB0NDqk3SqOxvUtn6ij6Qy25v//s4k3TrIoFX9+F4Ho7xVFUzd/bv58w+3IkmehepjxeMs1/Fy4ulqmRYVWKoqco+XGraRu/M8Vylrj50aproHddXFo8zib4+Ho6xV/To1q1blR8AlZ2z/feafNC7unJQU5roXaS+E05Fta7yVHbRqqJt7DXl2qos0Tseq6L1NUmQjUVtYqnq7+/M+rLPHeOprPnDGFPutvZlFX3rK69seZUJ+/EqqrU7qs4HZdlzako00btIfb/Qyr74q3O8hkyGZZuRKlJXMTWmN3hj+tAxpvJ4yn4zrCjpln1eXqKv6BtZRa/Xsom/smOo8lWW6BvlMMUikontpitP0A5Irqd9dwHiq9yqbss21vOpifo8F7uGPCdnzqeyeOzryv6srHyX4p/xFayv6piO+vLL+97xXMoewx01xGutmzGmfXkrGuu8ZydMBaOwuRsRCfeUcwHPOh9POhfwrPPxpHMB15+PzmCslFIeThO9Ukp5uMaa6N9xdQB1yJPOBTzrfDzpXMCzzseTzgVcfD6N8mKsUkqputNYa/RKKaXqiCZ6pZTycI060YvIH0XEiEg7V8dSGyLyoogcF5GDIrJaRFq7OqbqEpHJInJCRCJF5HFXx1MbItJVRDaLyDEROSIiv3d1TLUlIt4isl9EvnN1LLVVPOf058XvmWMiMsLVMdWUiDxU/Bo7LCLLRaSZK+JotIleRLoCNwBnXR1LHdgAXGWMGYBtbP4nXBxPtYiIN7b5BqYA/YF5ItLftVHVigV4xBhzBbaJcu5z8/MB+D1wzNVB1JFXgbXGmH7AQNz0vEQkBHgQ2/wcVwHewFxXxNJoEz3wCvAnbLc/uzVjzHpjjKX46c9AqCvjqYFhQKQxJsoYUwCsAGa6OKYaM8acN8bsK/49E1siCXFtVDUnIqHYZnl7z9Wx1JaItAKuB94HMMYUGGPSXRpU7fgAzUXEBwjARXf3NspELyIzgDhjzAFXx1IPfo1t2kV3EgKcc3geixsnRkci0h0YDOxycSi18S9slSKri+OoCz2BJOCD4qao90Qk0NVB1YQxJg54CVurxHkgwxiz3hWxuCzRi8iPxe1WZR8zgb8AT7kqtpqo4nzs2/wFW7PBUtdFWiNSzjK3/6YlIi2AL4A/GGMuujqemhCRaUCiMWavq2OpIz7AEODfxpjBQDbglteERKQNtm++PbCN1xMoIr9yRSwuG+vGGDOxvOUicjW2P8wBEQFbM8c+ERlmjLnQgCFWS0XnYycidwLTgAnG/W5eiAW6OjwPxb0HmEJEfLEl+aXGmC9dHU8tjAJmiMhNQDOglYh8aoxxSUKpA7FArDHG/g3rc9w00QMTgWhjTBKAiHwJjAQ+behAGl3TjTHmkDGmgzGmuzGmO7Z//JDGnOSrIiKTgceAGcaYHFfHUwN7gN4i0kNE/LBdUPrGxTHVmNhqEO8Dx4wxL7s6ntowxjxhjAktfq/MBTa5cZKn+H1+TkT6Fi+aABx1YUi1cRa4VkQCil9zE3DRheXGOnqlp/k/wB/YUPwt5WdjzGLXhuQ8Y4xFRO4H1mHrOfAfY8wRF4dVG6OAO4BDIhJRvOzPxpg1rgtJOXgAWFpcqYgCFrk4nhoxxuwSkc+BfdiabPfjoqEQdAgEpZTycI2u6UYppVTd0kSvlFIeThO9Ukp5OE30Sinl4TTRK6WUh9NEr5RSHk4TvVJKebj/D5PpFp9rCBLSAAAAAElFTkSuQmCC\n",
          "text/plain": "<Figure size 432x288 with 1 Axes>"
         },
         "metadata": {
          "needs_background": "light"
         },
         "output_type": "display_data"
        }
       ]
      }
     },
     "9249d7cc73f540df802acff0d6043940": {
      "model_module": "@jupyter-widgets/controls",
      "model_module_version": "1.5.0",
      "model_name": "FloatSliderModel",
      "state": {
       "description": "temperature",
       "layout": "IPY_MODEL_8861b72ec73f478c99a10298157e065d",
       "min": 0.01,
       "step": 0.01,
       "style": "IPY_MODEL_cc629952423b446691a3686549857015",
       "value": 5
      }
     },
     "926478f11c4e45dd91375abb818620b1": {
      "model_module": "@jupyter-widgets/controls",
      "model_module_version": "1.5.0",
      "model_name": "FloatSliderModel",
      "state": {
       "description": "temperature",
       "layout": "IPY_MODEL_2c675294c4d048f9a9023d07c6f6cb01",
       "min": 0.01,
       "step": 0.01,
       "style": "IPY_MODEL_63f33abe80254c38a3611c76c8f5bb5b",
       "value": 5
      }
     },
     "93e70793cd464f9ebb7424490d91df22": {
      "model_module": "@jupyter-widgets/base",
      "model_module_version": "1.2.0",
      "model_name": "LayoutModel",
      "state": {}
     },
     "95c2cb044a6a440fbb108fec066ecfec": {
      "model_module": "@jupyter-widgets/base",
      "model_module_version": "1.2.0",
      "model_name": "LayoutModel",
      "state": {}
     },
     "96949da4ecad40e4bdbfa464b3294d2e": {
      "model_module": "@jupyter-widgets/controls",
      "model_module_version": "1.5.0",
      "model_name": "FloatSliderModel",
      "state": {
       "description": "window",
       "layout": "IPY_MODEL_4cb6f231474b40748972413e074cbd7e",
       "max": 1,
       "min": 0.01,
       "step": 0.01,
       "style": "IPY_MODEL_27e6424147f941a6969667a41cedbead",
       "value": 0.5
      }
     },
     "9bb095b86dbe4f86bf94510accc2402e": {
      "model_module": "@jupyter-widgets/controls",
      "model_module_version": "1.5.0",
      "model_name": "SliderStyleModel",
      "state": {
       "description_width": ""
      }
     },
     "9eaa1db88ac3450b8c54372b91aa8dd4": {
      "model_module": "@jupyter-widgets/controls",
      "model_module_version": "1.5.0",
      "model_name": "VBoxModel",
      "state": {
       "_dom_classes": [
        "widget-interact"
       ],
       "children": [
        "IPY_MODEL_84764019ec534416bde4ca75550a986c",
        "IPY_MODEL_75e852986ad445219426e783b511a168",
        "IPY_MODEL_6eabaee47e7c4132bdb05f3ea63c7c1e"
       ],
       "layout": "IPY_MODEL_61531e8ca38642f3a3ca61190335962d"
      }
     },
     "a36dfb14d50f4199acfcc6e527ec5554": {
      "model_module": "@jupyter-widgets/base",
      "model_module_version": "1.2.0",
      "model_name": "LayoutModel",
      "state": {}
     },
     "a5bc451eae2f4bf686e428e9ecf42a9f": {
      "model_module": "@jupyter-widgets/controls",
      "model_module_version": "1.5.0",
      "model_name": "VBoxModel",
      "state": {
       "_dom_classes": [
        "widget-interact"
       ],
       "children": [
        "IPY_MODEL_2d2936a13f34423d9e81bfb6fe9a1718",
        "IPY_MODEL_09372dee8b7a4ed0ad794db88e3d2045"
       ],
       "layout": "IPY_MODEL_93e70793cd464f9ebb7424490d91df22"
      }
     },
     "a8158a48f1e041158ad477297e987b7b": {
      "model_module": "@jupyter-widgets/controls",
      "model_module_version": "1.5.0",
      "model_name": "SliderStyleModel",
      "state": {
       "description_width": ""
      }
     },
     "a9e209bb5e4647aa837ebe6446aaffc9": {
      "model_module": "@jupyter-widgets/controls",
      "model_module_version": "1.5.0",
      "model_name": "VBoxModel",
      "state": {
       "_dom_classes": [
        "widget-interact"
       ],
       "children": [
        "IPY_MODEL_77672e0d93a34877b02e56e7c9db6d52",
        "IPY_MODEL_4c80e5f1ba2041189565f34eb9e61b29"
       ],
       "layout": "IPY_MODEL_4716961b53e64e8296cce4eb0e166ffe"
      }
     },
     "af1b176f6eba4e58acc5260b2f933b72": {
      "model_module": "@jupyter-widgets/output",
      "model_module_version": "1.0.0",
      "model_name": "OutputModel",
      "state": {
       "layout": "IPY_MODEL_64e148cc41024cb9bfb0924ac560b01a",
       "outputs": [
        {
         "data": {
          "image/png": "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\n",
          "text/plain": "<Figure size 432x288 with 1 Axes>"
         },
         "metadata": {
          "needs_background": "light"
         },
         "output_type": "display_data"
        }
       ]
      }
     },
     "b14df1ab08d244dd92d25c3db797f99f": {
      "model_module": "@jupyter-widgets/base",
      "model_module_version": "1.2.0",
      "model_name": "LayoutModel",
      "state": {}
     },
     "b2024d25d8a241e4ada5534754700c61": {
      "model_module": "@jupyter-widgets/base",
      "model_module_version": "1.2.0",
      "model_name": "LayoutModel",
      "state": {}
     },
     "b3d2b9b38ed842dc9d6b0b88751dc295": {
      "model_module": "@jupyter-widgets/controls",
      "model_module_version": "1.5.0",
      "model_name": "FloatSliderModel",
      "state": {
       "description": "parameter",
       "layout": "IPY_MODEL_04e254ac07bf4f95820cbfca28e39840",
       "min": 0.05,
       "step": 0.05,
       "style": "IPY_MODEL_db208c4733124fe5b6bc65d281f8859c",
       "value": 5
      }
     },
     "b81e48573b2e4b3c9b5c4e8ce2fa3aa6": {
      "model_module": "@jupyter-widgets/base",
      "model_module_version": "1.2.0",
      "model_name": "LayoutModel",
      "state": {}
     },
     "bdb139efa089446c88d1180c0a08b8e3": {
      "model_module": "@jupyter-widgets/base",
      "model_module_version": "1.2.0",
      "model_name": "LayoutModel",
      "state": {}
     },
     "c0e2d4f0366d4e4c8f9d4661d90bc4ab": {
      "model_module": "@jupyter-widgets/controls",
      "model_module_version": "1.5.0",
      "model_name": "FloatSliderModel",
      "state": {
       "description": "a2",
       "layout": "IPY_MODEL_b2024d25d8a241e4ada5534754700c61",
       "max": 0.98,
       "min": 0.01,
       "step": 0.01,
       "style": "IPY_MODEL_a8158a48f1e041158ad477297e987b7b",
       "value": 0.05
      }
     },
     "c51d52a3a7114c8781ab5a4827f7c643": {
      "model_module": "@jupyter-widgets/base",
      "model_module_version": "1.2.0",
      "model_name": "LayoutModel",
      "state": {}
     },
     "cacd94e76ba74a5b8db19f8e214dec12": {
      "model_module": "@jupyter-widgets/base",
      "model_module_version": "1.2.0",
      "model_name": "LayoutModel",
      "state": {}
     },
     "cbbfe58b8d7147a78ed1a274b989a31a": {
      "model_module": "@jupyter-widgets/controls",
      "model_module_version": "1.5.0",
      "model_name": "SliderStyleModel",
      "state": {
       "description_width": ""
      }
     },
     "cc629952423b446691a3686549857015": {
      "model_module": "@jupyter-widgets/controls",
      "model_module_version": "1.5.0",
      "model_name": "SliderStyleModel",
      "state": {
       "description_width": ""
      }
     },
     "d2624b5414944103a3d4cbd8bc627d3e": {
      "model_module": "@jupyter-widgets/controls",
      "model_module_version": "1.5.0",
      "model_name": "FloatSliderModel",
      "state": {
       "description": "beta",
       "layout": "IPY_MODEL_e30ed6b4ca9a494eb61171ac198faeca",
       "min": 0.05,
       "step": 0.05,
       "style": "IPY_MODEL_dedbe934ec8a47cfa34cafccb085af04",
       "value": 1
      }
     },
     "d54f57642bc94f2382a836f928702c12": {
      "model_module": "@jupyter-widgets/base",
      "model_module_version": "1.2.0",
      "model_name": "LayoutModel",
      "state": {}
     },
     "db208c4733124fe5b6bc65d281f8859c": {
      "model_module": "@jupyter-widgets/controls",
      "model_module_version": "1.5.0",
      "model_name": "SliderStyleModel",
      "state": {
       "description_width": ""
      }
     },
     "debba286ddc842edaa865830a82b9a9d": {
      "model_module": "@jupyter-widgets/base",
      "model_module_version": "1.2.0",
      "model_name": "LayoutModel",
      "state": {}
     },
     "dedbe934ec8a47cfa34cafccb085af04": {
      "model_module": "@jupyter-widgets/controls",
      "model_module_version": "1.5.0",
      "model_name": "SliderStyleModel",
      "state": {
       "description_width": ""
      }
     },
     "e220e73ceab248f3929a5e491c07c776": {
      "model_module": "@jupyter-widgets/base",
      "model_module_version": "1.2.0",
      "model_name": "LayoutModel",
      "state": {}
     },
     "e30ed6b4ca9a494eb61171ac198faeca": {
      "model_module": "@jupyter-widgets/base",
      "model_module_version": "1.2.0",
      "model_name": "LayoutModel",
      "state": {}
     },
     "e6c0ea57f9b149ee9f4deb2025ea4aaa": {
      "model_module": "@jupyter-widgets/base",
      "model_module_version": "1.2.0",
      "model_name": "LayoutModel",
      "state": {}
     },
     "e86c0fe4b9424c3093a32248db1aa819": {
      "model_module": "@jupyter-widgets/controls",
      "model_module_version": "1.5.0",
      "model_name": "VBoxModel",
      "state": {
       "_dom_classes": [
        "widget-interact"
       ],
       "children": [
        "IPY_MODEL_f94ebd037a26481496c8937b40f86a13",
        "IPY_MODEL_c0e2d4f0366d4e4c8f9d4661d90bc4ab",
        "IPY_MODEL_5442fd924a524410ae8bf3372693c7aa",
        "IPY_MODEL_ef885681017046479d3775275c717450",
        "IPY_MODEL_ffb7c381c0c245ad88d8cc5a6bc3f37c"
       ],
       "layout": "IPY_MODEL_3bbe56c1612e412bb9b66bbff9754c1c"
      }
     },
     "ec5b6c7cc5e244db9c83848f62c862ee": {
      "model_module": "@jupyter-widgets/controls",
      "model_module_version": "1.5.0",
      "model_name": "SliderStyleModel",
      "state": {
       "description_width": ""
      }
     },
     "ef885681017046479d3775275c717450": {
      "model_module": "@jupyter-widgets/controls",
      "model_module_version": "1.5.0",
      "model_name": "IntSliderModel",
      "state": {
       "description": "temperature",
       "layout": "IPY_MODEL_e220e73ceab248f3929a5e491c07c776",
       "max": 10,
       "min": 1,
       "style": "IPY_MODEL_43623df99c30430ebeab5dd661214fe5",
       "value": 10
      }
     },
     "f1f57fb345354af68c18094215be77a3": {
      "model_module": "@jupyter-widgets/base",
      "model_module_version": "1.2.0",
      "model_name": "LayoutModel",
      "state": {}
     },
     "f4259925b8984e90b9c5f34ba91895a6": {
      "model_module": "@jupyter-widgets/controls",
      "model_module_version": "1.5.0",
      "model_name": "FloatSliderModel",
      "state": {
       "description": "parameter",
       "layout": "IPY_MODEL_f9f18adddcea424294d327987f357d4b",
       "max": 10,
       "min": 0.02,
       "step": 0.04,
       "style": "IPY_MODEL_ec5b6c7cc5e244db9c83848f62c862ee",
       "value": 10
      }
     },
     "f94ebd037a26481496c8937b40f86a13": {
      "model_module": "@jupyter-widgets/controls",
      "model_module_version": "1.5.0",
      "model_name": "FloatSliderModel",
      "state": {
       "description": "a1",
       "layout": "IPY_MODEL_f1f57fb345354af68c18094215be77a3",
       "max": 0.98,
       "min": 0.01,
       "step": 0.01,
       "style": "IPY_MODEL_4b4068398ac14dd3867415f07a63b9f5",
       "value": 0.98
      }
     },
     "f9f18adddcea424294d327987f357d4b": {
      "model_module": "@jupyter-widgets/base",
      "model_module_version": "1.2.0",
      "model_name": "LayoutModel",
      "state": {}
     },
     "fa2e10ba4e6b47e0ab63d0f43cd21067": {
      "model_module": "@jupyter-widgets/controls",
      "model_module_version": "1.5.0",
      "model_name": "SliderStyleModel",
      "state": {
       "description_width": ""
      }
     },
     "fab3e08d263e454e8a5928985acd197a": {
      "model_module": "@jupyter-widgets/base",
      "model_module_version": "1.2.0",
      "model_name": "LayoutModel",
      "state": {}
     },
     "fdcdc35e6a914f94b7d3fee4485370e8": {
      "model_module": "@jupyter-widgets/base",
      "model_module_version": "1.2.0",
      "model_name": "LayoutModel",
      "state": {}
     },
     "ffb7c381c0c245ad88d8cc5a6bc3f37c": {
      "model_module": "@jupyter-widgets/output",
      "model_module_version": "1.0.0",
      "model_name": "OutputModel",
      "state": {
       "layout": "IPY_MODEL_fab3e08d263e454e8a5928985acd197a",
       "outputs": [
        {
         "name": "stdout",
         "output_type": "stream",
         "text": "[9.8 0.5 5. ]\n"
        },
        {
         "data": {
          "image/png": "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\n",
          "text/plain": "<Figure size 720x432 with 1 Axes>"
         },
         "metadata": {},
         "output_type": "display_data"
        }
       ]
      }
     }
    },
    "version_major": 2,
    "version_minor": 0
   }
  }
 },
 "nbformat": 4,
 "nbformat_minor": 5
}
