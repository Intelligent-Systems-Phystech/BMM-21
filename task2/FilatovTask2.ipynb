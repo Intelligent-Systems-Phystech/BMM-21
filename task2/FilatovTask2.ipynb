{
  "nbformat": 4,
  "nbformat_minor": 0,
  "metadata": {
    "kernelspec": {
      "display_name": "Python 3",
      "language": "python",
      "name": "python3"
    },
    "language_info": {
      "codemirror_mode": {
        "name": "ipython",
        "version": 3
      },
      "file_extension": ".py",
      "mimetype": "text/x-python",
      "name": "python",
      "nbconvert_exporter": "python",
      "pygments_lexer": "ipython3",
      "version": "3.6.9"
    },
    "colab": {
      "name": "FilatovTask2.ipynb",
      "provenance": []
    }
  },
  "cells": [
    {
      "cell_type": "markdown",
      "metadata": {
        "id": "DsmNFGQzdwai"
      },
      "source": [
        "## Задание 7.\n",
        "#### Исполнитель: Филатов Андрей\n",
        "Визуализировать эмпирическое распределение параметров модели в зависимости от значения $\\sigma^2$. Модель: произвольная. Выборка: произвольная. Априорное распределение параметров: нормальное распределение со скалярным параметром дисперсии дисперсией $(N(0, \\sigma^2 I))$.\n"
      ]
    },
    {
      "cell_type": "markdown",
      "metadata": {
        "id": "q2FiK1Amdwan"
      },
      "source": [
        "### Импортируем все нужные библиотеки"
      ]
    },
    {
      "cell_type": "code",
      "metadata": {
        "id": "Zq4XFBCndwao"
      },
      "source": [
        "import pymc3 as pm\n",
        "import scipy.stats as st\n",
        "import numpy as np\n",
        "import seaborn as sns\n",
        "import matplotlib.pyplot as plt\n",
        "\n",
        "from scipy.stats import norm, multivariate_normal"
      ],
      "execution_count": 38,
      "outputs": []
    },
    {
      "cell_type": "markdown",
      "metadata": {
        "id": "iRP4GG0kTQzH"
      },
      "source": [
        "Сгенерируем выборку нормального распределения"
      ]
    },
    {
      "cell_type": "code",
      "metadata": {
        "id": "hYGfhgBsgKLy"
      },
      "source": [
        "rv_X = multivariate_normal([0.0, 0.0], [[1.0, 0.0], [0.0, 1.0]])\n",
        "rv_w = multivariate_normal([5.0, 3.0], [[1.0, 0.0], [0.0, 1.0]])\n",
        "rv_norm = norm(0.0, 1.0)"
      ],
      "execution_count": 138,
      "outputs": []
    },
    {
      "cell_type": "code",
      "metadata": {
        "id": "TaRF-BVHhl9S"
      },
      "source": [
        "X = rv_X.rvs(100)\n",
        "w = rv_w.rvs(1)\n",
        "y = (X @ w + rv_norm.rvs(size=(100)))"
      ],
      "execution_count": 139,
      "outputs": []
    },
    {
      "cell_type": "markdown",
      "metadata": {
        "id": "bKR_0v1ITV-r"
      },
      "source": [
        "Для нахождение эмпирического распределения воспользуемся MCMC из библиотеки PyMC3"
      ]
    },
    {
      "cell_type": "code",
      "metadata": {
        "id": "p6A-mrwqw3tD"
      },
      "source": [
        "sigmas = np.logspace(-2, 0, 10)\n",
        "ws = []\n",
        "\n",
        "for sigma in sigmas: \n",
        "    basic_model = pm.Model()\n",
        "\n",
        "    with basic_model:\n",
        "        # Priors for unknown model parameters\n",
        "        weights = pm.Normal('weights', mu=0, sigma=sigma, shape=2)\n",
        "        # Expected value of outcome\n",
        "        mu = weights[0] * X[:, 0] + weights[1] * X[:, 1]\n",
        "        # Likelihood (sampling distribution) of observations\n",
        "        Y_obs = pm.Normal('Y_obs', mu=mu, sigma=1.0, observed=y)\n",
        "\n",
        "    with basic_model:\n",
        "        # draw 5000 posterior samples\n",
        "        trace = pm.sample(4000)\n",
        "    ws.append(trace['weights'])"
      ],
      "execution_count": null,
      "outputs": []
    },
    {
      "cell_type": "code",
      "metadata": {
        "id": "O1AaWggxOCMs"
      },
      "source": [
        "x_opt, y_opt = ws[-1].mean(0)"
      ],
      "execution_count": 155,
      "outputs": []
    },
    {
      "cell_type": "markdown",
      "metadata": {
        "id": "Q64wEnkvUoAs"
      },
      "source": [
        "Отрисуем зависимость распределения весов от $\\sigma$. Стрелка указывает направления возрастания $\\sigma$"
      ]
    },
    {
      "cell_type": "code",
      "metadata": {
        "colab": {
          "base_uri": "https://localhost:8080/",
          "height": 299
        },
        "id": "7tMHBU16Ko_7",
        "outputId": "b63f7130-8ea2-4cb1-d382-00edf5433b05"
      },
      "source": [
        "kde_data = []\n",
        "plt.title('График зависимости распределения весов от $\\sigma$ на отрезке [0.01, 1.0]')\n",
        "label_patches = []\n",
        "\n",
        "for i in range(len(ws)):\n",
        "    tmp = sns.kdeplot(x=ws[i][:, 0], y=ws[i][:, 1], fill=True, label=f'$\\sigma={round(sigmas[i], 2)}$')\n",
        "\n",
        "plt.arrow(0.0, 0.0, x_opt-0.2, y_opt-0.2, head_width=0.2, head_length=0.4, color='green', fc='k', ec='k')\n",
        "plt.ylim(0, y_opt + 0.5)\n",
        "plt.xlim(0, x_opt + 0.5)\n",
        "plt.xlabel('$w_1$')\n",
        "plt.ylabel('$w_2$')\n",
        "\n",
        "plt.grid()\n",
        "plt.show()"
      ],
      "execution_count": 162,
      "outputs": [
        {
          "output_type": "display_data",
          "data": {
            "image/png": "[encoded data removed]",
            "text/plain": [
              "<Figure size 432x288 with 1 Axes>"
            ]
          },
          "metadata": {
            "needs_background": "light"
          }
        }
      ]
    },
    {
      "cell_type": "markdown",
      "metadata": {
        "id": "wLoNbOS0T5B9"
      },
      "source": [
        "Из результатов видно, что при $\\sigma$ больше 1.0 вклад априорного распределения отсутствует, а при $\\sigma$ меньше 0.01 решение вырождается к (0.0, 0.0)"
      ]
    }
  ]
}