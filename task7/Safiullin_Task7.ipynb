{
 "cells": [
  {
   "cell_type": "markdown",
   "metadata": {},
   "source": [
    "# Задание 7. Исполнитель: Сафиуллин Роберт\n",
    "Рассмотреть дистилляцию Хинтона как частный случай domain adaptation.\n",
    "1. Обучить модель-учитель на MNIST\n",
    "2. Провести дистилляцию Хинтона для модели ученика на MNIST-M\n",
    "\n",
    "Визуализировать точность полученной модели на графике с тремя осями:\n",
    "*   точность на тесте\n",
    "*   температура дистилляции\n",
    "*   lambda (важность слагаемого дистилляции)\n",
    "\n",
    "Ссылки:\n",
    "* [Дистилляция](https://arxiv.org/abs/1503.02531)\n",
    "* [MNIST-M](https://paperswithcode.com/dataset/mnist-m)"
   ]
  },
  {
   "cell_type": "code",
   "execution_count": 1,
   "metadata": {},
   "outputs": [],
   "source": [
    "import pandas as pd\n",
    "import errno\n",
    "import os\n",
    "import plotly.express as px\n",
    "import numpy as np\n",
    "import matplotlib.pyplot as plt\n",
    "import itertools\n",
    "import torch\n",
    "import torch.utils.data\n",
    "import torch.nn as nn\n",
    "import torch.nn.functional as F\n",
    "import torch.optim as optim\n",
    "from torchvision import datasets, transforms\n",
    "from PIL import Image\n",
    "from __future__ import print_function\n"
   ]
  },
  {
   "cell_type": "code",
   "execution_count": 2,
   "metadata": {},
   "outputs": [],
   "source": [
    "\n",
    "\"\"\"Dataset setting and data loader for MNIST-M.\n",
    "Modified from\n",
    "https://github.com/pytorch/vision/blob/master/torchvision/datasets/mnist.py\n",
    "CREDIT: https://github.com/corenel\n",
    "\"\"\"\n",
    "\n",
    "\n",
    "\n",
    "class MNISTM(torch.utils.data.Dataset):\n",
    "    \"\"\"`MNIST-M Dataset.\"\"\"\n",
    "\n",
    "    url = \"https://github.com/VanushVaswani/keras_mnistm/releases/download/1.0/keras_mnistm.pkl.gz\"\n",
    "\n",
    "    raw_folder = \"raw\"\n",
    "    processed_folder = \"processed\"\n",
    "    training_file = \"mnist_m_train.pt\"\n",
    "    test_file = \"mnist_m_test.pt\"\n",
    "\n",
    "    def __init__(self, root, mnist_root=\"data\", train=True, transform=None, target_transform=None, download=False):\n",
    "        \"\"\"Init MNIST-M dataset.\"\"\"\n",
    "        super(MNISTM, self).__init__()\n",
    "        self.root = os.path.expanduser(root)\n",
    "        self.mnist_root = os.path.expanduser(mnist_root)\n",
    "        self.transform = transform\n",
    "        self.target_transform = target_transform\n",
    "        self.train = train  # training set or test set\n",
    "\n",
    "        if download:\n",
    "            self.download()\n",
    "\n",
    "        if not self._check_exists():\n",
    "            raise RuntimeError(\"Dataset not found.\" + \" You can use download=True to download it\")\n",
    "\n",
    "        if self.train:\n",
    "            self.train_data, self.train_labels = torch.load(\n",
    "                os.path.join(self.root, self.processed_folder, self.training_file)\n",
    "            )\n",
    "        else:\n",
    "            self.test_data, self.test_labels = torch.load(\n",
    "                os.path.join(self.root, self.processed_folder, self.test_file)\n",
    "            )\n",
    "\n",
    "    def __getitem__(self, index):\n",
    "        \"\"\"Get images and target for data loader.\n",
    "        Args:\n",
    "            index (int): Index\n",
    "        Returns:\n",
    "            tuple: (image, target) where target is index of the target class.\n",
    "        \"\"\"\n",
    "        if self.train:\n",
    "            img, target = self.train_data[index], self.train_labels[index]\n",
    "        else:\n",
    "            img, target = self.test_data[index], self.test_labels[index]\n",
    "\n",
    "        # doing this so that it is consistent with all other datasets\n",
    "        # to return a PIL Image\n",
    "        img = Image.fromarray(img.squeeze().numpy(), mode=\"RGB\")\n",
    "\n",
    "        if self.transform is not None:\n",
    "            img = self.transform(img)\n",
    "\n",
    "        if self.target_transform is not None:\n",
    "            target = self.target_transform(target)\n",
    "\n",
    "        return img, target\n",
    "\n",
    "    def __len__(self):\n",
    "        \"\"\"Return size of dataset.\"\"\"\n",
    "        if self.train:\n",
    "            return len(self.train_data)\n",
    "        else:\n",
    "            return len(self.test_data)\n",
    "\n",
    "    def _check_exists(self):\n",
    "        return os.path.exists(os.path.join(self.root, self.processed_folder, self.training_file)) and os.path.exists(\n",
    "            os.path.join(self.root, self.processed_folder, self.test_file)\n",
    "        )\n",
    "\n",
    "    def download(self):\n",
    "        \"\"\"Download the MNIST data.\"\"\"\n",
    "        # import essential packages\n",
    "        from six.moves import urllib\n",
    "        import gzip\n",
    "        import pickle\n",
    "        from torchvision import datasets\n",
    "\n",
    "        # check if dataset already exists\n",
    "        if self._check_exists():\n",
    "            return\n",
    "\n",
    "        # make data dirs\n",
    "        try:\n",
    "            os.makedirs(os.path.join(self.root, self.raw_folder))\n",
    "            os.makedirs(os.path.join(self.root, self.processed_folder))\n",
    "        except OSError as e:\n",
    "            if e.errno == errno.EEXIST:\n",
    "                pass\n",
    "            else:\n",
    "                raise\n",
    "\n",
    "        # download pkl files\n",
    "        print(\"Downloading \" + self.url)\n",
    "        filename = self.url.rpartition(\"/\")[2]\n",
    "        file_path = os.path.join(self.root, self.raw_folder, filename)\n",
    "        if not os.path.exists(file_path.replace(\".gz\", \"\")):\n",
    "            data = urllib.request.urlopen(self.url)\n",
    "            with open(file_path, \"wb\") as f:\n",
    "                f.write(torch.utils.data.read())\n",
    "            with open(file_path.replace(\".gz\", \"\"), \"wb\") as out_f, gzip.GzipFile(file_path) as zip_f:\n",
    "                out_f.write(zip_f.read())\n",
    "            os.unlink(file_path)\n",
    "\n",
    "        # process and save as torch files\n",
    "        print(\"Processing...\")\n",
    "\n",
    "        # load MNIST-M images from pkl file\n",
    "        with open(file_path.replace(\".gz\", \"\"), \"rb\") as f:\n",
    "            mnist_m_data = pickle.load(f, encoding=\"bytes\")\n",
    "        mnist_m_train_data = torch.ByteTensor(mnist_m_data[b\"train\"])\n",
    "        mnist_m_test_data = torch.ByteTensor(mnist_m_data[b\"test\"])\n",
    "\n",
    "        # get MNIST labels\n",
    "        mnist_train_labels = datasets.MNIST(root=self.mnist_root, train=True, download=True).train_labels\n",
    "        mnist_test_labels = datasets.MNIST(root=self.mnist_root, train=False, download=True).test_labels\n",
    "\n",
    "        # save MNIST-M dataset\n",
    "        training_set = (mnist_m_train_data, mnist_train_labels)\n",
    "        test_set = (mnist_m_test_data, mnist_test_labels)\n",
    "        with open(os.path.join(self.root, self.processed_folder, self.training_file), \"wb\") as f:\n",
    "            torch.save(training_set, f)\n",
    "        with open(os.path.join(self.root, self.processed_folder, self.test_file), \"wb\") as f:\n",
    "            torch.save(test_set, f)\n",
    "\n",
    "        print(\"Done!\")\n",
    "        \n",
    "        \n",
    "def distill(labels, student_outputs, teacher_outputs, T):\n",
    "    ce_loss = F.cross_entropy(student_outputs, labels)\n",
    "    distill_loss = F.kl_div(\n",
    "        F.log_softmax(student_outputs / T, dim=1), \n",
    "        F.softmax(teacher_outputs / T, dim=1)\n",
    "    )\n",
    "    return ce_loss, distill_loss\n",
    "def count_params(model):\n",
    "    \n",
    "    return sum(p.numel() for p in model.parameters() if p.requires_grad)        \n",
    "        \n",
    "        \n",
    "        \n",
    "   "
   ]
  },
  {
   "cell_type": "markdown",
   "metadata": {},
   "source": [
    "### MNIST-M переводим в чб"
   ]
  },
  {
   "cell_type": "code",
   "execution_count": 3,
   "metadata": {
    "id": "K-3d4ou0snoG"
   },
   "outputs": [],
   "source": [
    "\n",
    "device = torch.device(\"cuda\" if torch.cuda.is_available() else \"cpu\")\n",
    "\n",
    "transform = transforms.Compose([\n",
    "    transforms.ToTensor(),\n",
    "    transforms.Normalize((0.1307,), (0.3081,))\n",
    "])\n",
    "\n",
    "transform_mnist_m = transforms.Compose([\n",
    "    transforms.Grayscale(num_output_channels=1),\n",
    "    transforms.ToTensor(),\n",
    "    transforms.Normalize((0.1307,), (0.3081,))\n",
    "])"
   ]
  },
  {
   "cell_type": "markdown",
   "metadata": {},
   "source": [
    "### Данные"
   ]
  },
  {
   "cell_type": "code",
   "execution_count": 4,
   "metadata": {
    "colab": {
     "base_uri": "https://localhost:8080/",
     "height": 423,
     "referenced_widgets": [
      "9460a6fb85584c59a081986c7dcefb48",
      "4730fc455a254b93ac3921ef92269cbb",
      "e77e360b259a4f658841db31615304ac",
      "f6dd2500355e40a4921f944908688bfb",
      "f2990ade199248c89c8a451d57fe9ff4",
      "544e527244b44071acaa19126350dc39",
      "ab690417538145f0a138beb302f05066",
      "72564ea4a2ba476c8a521711351f6a9e",
      "d086bd004e854478994151b2123b2efe",
      "5c79360daaa54c64b8413a80c531cf0d",
      "73467e5a829c4a9094e12f65afd41ecd",
      "643ccea03e7c4eafb6b9384439177b76",
      "2561fe38f3804aa7ad7e6682f115623c",
      "62f08bbc1b3645b9921c2974cc1f2f86",
      "933948af986449b69627bf9cd9f20369",
      "c2445f99bd164495b81bb508bec9b4c2",
      "5725ff2d30a4469cae3ca8076382d35b",
      "55318f50b6ae4cb38f06308934be29e9",
      "7527c97f153846c2ac5ce6448def08fe",
      "a2893577847f4dd69fcf78e66769ee34",
      "5e8db600030d44b9adc058d8654ca42a",
      "85ec600464c742b6aa39912224849234",
      "efa6e51cf8b8457293a30233de726a4a",
      "c7bd58524ef44fdab1efa43cb142befd",
      "69c3e4a4bc704a17989f7809139ca5be",
      "3332dff210c64da4b8096626fc1e739d",
      "0852b9f6bb34438e8050907666dd937e",
      "ab167c3a95b946828e668aa203d58717",
      "b2c9f9f90e53442da74aad16ef8fb69e",
      "12a7c5dba25f44f79c4770e4cab81e28",
      "5181de1f53744180a92eae0cfb447083",
      "d498daa5bbff4d9ebbc26c18320c3119",
      "f84fe6874d814e989b2b9a312be1ab13",
      "0c5c8ee1023c4e46ac3daa827e5f5b99",
      "4984a387a868471d88c7aee640bb82ab",
      "1067b8f1aa724ad7b4ffb6869a4b6707",
      "e4ef8434690f40e09e632267978b4bbe",
      "66bbf15e86974597b5486e0a6f8daee6",
      "ec937db291d6445cb02b7eed2b3ee0ee",
      "ad4e60fee1c94fc8a24a3e80d9777153",
      "ef1679bf28ec4276b103f5f92f4ab286",
      "f39cef4250a34379819962a88b5ccbf1",
      "84bc753b9d55462b92a6dc98688b3a10",
      "86064f11823746bcb1980d97062d205e"
     ]
    },
    "id": "ND2wRbc1snoJ",
    "outputId": "81e0048a-f7e3-49fc-9279-1a59031d24d0"
   },
   "outputs": [
    {
     "name": "stderr",
     "output_type": "stream",
     "text": [
      "C:\\Users\\safiu\\anaconda3\\lib\\site-packages\\torchvision\\datasets\\mnist.py:498: UserWarning: The given NumPy array is not writeable, and PyTorch does not support non-writeable tensors. This means you can write to the underlying (supposedly non-writeable) NumPy array using the tensor. You may want to copy the array to protect its data or make it writeable before converting it to a tensor. This type of warning will be suppressed for the rest of this program. (Triggered internally at  ..\\torch\\csrc\\utils\\tensor_numpy.cpp:180.)\n",
      "  return torch.from_numpy(parsed.astype(m[2], copy=False)).view(*s)\n"
     ]
    }
   ],
   "source": [
    "train_set = datasets.MNIST( './data', train=True, download=True, transform=transform)\n",
    "test_set =   MNISTM(root='./data', train=False, transform=transform_mnist_m, download=True)\n"
   ]
  },
  {
   "cell_type": "code",
   "execution_count": 5,
   "metadata": {},
   "outputs": [
    {
     "data": {
      "image/png": "[encoded data removed]",
      "text/plain": [
       "<Figure size 432x288 with 1 Axes>"
      ]
     },
     "metadata": {
      "needs_background": "light"
     },
     "output_type": "display_data"
    },
    {
     "name": "stdout",
     "output_type": "stream",
     "text": [
      "MNIST:  5\n"
     ]
    },
    {
     "data": {
      "image/png": "[encoded data removed]",
      "text/plain": [
       "<Figure size 432x288 with 1 Axes>"
      ]
     },
     "metadata": {
      "needs_background": "light"
     },
     "output_type": "display_data"
    },
    {
     "name": "stdout",
     "output_type": "stream",
     "text": [
      "MNIST-M:  tensor(7)\n"
     ]
    }
   ],
   "source": [
    "image, label = next(iter(train_set))\n",
    "plt.imshow(image.squeeze(), cmap=\"gray\")\n",
    "plt.show()\n",
    "print('MNIST: ',label)\n",
    "image, label = next(iter(test_set))\n",
    "plt.imshow(image.squeeze(), cmap=\"gray\")\n",
    "plt.show()\n",
    "\n",
    "print('MNIST-M: ',label)"
   ]
  },
  {
   "cell_type": "code",
   "execution_count": 10,
   "metadata": {
    "id": "urwcjCXHsnoJ"
   },
   "outputs": [],
   "source": [
    "batch_size = 4096\n",
    "train_loader = torch.utils.data.DataLoader(train_set, batch_size=batch_size, shuffle=True)\n",
    "test_loader = torch.utils.data.DataLoader(test_set, batch_size=batch_size, shuffle=True)\n",
    "\n",
    "num_epochs = 10\n"
   ]
  },
  {
   "cell_type": "markdown",
   "metadata": {
    "id": "v-DAAxbgCiP-"
   },
   "source": [
    "### Модели"
   ]
  },
  {
   "cell_type": "code",
   "execution_count": 11,
   "metadata": {
    "id": "fTLsA1XxsnoJ"
   },
   "outputs": [],
   "source": [
    "class Teacher(nn.Module):\n",
    "    def __init__(self):\n",
    "        super(Teacher, self).__init__()\n",
    "        self.fc1 = nn.Linear(28 * 28, 1200)\n",
    "        self.fc2 = nn.Linear(1200, 1200)\n",
    "        self.fc3 = nn.Linear(1200, 10)\n",
    "        self.dropout = nn.Dropout(0.5)\n",
    "\n",
    "    def forward(self, x):\n",
    "        x = x.reshape(-1, 28 * 28)\n",
    "        x = self.dropout(F.relu(self.fc1(x)))\n",
    "        x = self.dropout(F.relu(self.fc2(x)))\n",
    "        x = self.fc3(x)\n",
    "        return x\n",
    "    \n",
    "    \n",
    "    \n",
    "class Student(nn.Module):\n",
    "    def __init__(self):\n",
    "        super(Student, self).__init__()\n",
    "        self.fc1 = nn.Linear(28 * 28, 800)\n",
    "        self.fc2 = nn.Linear(800, 800)\n",
    "        self.fc3 = nn.Linear(800, 10)\n",
    "\n",
    "    def forward(self, x):\n",
    "        x = x.reshape(-1, 28 * 28)\n",
    "        x = F.relu(self.fc1(x))\n",
    "        x = F.relu(self.fc2(x))\n",
    "        x = self.fc3(x)\n",
    "        return x    \n",
    "    "
   ]
  },
  {
   "cell_type": "code",
   "execution_count": 12,
   "metadata": {
    "colab": {
     "base_uri": "https://localhost:8080/"
    },
    "id": "LNBiqud5snoM",
    "outputId": "baa48d16-b31d-4869-faa9-8ecab543e30e"
   },
   "outputs": [
    {
     "name": "stdout",
     "output_type": "stream",
     "text": [
      "Соотношение параметров учитель\\ученик: 0.5330680817130857\n"
     ]
    }
   ],
   "source": [
    "teacher = Teacher().to(device)\n",
    "teacher_size = count_params(teacher)\n",
    "student = Student().to(device)\n",
    "student_size = count_params(student)\n",
    "print(f'Соотношение параметров учитель\\ученик: { student_size / teacher_size}')"
   ]
  },
  {
   "cell_type": "markdown",
   "metadata": {},
   "source": [
    "### Обучение учителя на MNIST"
   ]
  },
  {
   "cell_type": "code",
   "execution_count": 13,
   "metadata": {
    "id": "dc2FT2RNsnoN"
   },
   "outputs": [
    {
     "name": "stdout",
     "output_type": "stream",
     "text": [
      "...Training Student Model...\n",
      "Loss: 0.891274\n",
      "Loss: 0.307621\n",
      "Loss: 0.219681\n",
      "Loss: 0.169390\n",
      "Loss: 0.139125\n",
      "Loss: 0.116375\n",
      "Loss: 0.100709\n",
      "Loss: 0.086130\n",
      "Loss: 0.077989\n",
      "Loss: 0.072655\n",
      "...Testing...\n",
      "Accuracy: 0.976\n"
     ]
    }
   ],
   "source": [
    "train_set_no_distill, val_set_no_distill = torch.utils.data.random_split(train_set, [50000, 10000])\n",
    "train_loader_no_distill = torch.utils.data.DataLoader(train_set_no_distill, batch_size=batch_size, shuffle=True)\n",
    "test_loader_no_distill = torch.utils.data.DataLoader(val_set_no_distill, batch_size=batch_size, shuffle=True)\n",
    "\n",
    "teacher = Teacher().to(device)\n",
    "optimizer = torch.optim.Adam(teacher.parameters())\n",
    "print(\"...Training Student Model...\")\n",
    "for epoch in range(num_epochs):\n",
    "    teacher.train()\n",
    "    total_loss = 0\n",
    "\n",
    "    for inputs, labels in train_loader_no_distill:\n",
    "        inputs = inputs.to(device)\n",
    "        labels = labels.to(device)\n",
    "        \n",
    "        optimizer.zero_grad()\n",
    "        outputs = teacher(inputs)\n",
    "        loss = F.cross_entropy(outputs, labels)\n",
    "        loss.backward()\n",
    "        optimizer.step()\n",
    "        \n",
    "        total_loss += loss.cpu().item()\n",
    "        \n",
    "    print(\n",
    "        f\"Loss: {total_loss / len(train_loader_no_distill):3f}\"\n",
    "    )\n",
    "print(\"...Testing...\")\n",
    "\n",
    "teacher.eval()\n",
    "num_total = 0\n",
    "num_correct = 0\n",
    "for inputs, labels in test_loader_no_distill:\n",
    "        inputs = inputs.to(device)\n",
    "        labels = labels.to(device).to(int)\n",
    "        \n",
    "        outputs = teacher(inputs)\n",
    "        _, pred = outputs.max(1)\n",
    "        num_total += len(labels)\n",
    "        num_correct += (pred == labels).cpu().sum()\n",
    "print(f\"Accuracy: {num_correct / num_total :.3f}\")"
   ]
  },
  {
   "cell_type": "markdown",
   "metadata": {},
   "source": [
    "### Ученик на MNIST-M"
   ]
  },
  {
   "cell_type": "code",
   "execution_count": 14,
   "metadata": {},
   "outputs": [
    {
     "name": "stdout",
     "output_type": "stream",
     "text": [
      "...Training Student Model...\n",
      "Loss: 2.383654\n",
      "Loss: 2.255507\n",
      "Loss: 2.126967\n",
      "Loss: 1.986381\n",
      "Loss: 1.858083\n",
      "Loss: 1.739050\n",
      "Loss: 1.644680\n",
      "Loss: 1.564844\n",
      "Loss: 1.514424\n",
      "Loss: 1.460433\n",
      "...Testing...\n",
      "Accuracy: 0.502\n"
     ]
    }
   ],
   "source": [
    "train_set_no_distill, val_set_no_distill = torch.utils.data.random_split(test_set, [8000, 2000])\n",
    "train_loader_no_distill = torch.utils.data.DataLoader(train_set_no_distill, batch_size=batch_size, shuffle=True)\n",
    "test_loader_no_distill = torch.utils.data.DataLoader(val_set_no_distill, batch_size=batch_size, shuffle=True)\n",
    "\n",
    "student_no_distill = Student().to(device)\n",
    "optimizer = torch.optim.Adam(student_no_distill.parameters())\n",
    "\n",
    "print(\"...Training Student Model...\")\n",
    "for epoch in range(num_epochs):\n",
    "    student_no_distill.train()\n",
    "    total_loss = 0\n",
    "\n",
    "    for inputs, labels in train_loader_no_distill:\n",
    "        inputs = inputs.to(device)\n",
    "        labels = labels.to(device)\n",
    "        \n",
    "        optimizer.zero_grad()\n",
    "        outputs = student_no_distill(inputs)\n",
    "        loss = F.cross_entropy(outputs, labels)\n",
    "        loss.backward()\n",
    "        optimizer.step()\n",
    "        \n",
    "        total_loss += loss.cpu().item()\n",
    "        \n",
    "    print(\n",
    "        f\"Loss: {total_loss / len(train_loader_no_distill):3f}\"\n",
    "    )\n",
    "print(\"...Testing...\")\n",
    "\n",
    "student_no_distill.eval()\n",
    "num_total = 0\n",
    "num_correct = 0\n",
    "for inputs, labels in test_loader_no_distill:\n",
    "        inputs = inputs.to(device)\n",
    "        labels = labels.to(device).to(int)\n",
    "        \n",
    "        outputs = student_no_distill(inputs)\n",
    "        _, pred = outputs.max(1)\n",
    "        num_total += len(labels)\n",
    "        num_correct += (pred == labels).cpu().sum()\n",
    "print(f\"Accuracy: {num_correct / num_total :.3f}\")"
   ]
  },
  {
   "cell_type": "markdown",
   "metadata": {},
   "source": [
    "### Сетка параметров дистилляции"
   ]
  },
  {
   "cell_type": "code",
   "execution_count": 15,
   "metadata": {},
   "outputs": [],
   "source": [
    "\n",
    "\n",
    "lambdas = np.linspace(0.3,0.9,5)\n",
    "temps = np.array([0.01, 0.1, 1,10,20,50,100,1000])\n",
    "\n",
    "num_epochs = 10\n",
    "accs = []"
   ]
  },
  {
   "cell_type": "markdown",
   "metadata": {},
   "source": [
    "### Дистилляция"
   ]
  },
  {
   "cell_type": "code",
   "execution_count": 16,
   "metadata": {
    "colab": {
     "base_uri": "https://localhost:8080/",
     "height": 556
    },
    "id": "fTwJaIRPsnoO",
    "outputId": "9c64fd39-bc7c-4aec-9014-4f48156edad3",
    "scrolled": true
   },
   "outputs": [
    {
     "name": "stdout",
     "output_type": "stream",
     "text": [
      "...Distilling Student Model...\n"
     ]
    },
    {
     "name": "stderr",
     "output_type": "stream",
     "text": [
      "C:\\Users\\safiu\\anaconda3\\lib\\site-packages\\torch\\nn\\functional.py:2741: UserWarning: reduction: 'mean' divides the total loss by both the batch size and the support size.'batchmean' divides only by the batch size, and aligns with the KL div math definition.'mean' will be changed to behave the same as 'batchmean' in the next major release.\n",
      "  warnings.warn(\n"
     ]
    },
    {
     "name": "stdout",
     "output_type": "stream",
     "text": [
      "Distill Loss: 2.066689, CE Loss: 0.824\n",
      "Distill Loss: 1.491583, CE Loss: 0.296\n",
      "Distill Loss: 0.672072, CE Loss: 0.198\n",
      "Distill Loss: 0.401003, CE Loss: 0.147\n",
      "Distill Loss: 0.248350, CE Loss: 0.115\n",
      "Distill Loss: 0.157791, CE Loss: 0.090\n",
      "Distill Loss: 0.108254, CE Loss: 0.074\n",
      "Distill Loss: 0.082087, CE Loss: 0.059\n",
      "Distill Loss: 0.094884, CE Loss: 0.050\n",
      "Distill Loss: 0.104133, CE Loss: 0.042\n",
      "...Testing...\n",
      "0.01 0.3\n",
      "Accuracy: 0.279\n",
      "...Distilling Student Model...\n",
      "Distill Loss: 0.219437, CE Loss: 0.832\n",
      "Distill Loss: 0.155976, CE Loss: 0.304\n",
      "Distill Loss: 0.078876, CE Loss: 0.211\n",
      "Distill Loss: 0.044233, CE Loss: 0.154\n",
      "Distill Loss: 0.026635, CE Loss: 0.118\n",
      "Distill Loss: 0.017391, CE Loss: 0.094\n",
      "Distill Loss: 0.012127, CE Loss: 0.076\n",
      "Distill Loss: 0.009921, CE Loss: 0.064\n",
      "Distill Loss: 0.008454, CE Loss: 0.051\n",
      "Distill Loss: 0.010183, CE Loss: 0.043\n",
      "...Testing...\n",
      "0.1 0.3\n",
      "Accuracy: 0.301\n",
      "...Distilling Student Model...\n",
      "Distill Loss: 0.073993, CE Loss: 0.821\n",
      "Distill Loss: 0.020497, CE Loss: 0.295\n",
      "Distill Loss: 0.011726, CE Loss: 0.201\n",
      "Distill Loss: 0.007115, CE Loss: 0.149\n",
      "Distill Loss: 0.004543, CE Loss: 0.117\n",
      "Distill Loss: 0.003085, CE Loss: 0.094\n",
      "Distill Loss: 0.001925, CE Loss: 0.074\n",
      "Distill Loss: 0.001560, CE Loss: 0.060\n",
      "Distill Loss: 0.001553, CE Loss: 0.051\n",
      "Distill Loss: 0.001525, CE Loss: 0.043\n",
      "...Testing...\n",
      "1.0 0.3\n",
      "Accuracy: 0.289\n",
      "...Distilling Student Model...\n",
      "Distill Loss: 0.008472, CE Loss: 0.820\n",
      "Distill Loss: 0.002821, CE Loss: 0.302\n",
      "Distill Loss: 0.001565, CE Loss: 0.205\n",
      "Distill Loss: 0.000888, CE Loss: 0.151\n",
      "Distill Loss: 0.000511, CE Loss: 0.114\n",
      "Distill Loss: 0.000349, CE Loss: 0.091\n",
      "Distill Loss: 0.000285, CE Loss: 0.075\n",
      "Distill Loss: 0.000232, CE Loss: 0.062\n",
      "Distill Loss: 0.000209, CE Loss: 0.053\n",
      "Distill Loss: 0.000197, CE Loss: 0.046\n",
      "...Testing...\n",
      "10.0 0.3\n",
      "Accuracy: 0.290\n",
      "...Distilling Student Model...\n",
      "Distill Loss: 0.001883, CE Loss: 0.802\n",
      "Distill Loss: 0.000655, CE Loss: 0.294\n",
      "Distill Loss: 0.000359, CE Loss: 0.197\n",
      "Distill Loss: 0.000200, CE Loss: 0.145\n",
      "Distill Loss: 0.000120, CE Loss: 0.110\n",
      "Distill Loss: 0.000085, CE Loss: 0.088\n",
      "Distill Loss: 0.000066, CE Loss: 0.072\n",
      "Distill Loss: 0.000059, CE Loss: 0.061\n",
      "Distill Loss: 0.000053, CE Loss: 0.052\n",
      "Distill Loss: 0.000053, CE Loss: 0.046\n",
      "...Testing...\n",
      "20.0 0.3\n",
      "Accuracy: 0.331\n",
      "...Distilling Student Model...\n",
      "Distill Loss: 0.000286, CE Loss: 0.828\n",
      "Distill Loss: 0.000101, CE Loss: 0.302\n",
      "Distill Loss: 0.000056, CE Loss: 0.200\n",
      "Distill Loss: 0.000030, CE Loss: 0.145\n",
      "Distill Loss: 0.000018, CE Loss: 0.111\n",
      "Distill Loss: 0.000013, CE Loss: 0.088\n",
      "Distill Loss: 0.000010, CE Loss: 0.072\n",
      "Distill Loss: 0.000008, CE Loss: 0.060\n",
      "Distill Loss: 0.000008, CE Loss: 0.052\n",
      "Distill Loss: 0.000008, CE Loss: 0.045\n",
      "...Testing...\n",
      "50.0 0.3\n",
      "Accuracy: 0.288\n",
      "...Distilling Student Model...\n",
      "Distill Loss: 0.000068, CE Loss: 0.822\n",
      "Distill Loss: 0.000024, CE Loss: 0.291\n",
      "Distill Loss: 0.000013, CE Loss: 0.193\n",
      "Distill Loss: 0.000007, CE Loss: 0.139\n",
      "Distill Loss: 0.000004, CE Loss: 0.108\n",
      "Distill Loss: 0.000003, CE Loss: 0.085\n",
      "Distill Loss: 0.000002, CE Loss: 0.070\n",
      "Distill Loss: 0.000002, CE Loss: 0.058\n",
      "Distill Loss: 0.000002, CE Loss: 0.051\n",
      "Distill Loss: 0.000002, CE Loss: 0.044\n",
      "...Testing...\n",
      "100.0 0.3\n",
      "Accuracy: 0.295\n",
      "...Distilling Student Model...\n",
      "Distill Loss: 0.000001, CE Loss: 0.829\n",
      "Distill Loss: 0.000000, CE Loss: 0.290\n",
      "Distill Loss: 0.000000, CE Loss: 0.196\n",
      "Distill Loss: 0.000000, CE Loss: 0.142\n",
      "Distill Loss: 0.000000, CE Loss: 0.109\n",
      "Distill Loss: 0.000000, CE Loss: 0.087\n",
      "Distill Loss: 0.000000, CE Loss: 0.071\n",
      "Distill Loss: 0.000000, CE Loss: 0.060\n",
      "Distill Loss: 0.000000, CE Loss: 0.051\n",
      "Distill Loss: 0.000000, CE Loss: 0.045\n",
      "...Testing...\n",
      "1000.0 0.3\n",
      "Accuracy: 0.334\n",
      "...Distilling Student Model...\n",
      "Distill Loss: 2.179361, CE Loss: 0.847\n",
      "Distill Loss: 1.586903, CE Loss: 0.310\n",
      "Distill Loss: 0.783335, CE Loss: 0.213\n",
      "Distill Loss: 0.461464, CE Loss: 0.158\n",
      "Distill Loss: 0.289024, CE Loss: 0.123\n",
      "Distill Loss: 0.186045, CE Loss: 0.098\n",
      "Distill Loss: 0.125664, CE Loss: 0.080\n",
      "Distill Loss: 0.097524, CE Loss: 0.066\n",
      "Distill Loss: 0.085931, CE Loss: 0.054\n",
      "Distill Loss: 0.081016, CE Loss: 0.044\n",
      "...Testing...\n",
      "0.01 0.45\n",
      "Accuracy: 0.329\n",
      "...Distilling Student Model...\n",
      "Distill Loss: 0.225203, CE Loss: 0.840\n",
      "Distill Loss: 0.153400, CE Loss: 0.303\n",
      "Distill Loss: 0.070094, CE Loss: 0.204\n",
      "Distill Loss: 0.043387, CE Loss: 0.152\n",
      "Distill Loss: 0.026952, CE Loss: 0.118\n",
      "Distill Loss: 0.016111, CE Loss: 0.093\n",
      "Distill Loss: 0.011092, CE Loss: 0.075\n",
      "Distill Loss: 0.008804, CE Loss: 0.061\n",
      "Distill Loss: 0.008143, CE Loss: 0.050\n",
      "Distill Loss: 0.008647, CE Loss: 0.042\n",
      "...Testing...\n",
      "0.1 0.45\n",
      "Accuracy: 0.279\n",
      "...Distilling Student Model...\n",
      "Distill Loss: 0.075141, CE Loss: 0.832\n",
      "Distill Loss: 0.020506, CE Loss: 0.295\n",
      "Distill Loss: 0.011668, CE Loss: 0.199\n",
      "Distill Loss: 0.007012, CE Loss: 0.148\n",
      "Distill Loss: 0.004308, CE Loss: 0.114\n",
      "Distill Loss: 0.002790, CE Loss: 0.091\n",
      "Distill Loss: 0.002029, CE Loss: 0.074\n",
      "Distill Loss: 0.001425, CE Loss: 0.059\n",
      "Distill Loss: 0.001246, CE Loss: 0.049\n",
      "Distill Loss: 0.001400, CE Loss: 0.041\n",
      "...Testing...\n",
      "1.0 0.45\n",
      "Accuracy: 0.304\n",
      "...Distilling Student Model...\n",
      "Distill Loss: 0.008535, CE Loss: 0.851\n",
      "Distill Loss: 0.002602, CE Loss: 0.314\n",
      "Distill Loss: 0.001357, CE Loss: 0.213\n",
      "Distill Loss: 0.000724, CE Loss: 0.153\n",
      "Distill Loss: 0.000408, CE Loss: 0.115\n",
      "Distill Loss: 0.000281, CE Loss: 0.092\n",
      "Distill Loss: 0.000222, CE Loss: 0.076\n",
      "Distill Loss: 0.000188, CE Loss: 0.065\n",
      "Distill Loss: 0.000159, CE Loss: 0.056\n",
      "Distill Loss: 0.000150, CE Loss: 0.049\n",
      "...Testing...\n",
      "10.0 0.45\n",
      "Accuracy: 0.293\n",
      "...Distilling Student Model...\n",
      "Distill Loss: 0.001886, CE Loss: 0.832\n",
      "Distill Loss: 0.000607, CE Loss: 0.304\n",
      "Distill Loss: 0.000311, CE Loss: 0.202\n",
      "Distill Loss: 0.000159, CE Loss: 0.143\n",
      "Distill Loss: 0.000094, CE Loss: 0.109\n",
      "Distill Loss: 0.000065, CE Loss: 0.087\n",
      "Distill Loss: 0.000050, CE Loss: 0.072\n",
      "Distill Loss: 0.000042, CE Loss: 0.061\n",
      "Distill Loss: 0.000038, CE Loss: 0.053\n",
      "Distill Loss: 0.000035, CE Loss: 0.047\n",
      "...Testing...\n",
      "20.0 0.45\n",
      "Accuracy: 0.317\n",
      "...Distilling Student Model...\n",
      "Distill Loss: 0.000278, CE Loss: 0.841\n",
      "Distill Loss: 0.000093, CE Loss: 0.309\n",
      "Distill Loss: 0.000048, CE Loss: 0.206\n",
      "Distill Loss: 0.000026, CE Loss: 0.147\n",
      "Distill Loss: 0.000016, CE Loss: 0.113\n",
      "Distill Loss: 0.000010, CE Loss: 0.091\n",
      "Distill Loss: 0.000008, CE Loss: 0.075\n",
      "Distill Loss: 0.000007, CE Loss: 0.064\n",
      "Distill Loss: 0.000006, CE Loss: 0.055\n",
      "Distill Loss: 0.000006, CE Loss: 0.048\n",
      "...Testing...\n",
      "50.0 0.45\n",
      "Accuracy: 0.322\n",
      "...Distilling Student Model...\n",
      "Distill Loss: 0.000067, CE Loss: 0.838\n",
      "Distill Loss: 0.000022, CE Loss: 0.307\n",
      "Distill Loss: 0.000011, CE Loss: 0.205\n",
      "Distill Loss: 0.000006, CE Loss: 0.146\n",
      "Distill Loss: 0.000004, CE Loss: 0.110\n",
      "Distill Loss: 0.000002, CE Loss: 0.088\n",
      "Distill Loss: 0.000002, CE Loss: 0.073\n",
      "Distill Loss: 0.000002, CE Loss: 0.062\n",
      "Distill Loss: 0.000002, CE Loss: 0.055\n",
      "Distill Loss: 0.000001, CE Loss: 0.048\n",
      "...Testing...\n",
      "100.0 0.45\n",
      "Accuracy: 0.290\n",
      "...Distilling Student Model...\n",
      "Distill Loss: 0.000001, CE Loss: 0.819\n",
      "Distill Loss: 0.000000, CE Loss: 0.295\n",
      "Distill Loss: 0.000000, CE Loss: 0.194\n",
      "Distill Loss: 0.000000, CE Loss: 0.138\n",
      "Distill Loss: 0.000000, CE Loss: 0.106\n",
      "Distill Loss: 0.000000, CE Loss: 0.086\n",
      "Distill Loss: 0.000000, CE Loss: 0.071\n",
      "Distill Loss: 0.000000, CE Loss: 0.060\n",
      "Distill Loss: 0.000000, CE Loss: 0.052\n",
      "Distill Loss: 0.000000, CE Loss: 0.046\n",
      "...Testing...\n",
      "1000.0 0.45\n",
      "Accuracy: 0.283\n",
      "...Distilling Student Model...\n",
      "Distill Loss: 2.098187, CE Loss: 0.827\n",
      "Distill Loss: 1.565107, CE Loss: 0.305\n",
      "Distill Loss: 0.782486, CE Loss: 0.212\n",
      "Distill Loss: 0.455964, CE Loss: 0.157\n",
      "Distill Loss: 0.289412, CE Loss: 0.123\n",
      "Distill Loss: 0.200080, CE Loss: 0.101\n",
      "Distill Loss: 0.132988, CE Loss: 0.082\n",
      "Distill Loss: 0.105279, CE Loss: 0.068\n",
      "Distill Loss: 0.082604, CE Loss: 0.056\n",
      "Distill Loss: 0.084820, CE Loss: 0.046\n",
      "...Testing...\n",
      "0.01 0.6000000000000001\n",
      "Accuracy: 0.263\n",
      "...Distilling Student Model...\n",
      "Distill Loss: 0.207915, CE Loss: 0.811\n",
      "Distill Loss: 0.143398, CE Loss: 0.287\n",
      "Distill Loss: 0.069251, CE Loss: 0.199\n",
      "Distill Loss: 0.042587, CE Loss: 0.149\n",
      "Distill Loss: 0.026251, CE Loss: 0.116\n",
      "Distill Loss: 0.015726, CE Loss: 0.091\n",
      "Distill Loss: 0.010349, CE Loss: 0.074\n",
      "Distill Loss: 0.009193, CE Loss: 0.061\n",
      "Distill Loss: 0.008894, CE Loss: 0.051\n"
     ]
    },
    {
     "name": "stdout",
     "output_type": "stream",
     "text": [
      "Distill Loss: 0.009799, CE Loss: 0.042\n",
      "...Testing...\n",
      "0.1 0.6000000000000001\n",
      "Accuracy: 0.284\n",
      "...Distilling Student Model...\n",
      "Distill Loss: 0.073282, CE Loss: 0.813\n",
      "Distill Loss: 0.019675, CE Loss: 0.287\n",
      "Distill Loss: 0.011305, CE Loss: 0.197\n",
      "Distill Loss: 0.006754, CE Loss: 0.145\n",
      "Distill Loss: 0.003986, CE Loss: 0.110\n",
      "Distill Loss: 0.002601, CE Loss: 0.088\n",
      "Distill Loss: 0.001813, CE Loss: 0.072\n",
      "Distill Loss: 0.001403, CE Loss: 0.058\n",
      "Distill Loss: 0.001336, CE Loss: 0.049\n",
      "Distill Loss: 0.001385, CE Loss: 0.040\n",
      "...Testing...\n",
      "1.0 0.6000000000000001\n",
      "Accuracy: 0.281\n",
      "...Distilling Student Model...\n",
      "Distill Loss: 0.008227, CE Loss: 0.852\n",
      "Distill Loss: 0.002422, CE Loss: 0.326\n",
      "Distill Loss: 0.001198, CE Loss: 0.222\n",
      "Distill Loss: 0.000620, CE Loss: 0.157\n",
      "Distill Loss: 0.000351, CE Loss: 0.118\n",
      "Distill Loss: 0.000232, CE Loss: 0.094\n",
      "Distill Loss: 0.000168, CE Loss: 0.079\n",
      "Distill Loss: 0.000136, CE Loss: 0.068\n",
      "Distill Loss: 0.000118, CE Loss: 0.060\n",
      "Distill Loss: 0.000104, CE Loss: 0.054\n",
      "...Testing...\n",
      "10.0 0.6000000000000001\n",
      "Accuracy: 0.304\n",
      "...Distilling Student Model...\n",
      "Distill Loss: 0.001826, CE Loss: 0.840\n",
      "Distill Loss: 0.000553, CE Loss: 0.313\n",
      "Distill Loss: 0.000270, CE Loss: 0.210\n",
      "Distill Loss: 0.000140, CE Loss: 0.150\n",
      "Distill Loss: 0.000082, CE Loss: 0.115\n",
      "Distill Loss: 0.000054, CE Loss: 0.093\n",
      "Distill Loss: 0.000041, CE Loss: 0.077\n",
      "Distill Loss: 0.000034, CE Loss: 0.067\n",
      "Distill Loss: 0.000030, CE Loss: 0.059\n",
      "Distill Loss: 0.000027, CE Loss: 0.053\n",
      "...Testing...\n",
      "20.0 0.6000000000000001\n",
      "Accuracy: 0.297\n",
      "...Distilling Student Model...\n",
      "Distill Loss: 0.000264, CE Loss: 0.834\n",
      "Distill Loss: 0.000082, CE Loss: 0.312\n",
      "Distill Loss: 0.000040, CE Loss: 0.206\n",
      "Distill Loss: 0.000021, CE Loss: 0.149\n",
      "Distill Loss: 0.000012, CE Loss: 0.113\n",
      "Distill Loss: 0.000008, CE Loss: 0.091\n",
      "Distill Loss: 0.000006, CE Loss: 0.077\n",
      "Distill Loss: 0.000005, CE Loss: 0.067\n",
      "Distill Loss: 0.000005, CE Loss: 0.059\n",
      "Distill Loss: 0.000004, CE Loss: 0.053\n",
      "...Testing...\n",
      "50.0 0.6000000000000001\n",
      "Accuracy: 0.276\n",
      "...Distilling Student Model...\n",
      "Distill Loss: 0.000065, CE Loss: 0.869\n",
      "Distill Loss: 0.000020, CE Loss: 0.312\n",
      "Distill Loss: 0.000010, CE Loss: 0.207\n",
      "Distill Loss: 0.000005, CE Loss: 0.148\n",
      "Distill Loss: 0.000003, CE Loss: 0.113\n",
      "Distill Loss: 0.000002, CE Loss: 0.091\n",
      "Distill Loss: 0.000002, CE Loss: 0.077\n",
      "Distill Loss: 0.000001, CE Loss: 0.067\n",
      "Distill Loss: 0.000001, CE Loss: 0.058\n",
      "Distill Loss: 0.000001, CE Loss: 0.052\n",
      "...Testing...\n",
      "100.0 0.6000000000000001\n",
      "Accuracy: 0.281\n",
      "...Distilling Student Model...\n",
      "Distill Loss: 0.000001, CE Loss: 0.846\n",
      "Distill Loss: 0.000000, CE Loss: 0.314\n",
      "Distill Loss: 0.000000, CE Loss: 0.210\n",
      "Distill Loss: 0.000000, CE Loss: 0.148\n",
      "Distill Loss: 0.000000, CE Loss: 0.114\n",
      "Distill Loss: 0.000000, CE Loss: 0.092\n",
      "Distill Loss: 0.000000, CE Loss: 0.077\n",
      "Distill Loss: 0.000000, CE Loss: 0.066\n",
      "Distill Loss: 0.000000, CE Loss: 0.058\n",
      "Distill Loss: 0.000000, CE Loss: 0.052\n",
      "...Testing...\n",
      "1000.0 0.6000000000000001\n",
      "Accuracy: 0.306\n",
      "...Distilling Student Model...\n",
      "Distill Loss: 2.107950, CE Loss: 0.841\n",
      "Distill Loss: 1.526525, CE Loss: 0.305\n",
      "Distill Loss: 0.745966, CE Loss: 0.211\n",
      "Distill Loss: 0.441281, CE Loss: 0.155\n",
      "Distill Loss: 0.272546, CE Loss: 0.120\n",
      "Distill Loss: 0.172115, CE Loss: 0.096\n",
      "Distill Loss: 0.120267, CE Loss: 0.078\n",
      "Distill Loss: 0.082451, CE Loss: 0.063\n",
      "Distill Loss: 0.082083, CE Loss: 0.052\n",
      "Distill Loss: 0.085022, CE Loss: 0.042\n",
      "...Testing...\n",
      "0.01 0.75\n",
      "Accuracy: 0.271\n",
      "...Distilling Student Model...\n",
      "Distill Loss: 0.222082, CE Loss: 0.820\n",
      "Distill Loss: 0.154110, CE Loss: 0.304\n",
      "Distill Loss: 0.076576, CE Loss: 0.212\n",
      "Distill Loss: 0.045949, CE Loss: 0.159\n",
      "Distill Loss: 0.028336, CE Loss: 0.123\n",
      "Distill Loss: 0.017734, CE Loss: 0.098\n",
      "Distill Loss: 0.012658, CE Loss: 0.080\n",
      "Distill Loss: 0.009335, CE Loss: 0.066\n",
      "Distill Loss: 0.007594, CE Loss: 0.054\n",
      "Distill Loss: 0.008802, CE Loss: 0.046\n",
      "...Testing...\n",
      "0.1 0.75\n",
      "Accuracy: 0.246\n",
      "...Distilling Student Model...\n",
      "Distill Loss: 0.075627, CE Loss: 0.837\n",
      "Distill Loss: 0.021570, CE Loss: 0.306\n",
      "Distill Loss: 0.012724, CE Loss: 0.212\n",
      "Distill Loss: 0.007761, CE Loss: 0.157\n",
      "Distill Loss: 0.004758, CE Loss: 0.122\n",
      "Distill Loss: 0.003151, CE Loss: 0.098\n",
      "Distill Loss: 0.002111, CE Loss: 0.080\n",
      "Distill Loss: 0.001488, CE Loss: 0.066\n",
      "Distill Loss: 0.001291, CE Loss: 0.057\n",
      "Distill Loss: 0.001186, CE Loss: 0.048\n",
      "...Testing...\n",
      "1.0 0.75\n",
      "Accuracy: 0.304\n",
      "...Distilling Student Model...\n",
      "Distill Loss: 0.008137, CE Loss: 0.884\n",
      "Distill Loss: 0.002373, CE Loss: 0.359\n",
      "Distill Loss: 0.001192, CE Loss: 0.240\n",
      "Distill Loss: 0.000604, CE Loss: 0.169\n",
      "Distill Loss: 0.000353, CE Loss: 0.130\n",
      "Distill Loss: 0.000230, CE Loss: 0.105\n",
      "Distill Loss: 0.000167, CE Loss: 0.090\n",
      "Distill Loss: 0.000131, CE Loss: 0.078\n",
      "Distill Loss: 0.000109, CE Loss: 0.070\n",
      "Distill Loss: 0.000096, CE Loss: 0.064\n",
      "...Testing...\n",
      "10.0 0.75\n",
      "Accuracy: 0.303\n",
      "...Distilling Student Model...\n",
      "Distill Loss: 0.001812, CE Loss: 0.884\n",
      "Distill Loss: 0.000533, CE Loss: 0.342\n",
      "Distill Loss: 0.000251, CE Loss: 0.226\n",
      "Distill Loss: 0.000127, CE Loss: 0.161\n",
      "Distill Loss: 0.000075, CE Loss: 0.122\n",
      "Distill Loss: 0.000049, CE Loss: 0.100\n",
      "Distill Loss: 0.000036, CE Loss: 0.084\n",
      "Distill Loss: 0.000029, CE Loss: 0.074\n",
      "Distill Loss: 0.000024, CE Loss: 0.066\n",
      "Distill Loss: 0.000022, CE Loss: 0.060\n",
      "...Testing...\n",
      "20.0 0.75\n",
      "Accuracy: 0.288\n",
      "...Distilling Student Model...\n",
      "Distill Loss: 0.000259, CE Loss: 0.882\n",
      "Distill Loss: 0.000080, CE Loss: 0.339\n",
      "Distill Loss: 0.000038, CE Loss: 0.223\n",
      "Distill Loss: 0.000019, CE Loss: 0.158\n",
      "Distill Loss: 0.000011, CE Loss: 0.120\n",
      "Distill Loss: 0.000007, CE Loss: 0.098\n",
      "Distill Loss: 0.000005, CE Loss: 0.084\n",
      "Distill Loss: 0.000004, CE Loss: 0.073\n",
      "Distill Loss: 0.000004, CE Loss: 0.065\n",
      "Distill Loss: 0.000003, CE Loss: 0.059\n",
      "...Testing...\n",
      "50.0 0.75\n",
      "Accuracy: 0.276\n",
      "...Distilling Student Model...\n",
      "Distill Loss: 0.000064, CE Loss: 0.892\n",
      "Distill Loss: 0.000020, CE Loss: 0.338\n",
      "Distill Loss: 0.000010, CE Loss: 0.226\n",
      "Distill Loss: 0.000005, CE Loss: 0.161\n",
      "Distill Loss: 0.000003, CE Loss: 0.123\n",
      "Distill Loss: 0.000002, CE Loss: 0.100\n",
      "Distill Loss: 0.000001, CE Loss: 0.085\n",
      "Distill Loss: 0.000001, CE Loss: 0.074\n",
      "Distill Loss: 0.000001, CE Loss: 0.066\n",
      "Distill Loss: 0.000001, CE Loss: 0.060\n",
      "...Testing...\n",
      "100.0 0.75\n",
      "Accuracy: 0.281\n",
      "...Distilling Student Model...\n",
      "Distill Loss: 0.000001, CE Loss: 0.871\n",
      "Distill Loss: 0.000000, CE Loss: 0.329\n",
      "Distill Loss: 0.000000, CE Loss: 0.217\n",
      "Distill Loss: 0.000000, CE Loss: 0.154\n",
      "Distill Loss: 0.000000, CE Loss: 0.119\n",
      "Distill Loss: 0.000000, CE Loss: 0.098\n",
      "Distill Loss: 0.000000, CE Loss: 0.083\n",
      "Distill Loss: 0.000000, CE Loss: 0.073\n",
      "Distill Loss: 0.000000, CE Loss: 0.065\n",
      "Distill Loss: 0.000000, CE Loss: 0.059\n",
      "...Testing...\n",
      "1000.0 0.75\n",
      "Accuracy: 0.299\n",
      "...Distilling Student Model...\n",
      "Distill Loss: 2.128023, CE Loss: 0.841\n",
      "Distill Loss: 1.628836, CE Loss: 0.312\n",
      "Distill Loss: 0.766741, CE Loss: 0.212\n",
      "Distill Loss: 0.464111, CE Loss: 0.159\n",
      "Distill Loss: 0.292867, CE Loss: 0.124\n",
      "Distill Loss: 0.183065, CE Loss: 0.098\n",
      "Distill Loss: 0.122109, CE Loss: 0.080\n",
      "Distill Loss: 0.094456, CE Loss: 0.067\n",
      "Distill Loss: 0.075217, CE Loss: 0.054\n",
      "Distill Loss: 0.083533, CE Loss: 0.045\n",
      "...Testing...\n",
      "0.01 0.9\n",
      "Accuracy: 0.280\n",
      "...Distilling Student Model...\n",
      "Distill Loss: 0.197130, CE Loss: 0.815\n",
      "Distill Loss: 0.146219, CE Loss: 0.294\n",
      "Distill Loss: 0.072233, CE Loss: 0.205\n",
      "Distill Loss: 0.044415, CE Loss: 0.154\n",
      "Distill Loss: 0.025927, CE Loss: 0.119\n",
      "Distill Loss: 0.016792, CE Loss: 0.095\n",
      "Distill Loss: 0.011305, CE Loss: 0.078\n",
      "Distill Loss: 0.008097, CE Loss: 0.063\n",
      "Distill Loss: 0.007700, CE Loss: 0.053\n",
      "Distill Loss: 0.008727, CE Loss: 0.046\n",
      "...Testing...\n",
      "0.1 0.9\n",
      "Accuracy: 0.281\n",
      "...Distilling Student Model...\n",
      "Distill Loss: 0.071925, CE Loss: 0.800\n",
      "Distill Loss: 0.020075, CE Loss: 0.293\n",
      "Distill Loss: 0.011425, CE Loss: 0.200\n",
      "Distill Loss: 0.006889, CE Loss: 0.150\n",
      "Distill Loss: 0.004353, CE Loss: 0.119\n",
      "Distill Loss: 0.002834, CE Loss: 0.097\n",
      "Distill Loss: 0.001777, CE Loss: 0.079\n",
      "Distill Loss: 0.001338, CE Loss: 0.069\n",
      "Distill Loss: 0.000980, CE Loss: 0.058\n",
      "Distill Loss: 0.000855, CE Loss: 0.051\n",
      "...Testing...\n",
      "1.0 0.9\n",
      "Accuracy: 0.315\n",
      "...Distilling Student Model...\n",
      "Distill Loss: 0.008064, CE Loss: 0.934\n",
      "Distill Loss: 0.002371, CE Loss: 0.383\n",
      "Distill Loss: 0.001158, CE Loss: 0.260\n",
      "Distill Loss: 0.000586, CE Loss: 0.183\n"
     ]
    },
    {
     "name": "stdout",
     "output_type": "stream",
     "text": [
      "Distill Loss: 0.000338, CE Loss: 0.140\n",
      "Distill Loss: 0.000219, CE Loss: 0.116\n",
      "Distill Loss: 0.000157, CE Loss: 0.100\n",
      "Distill Loss: 0.000122, CE Loss: 0.089\n",
      "Distill Loss: 0.000100, CE Loss: 0.081\n",
      "Distill Loss: 0.000084, CE Loss: 0.075\n",
      "...Testing...\n",
      "10.0 0.9\n",
      "Accuracy: 0.299\n",
      "...Distilling Student Model...\n",
      "Distill Loss: 0.001793, CE Loss: 0.960\n",
      "Distill Loss: 0.000517, CE Loss: 0.370\n",
      "Distill Loss: 0.000245, CE Loss: 0.249\n",
      "Distill Loss: 0.000123, CE Loss: 0.174\n",
      "Distill Loss: 0.000071, CE Loss: 0.134\n",
      "Distill Loss: 0.000047, CE Loss: 0.111\n",
      "Distill Loss: 0.000034, CE Loss: 0.096\n",
      "Distill Loss: 0.000026, CE Loss: 0.086\n",
      "Distill Loss: 0.000022, CE Loss: 0.078\n",
      "Distill Loss: 0.000019, CE Loss: 0.072\n",
      "...Testing...\n",
      "20.0 0.9\n",
      "Accuracy: 0.293\n",
      "...Distilling Student Model...\n",
      "Distill Loss: 0.000260, CE Loss: 0.974\n",
      "Distill Loss: 0.000081, CE Loss: 0.379\n",
      "Distill Loss: 0.000039, CE Loss: 0.254\n",
      "Distill Loss: 0.000020, CE Loss: 0.181\n",
      "Distill Loss: 0.000012, CE Loss: 0.140\n",
      "Distill Loss: 0.000008, CE Loss: 0.114\n",
      "Distill Loss: 0.000005, CE Loss: 0.099\n",
      "Distill Loss: 0.000004, CE Loss: 0.088\n",
      "Distill Loss: 0.000003, CE Loss: 0.080\n",
      "Distill Loss: 0.000003, CE Loss: 0.074\n",
      "...Testing...\n",
      "50.0 0.9\n",
      "Accuracy: 0.321\n",
      "...Distilling Student Model...\n",
      "Distill Loss: 0.000062, CE Loss: 0.957\n",
      "Distill Loss: 0.000018, CE Loss: 0.364\n",
      "Distill Loss: 0.000009, CE Loss: 0.242\n",
      "Distill Loss: 0.000004, CE Loss: 0.173\n",
      "Distill Loss: 0.000003, CE Loss: 0.133\n",
      "Distill Loss: 0.000002, CE Loss: 0.110\n",
      "Distill Loss: 0.000001, CE Loss: 0.096\n",
      "Distill Loss: 0.000001, CE Loss: 0.086\n",
      "Distill Loss: 0.000001, CE Loss: 0.079\n",
      "Distill Loss: 0.000001, CE Loss: 0.073\n",
      "...Testing...\n",
      "100.0 0.9\n",
      "Accuracy: 0.285\n",
      "...Distilling Student Model...\n",
      "Distill Loss: 0.000001, CE Loss: 0.969\n",
      "Distill Loss: 0.000000, CE Loss: 0.362\n",
      "Distill Loss: 0.000000, CE Loss: 0.243\n",
      "Distill Loss: 0.000000, CE Loss: 0.170\n",
      "Distill Loss: 0.000000, CE Loss: 0.132\n",
      "Distill Loss: 0.000000, CE Loss: 0.110\n",
      "Distill Loss: 0.000000, CE Loss: 0.096\n",
      "Distill Loss: 0.000000, CE Loss: 0.086\n",
      "Distill Loss: 0.000000, CE Loss: 0.079\n",
      "Distill Loss: 0.000000, CE Loss: 0.073\n",
      "...Testing...\n",
      "1000.0 0.9\n",
      "Accuracy: 0.308\n"
     ]
    }
   ],
   "source": [
    "# teacher.eval()\n",
    "for lambda_,T in list(itertools.product(lambdas, temps)):\n",
    "    student = Student().to(device)\n",
    "    optimizer = torch.optim.Adam(student.parameters())\n",
    "    print(\"...Distilling Student Model...\")\n",
    "    for epoch in range(num_epochs):\n",
    "        student.train()\n",
    "        \n",
    "        total_ce_loss = 0\n",
    "        total_distill_loss = 0\n",
    "        for inputs, labels in train_loader:\n",
    "            inputs = inputs.to(device)\n",
    "            labels = labels.to(device)\n",
    "\n",
    "            optimizer.zero_grad()\n",
    "\n",
    "            teacher_outputs = teacher(inputs)\n",
    "            student_outputs = student(inputs)\n",
    "\n",
    "            ce_loss, distill_loss = distill(labels, student_outputs, teacher_outputs, T)\n",
    "            loss = (1 - lambda_) * ce_loss + (lambda_ * T ** 2) * distill_loss\n",
    "            loss.backward()\n",
    "            optimizer.step()\n",
    "\n",
    "            total_ce_loss += ce_loss.cpu().item()\n",
    "            total_distill_loss += distill_loss.cpu().item()\n",
    "\n",
    "        print(\n",
    "            f\"Distill Loss: {total_distill_loss / len(train_loader):3f}, \"\n",
    "            f\"CE Loss: {total_ce_loss / len(train_loader):.3f}\"\n",
    "        )\n",
    "    print(\"...Testing...\")\n",
    "    print (T,lambda_)\n",
    "    student.eval()\n",
    "    num_total = 0\n",
    "    num_correct = 0\n",
    "    with torch.no_grad():\n",
    "        for inputs, labels in test_loader:\n",
    "            inputs = inputs.to(device)\n",
    "            labels = labels.to(device).to(int)\n",
    "\n",
    "            outputs = student(inputs)\n",
    "            _, pred = outputs.max(1)\n",
    "            num_total += len(labels)\n",
    "            num_correct += (pred == labels).cpu().sum()\n",
    "        print(f\"Accuracy: {num_correct / num_total :.3f}\")\n",
    "    accs.append(num_correct / num_total)"
   ]
  },
  {
   "cell_type": "code",
   "execution_count": 17,
   "metadata": {},
   "outputs": [
    {
     "data": {
      "text/plain": [
       "Text(0.5, 0.92, 'Task7')"
      ]
     },
     "execution_count": 17,
     "metadata": {},
     "output_type": "execute_result"
    },
    {
     "data": {
      "image/png": "[encoded data removed]",
      "text/plain": [
       "<Figure size 1440x720 with 1 Axes>"
      ]
     },
     "metadata": {
      "needs_background": "light"
     },
     "output_type": "display_data"
    }
   ],
   "source": [
    "arr = list(itertools.product(lambdas, temps))\n",
    "df = pd.DataFrame(np.vstack((np.array(arr).reshape(len(arr),2)[:,0],np.array(arr).reshape(len(arr),2)[:,1],\n",
    "     np.array(accs))).T,columns = ['lambda','T','Accuracy'])\n",
    "\n",
    "fig = plt.figure(figsize = (20,10))\n",
    "ax = fig.add_subplot(111, projection='3d')\n",
    "sc = ax.scatter(df['lambda'], df['T'], df['Accuracy'])\n",
    "ax.set_xlabel('lambda', fontsize = 15)\n",
    "ax.set_ylabel('T', fontsize = 15)\n",
    "ax.set_zlabel('Accuracy', fontsize = 15)\n",
    "ax.set_title('Task7', fontsize = 30)\n"
   ]
  },
  {
   "cell_type": "code",
   "execution_count": null,
   "metadata": {},
   "outputs": [],
   "source": []
  },
  {
   "cell_type": "code",
   "execution_count": 19,
   "metadata": {},
   "outputs": [
    {
     "data": {
      "application/vnd.plotly.v1+json": {
       "config": {
        "plotlyServerURL": "https://plot.ly"
       },
       "data": [
        {
         "hovertemplate": "lambda=%{x}<br>T=%{y}<br>Accuracy=%{z}<extra></extra>",
         "legendgroup": "",
         "marker": {
          "color": "#636efa",
          "symbol": "circle"
         },
         "mode": "markers",
         "name": "",
         "scene": "scene",
         "showlegend": false,
         "type": "scatter3d",
         "x": [
          0.3,
          0.3,
          0.3,
          0.3,
          0.3,
          0.3,
          0.3,
          0.3,
          0.45,
          0.45,
          0.45,
          0.45,
          0.45,
          0.45,
          0.45,
          0.45,
          0.6000000000000001,
          0.6000000000000001,
          0.6000000000000001,
          0.6000000000000001,
          0.6000000000000001,
          0.6000000000000001,
          0.6000000000000001,
          0.6000000000000001,
          0.75,
          0.75,
          0.75,
          0.75,
          0.75,
          0.75,
          0.75,
          0.75,
          0.9,
          0.9,
          0.9,
          0.9,
          0.9,
          0.9,
          0.9,
          0.9
         ],
         "y": [
          0.01,
          0.1,
          1,
          10,
          20,
          50,
          100,
          1000,
          0.01,
          0.1,
          1,
          10,
          20,
          50,
          100,
          1000,
          0.01,
          0.1,
          1,
          10,
          20,
          50,
          100,
          1000,
          0.01,
          0.1,
          1,
          10,
          20,
          50,
          100,
          1000,
          0.01,
          0.1,
          1,
          10,
          20,
          50,
          100,
          1000
         ],
         "z": [
          0.2791999876499176,
          0.30149999260902405,
          0.28870001435279846,
          0.289900004863739,
          0.3310000002384186,
          0.28769999742507935,
          0.29490000009536743,
          0.334199994802475,
          0.3292999863624573,
          0.27900001406669617,
          0.30399999022483826,
          0.29330000281333923,
          0.31679999828338623,
          0.3215000033378601,
          0.29019999504089355,
          0.2833000123500824,
          0.2628999948501587,
          0.2840999960899353,
          0.2809999883174896,
          0.30390000343322754,
          0.2969000041484833,
          0.2759999930858612,
          0.28110000491142273,
          0.3059999942779541,
          0.2711000144481659,
          0.24570000171661377,
          0.30399999022483826,
          0.3027999997138977,
          0.28769999742507935,
          0.2761000096797943,
          0.2809999883174896,
          0.29899999499320984,
          0.28040000796318054,
          0.28119999170303345,
          0.3151000142097473,
          0.2987000048160553,
          0.29339998960494995,
          0.3208000063896179,
          0.2851000130176544,
          0.30809998512268066
         ]
        }
       ],
       "layout": {
        "legend": {
         "tracegroupgap": 0
        },
        "scene": {
         "domain": {
          "x": [
           0,
           1
          ],
          "y": [
           0,
           1
          ]
         },
         "xaxis": {
          "title": {
           "text": "lambda"
          }
         },
         "yaxis": {
          "title": {
           "text": "T"
          }
         },
         "zaxis": {
          "title": {
           "text": "Accuracy"
          }
         }
        },
        "template": {
         "data": {
          "bar": [
           {
            "error_x": {
             "color": "#2a3f5f"
            },
            "error_y": {
             "color": "#2a3f5f"
            },
            "marker": {
             "line": {
              "color": "#E5ECF6",
              "width": 0.5
             },
             "pattern": {
              "fillmode": "overlay",
              "size": 10,
              "solidity": 0.2
             }
            },
            "type": "bar"
           }
          ],
          "barpolar": [
           {
            "marker": {
             "line": {
              "color": "#E5ECF6",
              "width": 0.5
             },
             "pattern": {
              "fillmode": "overlay",
              "size": 10,
              "solidity": 0.2
             }
            },
            "type": "barpolar"
           }
          ],
          "carpet": [
           {
            "aaxis": {
             "endlinecolor": "#2a3f5f",
             "gridcolor": "white",
             "linecolor": "white",
             "minorgridcolor": "white",
             "startlinecolor": "#2a3f5f"
            },
            "baxis": {
             "endlinecolor": "#2a3f5f",
             "gridcolor": "white",
             "linecolor": "white",
             "minorgridcolor": "white",
             "startlinecolor": "#2a3f5f"
            },
            "type": "carpet"
           }
          ],
          "choropleth": [
           {
            "colorbar": {
             "outlinewidth": 0,
             "ticks": ""
            },
            "type": "choropleth"
           }
          ],
          "contour": [
           {
            "colorbar": {
             "outlinewidth": 0,
             "ticks": ""
            },
            "colorscale": [
             [
              0,
              "#0d0887"
             ],
             [
              0.1111111111111111,
              "#46039f"
             ],
             [
              0.2222222222222222,
              "#7201a8"
             ],
             [
              0.3333333333333333,
              "#9c179e"
             ],
             [
              0.4444444444444444,
              "#bd3786"
             ],
             [
              0.5555555555555556,
              "#d8576b"
             ],
             [
              0.6666666666666666,
              "#ed7953"
             ],
             [
              0.7777777777777778,
              "#fb9f3a"
             ],
             [
              0.8888888888888888,
              "#fdca26"
             ],
             [
              1,
              "#f0f921"
             ]
            ],
            "type": "contour"
           }
          ],
          "contourcarpet": [
           {
            "colorbar": {
             "outlinewidth": 0,
             "ticks": ""
            },
            "type": "contourcarpet"
           }
          ],
          "heatmap": [
           {
            "colorbar": {
             "outlinewidth": 0,
             "ticks": ""
            },
            "colorscale": [
             [
              0,
              "#0d0887"
             ],
             [
              0.1111111111111111,
              "#46039f"
             ],
             [
              0.2222222222222222,
              "#7201a8"
             ],
             [
              0.3333333333333333,
              "#9c179e"
             ],
             [
              0.4444444444444444,
              "#bd3786"
             ],
             [
              0.5555555555555556,
              "#d8576b"
             ],
             [
              0.6666666666666666,
              "#ed7953"
             ],
             [
              0.7777777777777778,
              "#fb9f3a"
             ],
             [
              0.8888888888888888,
              "#fdca26"
             ],
             [
              1,
              "#f0f921"
             ]
            ],
            "type": "heatmap"
           }
          ],
          "heatmapgl": [
           {
            "colorbar": {
             "outlinewidth": 0,
             "ticks": ""
            },
            "colorscale": [
             [
              0,
              "#0d0887"
             ],
             [
              0.1111111111111111,
              "#46039f"
             ],
             [
              0.2222222222222222,
              "#7201a8"
             ],
             [
              0.3333333333333333,
              "#9c179e"
             ],
             [
              0.4444444444444444,
              "#bd3786"
             ],
             [
              0.5555555555555556,
              "#d8576b"
             ],
             [
              0.6666666666666666,
              "#ed7953"
             ],
             [
              0.7777777777777778,
              "#fb9f3a"
             ],
             [
              0.8888888888888888,
              "#fdca26"
             ],
             [
              1,
              "#f0f921"
             ]
            ],
            "type": "heatmapgl"
           }
          ],
          "histogram": [
           {
            "marker": {
             "pattern": {
              "fillmode": "overlay",
              "size": 10,
              "solidity": 0.2
             }
            },
            "type": "histogram"
           }
          ],
          "histogram2d": [
           {
            "colorbar": {
             "outlinewidth": 0,
             "ticks": ""
            },
            "colorscale": [
             [
              0,
              "#0d0887"
             ],
             [
              0.1111111111111111,
              "#46039f"
             ],
             [
              0.2222222222222222,
              "#7201a8"
             ],
             [
              0.3333333333333333,
              "#9c179e"
             ],
             [
              0.4444444444444444,
              "#bd3786"
             ],
             [
              0.5555555555555556,
              "#d8576b"
             ],
             [
              0.6666666666666666,
              "#ed7953"
             ],
             [
              0.7777777777777778,
              "#fb9f3a"
             ],
             [
              0.8888888888888888,
              "#fdca26"
             ],
             [
              1,
              "#f0f921"
             ]
            ],
            "type": "histogram2d"
           }
          ],
          "histogram2dcontour": [
           {
            "colorbar": {
             "outlinewidth": 0,
             "ticks": ""
            },
            "colorscale": [
             [
              0,
              "#0d0887"
             ],
             [
              0.1111111111111111,
              "#46039f"
             ],
             [
              0.2222222222222222,
              "#7201a8"
             ],
             [
              0.3333333333333333,
              "#9c179e"
             ],
             [
              0.4444444444444444,
              "#bd3786"
             ],
             [
              0.5555555555555556,
              "#d8576b"
             ],
             [
              0.6666666666666666,
              "#ed7953"
             ],
             [
              0.7777777777777778,
              "#fb9f3a"
             ],
             [
              0.8888888888888888,
              "#fdca26"
             ],
             [
              1,
              "#f0f921"
             ]
            ],
            "type": "histogram2dcontour"
           }
          ],
          "mesh3d": [
           {
            "colorbar": {
             "outlinewidth": 0,
             "ticks": ""
            },
            "type": "mesh3d"
           }
          ],
          "parcoords": [
           {
            "line": {
             "colorbar": {
              "outlinewidth": 0,
              "ticks": ""
             }
            },
            "type": "parcoords"
           }
          ],
          "pie": [
           {
            "automargin": true,
            "type": "pie"
           }
          ],
          "scatter": [
           {
            "marker": {
             "colorbar": {
              "outlinewidth": 0,
              "ticks": ""
             }
            },
            "type": "scatter"
           }
          ],
          "scatter3d": [
           {
            "line": {
             "colorbar": {
              "outlinewidth": 0,
              "ticks": ""
             }
            },
            "marker": {
             "colorbar": {
              "outlinewidth": 0,
              "ticks": ""
             }
            },
            "type": "scatter3d"
           }
          ],
          "scattercarpet": [
           {
            "marker": {
             "colorbar": {
              "outlinewidth": 0,
              "ticks": ""
             }
            },
            "type": "scattercarpet"
           }
          ],
          "scattergeo": [
           {
            "marker": {
             "colorbar": {
              "outlinewidth": 0,
              "ticks": ""
             }
            },
            "type": "scattergeo"
           }
          ],
          "scattergl": [
           {
            "marker": {
             "colorbar": {
              "outlinewidth": 0,
              "ticks": ""
             }
            },
            "type": "scattergl"
           }
          ],
          "scattermapbox": [
           {
            "marker": {
             "colorbar": {
              "outlinewidth": 0,
              "ticks": ""
             }
            },
            "type": "scattermapbox"
           }
          ],
          "scatterpolar": [
           {
            "marker": {
             "colorbar": {
              "outlinewidth": 0,
              "ticks": ""
             }
            },
            "type": "scatterpolar"
           }
          ],
          "scatterpolargl": [
           {
            "marker": {
             "colorbar": {
              "outlinewidth": 0,
              "ticks": ""
             }
            },
            "type": "scatterpolargl"
           }
          ],
          "scatterternary": [
           {
            "marker": {
             "colorbar": {
              "outlinewidth": 0,
              "ticks": ""
             }
            },
            "type": "scatterternary"
           }
          ],
          "surface": [
           {
            "colorbar": {
             "outlinewidth": 0,
             "ticks": ""
            },
            "colorscale": [
             [
              0,
              "#0d0887"
             ],
             [
              0.1111111111111111,
              "#46039f"
             ],
             [
              0.2222222222222222,
              "#7201a8"
             ],
             [
              0.3333333333333333,
              "#9c179e"
             ],
             [
              0.4444444444444444,
              "#bd3786"
             ],
             [
              0.5555555555555556,
              "#d8576b"
             ],
             [
              0.6666666666666666,
              "#ed7953"
             ],
             [
              0.7777777777777778,
              "#fb9f3a"
             ],
             [
              0.8888888888888888,
              "#fdca26"
             ],
             [
              1,
              "#f0f921"
             ]
            ],
            "type": "surface"
           }
          ],
          "table": [
           {
            "cells": {
             "fill": {
              "color": "#EBF0F8"
             },
             "line": {
              "color": "white"
             }
            },
            "header": {
             "fill": {
              "color": "#C8D4E3"
             },
             "line": {
              "color": "white"
             }
            },
            "type": "table"
           }
          ]
         },
         "layout": {
          "annotationdefaults": {
           "arrowcolor": "#2a3f5f",
           "arrowhead": 0,
           "arrowwidth": 1
          },
          "autotypenumbers": "strict",
          "coloraxis": {
           "colorbar": {
            "outlinewidth": 0,
            "ticks": ""
           }
          },
          "colorscale": {
           "diverging": [
            [
             0,
             "#8e0152"
            ],
            [
             0.1,
             "#c51b7d"
            ],
            [
             0.2,
             "#de77ae"
            ],
            [
             0.3,
             "#f1b6da"
            ],
            [
             0.4,
             "#fde0ef"
            ],
            [
             0.5,
             "#f7f7f7"
            ],
            [
             0.6,
             "#e6f5d0"
            ],
            [
             0.7,
             "#b8e186"
            ],
            [
             0.8,
             "#7fbc41"
            ],
            [
             0.9,
             "#4d9221"
            ],
            [
             1,
             "#276419"
            ]
           ],
           "sequential": [
            [
             0,
             "#0d0887"
            ],
            [
             0.1111111111111111,
             "#46039f"
            ],
            [
             0.2222222222222222,
             "#7201a8"
            ],
            [
             0.3333333333333333,
             "#9c179e"
            ],
            [
             0.4444444444444444,
             "#bd3786"
            ],
            [
             0.5555555555555556,
             "#d8576b"
            ],
            [
             0.6666666666666666,
             "#ed7953"
            ],
            [
             0.7777777777777778,
             "#fb9f3a"
            ],
            [
             0.8888888888888888,
             "#fdca26"
            ],
            [
             1,
             "#f0f921"
            ]
           ],
           "sequentialminus": [
            [
             0,
             "#0d0887"
            ],
            [
             0.1111111111111111,
             "#46039f"
            ],
            [
             0.2222222222222222,
             "#7201a8"
            ],
            [
             0.3333333333333333,
             "#9c179e"
            ],
            [
             0.4444444444444444,
             "#bd3786"
            ],
            [
             0.5555555555555556,
             "#d8576b"
            ],
            [
             0.6666666666666666,
             "#ed7953"
            ],
            [
             0.7777777777777778,
             "#fb9f3a"
            ],
            [
             0.8888888888888888,
             "#fdca26"
            ],
            [
             1,
             "#f0f921"
            ]
           ]
          },
          "colorway": [
           "#636efa",
           "#EF553B",
           "#00cc96",
           "#ab63fa",
           "#FFA15A",
           "#19d3f3",
           "#FF6692",
           "#B6E880",
           "#FF97FF",
           "#FECB52"
          ],
          "font": {
           "color": "#2a3f5f"
          },
          "geo": {
           "bgcolor": "white",
           "lakecolor": "white",
           "landcolor": "#E5ECF6",
           "showlakes": true,
           "showland": true,
           "subunitcolor": "white"
          },
          "hoverlabel": {
           "align": "left"
          },
          "hovermode": "closest",
          "mapbox": {
           "style": "light"
          },
          "paper_bgcolor": "white",
          "plot_bgcolor": "#E5ECF6",
          "polar": {
           "angularaxis": {
            "gridcolor": "white",
            "linecolor": "white",
            "ticks": ""
           },
           "bgcolor": "#E5ECF6",
           "radialaxis": {
            "gridcolor": "white",
            "linecolor": "white",
            "ticks": ""
           }
          },
          "scene": {
           "xaxis": {
            "backgroundcolor": "#E5ECF6",
            "gridcolor": "white",
            "gridwidth": 2,
            "linecolor": "white",
            "showbackground": true,
            "ticks": "",
            "zerolinecolor": "white"
           },
           "yaxis": {
            "backgroundcolor": "#E5ECF6",
            "gridcolor": "white",
            "gridwidth": 2,
            "linecolor": "white",
            "showbackground": true,
            "ticks": "",
            "zerolinecolor": "white"
           },
           "zaxis": {
            "backgroundcolor": "#E5ECF6",
            "gridcolor": "white",
            "gridwidth": 2,
            "linecolor": "white",
            "showbackground": true,
            "ticks": "",
            "zerolinecolor": "white"
           }
          },
          "shapedefaults": {
           "line": {
            "color": "#2a3f5f"
           }
          },
          "ternary": {
           "aaxis": {
            "gridcolor": "white",
            "linecolor": "white",
            "ticks": ""
           },
           "baxis": {
            "gridcolor": "white",
            "linecolor": "white",
            "ticks": ""
           },
           "bgcolor": "#E5ECF6",
           "caxis": {
            "gridcolor": "white",
            "linecolor": "white",
            "ticks": ""
           }
          },
          "title": {
           "x": 0.05
          },
          "xaxis": {
           "automargin": true,
           "gridcolor": "white",
           "linecolor": "white",
           "ticks": "",
           "title": {
            "standoff": 15
           },
           "zerolinecolor": "white",
           "zerolinewidth": 2
          },
          "yaxis": {
           "automargin": true,
           "gridcolor": "white",
           "linecolor": "white",
           "ticks": "",
           "title": {
            "standoff": 15
           },
           "zerolinecolor": "white",
           "zerolinewidth": 2
          }
         }
        },
        "title": {
         "text": "Task7"
        }
       }
      },
      "text/html": [
       "<div>                            <div id=\"1293f0f4-7276-40ba-88b5-a3c7a3570b83\" class=\"plotly-graph-div\" style=\"height:525px; width:100%;\"></div>            <script type=\"text/javascript\">                require([\"plotly\"], function(Plotly) {                    window.PLOTLYENV=window.PLOTLYENV || {};                                    if (document.getElementById(\"1293f0f4-7276-40ba-88b5-a3c7a3570b83\")) {                    Plotly.newPlot(                        \"1293f0f4-7276-40ba-88b5-a3c7a3570b83\",                        [{\"hovertemplate\":\"lambda=%{x}<br>T=%{y}<br>Accuracy=%{z}<extra></extra>\",\"legendgroup\":\"\",\"marker\":{\"color\":\"#636efa\",\"symbol\":\"circle\"},\"mode\":\"markers\",\"name\":\"\",\"scene\":\"scene\",\"showlegend\":false,\"type\":\"scatter3d\",\"x\":[0.3,0.3,0.3,0.3,0.3,0.3,0.3,0.3,0.45,0.45,0.45,0.45,0.45,0.45,0.45,0.45,0.6000000000000001,0.6000000000000001,0.6000000000000001,0.6000000000000001,0.6000000000000001,0.6000000000000001,0.6000000000000001,0.6000000000000001,0.75,0.75,0.75,0.75,0.75,0.75,0.75,0.75,0.9,0.9,0.9,0.9,0.9,0.9,0.9,0.9],\"y\":[0.01,0.1,1.0,10.0,20.0,50.0,100.0,1000.0,0.01,0.1,1.0,10.0,20.0,50.0,100.0,1000.0,0.01,0.1,1.0,10.0,20.0,50.0,100.0,1000.0,0.01,0.1,1.0,10.0,20.0,50.0,100.0,1000.0,0.01,0.1,1.0,10.0,20.0,50.0,100.0,1000.0],\"z\":[0.2791999876499176,0.30149999260902405,0.28870001435279846,0.289900004863739,0.3310000002384186,0.28769999742507935,0.29490000009536743,0.334199994802475,0.3292999863624573,0.27900001406669617,0.30399999022483826,0.29330000281333923,0.31679999828338623,0.3215000033378601,0.29019999504089355,0.2833000123500824,0.2628999948501587,0.2840999960899353,0.2809999883174896,0.30390000343322754,0.2969000041484833,0.2759999930858612,0.28110000491142273,0.3059999942779541,0.2711000144481659,0.24570000171661377,0.30399999022483826,0.3027999997138977,0.28769999742507935,0.2761000096797943,0.2809999883174896,0.29899999499320984,0.28040000796318054,0.28119999170303345,0.3151000142097473,0.2987000048160553,0.29339998960494995,0.3208000063896179,0.2851000130176544,0.30809998512268066]}],                        {\"legend\":{\"tracegroupgap\":0},\"scene\":{\"domain\":{\"x\":[0.0,1.0],\"y\":[0.0,1.0]},\"xaxis\":{\"title\":{\"text\":\"lambda\"}},\"yaxis\":{\"title\":{\"text\":\"T\"}},\"zaxis\":{\"title\":{\"text\":\"Accuracy\"}}},\"template\":{\"data\":{\"bar\":[{\"error_x\":{\"color\":\"#2a3f5f\"},\"error_y\":{\"color\":\"#2a3f5f\"},\"marker\":{\"line\":{\"color\":\"#E5ECF6\",\"width\":0.5},\"pattern\":{\"fillmode\":\"overlay\",\"size\":10,\"solidity\":0.2}},\"type\":\"bar\"}],\"barpolar\":[{\"marker\":{\"line\":{\"color\":\"#E5ECF6\",\"width\":0.5},\"pattern\":{\"fillmode\":\"overlay\",\"size\":10,\"solidity\":0.2}},\"type\":\"barpolar\"}],\"carpet\":[{\"aaxis\":{\"endlinecolor\":\"#2a3f5f\",\"gridcolor\":\"white\",\"linecolor\":\"white\",\"minorgridcolor\":\"white\",\"startlinecolor\":\"#2a3f5f\"},\"baxis\":{\"endlinecolor\":\"#2a3f5f\",\"gridcolor\":\"white\",\"linecolor\":\"white\",\"minorgridcolor\":\"white\",\"startlinecolor\":\"#2a3f5f\"},\"type\":\"carpet\"}],\"choropleth\":[{\"colorbar\":{\"outlinewidth\":0,\"ticks\":\"\"},\"type\":\"choropleth\"}],\"contour\":[{\"colorbar\":{\"outlinewidth\":0,\"ticks\":\"\"},\"colorscale\":[[0.0,\"#0d0887\"],[0.1111111111111111,\"#46039f\"],[0.2222222222222222,\"#7201a8\"],[0.3333333333333333,\"#9c179e\"],[0.4444444444444444,\"#bd3786\"],[0.5555555555555556,\"#d8576b\"],[0.6666666666666666,\"#ed7953\"],[0.7777777777777778,\"#fb9f3a\"],[0.8888888888888888,\"#fdca26\"],[1.0,\"#f0f921\"]],\"type\":\"contour\"}],\"contourcarpet\":[{\"colorbar\":{\"outlinewidth\":0,\"ticks\":\"\"},\"type\":\"contourcarpet\"}],\"heatmap\":[{\"colorbar\":{\"outlinewidth\":0,\"ticks\":\"\"},\"colorscale\":[[0.0,\"#0d0887\"],[0.1111111111111111,\"#46039f\"],[0.2222222222222222,\"#7201a8\"],[0.3333333333333333,\"#9c179e\"],[0.4444444444444444,\"#bd3786\"],[0.5555555555555556,\"#d8576b\"],[0.6666666666666666,\"#ed7953\"],[0.7777777777777778,\"#fb9f3a\"],[0.8888888888888888,\"#fdca26\"],[1.0,\"#f0f921\"]],\"type\":\"heatmap\"}],\"heatmapgl\":[{\"colorbar\":{\"outlinewidth\":0,\"ticks\":\"\"},\"colorscale\":[[0.0,\"#0d0887\"],[0.1111111111111111,\"#46039f\"],[0.2222222222222222,\"#7201a8\"],[0.3333333333333333,\"#9c179e\"],[0.4444444444444444,\"#bd3786\"],[0.5555555555555556,\"#d8576b\"],[0.6666666666666666,\"#ed7953\"],[0.7777777777777778,\"#fb9f3a\"],[0.8888888888888888,\"#fdca26\"],[1.0,\"#f0f921\"]],\"type\":\"heatmapgl\"}],\"histogram\":[{\"marker\":{\"pattern\":{\"fillmode\":\"overlay\",\"size\":10,\"solidity\":0.2}},\"type\":\"histogram\"}],\"histogram2d\":[{\"colorbar\":{\"outlinewidth\":0,\"ticks\":\"\"},\"colorscale\":[[0.0,\"#0d0887\"],[0.1111111111111111,\"#46039f\"],[0.2222222222222222,\"#7201a8\"],[0.3333333333333333,\"#9c179e\"],[0.4444444444444444,\"#bd3786\"],[0.5555555555555556,\"#d8576b\"],[0.6666666666666666,\"#ed7953\"],[0.7777777777777778,\"#fb9f3a\"],[0.8888888888888888,\"#fdca26\"],[1.0,\"#f0f921\"]],\"type\":\"histogram2d\"}],\"histogram2dcontour\":[{\"colorbar\":{\"outlinewidth\":0,\"ticks\":\"\"},\"colorscale\":[[0.0,\"#0d0887\"],[0.1111111111111111,\"#46039f\"],[0.2222222222222222,\"#7201a8\"],[0.3333333333333333,\"#9c179e\"],[0.4444444444444444,\"#bd3786\"],[0.5555555555555556,\"#d8576b\"],[0.6666666666666666,\"#ed7953\"],[0.7777777777777778,\"#fb9f3a\"],[0.8888888888888888,\"#fdca26\"],[1.0,\"#f0f921\"]],\"type\":\"histogram2dcontour\"}],\"mesh3d\":[{\"colorbar\":{\"outlinewidth\":0,\"ticks\":\"\"},\"type\":\"mesh3d\"}],\"parcoords\":[{\"line\":{\"colorbar\":{\"outlinewidth\":0,\"ticks\":\"\"}},\"type\":\"parcoords\"}],\"pie\":[{\"automargin\":true,\"type\":\"pie\"}],\"scatter\":[{\"marker\":{\"colorbar\":{\"outlinewidth\":0,\"ticks\":\"\"}},\"type\":\"scatter\"}],\"scatter3d\":[{\"line\":{\"colorbar\":{\"outlinewidth\":0,\"ticks\":\"\"}},\"marker\":{\"colorbar\":{\"outlinewidth\":0,\"ticks\":\"\"}},\"type\":\"scatter3d\"}],\"scattercarpet\":[{\"marker\":{\"colorbar\":{\"outlinewidth\":0,\"ticks\":\"\"}},\"type\":\"scattercarpet\"}],\"scattergeo\":[{\"marker\":{\"colorbar\":{\"outlinewidth\":0,\"ticks\":\"\"}},\"type\":\"scattergeo\"}],\"scattergl\":[{\"marker\":{\"colorbar\":{\"outlinewidth\":0,\"ticks\":\"\"}},\"type\":\"scattergl\"}],\"scattermapbox\":[{\"marker\":{\"colorbar\":{\"outlinewidth\":0,\"ticks\":\"\"}},\"type\":\"scattermapbox\"}],\"scatterpolar\":[{\"marker\":{\"colorbar\":{\"outlinewidth\":0,\"ticks\":\"\"}},\"type\":\"scatterpolar\"}],\"scatterpolargl\":[{\"marker\":{\"colorbar\":{\"outlinewidth\":0,\"ticks\":\"\"}},\"type\":\"scatterpolargl\"}],\"scatterternary\":[{\"marker\":{\"colorbar\":{\"outlinewidth\":0,\"ticks\":\"\"}},\"type\":\"scatterternary\"}],\"surface\":[{\"colorbar\":{\"outlinewidth\":0,\"ticks\":\"\"},\"colorscale\":[[0.0,\"#0d0887\"],[0.1111111111111111,\"#46039f\"],[0.2222222222222222,\"#7201a8\"],[0.3333333333333333,\"#9c179e\"],[0.4444444444444444,\"#bd3786\"],[0.5555555555555556,\"#d8576b\"],[0.6666666666666666,\"#ed7953\"],[0.7777777777777778,\"#fb9f3a\"],[0.8888888888888888,\"#fdca26\"],[1.0,\"#f0f921\"]],\"type\":\"surface\"}],\"table\":[{\"cells\":{\"fill\":{\"color\":\"#EBF0F8\"},\"line\":{\"color\":\"white\"}},\"header\":{\"fill\":{\"color\":\"#C8D4E3\"},\"line\":{\"color\":\"white\"}},\"type\":\"table\"}]},\"layout\":{\"annotationdefaults\":{\"arrowcolor\":\"#2a3f5f\",\"arrowhead\":0,\"arrowwidth\":1},\"autotypenumbers\":\"strict\",\"coloraxis\":{\"colorbar\":{\"outlinewidth\":0,\"ticks\":\"\"}},\"colorscale\":{\"diverging\":[[0,\"#8e0152\"],[0.1,\"#c51b7d\"],[0.2,\"#de77ae\"],[0.3,\"#f1b6da\"],[0.4,\"#fde0ef\"],[0.5,\"#f7f7f7\"],[0.6,\"#e6f5d0\"],[0.7,\"#b8e186\"],[0.8,\"#7fbc41\"],[0.9,\"#4d9221\"],[1,\"#276419\"]],\"sequential\":[[0.0,\"#0d0887\"],[0.1111111111111111,\"#46039f\"],[0.2222222222222222,\"#7201a8\"],[0.3333333333333333,\"#9c179e\"],[0.4444444444444444,\"#bd3786\"],[0.5555555555555556,\"#d8576b\"],[0.6666666666666666,\"#ed7953\"],[0.7777777777777778,\"#fb9f3a\"],[0.8888888888888888,\"#fdca26\"],[1.0,\"#f0f921\"]],\"sequentialminus\":[[0.0,\"#0d0887\"],[0.1111111111111111,\"#46039f\"],[0.2222222222222222,\"#7201a8\"],[0.3333333333333333,\"#9c179e\"],[0.4444444444444444,\"#bd3786\"],[0.5555555555555556,\"#d8576b\"],[0.6666666666666666,\"#ed7953\"],[0.7777777777777778,\"#fb9f3a\"],[0.8888888888888888,\"#fdca26\"],[1.0,\"#f0f921\"]]},\"colorway\":[\"#636efa\",\"#EF553B\",\"#00cc96\",\"#ab63fa\",\"#FFA15A\",\"#19d3f3\",\"#FF6692\",\"#B6E880\",\"#FF97FF\",\"#FECB52\"],\"font\":{\"color\":\"#2a3f5f\"},\"geo\":{\"bgcolor\":\"white\",\"lakecolor\":\"white\",\"landcolor\":\"#E5ECF6\",\"showlakes\":true,\"showland\":true,\"subunitcolor\":\"white\"},\"hoverlabel\":{\"align\":\"left\"},\"hovermode\":\"closest\",\"mapbox\":{\"style\":\"light\"},\"paper_bgcolor\":\"white\",\"plot_bgcolor\":\"#E5ECF6\",\"polar\":{\"angularaxis\":{\"gridcolor\":\"white\",\"linecolor\":\"white\",\"ticks\":\"\"},\"bgcolor\":\"#E5ECF6\",\"radialaxis\":{\"gridcolor\":\"white\",\"linecolor\":\"white\",\"ticks\":\"\"}},\"scene\":{\"xaxis\":{\"backgroundcolor\":\"#E5ECF6\",\"gridcolor\":\"white\",\"gridwidth\":2,\"linecolor\":\"white\",\"showbackground\":true,\"ticks\":\"\",\"zerolinecolor\":\"white\"},\"yaxis\":{\"backgroundcolor\":\"#E5ECF6\",\"gridcolor\":\"white\",\"gridwidth\":2,\"linecolor\":\"white\",\"showbackground\":true,\"ticks\":\"\",\"zerolinecolor\":\"white\"},\"zaxis\":{\"backgroundcolor\":\"#E5ECF6\",\"gridcolor\":\"white\",\"gridwidth\":2,\"linecolor\":\"white\",\"showbackground\":true,\"ticks\":\"\",\"zerolinecolor\":\"white\"}},\"shapedefaults\":{\"line\":{\"color\":\"#2a3f5f\"}},\"ternary\":{\"aaxis\":{\"gridcolor\":\"white\",\"linecolor\":\"white\",\"ticks\":\"\"},\"baxis\":{\"gridcolor\":\"white\",\"linecolor\":\"white\",\"ticks\":\"\"},\"bgcolor\":\"#E5ECF6\",\"caxis\":{\"gridcolor\":\"white\",\"linecolor\":\"white\",\"ticks\":\"\"}},\"title\":{\"x\":0.05},\"xaxis\":{\"automargin\":true,\"gridcolor\":\"white\",\"linecolor\":\"white\",\"ticks\":\"\",\"title\":{\"standoff\":15},\"zerolinecolor\":\"white\",\"zerolinewidth\":2},\"yaxis\":{\"automargin\":true,\"gridcolor\":\"white\",\"linecolor\":\"white\",\"ticks\":\"\",\"title\":{\"standoff\":15},\"zerolinecolor\":\"white\",\"zerolinewidth\":2}}},\"title\":{\"text\":\"Task7\"}},                        {\"responsive\": true}                    ).then(function(){\n",
       "                            \n",
       "var gd = document.getElementById('1293f0f4-7276-40ba-88b5-a3c7a3570b83');\n",
       "var x = new MutationObserver(function (mutations, observer) {{\n",
       "        var display = window.getComputedStyle(gd).display;\n",
       "        if (!display || display === 'none') {{\n",
       "            console.log([gd, 'removed!']);\n",
       "            Plotly.purge(gd);\n",
       "            observer.disconnect();\n",
       "        }}\n",
       "}});\n",
       "\n",
       "// Listen for the removal of the full notebook cells\n",
       "var notebookContainer = gd.closest('#notebook-container');\n",
       "if (notebookContainer) {{\n",
       "    x.observe(notebookContainer, {childList: true});\n",
       "}}\n",
       "\n",
       "// Listen for the clearing of the current output cell\n",
       "var outputEl = gd.closest('.output');\n",
       "if (outputEl) {{\n",
       "    x.observe(outputEl, {childList: true});\n",
       "}}\n",
       "\n",
       "                        })                };                });            </script>        </div>"
      ]
     },
     "metadata": {},
     "output_type": "display_data"
    }
   ],
   "source": [
    "\n",
    "fig = px.scatter_3d(df, x='lambda', y='T', z='Accuracy'\n",
    "                   ,title = 'Task7')\n",
    "fig.show()"
   ]
  },
  {
   "cell_type": "markdown",
   "metadata": {},
   "source": [
    "### Явного тренда не наблюдается, что может быть следствием плохого выбора архитектур нейросети (максимальаня точность при дистилляции ~ 33%). Просадки метрики наблюдаются в районе  $\\lambda$ ~ 0.6. \n",
    "\n",
    "При большИх размерах батча наилучшие модели находились в области $ \\lambda > 0.6 $"
   ]
  },
  {
   "cell_type": "code",
   "execution_count": null,
   "metadata": {},
   "outputs": [],
   "source": []
  }
 ],
 "metadata": {
  "accelerator": "GPU",
  "colab": {
   "collapsed_sections": [],
   "name": "Копия блокнота \"2021-01-30-knowledge-distillation.ipynb\"",
   "provenance": []
  },
  "kernelspec": {
   "display_name": "Python 3",
   "language": "python",
   "name": "python3"
  },
  "language_info": {
   "codemirror_mode": {
    "name": "ipython",
    "version": 3
   },
   "file_extension": ".py",
   "mimetype": "text/x-python",
   "name": "python",
   "nbconvert_exporter": "python",
   "pygments_lexer": "ipython3",
   "version": "3.8.8"
  },
  "widgets": {
   "application/vnd.jupyter.widget-state+json": {
    "0852b9f6bb34438e8050907666dd937e": {
     "model_module": "@jupyter-widgets/base",
     "model_module_version": "1.2.0",
     "model_name": "LayoutModel",
     "state": {
      "_model_module": "@jupyter-widgets/base",
      "_model_module_version": "1.2.0",
      "_model_name": "LayoutModel",
      "_view_count": null,
      "_view_module": "@jupyter-widgets/base",
      "_view_module_version": "1.2.0",
      "_view_name": "LayoutView",
      "align_content": null,
      "align_items": null,
      "align_self": null,
      "border": null,
      "bottom": null,
      "display": null,
      "flex": null,
      "flex_flow": null,
      "grid_area": null,
      "grid_auto_columns": null,
      "grid_auto_flow": null,
      "grid_auto_rows": null,
      "grid_column": null,
      "grid_gap": null,
      "grid_row": null,
      "grid_template_areas": null,
      "grid_template_columns": null,
      "grid_template_rows": null,
      "height": null,
      "justify_content": null,
      "justify_items": null,
      "left": null,
      "margin": null,
      "max_height": null,
      "max_width": null,
      "min_height": null,
      "min_width": null,
      "object_fit": null,
      "object_position": null,
      "order": null,
      "overflow": null,
      "overflow_x": null,
      "overflow_y": null,
      "padding": null,
      "right": null,
      "top": null,
      "visibility": null,
      "width": null
     }
    },
    "0c5c8ee1023c4e46ac3daa827e5f5b99": {
     "model_module": "@jupyter-widgets/controls",
     "model_module_version": "1.5.0",
     "model_name": "HBoxModel",
     "state": {
      "_dom_classes": [],
      "_model_module": "@jupyter-widgets/controls",
      "_model_module_version": "1.5.0",
      "_model_name": "HBoxModel",
      "_view_count": null,
      "_view_module": "@jupyter-widgets/controls",
      "_view_module_version": "1.5.0",
      "_view_name": "HBoxView",
      "box_style": "",
      "children": [
       "IPY_MODEL_4984a387a868471d88c7aee640bb82ab",
       "IPY_MODEL_1067b8f1aa724ad7b4ffb6869a4b6707",
       "IPY_MODEL_e4ef8434690f40e09e632267978b4bbe"
      ],
      "layout": "IPY_MODEL_66bbf15e86974597b5486e0a6f8daee6"
     }
    },
    "1067b8f1aa724ad7b4ffb6869a4b6707": {
     "model_module": "@jupyter-widgets/controls",
     "model_module_version": "1.5.0",
     "model_name": "FloatProgressModel",
     "state": {
      "_dom_classes": [],
      "_model_module": "@jupyter-widgets/controls",
      "_model_module_version": "1.5.0",
      "_model_name": "FloatProgressModel",
      "_view_count": null,
      "_view_module": "@jupyter-widgets/controls",
      "_view_module_version": "1.5.0",
      "_view_name": "ProgressView",
      "bar_style": "success",
      "description": "",
      "description_tooltip": null,
      "layout": "IPY_MODEL_ef1679bf28ec4276b103f5f92f4ab286",
      "max": 4542,
      "min": 0,
      "orientation": "horizontal",
      "style": "IPY_MODEL_f39cef4250a34379819962a88b5ccbf1",
      "value": 4542
     }
    },
    "12a7c5dba25f44f79c4770e4cab81e28": {
     "model_module": "@jupyter-widgets/base",
     "model_module_version": "1.2.0",
     "model_name": "LayoutModel",
     "state": {
      "_model_module": "@jupyter-widgets/base",
      "_model_module_version": "1.2.0",
      "_model_name": "LayoutModel",
      "_view_count": null,
      "_view_module": "@jupyter-widgets/base",
      "_view_module_version": "1.2.0",
      "_view_name": "LayoutView",
      "align_content": null,
      "align_items": null,
      "align_self": null,
      "border": null,
      "bottom": null,
      "display": null,
      "flex": null,
      "flex_flow": null,
      "grid_area": null,
      "grid_auto_columns": null,
      "grid_auto_flow": null,
      "grid_auto_rows": null,
      "grid_column": null,
      "grid_gap": null,
      "grid_row": null,
      "grid_template_areas": null,
      "grid_template_columns": null,
      "grid_template_rows": null,
      "height": null,
      "justify_content": null,
      "justify_items": null,
      "left": null,
      "margin": null,
      "max_height": null,
      "max_width": null,
      "min_height": null,
      "min_width": null,
      "object_fit": null,
      "object_position": null,
      "order": null,
      "overflow": null,
      "overflow_x": null,
      "overflow_y": null,
      "padding": null,
      "right": null,
      "top": null,
      "visibility": null,
      "width": null
     }
    },
    "2561fe38f3804aa7ad7e6682f115623c": {
     "model_module": "@jupyter-widgets/controls",
     "model_module_version": "1.5.0",
     "model_name": "HTMLModel",
     "state": {
      "_dom_classes": [],
      "_model_module": "@jupyter-widgets/controls",
      "_model_module_version": "1.5.0",
      "_model_name": "HTMLModel",
      "_view_count": null,
      "_view_module": "@jupyter-widgets/controls",
      "_view_module_version": "1.5.0",
      "_view_name": "HTMLView",
      "description": "",
      "description_tooltip": null,
      "layout": "IPY_MODEL_5725ff2d30a4469cae3ca8076382d35b",
      "placeholder": "​",
      "style": "IPY_MODEL_55318f50b6ae4cb38f06308934be29e9",
      "value": ""
     }
    },
    "3332dff210c64da4b8096626fc1e739d": {
     "model_module": "@jupyter-widgets/controls",
     "model_module_version": "1.5.0",
     "model_name": "HTMLModel",
     "state": {
      "_dom_classes": [],
      "_model_module": "@jupyter-widgets/controls",
      "_model_module_version": "1.5.0",
      "_model_name": "HTMLModel",
      "_view_count": null,
      "_view_module": "@jupyter-widgets/controls",
      "_view_module_version": "1.5.0",
      "_view_name": "HTMLView",
      "description": "",
      "description_tooltip": null,
      "layout": "IPY_MODEL_d498daa5bbff4d9ebbc26c18320c3119",
      "placeholder": "​",
      "style": "IPY_MODEL_f84fe6874d814e989b2b9a312be1ab13",
      "value": " 1649664/? [00:00&lt;00:00, 4041359.36it/s]"
     }
    },
    "4730fc455a254b93ac3921ef92269cbb": {
     "model_module": "@jupyter-widgets/controls",
     "model_module_version": "1.5.0",
     "model_name": "HTMLModel",
     "state": {
      "_dom_classes": [],
      "_model_module": "@jupyter-widgets/controls",
      "_model_module_version": "1.5.0",
      "_model_name": "HTMLModel",
      "_view_count": null,
      "_view_module": "@jupyter-widgets/controls",
      "_view_module_version": "1.5.0",
      "_view_name": "HTMLView",
      "description": "",
      "description_tooltip": null,
      "layout": "IPY_MODEL_544e527244b44071acaa19126350dc39",
      "placeholder": "​",
      "style": "IPY_MODEL_ab690417538145f0a138beb302f05066",
      "value": ""
     }
    },
    "4984a387a868471d88c7aee640bb82ab": {
     "model_module": "@jupyter-widgets/controls",
     "model_module_version": "1.5.0",
     "model_name": "HTMLModel",
     "state": {
      "_dom_classes": [],
      "_model_module": "@jupyter-widgets/controls",
      "_model_module_version": "1.5.0",
      "_model_name": "HTMLModel",
      "_view_count": null,
      "_view_module": "@jupyter-widgets/controls",
      "_view_module_version": "1.5.0",
      "_view_name": "HTMLView",
      "description": "",
      "description_tooltip": null,
      "layout": "IPY_MODEL_ec937db291d6445cb02b7eed2b3ee0ee",
      "placeholder": "​",
      "style": "IPY_MODEL_ad4e60fee1c94fc8a24a3e80d9777153",
      "value": ""
     }
    },
    "5181de1f53744180a92eae0cfb447083": {
     "model_module": "@jupyter-widgets/controls",
     "model_module_version": "1.5.0",
     "model_name": "ProgressStyleModel",
     "state": {
      "_model_module": "@jupyter-widgets/controls",
      "_model_module_version": "1.5.0",
      "_model_name": "ProgressStyleModel",
      "_view_count": null,
      "_view_module": "@jupyter-widgets/base",
      "_view_module_version": "1.2.0",
      "_view_name": "StyleView",
      "bar_color": null,
      "description_width": ""
     }
    },
    "544e527244b44071acaa19126350dc39": {
     "model_module": "@jupyter-widgets/base",
     "model_module_version": "1.2.0",
     "model_name": "LayoutModel",
     "state": {
      "_model_module": "@jupyter-widgets/base",
      "_model_module_version": "1.2.0",
      "_model_name": "LayoutModel",
      "_view_count": null,
      "_view_module": "@jupyter-widgets/base",
      "_view_module_version": "1.2.0",
      "_view_name": "LayoutView",
      "align_content": null,
      "align_items": null,
      "align_self": null,
      "border": null,
      "bottom": null,
      "display": null,
      "flex": null,
      "flex_flow": null,
      "grid_area": null,
      "grid_auto_columns": null,
      "grid_auto_flow": null,
      "grid_auto_rows": null,
      "grid_column": null,
      "grid_gap": null,
      "grid_row": null,
      "grid_template_areas": null,
      "grid_template_columns": null,
      "grid_template_rows": null,
      "height": null,
      "justify_content": null,
      "justify_items": null,
      "left": null,
      "margin": null,
      "max_height": null,
      "max_width": null,
      "min_height": null,
      "min_width": null,
      "object_fit": null,
      "object_position": null,
      "order": null,
      "overflow": null,
      "overflow_x": null,
      "overflow_y": null,
      "padding": null,
      "right": null,
      "top": null,
      "visibility": null,
      "width": null
     }
    },
    "55318f50b6ae4cb38f06308934be29e9": {
     "model_module": "@jupyter-widgets/controls",
     "model_module_version": "1.5.0",
     "model_name": "DescriptionStyleModel",
     "state": {
      "_model_module": "@jupyter-widgets/controls",
      "_model_module_version": "1.5.0",
      "_model_name": "DescriptionStyleModel",
      "_view_count": null,
      "_view_module": "@jupyter-widgets/base",
      "_view_module_version": "1.2.0",
      "_view_name": "StyleView",
      "description_width": ""
     }
    },
    "5725ff2d30a4469cae3ca8076382d35b": {
     "model_module": "@jupyter-widgets/base",
     "model_module_version": "1.2.0",
     "model_name": "LayoutModel",
     "state": {
      "_model_module": "@jupyter-widgets/base",
      "_model_module_version": "1.2.0",
      "_model_name": "LayoutModel",
      "_view_count": null,
      "_view_module": "@jupyter-widgets/base",
      "_view_module_version": "1.2.0",
      "_view_name": "LayoutView",
      "align_content": null,
      "align_items": null,
      "align_self": null,
      "border": null,
      "bottom": null,
      "display": null,
      "flex": null,
      "flex_flow": null,
      "grid_area": null,
      "grid_auto_columns": null,
      "grid_auto_flow": null,
      "grid_auto_rows": null,
      "grid_column": null,
      "grid_gap": null,
      "grid_row": null,
      "grid_template_areas": null,
      "grid_template_columns": null,
      "grid_template_rows": null,
      "height": null,
      "justify_content": null,
      "justify_items": null,
      "left": null,
      "margin": null,
      "max_height": null,
      "max_width": null,
      "min_height": null,
      "min_width": null,
      "object_fit": null,
      "object_position": null,
      "order": null,
      "overflow": null,
      "overflow_x": null,
      "overflow_y": null,
      "padding": null,
      "right": null,
      "top": null,
      "visibility": null,
      "width": null
     }
    },
    "5c79360daaa54c64b8413a80c531cf0d": {
     "model_module": "@jupyter-widgets/base",
     "model_module_version": "1.2.0",
     "model_name": "LayoutModel",
     "state": {
      "_model_module": "@jupyter-widgets/base",
      "_model_module_version": "1.2.0",
      "_model_name": "LayoutModel",
      "_view_count": null,
      "_view_module": "@jupyter-widgets/base",
      "_view_module_version": "1.2.0",
      "_view_name": "LayoutView",
      "align_content": null,
      "align_items": null,
      "align_self": null,
      "border": null,
      "bottom": null,
      "display": null,
      "flex": null,
      "flex_flow": null,
      "grid_area": null,
      "grid_auto_columns": null,
      "grid_auto_flow": null,
      "grid_auto_rows": null,
      "grid_column": null,
      "grid_gap": null,
      "grid_row": null,
      "grid_template_areas": null,
      "grid_template_columns": null,
      "grid_template_rows": null,
      "height": null,
      "justify_content": null,
      "justify_items": null,
      "left": null,
      "margin": null,
      "max_height": null,
      "max_width": null,
      "min_height": null,
      "min_width": null,
      "object_fit": null,
      "object_position": null,
      "order": null,
      "overflow": null,
      "overflow_x": null,
      "overflow_y": null,
      "padding": null,
      "right": null,
      "top": null,
      "visibility": null,
      "width": null
     }
    },
    "5e8db600030d44b9adc058d8654ca42a": {
     "model_module": "@jupyter-widgets/base",
     "model_module_version": "1.2.0",
     "model_name": "LayoutModel",
     "state": {
      "_model_module": "@jupyter-widgets/base",
      "_model_module_version": "1.2.0",
      "_model_name": "LayoutModel",
      "_view_count": null,
      "_view_module": "@jupyter-widgets/base",
      "_view_module_version": "1.2.0",
      "_view_name": "LayoutView",
      "align_content": null,
      "align_items": null,
      "align_self": null,
      "border": null,
      "bottom": null,
      "display": null,
      "flex": null,
      "flex_flow": null,
      "grid_area": null,
      "grid_auto_columns": null,
      "grid_auto_flow": null,
      "grid_auto_rows": null,
      "grid_column": null,
      "grid_gap": null,
      "grid_row": null,
      "grid_template_areas": null,
      "grid_template_columns": null,
      "grid_template_rows": null,
      "height": null,
      "justify_content": null,
      "justify_items": null,
      "left": null,
      "margin": null,
      "max_height": null,
      "max_width": null,
      "min_height": null,
      "min_width": null,
      "object_fit": null,
      "object_position": null,
      "order": null,
      "overflow": null,
      "overflow_x": null,
      "overflow_y": null,
      "padding": null,
      "right": null,
      "top": null,
      "visibility": null,
      "width": null
     }
    },
    "62f08bbc1b3645b9921c2974cc1f2f86": {
     "model_module": "@jupyter-widgets/controls",
     "model_module_version": "1.5.0",
     "model_name": "FloatProgressModel",
     "state": {
      "_dom_classes": [],
      "_model_module": "@jupyter-widgets/controls",
      "_model_module_version": "1.5.0",
      "_model_name": "FloatProgressModel",
      "_view_count": null,
      "_view_module": "@jupyter-widgets/controls",
      "_view_module_version": "1.5.0",
      "_view_name": "ProgressView",
      "bar_style": "success",
      "description": "",
      "description_tooltip": null,
      "layout": "IPY_MODEL_7527c97f153846c2ac5ce6448def08fe",
      "max": 28881,
      "min": 0,
      "orientation": "horizontal",
      "style": "IPY_MODEL_a2893577847f4dd69fcf78e66769ee34",
      "value": 28881
     }
    },
    "643ccea03e7c4eafb6b9384439177b76": {
     "model_module": "@jupyter-widgets/controls",
     "model_module_version": "1.5.0",
     "model_name": "HBoxModel",
     "state": {
      "_dom_classes": [],
      "_model_module": "@jupyter-widgets/controls",
      "_model_module_version": "1.5.0",
      "_model_name": "HBoxModel",
      "_view_count": null,
      "_view_module": "@jupyter-widgets/controls",
      "_view_module_version": "1.5.0",
      "_view_name": "HBoxView",
      "box_style": "",
      "children": [
       "IPY_MODEL_2561fe38f3804aa7ad7e6682f115623c",
       "IPY_MODEL_62f08bbc1b3645b9921c2974cc1f2f86",
       "IPY_MODEL_933948af986449b69627bf9cd9f20369"
      ],
      "layout": "IPY_MODEL_c2445f99bd164495b81bb508bec9b4c2"
     }
    },
    "66bbf15e86974597b5486e0a6f8daee6": {
     "model_module": "@jupyter-widgets/base",
     "model_module_version": "1.2.0",
     "model_name": "LayoutModel",
     "state": {
      "_model_module": "@jupyter-widgets/base",
      "_model_module_version": "1.2.0",
      "_model_name": "LayoutModel",
      "_view_count": null,
      "_view_module": "@jupyter-widgets/base",
      "_view_module_version": "1.2.0",
      "_view_name": "LayoutView",
      "align_content": null,
      "align_items": null,
      "align_self": null,
      "border": null,
      "bottom": null,
      "display": null,
      "flex": null,
      "flex_flow": null,
      "grid_area": null,
      "grid_auto_columns": null,
      "grid_auto_flow": null,
      "grid_auto_rows": null,
      "grid_column": null,
      "grid_gap": null,
      "grid_row": null,
      "grid_template_areas": null,
      "grid_template_columns": null,
      "grid_template_rows": null,
      "height": null,
      "justify_content": null,
      "justify_items": null,
      "left": null,
      "margin": null,
      "max_height": null,
      "max_width": null,
      "min_height": null,
      "min_width": null,
      "object_fit": null,
      "object_position": null,
      "order": null,
      "overflow": null,
      "overflow_x": null,
      "overflow_y": null,
      "padding": null,
      "right": null,
      "top": null,
      "visibility": null,
      "width": null
     }
    },
    "69c3e4a4bc704a17989f7809139ca5be": {
     "model_module": "@jupyter-widgets/controls",
     "model_module_version": "1.5.0",
     "model_name": "FloatProgressModel",
     "state": {
      "_dom_classes": [],
      "_model_module": "@jupyter-widgets/controls",
      "_model_module_version": "1.5.0",
      "_model_name": "FloatProgressModel",
      "_view_count": null,
      "_view_module": "@jupyter-widgets/controls",
      "_view_module_version": "1.5.0",
      "_view_name": "ProgressView",
      "bar_style": "success",
      "description": "",
      "description_tooltip": null,
      "layout": "IPY_MODEL_12a7c5dba25f44f79c4770e4cab81e28",
      "max": 1648877,
      "min": 0,
      "orientation": "horizontal",
      "style": "IPY_MODEL_5181de1f53744180a92eae0cfb447083",
      "value": 1648877
     }
    },
    "72564ea4a2ba476c8a521711351f6a9e": {
     "model_module": "@jupyter-widgets/base",
     "model_module_version": "1.2.0",
     "model_name": "LayoutModel",
     "state": {
      "_model_module": "@jupyter-widgets/base",
      "_model_module_version": "1.2.0",
      "_model_name": "LayoutModel",
      "_view_count": null,
      "_view_module": "@jupyter-widgets/base",
      "_view_module_version": "1.2.0",
      "_view_name": "LayoutView",
      "align_content": null,
      "align_items": null,
      "align_self": null,
      "border": null,
      "bottom": null,
      "display": null,
      "flex": null,
      "flex_flow": null,
      "grid_area": null,
      "grid_auto_columns": null,
      "grid_auto_flow": null,
      "grid_auto_rows": null,
      "grid_column": null,
      "grid_gap": null,
      "grid_row": null,
      "grid_template_areas": null,
      "grid_template_columns": null,
      "grid_template_rows": null,
      "height": null,
      "justify_content": null,
      "justify_items": null,
      "left": null,
      "margin": null,
      "max_height": null,
      "max_width": null,
      "min_height": null,
      "min_width": null,
      "object_fit": null,
      "object_position": null,
      "order": null,
      "overflow": null,
      "overflow_x": null,
      "overflow_y": null,
      "padding": null,
      "right": null,
      "top": null,
      "visibility": null,
      "width": null
     }
    },
    "73467e5a829c4a9094e12f65afd41ecd": {
     "model_module": "@jupyter-widgets/controls",
     "model_module_version": "1.5.0",
     "model_name": "DescriptionStyleModel",
     "state": {
      "_model_module": "@jupyter-widgets/controls",
      "_model_module_version": "1.5.0",
      "_model_name": "DescriptionStyleModel",
      "_view_count": null,
      "_view_module": "@jupyter-widgets/base",
      "_view_module_version": "1.2.0",
      "_view_name": "StyleView",
      "description_width": ""
     }
    },
    "7527c97f153846c2ac5ce6448def08fe": {
     "model_module": "@jupyter-widgets/base",
     "model_module_version": "1.2.0",
     "model_name": "LayoutModel",
     "state": {
      "_model_module": "@jupyter-widgets/base",
      "_model_module_version": "1.2.0",
      "_model_name": "LayoutModel",
      "_view_count": null,
      "_view_module": "@jupyter-widgets/base",
      "_view_module_version": "1.2.0",
      "_view_name": "LayoutView",
      "align_content": null,
      "align_items": null,
      "align_self": null,
      "border": null,
      "bottom": null,
      "display": null,
      "flex": null,
      "flex_flow": null,
      "grid_area": null,
      "grid_auto_columns": null,
      "grid_auto_flow": null,
      "grid_auto_rows": null,
      "grid_column": null,
      "grid_gap": null,
      "grid_row": null,
      "grid_template_areas": null,
      "grid_template_columns": null,
      "grid_template_rows": null,
      "height": null,
      "justify_content": null,
      "justify_items": null,
      "left": null,
      "margin": null,
      "max_height": null,
      "max_width": null,
      "min_height": null,
      "min_width": null,
      "object_fit": null,
      "object_position": null,
      "order": null,
      "overflow": null,
      "overflow_x": null,
      "overflow_y": null,
      "padding": null,
      "right": null,
      "top": null,
      "visibility": null,
      "width": null
     }
    },
    "84bc753b9d55462b92a6dc98688b3a10": {
     "model_module": "@jupyter-widgets/base",
     "model_module_version": "1.2.0",
     "model_name": "LayoutModel",
     "state": {
      "_model_module": "@jupyter-widgets/base",
      "_model_module_version": "1.2.0",
      "_model_name": "LayoutModel",
      "_view_count": null,
      "_view_module": "@jupyter-widgets/base",
      "_view_module_version": "1.2.0",
      "_view_name": "LayoutView",
      "align_content": null,
      "align_items": null,
      "align_self": null,
      "border": null,
      "bottom": null,
      "display": null,
      "flex": null,
      "flex_flow": null,
      "grid_area": null,
      "grid_auto_columns": null,
      "grid_auto_flow": null,
      "grid_auto_rows": null,
      "grid_column": null,
      "grid_gap": null,
      "grid_row": null,
      "grid_template_areas": null,
      "grid_template_columns": null,
      "grid_template_rows": null,
      "height": null,
      "justify_content": null,
      "justify_items": null,
      "left": null,
      "margin": null,
      "max_height": null,
      "max_width": null,
      "min_height": null,
      "min_width": null,
      "object_fit": null,
      "object_position": null,
      "order": null,
      "overflow": null,
      "overflow_x": null,
      "overflow_y": null,
      "padding": null,
      "right": null,
      "top": null,
      "visibility": null,
      "width": null
     }
    },
    "85ec600464c742b6aa39912224849234": {
     "model_module": "@jupyter-widgets/controls",
     "model_module_version": "1.5.0",
     "model_name": "DescriptionStyleModel",
     "state": {
      "_model_module": "@jupyter-widgets/controls",
      "_model_module_version": "1.5.0",
      "_model_name": "DescriptionStyleModel",
      "_view_count": null,
      "_view_module": "@jupyter-widgets/base",
      "_view_module_version": "1.2.0",
      "_view_name": "StyleView",
      "description_width": ""
     }
    },
    "86064f11823746bcb1980d97062d205e": {
     "model_module": "@jupyter-widgets/controls",
     "model_module_version": "1.5.0",
     "model_name": "DescriptionStyleModel",
     "state": {
      "_model_module": "@jupyter-widgets/controls",
      "_model_module_version": "1.5.0",
      "_model_name": "DescriptionStyleModel",
      "_view_count": null,
      "_view_module": "@jupyter-widgets/base",
      "_view_module_version": "1.2.0",
      "_view_name": "StyleView",
      "description_width": ""
     }
    },
    "933948af986449b69627bf9cd9f20369": {
     "model_module": "@jupyter-widgets/controls",
     "model_module_version": "1.5.0",
     "model_name": "HTMLModel",
     "state": {
      "_dom_classes": [],
      "_model_module": "@jupyter-widgets/controls",
      "_model_module_version": "1.5.0",
      "_model_name": "HTMLModel",
      "_view_count": null,
      "_view_module": "@jupyter-widgets/controls",
      "_view_module_version": "1.5.0",
      "_view_name": "HTMLView",
      "description": "",
      "description_tooltip": null,
      "layout": "IPY_MODEL_5e8db600030d44b9adc058d8654ca42a",
      "placeholder": "​",
      "style": "IPY_MODEL_85ec600464c742b6aa39912224849234",
      "value": " 29696/? [00:00&lt;00:00, 8863.81it/s]"
     }
    },
    "9460a6fb85584c59a081986c7dcefb48": {
     "model_module": "@jupyter-widgets/controls",
     "model_module_version": "1.5.0",
     "model_name": "HBoxModel",
     "state": {
      "_dom_classes": [],
      "_model_module": "@jupyter-widgets/controls",
      "_model_module_version": "1.5.0",
      "_model_name": "HBoxModel",
      "_view_count": null,
      "_view_module": "@jupyter-widgets/controls",
      "_view_module_version": "1.5.0",
      "_view_name": "HBoxView",
      "box_style": "",
      "children": [
       "IPY_MODEL_4730fc455a254b93ac3921ef92269cbb",
       "IPY_MODEL_e77e360b259a4f658841db31615304ac",
       "IPY_MODEL_f6dd2500355e40a4921f944908688bfb"
      ],
      "layout": "IPY_MODEL_f2990ade199248c89c8a451d57fe9ff4"
     }
    },
    "a2893577847f4dd69fcf78e66769ee34": {
     "model_module": "@jupyter-widgets/controls",
     "model_module_version": "1.5.0",
     "model_name": "ProgressStyleModel",
     "state": {
      "_model_module": "@jupyter-widgets/controls",
      "_model_module_version": "1.5.0",
      "_model_name": "ProgressStyleModel",
      "_view_count": null,
      "_view_module": "@jupyter-widgets/base",
      "_view_module_version": "1.2.0",
      "_view_name": "StyleView",
      "bar_color": null,
      "description_width": ""
     }
    },
    "ab167c3a95b946828e668aa203d58717": {
     "model_module": "@jupyter-widgets/base",
     "model_module_version": "1.2.0",
     "model_name": "LayoutModel",
     "state": {
      "_model_module": "@jupyter-widgets/base",
      "_model_module_version": "1.2.0",
      "_model_name": "LayoutModel",
      "_view_count": null,
      "_view_module": "@jupyter-widgets/base",
      "_view_module_version": "1.2.0",
      "_view_name": "LayoutView",
      "align_content": null,
      "align_items": null,
      "align_self": null,
      "border": null,
      "bottom": null,
      "display": null,
      "flex": null,
      "flex_flow": null,
      "grid_area": null,
      "grid_auto_columns": null,
      "grid_auto_flow": null,
      "grid_auto_rows": null,
      "grid_column": null,
      "grid_gap": null,
      "grid_row": null,
      "grid_template_areas": null,
      "grid_template_columns": null,
      "grid_template_rows": null,
      "height": null,
      "justify_content": null,
      "justify_items": null,
      "left": null,
      "margin": null,
      "max_height": null,
      "max_width": null,
      "min_height": null,
      "min_width": null,
      "object_fit": null,
      "object_position": null,
      "order": null,
      "overflow": null,
      "overflow_x": null,
      "overflow_y": null,
      "padding": null,
      "right": null,
      "top": null,
      "visibility": null,
      "width": null
     }
    },
    "ab690417538145f0a138beb302f05066": {
     "model_module": "@jupyter-widgets/controls",
     "model_module_version": "1.5.0",
     "model_name": "DescriptionStyleModel",
     "state": {
      "_model_module": "@jupyter-widgets/controls",
      "_model_module_version": "1.5.0",
      "_model_name": "DescriptionStyleModel",
      "_view_count": null,
      "_view_module": "@jupyter-widgets/base",
      "_view_module_version": "1.2.0",
      "_view_name": "StyleView",
      "description_width": ""
     }
    },
    "ad4e60fee1c94fc8a24a3e80d9777153": {
     "model_module": "@jupyter-widgets/controls",
     "model_module_version": "1.5.0",
     "model_name": "DescriptionStyleModel",
     "state": {
      "_model_module": "@jupyter-widgets/controls",
      "_model_module_version": "1.5.0",
      "_model_name": "DescriptionStyleModel",
      "_view_count": null,
      "_view_module": "@jupyter-widgets/base",
      "_view_module_version": "1.2.0",
      "_view_name": "StyleView",
      "description_width": ""
     }
    },
    "b2c9f9f90e53442da74aad16ef8fb69e": {
     "model_module": "@jupyter-widgets/controls",
     "model_module_version": "1.5.0",
     "model_name": "DescriptionStyleModel",
     "state": {
      "_model_module": "@jupyter-widgets/controls",
      "_model_module_version": "1.5.0",
      "_model_name": "DescriptionStyleModel",
      "_view_count": null,
      "_view_module": "@jupyter-widgets/base",
      "_view_module_version": "1.2.0",
      "_view_name": "StyleView",
      "description_width": ""
     }
    },
    "c2445f99bd164495b81bb508bec9b4c2": {
     "model_module": "@jupyter-widgets/base",
     "model_module_version": "1.2.0",
     "model_name": "LayoutModel",
     "state": {
      "_model_module": "@jupyter-widgets/base",
      "_model_module_version": "1.2.0",
      "_model_name": "LayoutModel",
      "_view_count": null,
      "_view_module": "@jupyter-widgets/base",
      "_view_module_version": "1.2.0",
      "_view_name": "LayoutView",
      "align_content": null,
      "align_items": null,
      "align_self": null,
      "border": null,
      "bottom": null,
      "display": null,
      "flex": null,
      "flex_flow": null,
      "grid_area": null,
      "grid_auto_columns": null,
      "grid_auto_flow": null,
      "grid_auto_rows": null,
      "grid_column": null,
      "grid_gap": null,
      "grid_row": null,
      "grid_template_areas": null,
      "grid_template_columns": null,
      "grid_template_rows": null,
      "height": null,
      "justify_content": null,
      "justify_items": null,
      "left": null,
      "margin": null,
      "max_height": null,
      "max_width": null,
      "min_height": null,
      "min_width": null,
      "object_fit": null,
      "object_position": null,
      "order": null,
      "overflow": null,
      "overflow_x": null,
      "overflow_y": null,
      "padding": null,
      "right": null,
      "top": null,
      "visibility": null,
      "width": null
     }
    },
    "c7bd58524ef44fdab1efa43cb142befd": {
     "model_module": "@jupyter-widgets/controls",
     "model_module_version": "1.5.0",
     "model_name": "HTMLModel",
     "state": {
      "_dom_classes": [],
      "_model_module": "@jupyter-widgets/controls",
      "_model_module_version": "1.5.0",
      "_model_name": "HTMLModel",
      "_view_count": null,
      "_view_module": "@jupyter-widgets/controls",
      "_view_module_version": "1.5.0",
      "_view_name": "HTMLView",
      "description": "",
      "description_tooltip": null,
      "layout": "IPY_MODEL_ab167c3a95b946828e668aa203d58717",
      "placeholder": "​",
      "style": "IPY_MODEL_b2c9f9f90e53442da74aad16ef8fb69e",
      "value": ""
     }
    },
    "d086bd004e854478994151b2123b2efe": {
     "model_module": "@jupyter-widgets/controls",
     "model_module_version": "1.5.0",
     "model_name": "ProgressStyleModel",
     "state": {
      "_model_module": "@jupyter-widgets/controls",
      "_model_module_version": "1.5.0",
      "_model_name": "ProgressStyleModel",
      "_view_count": null,
      "_view_module": "@jupyter-widgets/base",
      "_view_module_version": "1.2.0",
      "_view_name": "StyleView",
      "bar_color": null,
      "description_width": ""
     }
    },
    "d498daa5bbff4d9ebbc26c18320c3119": {
     "model_module": "@jupyter-widgets/base",
     "model_module_version": "1.2.0",
     "model_name": "LayoutModel",
     "state": {
      "_model_module": "@jupyter-widgets/base",
      "_model_module_version": "1.2.0",
      "_model_name": "LayoutModel",
      "_view_count": null,
      "_view_module": "@jupyter-widgets/base",
      "_view_module_version": "1.2.0",
      "_view_name": "LayoutView",
      "align_content": null,
      "align_items": null,
      "align_self": null,
      "border": null,
      "bottom": null,
      "display": null,
      "flex": null,
      "flex_flow": null,
      "grid_area": null,
      "grid_auto_columns": null,
      "grid_auto_flow": null,
      "grid_auto_rows": null,
      "grid_column": null,
      "grid_gap": null,
      "grid_row": null,
      "grid_template_areas": null,
      "grid_template_columns": null,
      "grid_template_rows": null,
      "height": null,
      "justify_content": null,
      "justify_items": null,
      "left": null,
      "margin": null,
      "max_height": null,
      "max_width": null,
      "min_height": null,
      "min_width": null,
      "object_fit": null,
      "object_position": null,
      "order": null,
      "overflow": null,
      "overflow_x": null,
      "overflow_y": null,
      "padding": null,
      "right": null,
      "top": null,
      "visibility": null,
      "width": null
     }
    },
    "e4ef8434690f40e09e632267978b4bbe": {
     "model_module": "@jupyter-widgets/controls",
     "model_module_version": "1.5.0",
     "model_name": "HTMLModel",
     "state": {
      "_dom_classes": [],
      "_model_module": "@jupyter-widgets/controls",
      "_model_module_version": "1.5.0",
      "_model_name": "HTMLModel",
      "_view_count": null,
      "_view_module": "@jupyter-widgets/controls",
      "_view_module_version": "1.5.0",
      "_view_name": "HTMLView",
      "description": "",
      "description_tooltip": null,
      "layout": "IPY_MODEL_84bc753b9d55462b92a6dc98688b3a10",
      "placeholder": "​",
      "style": "IPY_MODEL_86064f11823746bcb1980d97062d205e",
      "value": " 5120/? [00:00&lt;00:00, 8737.85it/s]"
     }
    },
    "e77e360b259a4f658841db31615304ac": {
     "model_module": "@jupyter-widgets/controls",
     "model_module_version": "1.5.0",
     "model_name": "FloatProgressModel",
     "state": {
      "_dom_classes": [],
      "_model_module": "@jupyter-widgets/controls",
      "_model_module_version": "1.5.0",
      "_model_name": "FloatProgressModel",
      "_view_count": null,
      "_view_module": "@jupyter-widgets/controls",
      "_view_module_version": "1.5.0",
      "_view_name": "ProgressView",
      "bar_style": "success",
      "description": "",
      "description_tooltip": null,
      "layout": "IPY_MODEL_72564ea4a2ba476c8a521711351f6a9e",
      "max": 9912422,
      "min": 0,
      "orientation": "horizontal",
      "style": "IPY_MODEL_d086bd004e854478994151b2123b2efe",
      "value": 9912422
     }
    },
    "ec937db291d6445cb02b7eed2b3ee0ee": {
     "model_module": "@jupyter-widgets/base",
     "model_module_version": "1.2.0",
     "model_name": "LayoutModel",
     "state": {
      "_model_module": "@jupyter-widgets/base",
      "_model_module_version": "1.2.0",
      "_model_name": "LayoutModel",
      "_view_count": null,
      "_view_module": "@jupyter-widgets/base",
      "_view_module_version": "1.2.0",
      "_view_name": "LayoutView",
      "align_content": null,
      "align_items": null,
      "align_self": null,
      "border": null,
      "bottom": null,
      "display": null,
      "flex": null,
      "flex_flow": null,
      "grid_area": null,
      "grid_auto_columns": null,
      "grid_auto_flow": null,
      "grid_auto_rows": null,
      "grid_column": null,
      "grid_gap": null,
      "grid_row": null,
      "grid_template_areas": null,
      "grid_template_columns": null,
      "grid_template_rows": null,
      "height": null,
      "justify_content": null,
      "justify_items": null,
      "left": null,
      "margin": null,
      "max_height": null,
      "max_width": null,
      "min_height": null,
      "min_width": null,
      "object_fit": null,
      "object_position": null,
      "order": null,
      "overflow": null,
      "overflow_x": null,
      "overflow_y": null,
      "padding": null,
      "right": null,
      "top": null,
      "visibility": null,
      "width": null
     }
    },
    "ef1679bf28ec4276b103f5f92f4ab286": {
     "model_module": "@jupyter-widgets/base",
     "model_module_version": "1.2.0",
     "model_name": "LayoutModel",
     "state": {
      "_model_module": "@jupyter-widgets/base",
      "_model_module_version": "1.2.0",
      "_model_name": "LayoutModel",
      "_view_count": null,
      "_view_module": "@jupyter-widgets/base",
      "_view_module_version": "1.2.0",
      "_view_name": "LayoutView",
      "align_content": null,
      "align_items": null,
      "align_self": null,
      "border": null,
      "bottom": null,
      "display": null,
      "flex": null,
      "flex_flow": null,
      "grid_area": null,
      "grid_auto_columns": null,
      "grid_auto_flow": null,
      "grid_auto_rows": null,
      "grid_column": null,
      "grid_gap": null,
      "grid_row": null,
      "grid_template_areas": null,
      "grid_template_columns": null,
      "grid_template_rows": null,
      "height": null,
      "justify_content": null,
      "justify_items": null,
      "left": null,
      "margin": null,
      "max_height": null,
      "max_width": null,
      "min_height": null,
      "min_width": null,
      "object_fit": null,
      "object_position": null,
      "order": null,
      "overflow": null,
      "overflow_x": null,
      "overflow_y": null,
      "padding": null,
      "right": null,
      "top": null,
      "visibility": null,
      "width": null
     }
    },
    "efa6e51cf8b8457293a30233de726a4a": {
     "model_module": "@jupyter-widgets/controls",
     "model_module_version": "1.5.0",
     "model_name": "HBoxModel",
     "state": {
      "_dom_classes": [],
      "_model_module": "@jupyter-widgets/controls",
      "_model_module_version": "1.5.0",
      "_model_name": "HBoxModel",
      "_view_count": null,
      "_view_module": "@jupyter-widgets/controls",
      "_view_module_version": "1.5.0",
      "_view_name": "HBoxView",
      "box_style": "",
      "children": [
       "IPY_MODEL_c7bd58524ef44fdab1efa43cb142befd",
       "IPY_MODEL_69c3e4a4bc704a17989f7809139ca5be",
       "IPY_MODEL_3332dff210c64da4b8096626fc1e739d"
      ],
      "layout": "IPY_MODEL_0852b9f6bb34438e8050907666dd937e"
     }
    },
    "f2990ade199248c89c8a451d57fe9ff4": {
     "model_module": "@jupyter-widgets/base",
     "model_module_version": "1.2.0",
     "model_name": "LayoutModel",
     "state": {
      "_model_module": "@jupyter-widgets/base",
      "_model_module_version": "1.2.0",
      "_model_name": "LayoutModel",
      "_view_count": null,
      "_view_module": "@jupyter-widgets/base",
      "_view_module_version": "1.2.0",
      "_view_name": "LayoutView",
      "align_content": null,
      "align_items": null,
      "align_self": null,
      "border": null,
      "bottom": null,
      "display": null,
      "flex": null,
      "flex_flow": null,
      "grid_area": null,
      "grid_auto_columns": null,
      "grid_auto_flow": null,
      "grid_auto_rows": null,
      "grid_column": null,
      "grid_gap": null,
      "grid_row": null,
      "grid_template_areas": null,
      "grid_template_columns": null,
      "grid_template_rows": null,
      "height": null,
      "justify_content": null,
      "justify_items": null,
      "left": null,
      "margin": null,
      "max_height": null,
      "max_width": null,
      "min_height": null,
      "min_width": null,
      "object_fit": null,
      "object_position": null,
      "order": null,
      "overflow": null,
      "overflow_x": null,
      "overflow_y": null,
      "padding": null,
      "right": null,
      "top": null,
      "visibility": null,
      "width": null
     }
    },
    "f39cef4250a34379819962a88b5ccbf1": {
     "model_module": "@jupyter-widgets/controls",
     "model_module_version": "1.5.0",
     "model_name": "ProgressStyleModel",
     "state": {
      "_model_module": "@jupyter-widgets/controls",
      "_model_module_version": "1.5.0",
      "_model_name": "ProgressStyleModel",
      "_view_count": null,
      "_view_module": "@jupyter-widgets/base",
      "_view_module_version": "1.2.0",
      "_view_name": "StyleView",
      "bar_color": null,
      "description_width": ""
     }
    },
    "f6dd2500355e40a4921f944908688bfb": {
     "model_module": "@jupyter-widgets/controls",
     "model_module_version": "1.5.0",
     "model_name": "HTMLModel",
     "state": {
      "_dom_classes": [],
      "_model_module": "@jupyter-widgets/controls",
      "_model_module_version": "1.5.0",
      "_model_name": "HTMLModel",
      "_view_count": null,
      "_view_module": "@jupyter-widgets/controls",
      "_view_module_version": "1.5.0",
      "_view_name": "HTMLView",
      "description": "",
      "description_tooltip": null,
      "layout": "IPY_MODEL_5c79360daaa54c64b8413a80c531cf0d",
      "placeholder": "​",
      "style": "IPY_MODEL_73467e5a829c4a9094e12f65afd41ecd",
      "value": " 9913344/? [00:00&lt;00:00, 16569511.93it/s]"
     }
    },
    "f84fe6874d814e989b2b9a312be1ab13": {
     "model_module": "@jupyter-widgets/controls",
     "model_module_version": "1.5.0",
     "model_name": "DescriptionStyleModel",
     "state": {
      "_model_module": "@jupyter-widgets/controls",
      "_model_module_version": "1.5.0",
      "_model_name": "DescriptionStyleModel",
      "_view_count": null,
      "_view_module": "@jupyter-widgets/base",
      "_view_module_version": "1.2.0",
      "_view_name": "StyleView",
      "description_width": ""
     }
    }
   }
  }
 },
 "nbformat": 4,
 "nbformat_minor": 1
}
