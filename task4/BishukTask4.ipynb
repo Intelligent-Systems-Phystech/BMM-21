{
 "cells": [
  {
   "cell_type": "markdown",
   "id": "a66b8f6f",
   "metadata": {},
   "source": [
    "# Лабораторная работа 4 (Задание №2):\n",
    "Нарисовать зависимость качества классификации от разных видов Dataset Shift. Визуализация (несколькими графиками) должна показывать как меняется выборка в зависимости от значимости сдвига, как меняется качество классификации в зависимости от значиомсти сдвига. Выборки: несколько синтетических 2d выборок.\n",
    "\n",
    "## Исполнитель:\n",
    "Бишук Антон"
   ]
  },
  {
   "cell_type": "code",
   "execution_count": 84,
   "id": "3db00865",
   "metadata": {},
   "outputs": [],
   "source": [
    "import numpy as np\n",
    "import matplotlib.pyplot as plt\n",
    "from ipywidgets import *\n",
    "from sklearn.metrics import accuracy_score, precision_score, recall_score\n",
    "from sklearn.linear_model import LogisticRegression"
   ]
  },
  {
   "cell_type": "markdown",
   "id": "7d64fe1d",
   "metadata": {},
   "source": [
    "### Концептуальный сдвиг\n",
    "На обучении данные не нормировались, а в тесте инженеры решили нормировать на константу. В зависимости от величины константы будет меняться влияние сдвига."
   ]
  },
  {
   "cell_type": "code",
   "execution_count": 23,
   "id": "77ed3fa6",
   "metadata": {},
   "outputs": [],
   "source": [
    "N = 2000\n",
    "Y = np.random.binomial(1, 0.4, size=N)\n",
    "X = []\n",
    "\n",
    "mu = np.array([0,0])\n",
    "sigma = np.array([[1,0],[0,1]])\n",
    "\n",
    "mu1 = np.array([2/3,2/3])\n",
    "sigma1 = np.array([[1,1/3],[1/3,1]])\n",
    "\n",
    "mu0 = np.array([-1/4,-1/4])\n",
    "sigma0 = np.array([[1,-1/4],[-1/4,1]])\n",
    "\n",
    "\n",
    "for y in Y:\n",
    "    if y == 0:\n",
    "        X.append((np.random.multivariate_normal(mu, sigma, 1) + np.random.multivariate_normal(mu0, sigma0, 1))[0])\n",
    "    else:\n",
    "        X.append((np.random.multivariate_normal(mu, sigma, 1) + np.random.multivariate_normal(mu1, sigma1, 1))[0])\n",
    "        \n",
    "y_train = Y[:1300]\n",
    "X_train = np.array(X[:1300])\n",
    "\n",
    "y_test = Y[1300:]\n",
    "X_test = np.array(X[1300:])"
   ]
  },
  {
   "cell_type": "code",
   "execution_count": 39,
   "id": "cd19b5de",
   "metadata": {},
   "outputs": [
    {
     "data": {
      "text/plain": [
       "Text(0.5, 1.0, 'Train')"
      ]
     },
     "execution_count": 39,
     "metadata": {},
     "output_type": "execute_result"
    },
    {
     "data": {
      "image/png": "[encoded data removed]",
      "text/plain": [
       "<Figure size 432x288 with 1 Axes>"
      ]
     },
     "metadata": {
      "needs_background": "light"
     },
     "output_type": "display_data"
    }
   ],
   "source": [
    "plt.scatter(X_train[:, 0][y_train == 0], X_train[:, 1][y_train == 0], s=3)\n",
    "plt.scatter(X_train[:, 0][y_train == 1], X_train[:, 1][y_train == 1], s=3)\n",
    "plt.title(\"Train\")"
   ]
  },
  {
   "cell_type": "code",
   "execution_count": 57,
   "id": "43b0705f",
   "metadata": {},
   "outputs": [],
   "source": [
    "def update(C):\n",
    "    plt.scatter(X_test[:, 0][y_test == 0] / C, X_test[:, 1][y_test == 0] / C, s=3)\n",
    "    plt.scatter(X_test[:, 0][y_test == 1] / C, X_test[:, 1][y_test == 1] / C, s=3)\n",
    "    plt.xlim(-10, 10)\n",
    "    plt.ylim(-10, 10)\n",
    "    plt.title(\"Test\")\n",
    "    plt.title(f\"C = {C}, accuracy = {round(accuracy_score(y_test, model.predict(X_test / C)),3)}\")\n",
    "    plt.show()"
   ]
  },
  {
   "cell_type": "code",
   "execution_count": 58,
   "id": "af8074ae",
   "metadata": {},
   "outputs": [],
   "source": [
    "model = LogisticRegression().fit(X_train, y_train)"
   ]
  },
  {
   "cell_type": "code",
   "execution_count": 59,
   "id": "bce5d379",
   "metadata": {},
   "outputs": [
    {
     "data": {
      "application/vnd.jupyter.widget-view+json": {
       "model_id": "b090dae8ed59461b8a2d31c125a90a22",
       "version_major": 2,
       "version_minor": 0
      },
      "text/plain": [
       "interactive(children=(FloatSlider(value=1.0, description='C', max=5.0, min=0.001, step=0.001), Output()), _dom…"
      ]
     },
     "metadata": {},
     "output_type": "display_data"
    },
    {
     "data": {
      "text/plain": [
       "<function __main__.update(C)>"
      ]
     },
     "execution_count": 59,
     "metadata": {},
     "output_type": "execute_result"
    }
   ],
   "source": [
    "interact(update, C = widgets.FloatSlider(value = 1,\n",
    "                                         min = 1e-3,\n",
    "                                         max = 5,\n",
    "                                         step = 1e-3))"
   ]
  },
  {
   "cell_type": "markdown",
   "id": "dca3587e",
   "metadata": {},
   "source": [
    "### Сдвиг в априорной вероятности\n",
    "\n",
    "Или иначе -- разные балансы классов в обучении и тесте"
   ]
  },
  {
   "cell_type": "code",
   "execution_count": 76,
   "id": "dd181a7d",
   "metadata": {},
   "outputs": [],
   "source": [
    "N = 1000\n",
    "Y = np.random.binomial(1, 0.5, size=N)\n",
    "X = []\n",
    "\n",
    "mu = np.array([0,0])\n",
    "sigma = np.array([[1,0],[0,1]])\n",
    "\n",
    "mu1 = np.array([2/3,2/3])\n",
    "sigma1 = np.array([[1,1/3],[1/3,1]])\n",
    "\n",
    "mu0 = np.array([-1/4,-1/4])\n",
    "sigma0 = np.array([[1,-1/4],[-1/4,1]])\n",
    "\n",
    "for y in Y:\n",
    "    if y == 0:\n",
    "        X.append((np.random.multivariate_normal(mu, sigma, 1) + np.random.multivariate_normal(mu0, sigma0, 1))[0])\n",
    "    else:\n",
    "        X.append((np.random.multivariate_normal(mu, sigma, 1) + np.random.multivariate_normal(mu1, sigma1, 1))[0])\n",
    "\n",
    "X_train = np.array(X)\n",
    "y_train = Y"
   ]
  },
  {
   "cell_type": "code",
   "execution_count": 85,
   "id": "97ec2296",
   "metadata": {},
   "outputs": [],
   "source": [
    "def update(part):\n",
    "    y_test = np.random.binomial(1, part, size=N)\n",
    "    X = []\n",
    "    for y in y_test:\n",
    "        if y == 0:\n",
    "            X.append((np.random.multivariate_normal(mu, sigma, 1) + np.random.multivariate_normal(mu0, sigma0, 1))[0])\n",
    "        else:\n",
    "            X.append((np.random.multivariate_normal(mu, sigma, 1) + np.random.multivariate_normal(mu1, sigma1, 1))[0])\n",
    "    X_test = np.array(X)\n",
    "\n",
    "    plt.scatter(X_test[:, 0][y_test == 0], X_test[:, 1][y_test == 0], s=3)\n",
    "    plt.scatter(X_test[:, 0][y_test == 1], X_test[:, 1][y_test == 1], s=3)\n",
    "    plt.xlim(-10, 10)\n",
    "    plt.ylim(-10, 10)\n",
    "    plt.title(\"Test\")\n",
    "    plt.title(f\"part of class 1 = {part}, accuracy = {round(accuracy_score(y_test, model.predict(X_test)),3)}, precision = {round(precision_score(y_test, model.predict(X_test)),3)}, recall = {round(recall_score(y_test, model.predict(X_test)),3)}\")\n",
    "    plt.show()"
   ]
  },
  {
   "cell_type": "code",
   "execution_count": 86,
   "id": "acc015e7",
   "metadata": {},
   "outputs": [
    {
     "data": {
      "text/plain": [
       "Text(0.5, 1.0, 'Train')"
      ]
     },
     "execution_count": 86,
     "metadata": {},
     "output_type": "execute_result"
    },
    {
     "data": {
      "image/png": "[encoded data removed]",
      "text/plain": [
       "<Figure size 432x288 with 1 Axes>"
      ]
     },
     "metadata": {
      "needs_background": "light"
     },
     "output_type": "display_data"
    }
   ],
   "source": [
    "plt.scatter(X_train[:, 0][y_train == 0], X_train[:, 1][y_train == 0], s=3)\n",
    "plt.scatter(X_train[:, 0][y_train == 1], X_train[:, 1][y_train == 1], s=3)\n",
    "plt.title(\"Train\")"
   ]
  },
  {
   "cell_type": "code",
   "execution_count": 87,
   "id": "3006bbfa",
   "metadata": {},
   "outputs": [],
   "source": [
    "model = LogisticRegression().fit(X_train, y_train)"
   ]
  },
  {
   "cell_type": "code",
   "execution_count": 88,
   "id": "d8010163",
   "metadata": {},
   "outputs": [
    {
     "data": {
      "application/vnd.jupyter.widget-view+json": {
       "model_id": "6b3585aa96164a43b4775766988b0c50",
       "version_major": 2,
       "version_minor": 0
      },
      "text/plain": [
       "interactive(children=(FloatSlider(value=0.5, description='part', max=0.95, min=0.05, step=0.05), Output()), _d…"
      ]
     },
     "metadata": {},
     "output_type": "display_data"
    },
    {
     "data": {
      "text/plain": [
       "<function __main__.update(part)>"
      ]
     },
     "execution_count": 88,
     "metadata": {},
     "output_type": "execute_result"
    }
   ],
   "source": [
    "interact(update, part = widgets.FloatSlider(value = 0.5,\n",
    "                                         min = 0.05,\n",
    "                                         max = 0.95,\n",
    "                                         step = 0.05))"
   ]
  },
  {
   "cell_type": "markdown",
   "id": "d657cd6f",
   "metadata": {},
   "source": [
    "## Вывод:\n",
    "\n",
    "Как и ожидалось сдвиг в данных уменьшает качество на тесте. Однако, в рассматриваемых видах сдвига, качество могло упасть еще сильнее, еслибы использовалась, например, модель лесов, поскольку каждый узел в дереве обучается на порог и если порог будет сдвинут, то все объекты могут попать в один лист"
   ]
  }
 ],
 "metadata": {
  "kernelspec": {
   "display_name": "Python 3",
   "language": "python",
   "name": "python3"
  },
  "language_info": {
   "codemirror_mode": {
    "name": "ipython",
    "version": 3
   },
   "file_extension": ".py",
   "mimetype": "text/x-python",
   "name": "python",
   "nbconvert_exporter": "python",
   "pygments_lexer": "ipython3",
   "version": "3.8.8"
  }
 },
 "nbformat": 4,
 "nbformat_minor": 5
}
