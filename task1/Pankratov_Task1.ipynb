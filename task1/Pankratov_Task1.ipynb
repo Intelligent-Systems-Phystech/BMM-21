{
 "cells": [
  {
   "cell_type": "code",
   "execution_count": 4,
   "id": "32c809ff",
   "metadata": {},
   "outputs": [],
   "source": [
    "from ipywidgets import interact, interactive, fixed, interact_manual\n",
    "from scipy.stats import t\n",
    "from scipy.stats import norm\n",
    "from scipy.stats import beta\n",
    "from scipy.stats import cauchy\n",
    "from scipy.stats import vonmises\n",
    "from scipy.stats import gamma\n",
    "from sklearn.neighbors import KernelDensity\n",
    "from sklearn.neighbors import KNeighborsRegressor\n",
    "\n",
    "import matplotlib.pyplot as plt\n",
    "import numpy as np\n",
    "import ipywidgets as widgets\n",
    "\n",
    "%matplotlib inline\n",
    "\n",
    "\n"
   ]
  },
  {
   "cell_type": "code",
   "execution_count": 12,
   "id": "e0cca69e",
   "metadata": {},
   "outputs": [
    {
     "data": {
      "text/plain": [
       "<matplotlib.legend.Legend at 0x1e114060fc8>"
      ]
     },
     "execution_count": 12,
     "metadata": {},
     "output_type": "execute_result"
    },
    {
     "data": {
      "image/png": "[encoded data removed]",
      "text/plain": [
       "<Figure size 432x288 with 1 Axes>"
      ]
     },
     "metadata": {
      "needs_background": "light"
     },
     "output_type": "display_data"
    }
   ],
   "source": [
    "x = np.linspace(gamma.ppf(0.01, 1, scale = 1),gamma.ppf(0.99, 1, scale = 1), num = 100) #пример графика распределения\n",
    "plt.xlabel(\"Распределение Гамма, параметры {},{} , x\".format(1, 1))\n",
    "plt.ylabel(\"F(x)\")\n",
    "plt.plot(x, gamma.pdf(x, 1, scale = 1), label = 'Гамма распределение')\n",
    "plt.grid()\n",
    "plt.legend()"
   ]
  },
  {
   "cell_type": "code",
   "execution_count": 13,
   "id": "f6b447ed",
   "metadata": {},
   "outputs": [
    {
     "data": {
      "application/vnd.jupyter.widget-view+json": {
       "model_id": "259dd4670256474f9be21d5968b1c65d",
       "version_major": 2,
       "version_minor": 0
      },
      "text/plain": [
       "interactive(children=(FloatSlider(value=10.0, description='alpha', min=0.05, step=0.05), FloatSlider(value=10.…"
      ]
     },
     "metadata": {},
     "output_type": "display_data"
    },
    {
     "data": {
      "text/plain": [
       "<function __main__.plotgamma(alpha, beta)>"
      ]
     },
     "execution_count": 13,
     "metadata": {},
     "output_type": "execute_result"
    }
   ],
   "source": [
    "def plotgamma(alpha, beta):\n",
    "    x = np.linspace(gamma.ppf(0.01, alpha, scale = 1/beta),gamma.ppf(0.99, alpha, scale = 1/beta), num = 100)\n",
    "    plt.xlabel(\"Распределение Гамма, параметры {},{} , x\".format(alpha, beta))\n",
    "    plt.ylabel(\"F(x)\")\n",
    "    plt.plot(x, gamma.pdf(x, alpha, scale = 1/beta), label = 'Гамма распределение')\n",
    "    plt.grid()\n",
    "    plt.legend()\n",
    "    \n",
    "interact(plotgamma, alpha = widgets.FloatSlider(value = 10,\n",
    "                                               min = 0.05,\n",
    "                                               max = 100,\n",
    "                                               step = 0.05) , \n",
    "                       beta  = widgets.FloatSlider(value = 10,\n",
    "                                               min = 0.05,\n",
    "                                               max = 100,\n",
    "                                               step = 0.05))"
   ]
  },
  {
   "cell_type": "code",
   "execution_count": null,
   "id": "93302938",
   "metadata": {},
   "outputs": [],
   "source": []
  }
 ],
 "metadata": {
  "kernelspec": {
   "display_name": "Python 3",
   "language": "python",
   "name": "python3"
  },
  "language_info": {
   "codemirror_mode": {
    "name": "ipython",
    "version": 3
   },
   "file_extension": ".py",
   "mimetype": "text/x-python",
   "name": "python",
   "nbconvert_exporter": "python",
   "pygments_lexer": "ipython3",
   "version": "3.7.10"
  },
  "widgets": {
   "application/vnd.jupyter.widget-state+json": {
    "state": {
     "0b71c075441741169c7e349158d8f5d9": {
      "model_module": "@jupyter-widgets/base",
      "model_module_version": "1.2.0",
      "model_name": "LayoutModel",
      "state": {}
     },
     "1731e532305f45bb9f7623707d4dac6d": {
      "model_module": "@jupyter-widgets/controls",
      "model_module_version": "1.5.0",
      "model_name": "FloatSliderModel",
      "state": {
       "description": "beta",
       "layout": "IPY_MODEL_e02ddfd4d9d048adbc5010684b13a439",
       "min": 0.05,
       "step": 0.05,
       "style": "IPY_MODEL_ff90698dbce74731a995927e1fb0f0f7",
       "value": 1
      }
     },
     "184d287e41bf490a8a713b3a0cb56bd1": {
      "model_module": "@jupyter-widgets/controls",
      "model_module_version": "1.5.0",
      "model_name": "FloatSliderModel",
      "state": {
       "description": "beta",
       "layout": "IPY_MODEL_31347c83762c40399ea35ffcd1d91105",
       "min": 0.05,
       "step": 0.05,
       "style": "IPY_MODEL_c69353c3cb0b455f8cb06e0337f158cc",
       "value": 1
      }
     },
     "259dd4670256474f9be21d5968b1c65d": {
      "model_module": "@jupyter-widgets/controls",
      "model_module_version": "1.5.0",
      "model_name": "VBoxModel",
      "state": {
       "_dom_classes": [
        "widget-interact"
       ],
       "children": [
        "IPY_MODEL_f76e5ec021aa409c9c4f41668581675f",
        "IPY_MODEL_3b74fb3f454f4d6486ab83a53eccf50b",
        "IPY_MODEL_f45174da45aa4c6a9bf73c76eb4e5006"
       ],
       "layout": "IPY_MODEL_f0e3e8a1e989407ba5de8d3e2da0a3da"
      }
     },
     "31347c83762c40399ea35ffcd1d91105": {
      "model_module": "@jupyter-widgets/base",
      "model_module_version": "1.2.0",
      "model_name": "LayoutModel",
      "state": {}
     },
     "3b74fb3f454f4d6486ab83a53eccf50b": {
      "model_module": "@jupyter-widgets/controls",
      "model_module_version": "1.5.0",
      "model_name": "FloatSliderModel",
      "state": {
       "description": "beta",
       "layout": "IPY_MODEL_b169e95acbd04917bebf4835ad2eaad8",
       "min": 0.05,
       "step": 0.05,
       "style": "IPY_MODEL_c91ee2dce87c4eac9a7a30cc46427c4c",
       "value": 10
      }
     },
     "3cf866128cb945dd8113c677a203dda5": {
      "model_module": "@jupyter-widgets/base",
      "model_module_version": "1.2.0",
      "model_name": "LayoutModel",
      "state": {}
     },
     "4230b2c75dbe4b829307c6b4e7c640bf": {
      "model_module": "@jupyter-widgets/controls",
      "model_module_version": "1.5.0",
      "model_name": "SliderStyleModel",
      "state": {
       "description_width": ""
      }
     },
     "460d5bbf415f410fb44edd376b169ca0": {
      "model_module": "@jupyter-widgets/base",
      "model_module_version": "1.2.0",
      "model_name": "LayoutModel",
      "state": {}
     },
     "4e00a368c5e8493dbec39885d0b8fa0c": {
      "model_module": "@jupyter-widgets/base",
      "model_module_version": "1.2.0",
      "model_name": "LayoutModel",
      "state": {}
     },
     "52cc10aa17334f0db5e0aad56997833a": {
      "model_module": "@jupyter-widgets/controls",
      "model_module_version": "1.5.0",
      "model_name": "VBoxModel",
      "state": {
       "_dom_classes": [
        "widget-interact"
       ],
       "children": [
        "IPY_MODEL_affb48d8926b47b19f61be3c0a094876",
        "IPY_MODEL_1731e532305f45bb9f7623707d4dac6d",
        "IPY_MODEL_6d345b0dcb294cd4a005d108d0b55189"
       ],
       "layout": "IPY_MODEL_a82a424680db41b2889ad158e68d9d2e"
      }
     },
     "55daf84d702546108d5f077702167dd7": {
      "model_module": "@jupyter-widgets/controls",
      "model_module_version": "1.5.0",
      "model_name": "SliderStyleModel",
      "state": {
       "description_width": ""
      }
     },
     "59dabea28d5e4c51b7ff059edc86d0c4": {
      "model_module": "@jupyter-widgets/base",
      "model_module_version": "1.2.0",
      "model_name": "LayoutModel",
      "state": {}
     },
     "6d345b0dcb294cd4a005d108d0b55189": {
      "model_module": "@jupyter-widgets/output",
      "model_module_version": "1.0.0",
      "model_name": "OutputModel",
      "state": {
       "layout": "IPY_MODEL_4e00a368c5e8493dbec39885d0b8fa0c",
       "outputs": [
        {
         "data": {
          "image/png": "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\n",
          "text/plain": "<Figure size 432x288 with 1 Axes>"
         },
         "metadata": {
          "needs_background": "light"
         },
         "output_type": "display_data"
        }
       ]
      }
     },
     "855eb30bc6ed4814b7d02429a62188a2": {
      "model_module": "@jupyter-widgets/base",
      "model_module_version": "1.2.0",
      "model_name": "LayoutModel",
      "state": {}
     },
     "8b92a833a7eb40ab9ae28077319d495e": {
      "model_module": "@jupyter-widgets/controls",
      "model_module_version": "1.5.0",
      "model_name": "FloatSliderModel",
      "state": {
       "description": "alpha",
       "layout": "IPY_MODEL_f1cdd08a97e9448592cc43952a27b4de",
       "min": 0.05,
       "step": 0.05,
       "style": "IPY_MODEL_b8918a6ff1f44feb9d2a356438ef4bbe",
       "value": 1
      }
     },
     "9b6201ea7d5249da834f056e512b19fd": {
      "model_module": "@jupyter-widgets/controls",
      "model_module_version": "1.5.0",
      "model_name": "SliderStyleModel",
      "state": {
       "description_width": ""
      }
     },
     "9f31399a7afd446382d4ed1169193050": {
      "model_module": "@jupyter-widgets/controls",
      "model_module_version": "1.5.0",
      "model_name": "SliderStyleModel",
      "state": {
       "description_width": ""
      }
     },
     "a0b3dbe61fd347538f81d60aaaa06441": {
      "model_module": "@jupyter-widgets/controls",
      "model_module_version": "1.5.0",
      "model_name": "SliderStyleModel",
      "state": {
       "description_width": ""
      }
     },
     "a38e053a64fe40de94e0ab2e6b1fb14c": {
      "model_module": "@jupyter-widgets/base",
      "model_module_version": "1.2.0",
      "model_name": "LayoutModel",
      "state": {}
     },
     "a82a424680db41b2889ad158e68d9d2e": {
      "model_module": "@jupyter-widgets/base",
      "model_module_version": "1.2.0",
      "model_name": "LayoutModel",
      "state": {}
     },
     "ab9a697b04bb497b8c1d208e7d4f540b": {
      "model_module": "@jupyter-widgets/controls",
      "model_module_version": "1.5.0",
      "model_name": "FloatSliderModel",
      "state": {
       "description": "beta",
       "layout": "IPY_MODEL_59dabea28d5e4c51b7ff059edc86d0c4",
       "min": 0.05,
       "step": 0.05,
       "style": "IPY_MODEL_9b6201ea7d5249da834f056e512b19fd",
       "value": 1
      }
     },
     "ad05e7593d9b4b45b8c4a90a81ea3308": {
      "model_module": "@jupyter-widgets/base",
      "model_module_version": "1.2.0",
      "model_name": "LayoutModel",
      "state": {}
     },
     "affb48d8926b47b19f61be3c0a094876": {
      "model_module": "@jupyter-widgets/controls",
      "model_module_version": "1.5.0",
      "model_name": "FloatSliderModel",
      "state": {
       "description": "alpha",
       "layout": "IPY_MODEL_460d5bbf415f410fb44edd376b169ca0",
       "min": 0.05,
       "step": 0.05,
       "style": "IPY_MODEL_9f31399a7afd446382d4ed1169193050",
       "value": 1
      }
     },
     "b169e95acbd04917bebf4835ad2eaad8": {
      "model_module": "@jupyter-widgets/base",
      "model_module_version": "1.2.0",
      "model_name": "LayoutModel",
      "state": {}
     },
     "b46faec65459474db4e518a707d70cf0": {
      "model_module": "@jupyter-widgets/base",
      "model_module_version": "1.2.0",
      "model_name": "LayoutModel",
      "state": {}
     },
     "b7a9564659b6474e8f8f32fb58e7dfac": {
      "model_module": "@jupyter-widgets/controls",
      "model_module_version": "1.5.0",
      "model_name": "VBoxModel",
      "state": {
       "_dom_classes": [
        "widget-interact"
       ],
       "children": [
        "IPY_MODEL_ea27f7aa7d664e12a88228f56d43170c",
        "IPY_MODEL_ab9a697b04bb497b8c1d208e7d4f540b",
        "IPY_MODEL_d5e78d0e04e2421caa39dd668e72c9e9"
       ],
       "layout": "IPY_MODEL_0b71c075441741169c7e349158d8f5d9"
      }
     },
     "b8918a6ff1f44feb9d2a356438ef4bbe": {
      "model_module": "@jupyter-widgets/controls",
      "model_module_version": "1.5.0",
      "model_name": "SliderStyleModel",
      "state": {
       "description_width": ""
      }
     },
     "bd0631cf843642559b43821b0694b919": {
      "model_module": "@jupyter-widgets/controls",
      "model_module_version": "1.5.0",
      "model_name": "VBoxModel",
      "state": {
       "_dom_classes": [
        "widget-interact"
       ],
       "children": [
        "IPY_MODEL_8b92a833a7eb40ab9ae28077319d495e",
        "IPY_MODEL_184d287e41bf490a8a713b3a0cb56bd1",
        "IPY_MODEL_f8db589daccd465eb665879ca434aba0"
       ],
       "layout": "IPY_MODEL_df40ccbb7ba34ff0b5f14b57d65a9950"
      }
     },
     "bd2686137ec940bda22963477bbeb188": {
      "model_module": "@jupyter-widgets/base",
      "model_module_version": "1.2.0",
      "model_name": "LayoutModel",
      "state": {}
     },
     "bde8b6ae2bc849d1b02504ebed36a50c": {
      "model_module": "@jupyter-widgets/controls",
      "model_module_version": "1.5.0",
      "model_name": "VBoxModel",
      "state": {
       "_dom_classes": [
        "widget-interact"
       ],
       "children": [
        "IPY_MODEL_f5c9aca69ce245c3aa3bd9368d94c6a9",
        "IPY_MODEL_c1fe174fd8b34907853e7bbe0bbfe255",
        "IPY_MODEL_e85a5bedcfda40479859bebe8f43ffb2"
       ],
       "layout": "IPY_MODEL_fcd1ab5780584e198f585cc01d5fb6e7"
      }
     },
     "c1fe174fd8b34907853e7bbe0bbfe255": {
      "model_module": "@jupyter-widgets/controls",
      "model_module_version": "1.5.0",
      "model_name": "FloatSliderModel",
      "state": {
       "description": "beta",
       "layout": "IPY_MODEL_bd2686137ec940bda22963477bbeb188",
       "min": 0.05,
       "step": 0.05,
       "style": "IPY_MODEL_4230b2c75dbe4b829307c6b4e7c640bf",
       "value": 10
      }
     },
     "c565237c4bee4d248ecb909636edbb7b": {
      "model_module": "@jupyter-widgets/base",
      "model_module_version": "1.2.0",
      "model_name": "LayoutModel",
      "state": {}
     },
     "c69353c3cb0b455f8cb06e0337f158cc": {
      "model_module": "@jupyter-widgets/controls",
      "model_module_version": "1.5.0",
      "model_name": "SliderStyleModel",
      "state": {
       "description_width": ""
      }
     },
     "c91ee2dce87c4eac9a7a30cc46427c4c": {
      "model_module": "@jupyter-widgets/controls",
      "model_module_version": "1.5.0",
      "model_name": "SliderStyleModel",
      "state": {
       "description_width": ""
      }
     },
     "d5e78d0e04e2421caa39dd668e72c9e9": {
      "model_module": "@jupyter-widgets/output",
      "model_module_version": "1.0.0",
      "model_name": "OutputModel",
      "state": {
       "layout": "IPY_MODEL_b46faec65459474db4e518a707d70cf0",
       "outputs": [
        {
         "data": {
          "image/png": "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\n",
          "text/plain": "<Figure size 432x288 with 1 Axes>"
         },
         "metadata": {
          "needs_background": "light"
         },
         "output_type": "display_data"
        }
       ]
      }
     },
     "df40ccbb7ba34ff0b5f14b57d65a9950": {
      "model_module": "@jupyter-widgets/base",
      "model_module_version": "1.2.0",
      "model_name": "LayoutModel",
      "state": {}
     },
     "e02ddfd4d9d048adbc5010684b13a439": {
      "model_module": "@jupyter-widgets/base",
      "model_module_version": "1.2.0",
      "model_name": "LayoutModel",
      "state": {}
     },
     "e4a6dceb27754886ab155c598787324c": {
      "model_module": "@jupyter-widgets/controls",
      "model_module_version": "1.5.0",
      "model_name": "SliderStyleModel",
      "state": {
       "description_width": ""
      }
     },
     "e85a5bedcfda40479859bebe8f43ffb2": {
      "model_module": "@jupyter-widgets/output",
      "model_module_version": "1.0.0",
      "model_name": "OutputModel",
      "state": {
       "layout": "IPY_MODEL_ad05e7593d9b4b45b8c4a90a81ea3308",
       "outputs": [
        {
         "data": {
          "image/png": "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\n",
          "text/plain": "<Figure size 432x288 with 1 Axes>"
         },
         "metadata": {
          "needs_background": "light"
         },
         "output_type": "display_data"
        }
       ]
      }
     },
     "e8d666f19c6c42abb4b704d447bcde8f": {
      "model_module": "@jupyter-widgets/base",
      "model_module_version": "1.2.0",
      "model_name": "LayoutModel",
      "state": {}
     },
     "ea27f7aa7d664e12a88228f56d43170c": {
      "model_module": "@jupyter-widgets/controls",
      "model_module_version": "1.5.0",
      "model_name": "FloatSliderModel",
      "state": {
       "description": "alpha",
       "layout": "IPY_MODEL_e8d666f19c6c42abb4b704d447bcde8f",
       "min": 0.05,
       "step": 0.05,
       "style": "IPY_MODEL_a0b3dbe61fd347538f81d60aaaa06441",
       "value": 1
      }
     },
     "f0e3e8a1e989407ba5de8d3e2da0a3da": {
      "model_module": "@jupyter-widgets/base",
      "model_module_version": "1.2.0",
      "model_name": "LayoutModel",
      "state": {}
     },
     "f1cdd08a97e9448592cc43952a27b4de": {
      "model_module": "@jupyter-widgets/base",
      "model_module_version": "1.2.0",
      "model_name": "LayoutModel",
      "state": {}
     },
     "f45174da45aa4c6a9bf73c76eb4e5006": {
      "model_module": "@jupyter-widgets/output",
      "model_module_version": "1.0.0",
      "model_name": "OutputModel",
      "state": {
       "layout": "IPY_MODEL_3cf866128cb945dd8113c677a203dda5",
       "outputs": [
        {
         "data": {
          "image/png": "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\n",
          "text/plain": "<Figure size 432x288 with 1 Axes>"
         },
         "metadata": {
          "needs_background": "light"
         },
         "output_type": "display_data"
        }
       ]
      }
     },
     "f5c9aca69ce245c3aa3bd9368d94c6a9": {
      "model_module": "@jupyter-widgets/controls",
      "model_module_version": "1.5.0",
      "model_name": "FloatSliderModel",
      "state": {
       "description": "alpha",
       "layout": "IPY_MODEL_855eb30bc6ed4814b7d02429a62188a2",
       "min": 0.05,
       "step": 0.05,
       "style": "IPY_MODEL_55daf84d702546108d5f077702167dd7",
       "value": 10
      }
     },
     "f76e5ec021aa409c9c4f41668581675f": {
      "model_module": "@jupyter-widgets/controls",
      "model_module_version": "1.5.0",
      "model_name": "FloatSliderModel",
      "state": {
       "description": "alpha",
       "layout": "IPY_MODEL_a38e053a64fe40de94e0ab2e6b1fb14c",
       "min": 0.05,
       "step": 0.05,
       "style": "IPY_MODEL_e4a6dceb27754886ab155c598787324c",
       "value": 10
      }
     },
     "f8db589daccd465eb665879ca434aba0": {
      "model_module": "@jupyter-widgets/output",
      "model_module_version": "1.0.0",
      "model_name": "OutputModel",
      "state": {
       "layout": "IPY_MODEL_c565237c4bee4d248ecb909636edbb7b",
       "outputs": [
        {
         "data": {
          "image/png": "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\n",
          "text/plain": "<Figure size 432x288 with 1 Axes>"
         },
         "metadata": {
          "needs_background": "light"
         },
         "output_type": "display_data"
        }
       ]
      }
     },
     "fcd1ab5780584e198f585cc01d5fb6e7": {
      "model_module": "@jupyter-widgets/base",
      "model_module_version": "1.2.0",
      "model_name": "LayoutModel",
      "state": {}
     },
     "ff90698dbce74731a995927e1fb0f0f7": {
      "model_module": "@jupyter-widgets/controls",
      "model_module_version": "1.5.0",
      "model_name": "SliderStyleModel",
      "state": {
       "description_width": ""
      }
     }
    },
    "version_major": 2,
    "version_minor": 0
   }
  }
 },
 "nbformat": 4,
 "nbformat_minor": 5
}
